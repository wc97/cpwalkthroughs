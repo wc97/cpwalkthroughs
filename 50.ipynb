{
 "cells": [
  {
   "cell_type": "markdown",
   "metadata": {},
   "source": [
    "#### Challenge 50: Hashing with CBC-MAC\n",
    "\n",
    "[Back to Index](CryptoPalsWalkthroughs_Cobb.ipynb)"
   ]
  },
  {
   "cell_type": "code",
   "execution_count": 1,
   "metadata": {},
   "outputs": [],
   "source": [
    "import cryptopals as cp"
   ]
  },
  {
   "cell_type": "markdown",
   "metadata": {},
   "source": [
    "<div class=\"alert alert-block alert-info\">   \n",
    "\n",
    "Hashing with CBC-MAC\n",
    "\n",
    "Sometimes people try to use CBC-MAC as a hash function.\n",
    "\n",
    "This is a bad idea. Matt Green explains:\n",
    "\n",
    "> To make a long story short: cryptographic hash functions are public functions (i.e., no secret key) that have the property of collision-resistance (it's hard to find two messages with the same hash). MACs are keyed functions that (typically) provide message unforgeability -- a very different property. Moreover, they guarantee this only when the key is secret. \n",
    "\n",
    "Let's try a simple exercise.\n",
    "\n",
    "Hash functions are often used for code verification. This snippet of JavaScript (with newline):\n",
    "    \n",
    "```\n",
    "alert('MZA who was that?');\n",
    "```   \n",
    "</br>    \n",
    "\n",
    "Hashes to `296b8d7cb78a243dda4d0a61d33bbdd1` under CBC-MAC with a key of `YELLOW SUBMARINE` and a `0` IV.\n",
    "\n",
    "Forge a valid snippet of JavaScript that alerts `Ayo, the Wu is back!` and hashes to the same value. Ensure that it runs in a browser.\n",
    "    \n",
    "<div class=\"alert alert-block alert-warning\">  \n",
    "    \n",
    "#### **Extra Credit**\n",
    "\n",
    "Write JavaScript code that downloads your file, checks its CBC-MAC, and inserts it into the DOM iff it matches the expected hash.\n",
    "\n",
    "</div>\n",
    "</div>\n",
    "\n",
    "---\n"
   ]
  },
  {
   "cell_type": "code",
   "execution_count": 37,
   "metadata": {},
   "outputs": [
    {
     "name": "stdout",
     "output_type": "stream",
     "text": [
      "296b8d7cb78a243dda4d0a61d33bbdd1\n"
     ]
    }
   ],
   "source": [
    "key = b'YELLOW SUBMARINE'\n",
    "IV = b'\\x00' * 16\n",
    "CORRECT_MAC = '296b8d7cb78a243dda4d0a61d33bbdd1'\n",
    "\n",
    "\n",
    "original_js_code  = cp.PKCS7_pad(b\"alert('MZA who was that?');\\n\")\n",
    "\n",
    "# Check that our CBC_MAC matches expected value for the original javascript snippet\n",
    "MAC = cp.CBC_MAC(original_js_code, key, IV, False).hex()\n",
    "print(MAC)\n",
    "assert(MAC == CORRECT_MAC)"
   ]
  },
  {
   "cell_type": "markdown",
   "metadata": {},
   "source": [
    "That worked.  So we're doing the CBC-MAC the same way as the folks that made this challenge...i.e., using AES-128 as the encryption function for CBC-MAC.\n",
    "\n",
    "Based on the quote, I'm assuming it's ok to assume the key is public in this case.  \n",
    "\n",
    "To get this to work, we have to forge a piece of code that will provide the last block of AES with an input that matches the last block of input to the AES-CBC-MAC.  Unlike hash compression functions, AES is reversible..."
   ]
  },
  {
   "cell_type": "code",
   "execution_count": 52,
   "metadata": {},
   "outputs": [
    {
     "name": "stdout",
     "output_type": "stream",
     "text": [
      "Malicous Javascript:\n",
      "\n",
      " b\"alert('Ayo, the Wu is back!'); //\\x0f\\x0f\\x0f\\x0f\\x0f\\x0f\\x0f\\x0f\\x0f\\x0f\\x0f\\x0f\\x0f\\x0f\\x0f\\xe6\\x9f\\xdf\\x80q\\xd5\\xcd\\x07\\x87F\\xb7@%\\xf30\\xc6\" \n",
      "\n",
      "Congrats! Your evil code may now execute.\n"
     ]
    }
   ],
   "source": [
    "last_AES_input = cp.AESDecrypt(bytes.fromhex(CORRECT_MAC), key)\n",
    "\n",
    "# I'm going to assume I can add random garbage after a comment indicator..start with this:\n",
    "malicious_js_code = cp.PKCS7_pad(b\"alert('Ayo, the Wu is back!'); //\")\n",
    "\n",
    "# Calculate MAC of *my* code\n",
    "malicious_MAC = cp.CBC_MAC(malicious_js_code, key, IV, False)\n",
    "\n",
    "# Now, take this as the input to an additional round of the CBC-MAC and force it to match input to last round of the valid code..\n",
    "evil_block = cp.bitwise_xor(malicious_MAC, last_AES_input)\n",
    "malicious_js_code = malicious_js_code + evil_block\n",
    "\n",
    "# Check to see if the manipulated code generates the same MAC as the original authentic code:\n",
    "\n",
    "malicious_MAC_final = cp.CBC_MAC(malicious_js_code, key, IV, False)\n",
    "print('Malicous Javascript:\\n\\n', malicious_js_code, '\\n')\n",
    "assert(malicious_MAC_final.hex() == CORRECT_MAC)\n",
    "print('Congrats! Your evil code may now execute.')"
   ]
  },
  {
   "cell_type": "markdown",
   "metadata": {},
   "source": [
    "---"
   ]
  },
  {
   "cell_type": "markdown",
   "metadata": {
    "slideshow": {
     "slide_type": "slide"
    }
   },
   "source": [
    "[Back to Index](CryptoPalsWalkthroughs_Cobb.ipynb)"
   ]
  }
 ],
 "metadata": {
  "kernelspec": {
   "display_name": "Python 3",
   "language": "python",
   "name": "python3"
  },
  "language_info": {
   "codemirror_mode": {
    "name": "ipython",
    "version": 3
   },
   "file_extension": ".py",
   "mimetype": "text/x-python",
   "name": "python",
   "nbconvert_exporter": "python",
   "pygments_lexer": "ipython3",
   "version": "3.7.6"
  }
 },
 "nbformat": 4,
 "nbformat_minor": 4
}
