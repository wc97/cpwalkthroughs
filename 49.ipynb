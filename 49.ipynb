{
 "cells": [
  {
   "cell_type": "markdown",
   "metadata": {},
   "source": [
    "#### Challenge 49: CBC-MAC Message Forgery\n",
    "\n",
    "[Back to Index](CryptoPalsWalkthroughs_Cobb.ipynb)"
   ]
  },
  {
   "cell_type": "code",
   "execution_count": 1,
   "metadata": {},
   "outputs": [],
   "source": [
    "from Crypto.Util import number\n",
    "from Crypto.Random import random\n",
    "from Crypto.Hash.SHA256 import SHA256Hash\n",
    "\n",
    "import math\n",
    "import base64\n",
    "import cryptopals as cp\n",
    "\n",
    "from decimal import *\n",
    "\n",
    "import pdb"
   ]
  },
  {
   "cell_type": "markdown",
   "metadata": {},
   "source": [
    "<div class=\"alert alert-block alert-info\">   \n",
    "\n",
    "Let's talk about CBC-MAC. \n",
    "    \n",
    "CBC-MAC is like this: \n",
    "    \n",
    "1. Take the plaintext `P`.\n",
    "2. Encrypt `P` under CBC with key `K`, yielding ciphertext `C`.\n",
    "3. Chuck all of `C` but the last block `C[n]`.\n",
    "4. `C[n]` is the MAC.\n",
    "    \n",
    "</div>"
   ]
  },
  {
   "cell_type": "code",
   "execution_count": 2,
   "metadata": {},
   "outputs": [],
   "source": [
    "# ---------UNKNOWN PARAMETERS ------------\n",
    "K_Shared = random.Random.get_random_bytes(32)\n",
    "# ---------END UNKNOWN PARAMETERS---------\n",
    "\n",
    "IV = b'\\x00' * 16\n",
    "test_msg = b'Some Test Message That\\'s Longer than one block'"
   ]
  },
  {
   "cell_type": "code",
   "execution_count": 3,
   "metadata": {},
   "outputs": [],
   "source": [
    "def CBC_MAC(p, K, IV):\n",
    "    \n",
    "    a_out = cp.AESEncrypt(p, K, 'CBC', IV)\n",
    "    return(a_out[-16:])"
   ]
  },
  {
   "cell_type": "markdown",
   "metadata": {},
   "source": [
    "<div class=\"alert alert-block alert-info\">   \n",
    "\n",
    "Suppose there's an online banking application, and it carries out user requests by talking to an API server over the network. Each request looks like this: \n",
    "\n",
    "`message || IV || MAC`\n",
    "    \n",
    "The message looks like this: \n",
    "    \n",
    "`from=#{from_id}&to=#{to_id}&amount=#{amount}`\n",
    "    \n",
    "Now, write an API server and a web frontend for it. (NOTE: No need to get ambitious and write actual servers and web apps. Totally fine to go lo-fi on this one.) The client and server should share a secret key `K` to sign and verify messages. \n",
    "    \n",
    "The API server should accept messages, verify signatures, and carry out each transaction if the MAC is valid. It's also publicly exposed - the attacker can submit messages freely assuming he can forge the right MAC. \n",
    "    \n",
    "The web client should allow the attacker to generate valid messages for accounts he controls. (Feel free to sanitize params if you're feeling anal-retentive.) Assume the attacker is in a position to capture and inspect messages from the client to the API server. \n",
    "    \n",
    "</div>"
   ]
  },
  {
   "cell_type": "markdown",
   "metadata": {},
   "source": [
    "---\n",
    "\n",
    "The way I interpret this challenge, based on this first stage of the attack, only the first block of the message is being manipulated. Therefore, to get it to work you have to make some big assumptions:\n",
    "\n",
    "1.  The `to_id` will have to appear in the first block (this means the account #'s have to be short enough for that to happen), and \n",
    "2.  We have intercepted a previous valid transaction from the target account owner to someone else _in the amount we want to steal_.  \n",
    "\n",
    "---"
   ]
  },
  {
   "cell_type": "code",
   "execution_count": 4,
   "metadata": {},
   "outputs": [],
   "source": [
    "class account:\n",
    "    \n",
    "    def __init__(self, starting_balance):\n",
    "            \n",
    "        #self.id = id\n",
    "        self.balance = starting_balance\n",
    "        self.key = random.Random.get_random_bytes(32)\n",
    "        \n",
    "    def __str__(self):\n",
    "        \n",
    "        display_str = ''\n",
    "        display_str += f'Account Key:  {self.key}\\n'\n",
    "        display_str += f'Account Balance: ${self.balance:,.2f}\\n'\n",
    "        return (display_str)\n",
    "        \n",
    "class bank_app:\n",
    "\n",
    "    next_id = 1\n",
    "    \n",
    "    def __init__(self):\n",
    "        \n",
    "        # Create some test accounts\n",
    "        self.accounts = {}\n",
    "        \n",
    "        self.accounts[self.next_id] = account(5000000)\n",
    "        self.next_id += 1\n",
    "        self.accounts[self.next_id] = account(300000)\n",
    "        self.next_id += 1\n",
    "        self.accounts[self.next_id] = account(70230.24)\n",
    "        self.next_id += 1\n",
    "    \n",
    "    def __str__(self):\n",
    "        \n",
    "        display_str = ''\n",
    "        for account in self.accounts:\n",
    "            display_str += 'Account ID:  ' + str(account) + '\\n'\n",
    "            display_str += str(self.accounts[account])\n",
    "            display_str += '\\n'\n",
    "            \n",
    "        return(display_str)\n",
    "    \n",
    "    def open_new_account(self, deposit_amount):\n",
    "        \n",
    "        id = self.next_id\n",
    "        self.accounts[id] = account(deposit_amount)\n",
    "        self.next_id += 1\n",
    "        \n",
    "        return(id)\n",
    "    \n",
    "    def process_msg(self, msg):\n",
    "        \n",
    "        if len(msg) < 32:\n",
    "            raise(ValueError('Invalid message)'))\n",
    "        \n",
    "        IV, MAC = msg[-32:-16], msg[-16:]\n",
    "        transaction = cp.strip_PKCS7_pad(msg[:-32]).split(b'&')\n",
    "        \n",
    "        if transaction[0][:5] == b'from=' and \\\n",
    "           transaction[1][:3] == b'to=' and \\\n",
    "           transaction[2][:7] == b'amount=':\n",
    "            \n",
    "            start = transaction[0].find(b'=') + 1\n",
    "            from_id = int(transaction[0][start:])            \n",
    "            key = self.accounts[from_id].key        \n",
    "            myMAC = CBC_MAC(msg[:-32], key, IV)       \n",
    "            \n",
    "        else:\n",
    "        \n",
    "            raise(Exception('Invalid transaction format'))\n",
    "                    \n",
    "        if (MAC == myMAC):            \n",
    "            \n",
    "            start = transaction[1].find(b'=') + 1\n",
    "            to_id = int(transaction[1][start:])            \n",
    "\n",
    "            #print(transaction[2])\n",
    "            start = transaction[2].find(b'=') + 1\n",
    "            amount = float(transaction[2][start:])     \n",
    "\n",
    "        \n",
    "        if self.accounts[from_id].balance >= amount:\n",
    "            self.accounts[from_id].balance -= amount\n",
    "            self.accounts[to_id].balance += amount\n",
    "            return(True)\n",
    "        else:\n",
    "            return(False)    "
   ]
  },
  {
   "cell_type": "code",
   "execution_count": 5,
   "metadata": {},
   "outputs": [],
   "source": [
    "def create_signed_transaction(from_id, to_id, amount):\n",
    "    \n",
    "    # To simplify things, just assuming the authentic user has access to their account transaction key.\n",
    "    id_key = my_bank.accounts[from_id].key\n",
    "    msg = cp.PKCS7_pad((f'from={from_id}&to={to_id}&amount={amount}').encode())\n",
    "    IV = b'\\x00'*16\n",
    "    MAC = CBC_MAC(msg, id_key, IV)\n",
    "    \n",
    "    return(msg + IV + MAC)\n",
    "    "
   ]
  },
  {
   "cell_type": "code",
   "execution_count": 6,
   "metadata": {},
   "outputs": [],
   "source": [
    "my_bank = bank_app()"
   ]
  },
  {
   "cell_type": "code",
   "execution_count": 14,
   "metadata": {},
   "outputs": [
    {
     "name": "stdout",
     "output_type": "stream",
     "text": [
      "*****************************\n",
      "Balances before transfer\n",
      "*****************************\n",
      "\n",
      "Account ID:  1\n",
      "Account Key:  b'OOf\\x86\\x10q\\xf5\\xbb:\\xaf8\\x1f\\x83P\\xd69\\xd8\\xa4k\\x86\\x8b-\\xd5\\xc0\\x7f>\\xb0\\xb3\\xa4n\\xb58'\n",
      "Account Balance: $3,000,000.00\n",
      "\n",
      "Account ID:  2\n",
      "Account Key:  b'\\x9d\\xf0{\\x1e\\tW\\x10\\xf4\\x82\\x1ccN?~R\\x0f\\xeb\\\\\\x83\\xc0\\xb6\\xfc\\xdb\\xefR\\x10\\x13M\\xc2\\xb0*\\xda'\n",
      "Account Balance: $1,300,000.00\n",
      "\n",
      "Account ID:  3\n",
      "Account Key:  b\"r\\x10\\x04\\x07\\xc6\\xc9\\xd0_\\x1a\\xc7\\xec\\x16\\r\\xd1\\x03db*\\xdf`\\x08~\\xbc\\xda\\xb8\\xe6\\xfc'|\\xee[\\n\"\n",
      "Account Balance: $70,230.24\n",
      "\n",
      "Account ID:  4\n",
      "Account Key:  b'i\\xaa\\xc5\\r\\x90S\\xae>\\xe3\\x8a\\x93\\x82\\x87\\xb1\\xb9P\\xdf\\xa8\\xf7;\\xb6\\x93\\x8c\\n\\r\\xa4\\xd2\\xd9\\x99\\xe5\\xd9\\xed'\n",
      "Account Balance: $1,000,000.00\n",
      "\n",
      "\n",
      "Transfering $1000000.00 from Acct 10001 to Acct 10002\n",
      "\n",
      "*****************************\n",
      "Balances after transfer\n",
      "*****************************\n",
      "\n",
      "Account ID:  1\n",
      "Account Key:  b'OOf\\x86\\x10q\\xf5\\xbb:\\xaf8\\x1f\\x83P\\xd69\\xd8\\xa4k\\x86\\x8b-\\xd5\\xc0\\x7f>\\xb0\\xb3\\xa4n\\xb58'\n",
      "Account Balance: $2,000,000.00\n",
      "\n",
      "Account ID:  2\n",
      "Account Key:  b'\\x9d\\xf0{\\x1e\\tW\\x10\\xf4\\x82\\x1ccN?~R\\x0f\\xeb\\\\\\x83\\xc0\\xb6\\xfc\\xdb\\xefR\\x10\\x13M\\xc2\\xb0*\\xda'\n",
      "Account Balance: $2,300,000.00\n",
      "\n",
      "Account ID:  3\n",
      "Account Key:  b\"r\\x10\\x04\\x07\\xc6\\xc9\\xd0_\\x1a\\xc7\\xec\\x16\\r\\xd1\\x03db*\\xdf`\\x08~\\xbc\\xda\\xb8\\xe6\\xfc'|\\xee[\\n\"\n",
      "Account Balance: $70,230.24\n",
      "\n",
      "Account ID:  4\n",
      "Account Key:  b'i\\xaa\\xc5\\r\\x90S\\xae>\\xe3\\x8a\\x93\\x82\\x87\\xb1\\xb9P\\xdf\\xa8\\xf7;\\xb6\\x93\\x8c\\n\\r\\xa4\\xd2\\xd9\\x99\\xe5\\xd9\\xed'\n",
      "Account Balance: $1,000,000.00\n",
      "\n",
      "\n"
     ]
    }
   ],
   "source": [
    "print('*****************************')\n",
    "print('Balances before transfer')\n",
    "print('*****************************\\n')\n",
    "print(my_bank)\n",
    "\n",
    "print('Transfering $1000000.00 from Acct 10001 to Acct 10002')\n",
    "valid_transfer_1E6 = create_signed_transaction(1, 2, 1000000)\n",
    "print()\n",
    "print('*****************************')\n",
    "print('Balances after transfer')\n",
    "print('*****************************\\n')\n",
    "my_bank.process_msg(t)\n",
    "print(my_bank)"
   ]
  },
  {
   "cell_type": "markdown",
   "metadata": {},
   "source": [
    "<div class=\"alert alert-block alert-info\">   \n",
    "\n",
    "One thing we haven't discussed is the `IV`. Assume the client generates a per-message IV and sends it along with the MAC. That's how CBC works, right? \n",
    "Wrong. \n",
    "    \n",
    "For messages signed under CBC-MAC, an attacker-controlled `IV` is a liability. Why? Because it yields full control over the first block of the message. \n",
    "Use this fact to generate a message transferring 1M spacebucks from a target victim's account into your account. \n",
    "    \n",
    "I'll wait. Just let me know when you're done. \n",
    "... waiting \n",
    "... waiting \n",
    "... waiting \n",
    "All done? Great - I knew you could do it! \n",
    "\n",
    "</div>"
   ]
  },
  {
   "cell_type": "code",
   "execution_count": 8,
   "metadata": {},
   "outputs": [],
   "source": [
    "# Open a new $0 balance account that I control and have the key for. \n",
    "my_id = my_bank.open_new_account(0)\n",
    "my_key = my_bank.accounts[my_id].key"
   ]
  },
  {
   "cell_type": "code",
   "execution_count": 20,
   "metadata": {},
   "outputs": [
    {
     "name": "stdout",
     "output_type": "stream",
     "text": [
      "Eve's Balance before attack: $3,000,000.00\n",
      "Eve's Balance after attack: $3,000,000.00\n"
     ]
    }
   ],
   "source": [
    "# Eve watched and captured earlier transfer of $1,000,000 from Acct 1 to Acct 2:\n",
    "intercepted_msg = valid_transfer_1E6\n",
    "\n",
    "malicious_message = f'from=1&to={my_id}&amou'.encode()\n",
    "intercepted_IV = intercepted_msg[-32:-16]\n",
    "forged_IV = cp.bitwise_xor(cp.bitwise_xor(intercepted_msg[0:16], intercepted_IV), malicious_message)\n",
    "my_evil_transaction = malicious_message + intercepted_msg[16:-32] + \\\n",
    "                      forged_IV + intercepted_msg[-16:]   \n",
    "print(f\"Eve's Balance before attack: ${my_bank.accounts[my_id].balance:,.2f}\")\n",
    "my_bank.process_msg(my_evil_transaction)\n",
    "print(f\"Eve's Balance after attack: ${my_bank.accounts[my_id].balance:,.2f}\")"
   ]
  },
  {
   "cell_type": "markdown",
   "metadata": {},
   "source": [
    "<div class=\"alert alert-block alert-info\">   \n",
    "\n",
    "Now let's tune up that protocol a little bit. \n",
    "    \n",
    "As we now know, you're supposed to use a fixed `IV` with CBC-MAC, so let's do that. We'll set ours at `0` for simplicity. This means the `IV` comes out of the protocol: \n",
    "    \n",
    "`message || MAC`\n",
    "    \n",
    "Pretty simple, but we'll also adjust the message. For the purposes of efficiency, the bank wants to be able to process multiple transactions in a single request. So the message now looks like this: \n",
    "    \n",
    "`from=#{from_id}&tx_list=#{transactions}`\n",
    "    \n",
    "With the transaction list formatted like: \n",
    "    \n",
    "`to:amount(;to:amount)*`\n",
    "\n",
    "</div>"
   ]
  },
  {
   "cell_type": "code",
   "execution_count": 21,
   "metadata": {},
   "outputs": [],
   "source": [
    "class new_bank(bank_app):\n",
    "    \n",
    "    def process_msg(self, msg):\n",
    "                \n",
    "        if len(msg) < 32:\n",
    "            raise(ValueError('Invalid message)'))\n",
    "        \n",
    "        IV = b'\\x00' * 16\n",
    "        MAC = msg[-16:]\n",
    "        data = cp.strip_PKCS7_pad(msg[:-16])\n",
    "        transaction = data.split(b'&')\n",
    "        \n",
    "        if transaction[0][:5] == b'from=' and \\\n",
    "           transaction[1][:8] == b'tx_list=':\n",
    "            \n",
    "            start = transaction[0].find(b'=') + 1\n",
    "            from_id = int(transaction[0][start:])            \n",
    "            key = self.accounts[from_id].key       \n",
    "            #pdb.set_trace()\n",
    "            myMAC = CBC_MAC(msg[:-16], key, IV)       \n",
    "            \n",
    "        else:\n",
    "        \n",
    "            raise(Exception('Invalid transaction format'))\n",
    "                    \n",
    "        if (MAC != myMAC):            \n",
    "            return(False)\n",
    "        \n",
    "        start = transaction[1].find(b'=') + 1\n",
    "        transaction_list = transaction[1][start:].split(b';')           \n",
    "\n",
    "        for transfer in transaction_list:\n",
    "            to_id, amount = transfer.split(b':')\n",
    "            to_id = int(to_id)\n",
    "            amount = float(amount)\n",
    "            if self.accounts[from_id].balance >= amount:\n",
    "                self.accounts[from_id].balance -= amount\n",
    "                self.accounts[to_id].balance += amount\n",
    "            else:\n",
    "                return(False)    \n",
    "        \n",
    "        return(True)\n",
    "def new_create_signed_transaction(from_id, transaction_list):\n",
    "    \n",
    "    # To simplify things, just assuming the authentic user has access to their account transaction key.\n",
    "    id_key = my_new_bank.accounts[from_id].key\n",
    "    \n",
    "    # Formats the message per part 2 of Challenge #49.\n",
    "    # Transfer list is a list of tuples, with element [0] of each pair being the \"to_id\" and element\n",
    "    # [1] being the \"amount\"\n",
    "    \n",
    "    msg = f'from={from_id}&tx_list='\n",
    "    for transfer in transaction_list:\n",
    "        msg += f'{transfer[0]}:{transfer[1]};'\n",
    "    msg = cp.PKCS7_pad(msg[:-1].encode())\n",
    "    IV = b'\\x00'*16\n",
    "    MAC = CBC_MAC(msg, id_key, IV)\n",
    "    \n",
    "    return(msg + MAC)"
   ]
  },
  {
   "cell_type": "code",
   "execution_count": 23,
   "metadata": {},
   "outputs": [
    {
     "name": "stdout",
     "output_type": "stream",
     "text": [
      "Account ID:  1\n",
      "Account Key:  b'\\x11/\\xddD{\\xa7\\xe4w\\xe75\\x0f\\xa2\\xa8@\\xfd&\\xee\\x07Z\\x13\\xd8\\xfb\\xbc\\xb2^8\\x02\\xf5z\\xad\\xf7\\x83'\n",
      "Account Balance: $5,000,000.00\n",
      "\n",
      "Account ID:  2\n",
      "Account Key:  b'\\x99E\\xc0\\xc7z\\xbf\\x9f\\x8c\\x80\\x8d\\xa1\\xb7\\x18\\x01a\\x8d\\xe2\\x8dL\\xe9X\\x9f\\xe0\\xed\\xebSS\\xef\\nCa\\xeb'\n",
      "Account Balance: $300,000.00\n",
      "\n",
      "Account ID:  3\n",
      "Account Key:  b'\\x1f\\xdf3\\xfc\\xcd\\xe9\\x98gd\\x0f\\x19\\xf9Kz\\x97\\xa1| ;\\xa5\\xf0q\\xcfn3\\x82\\x9ff?\\xc4\\xaa\\x9f'\n",
      "Account Balance: $70,230.24\n",
      "\n",
      "\n",
      "Transfering funds\n",
      "\n",
      "New Balances: \n",
      "\n",
      "Account ID:  1\n",
      "Account Key:  b'\\x11/\\xddD{\\xa7\\xe4w\\xe75\\x0f\\xa2\\xa8@\\xfd&\\xee\\x07Z\\x13\\xd8\\xfb\\xbc\\xb2^8\\x02\\xf5z\\xad\\xf7\\x83'\n",
      "Account Balance: $3,998,998.01\n",
      "\n",
      "Account ID:  2\n",
      "Account Key:  b'\\x99E\\xc0\\xc7z\\xbf\\x9f\\x8c\\x80\\x8d\\xa1\\xb7\\x18\\x01a\\x8d\\xe2\\x8dL\\xe9X\\x9f\\xe0\\xed\\xebSS\\xef\\nCa\\xeb'\n",
      "Account Balance: $1,300,000.00\n",
      "\n",
      "Account ID:  3\n",
      "Account Key:  b'\\x1f\\xdf3\\xfc\\xcd\\xe9\\x98gd\\x0f\\x19\\xf9Kz\\x97\\xa1| ;\\xa5\\xf0q\\xcfn3\\x82\\x9ff?\\xc4\\xaa\\x9f'\n",
      "Account Balance: $71,232.23\n",
      "\n",
      "\n"
     ]
    }
   ],
   "source": [
    "my_new_bank = new_bank()\n",
    "print(my_new_bank)\n",
    "\n",
    "# Test some transfers \n",
    "print('Transfering funds\\n\\nNew Balances: \\n')\n",
    "from_id = 1\n",
    "transfer_list = [[2, 1000000],[3, 1001.99]]\n",
    "transaction = new_create_signed_transaction(from_id, transfer_list)\n",
    "my_new_bank.process_msg(transaction)\n",
    "\n",
    "print(my_new_bank)"
   ]
  },
  {
   "cell_type": "markdown",
   "metadata": {},
   "source": [
    "<div class=\"alert alert-block alert-info\">   \n",
    "\n",
    "There's still a weakness here: the MAC is vulnerable to length extension attacks. How? \n",
    "    \n",
    "Well, the output of CBC-MAC is a valid `IV` for a new message. \n",
    "    \n",
    "_\"But we don't control the `IV` anymore!\"_\n",
    "    \n",
    "With sufficient mastery of CBC, we can fake it. \n",
    "    \n",
    "Your mission: capture a valid message from your target user. Use length extension to add a transaction paying the attacker's account 1M spacebucks. \n",
    "\n",
    "<div class=\"alert alert-block alert-warning\">    \n",
    "\n",
    "#### **Hint!**\n",
    "    \n",
    "This would be a lot easier if you had full control over the first block of your message, huh? Maybe you can simulate that. \n",
    "    \n",
    "</div>\n",
    "    \n",
    "_Food for thought: How would you modify the protocol to prevent this?_\n",
    "    \n",
    "</div>    "
   ]
  },
  {
   "cell_type": "code",
   "execution_count": 24,
   "metadata": {},
   "outputs": [],
   "source": [
    "# Open a new $0 balance account that I control and have the key for. \n",
    "attacker_id = my_new_bank.open_new_account(0)\n",
    "\n",
    "# Eve watched and captured earlier transfer of $1,000,000 from Acct 1 to Acct 2:\n",
    "intercepted_msg = bytearray(transaction)\n",
    "\n",
    "# Here's what I need to add onto a transaction while still producing a valid MAC:\n",
    "transfer_to_me = f';{attacker_id}:1000000'"
   ]
  },
  {
   "cell_type": "markdown",
   "metadata": {},
   "source": [
    "### I'm stuck...what next?  \n",
    "\n",
    "Have to do length extension while still producing a valid MAC.  A valid IV for part 1 isn't useful without also knowing the resulting MAC.  We don't know the MAC for additional blocks beyond this, so how does knowing it help to do length extension?\n",
    "\n",
    "If this was CBC-MAC using a hash function, knowing the output would allow continuing indefinitely..\n",
    "\n",
    "Very stuck here.  \n",
    "\n",
    "Some data that might help?\n",
    "\n",
    "\n",
    "Here's a [good paper](https://cseweb.ucsd.edu/~mihir/papers/cbc.pdf) on CBC security in general.\n",
    "\n",
    "\n",
    "From [Wikipedia](https://en.wikipedia.org/wiki/CBC-MAC#Using_predictable_initialization_vector):\n",
    "\n",
    "> If the block cipher used is secure (meaning that it is a pseudorandom permutation), then CBC-MAC is secure for fixed-length messages. However, by itself, it is not secure for variable-length messages. Thus, any single key must only be used for messages of a fixed and known length. This is because an attacker who knows the correct message-tag (i.e. CBC-MAC) pairs for two messages `(m, t)` and `(m′ , t′)` can generate a third message `m″` whose CBC-MAC will also be `t′`. This is simply done by XORing the first block of `m′` with `t` and then concatenating m with this modified `m′`; i.e., by making `m″ = m ‖ [ (m1′ ⊕ t) ‖ m2′ ‖ … ‖ mx′ ]`. When computing the MAC for the message `m″`, it follows that we compute the MAC for `m` in the usual manner as `t`, but when this value is chained forwards to the stage computing `E_K_MAC (m1′ ⊕ t)` we will perform an exclusive OR operation with the value derived for the MAC of the first message. The presence of that tag in the new message means it will cancel, leaving no contribution to the MAC from the blocks of plain text in the first message `m: E_ K_MAC (m1′ ⊕ t ⊕ t ) = E_K_MAC (m1′)` and thus the tag for `m″` is `t′`. \n",
    "\n",
    "This observation looks like the key tidbit:\n",
    "\n",
    "> **The presence of that tag in the new message means it will cancel, leaving no contribution to the MAC from the blocks of plain text in the first message**"
   ]
  },
  {
   "cell_type": "markdown",
   "metadata": {},
   "source": [
    "---"
   ]
  },
  {
   "cell_type": "markdown",
   "metadata": {},
   "source": [
    "Let's try some forgeries on CBC-MAC to get a feel for things:"
   ]
  },
  {
   "cell_type": "code",
   "execution_count": 10,
   "metadata": {},
   "outputs": [
    {
     "name": "stdout",
     "output_type": "stream",
     "text": [
      "596520c8f49d672f5148b1c86bb36eb3\n",
      "08837aea3c062f4564b7e03e30b1ddb6\n",
      "\n",
      "Here's the chained message:\n",
      "\n",
      "b'Here is a message with some word;E\\x1b\\x0b\\x00\\x00\\x07)hgf}al{)message with more words\\t\\t\\t\\t\\t\\t\\t\\t\\t'\n",
      "\n",
      "08837aea3c062f4564b7e03e30b1ddb6\n"
     ]
    }
   ],
   "source": [
    "m0 = cp.PKCS7_pad(b'Here is a message with some words in it')\n",
    "t0 = cp.CBC_MAC(m0, key, IV, False)\n",
    "print(t0.hex())\n",
    "\n",
    "m1 = cp.PKCS7_pad(b'Here is another message with more words')\n",
    "t1 = cp.CBC_MAC(m1, key, IV, False)\n",
    "print(t1.hex())\n",
    "\n",
    "m0_m1 = m0[:-16] + cp.bitwise_xor(m0[-16:], m1[:16]) + m1[16:]\n",
    "print(\"\\nHere's the chained message:\\n\")\n",
    "print(m0_m1)\n",
    "t01 = cp.CBC_MAC(m1, key, IV, False)\n",
    "print()\n",
    "print(t01.hex())\n",
    "\n",
    "assert(t01 == t1)"
   ]
  },
  {
   "cell_type": "markdown",
   "metadata": {},
   "source": [
    "---\n",
    "**Observe:**   We had to corrupt an intermediate block, but were able to concatenate two messages together and still generate a valid MAC.   \n",
    "\n",
    "`CBC_MAC(m1) == CBC_MAC(m0_m1)`"
   ]
  },
  {
   "cell_type": "markdown",
   "metadata": {},
   "source": [
    "---\n",
    "\n",
    "Let's try some simple forgeries from [this 2004 paper](https://www.google.com/url?sa=t&rct=j&q=&esrc=s&source=web&cd=4&cad=rja&uact=8&ved=2ahUKEwi2ot2H8NboAhWXB50JHYlWCIIQFjADegQIBBAB&url=https%3A%2F%2Fwww.cosic.esat.kuleuven.be%2Fpublications%2Farticle-61.pdf&usg=AOvVaw2rQ9pI4IDkVPcZCle0av1d) by Preneel:\n",
    "\n",
    "---\n",
    "\n",
    "**1. Given**\n",
    "\n",
    "`MAC(x)`\n",
    "\n",
    "one knows that \n",
    "\n",
    "`MAC( x || (x ⊕ MAC(x) ) = MAC(x)` \n",
    "\n",
    "for a *single block* `x`\n",
    "\n",
    "![Image](images/CBC-MACForgery_1.svg)"
   ]
  },
  {
   "cell_type": "code",
   "execution_count": 26,
   "metadata": {},
   "outputs": [
    {
     "name": "stdout",
     "output_type": "stream",
     "text": [
      "\n",
      "Case 1:\n",
      "\n",
      "9c5e8579c7341ff74644f26e7ccecb95\n",
      "9c5e8579c7341ff74644f26e7ccecb95\n"
     ]
    }
   ],
   "source": [
    "x = cp.PKCS7_pad(b'Test1')\n",
    "t = cp.CBC_MAC(x, key, IV, False)\n",
    "\n",
    "x_ = x + cp.bitwise_xor(x, t)\n",
    "t_ = cp.CBC_MAC(x_, key, IV, False)\n",
    "\n",
    "print('\\nCase 1:\\n')\n",
    "print(t.hex())\n",
    "print(t_.hex())\n",
    "assert(t==t_)"
   ]
  },
  {
   "cell_type": "markdown",
   "metadata": {},
   "source": [
    "---\n",
    "\n",
    "**2. Given**\n",
    "\n",
    "- `MAC(x)` \n",
    "- `MAC(x')` \n",
    "\n",
    "one knows that \n",
    "\n",
    "`MAC( x || (x' ⊕ MAC(x) ) = MAC(x')`\n",
    "\n",
    "![Case 2](images/CBC-MACForgery_2.svg)"
   ]
  },
  {
   "cell_type": "code",
   "execution_count": 28,
   "metadata": {},
   "outputs": [
    {
     "name": "stdout",
     "output_type": "stream",
     "text": [
      "\n",
      "Case 2:\n",
      "\n",
      "9c5e8579c7341ff74644f26e7ccecb95\n",
      "eaf3198f2a89d406c95e68c5d160a4fd\n",
      "eaf3198f2a89d406c95e68c5d160a4fd\n"
     ]
    }
   ],
   "source": [
    "x = cp.PKCS7_pad(b'Test1')\n",
    "t = cp.CBC_MAC(x, key, IV, False)\n",
    "\n",
    "x_ = cp.PKCS7_pad(b'Message 2')\n",
    "t_ = cp.CBC_MAC(x_, key, IV, False)\n",
    "\n",
    "x0_ = x + cp.bitwise_xor(x_, t)\n",
    "t0_ = cp.CBC_MAC(x0_, key, IV, False)\n",
    "print('\\nCase 2:\\n')\n",
    "print(t.hex())\n",
    "print(t_.hex())\n",
    "print(t0_.hex())\n",
    "assert(t_ == t0_)"
   ]
  },
  {
   "cell_type": "markdown",
   "metadata": {},
   "source": [
    "---\n",
    "\n",
    "**3. Given:**\n",
    "\n",
    "- `MAC(x), MAC(x||y)`, and \n",
    "- `MAC(x')`, \n",
    "\n",
    "one knows that \n",
    "\n",
    "`MAC(x' || y') = MAC(x || y)` \n",
    "\n",
    "if \n",
    "\n",
    "`y' = y ⊕ MAC(x) ⊕ MAC(x')`\n"
   ]
  },
  {
   "cell_type": "code",
   "execution_count": 29,
   "metadata": {},
   "outputs": [
    {
     "name": "stdout",
     "output_type": "stream",
     "text": [
      "\n",
      "Case 3\n",
      "\n",
      "f98cabc4a5efff16d26a5821edf10989\n",
      "f98cabc4a5efff16d26a5821edf10989\n"
     ]
    }
   ],
   "source": [
    "x = cp.PKCS7_pad(b'Test1')\n",
    "MAC_x = cp.CBC_MAC(x, key, IV, False)\n",
    "\n",
    "x_ = cp.PKCS7_pad(b'Test2')\n",
    "MAC_x_ = cp.CBC_MAC(x_, key, IV, False)\n",
    "\n",
    "y = cp.PKCS7_pad(b'Test3')\n",
    "MAC_y = cp.CBC_MAC(y, key, IV, False)\n",
    "\n",
    "y_ = cp.bitwise_xor(cp.bitwise_xor(y, MAC_x), MAC_x_)\n",
    "MAC_x_y_ = cp.CBC_MAC(x_ + y_, key, IV, False)\n",
    "MACxy = cp.CBC_MAC(x + y, key, IV, False)\n",
    "\n",
    "print('\\nCase 3\\n')\n",
    "print(MAC_x_y_.hex())\n",
    "print(MACxy.hex())\n",
    "assert(MACxy == MAC_x_y_)"
   ]
  },
  {
   "cell_type": "markdown",
   "metadata": {},
   "source": [
    "---\n",
    "\n",
    "> If `x` and `x'` have a common sequence of s trailing blocks and if the compression function `f` is a permutation (for fixed `x_i`), the collision must occur at `H_(t-s)`, i.e. just before the common blocks. After deleting the `s` common blocks in `x` and `x'`, one still has an internal collision.   In this case the attack can be enhanced since this provides additional freedom in the choice of the forged text by Lemma 1. In particular, if z and 2' have the same length one can obtain a forgery on a text of that length. See **[paper by Preneel](file:///C:/Users/cobb/Documents/GitHub/References/PO97%20-%20MDx-MAC%20and%20Building%20MACs%20from%20Hash%20Functions.pdf)**"
   ]
  },
  {
   "cell_type": "markdown",
   "metadata": {
    "slideshow": {
     "slide_type": "slide"
    }
   },
   "source": [
    "[Back to Index](CryptoPalsWalkthroughs_Cobb.ipynb)"
   ]
  }
 ],
 "metadata": {
  "kernelspec": {
   "display_name": "Python 3",
   "language": "python",
   "name": "python3"
  },
  "language_info": {
   "codemirror_mode": {
    "name": "ipython",
    "version": 3
   },
   "file_extension": ".py",
   "mimetype": "text/x-python",
   "name": "python",
   "nbconvert_exporter": "python",
   "pygments_lexer": "ipython3",
   "version": "3.7.6"
  }
 },
 "nbformat": 4,
 "nbformat_minor": 4
}
