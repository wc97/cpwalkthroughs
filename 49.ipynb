{
 "cells": [
  {
   "cell_type": "markdown",
   "metadata": {},
   "source": [
    "#### Challenge 49: CBC-MAC Message Forgery\n",
    "\n",
    "[Back to Index](CryptoPalsWalkthroughs_Cobb.ipynb)"
   ]
  },
  {
   "cell_type": "code",
   "execution_count": 1,
   "metadata": {},
   "outputs": [],
   "source": [
    "from Crypto.Util import number\n",
    "from Crypto.Random import random\n",
    "from Crypto.Hash.SHA256 import SHA256Hash\n",
    "\n",
    "import math\n",
    "import base64\n",
    "import cryptopals as cp\n",
    "\n",
    "from decimal import *\n",
    "\n",
    "import pdb"
   ]
  },
  {
   "cell_type": "markdown",
   "metadata": {},
   "source": [
    "<div class=\"alert alert-block alert-info\">   \n",
    "\n",
    "Let's talk about CBC-MAC. \n",
    "    \n",
    "CBC-MAC is like this: \n",
    "    \n",
    "1. Take the plaintext `P`.\n",
    "2. Encrypt `P` under CBC with key `K`, yielding ciphertext `C`.\n",
    "3. Chuck all of `C` but the last block `C[n]`.\n",
    "4. `C[n]` is the MAC.\n",
    "    \n",
    "</div>"
   ]
  },
  {
   "cell_type": "code",
   "execution_count": 2,
   "metadata": {},
   "outputs": [],
   "source": [
    "# ---------UNKNOWN PARAMETERS ------------\n",
    "K_Shared = random.Random.get_random_bytes(32)\n",
    "# ---------END UNKNOWN PARAMETERS---------\n",
    "\n",
    "IV = b'\\x00' * 16\n",
    "test_msg = b'Some Test Message That\\'s Longer than one block'"
   ]
  },
  {
   "cell_type": "code",
   "execution_count": 3,
   "metadata": {},
   "outputs": [],
   "source": [
    "def CBC_MAC(p, K, IV):\n",
    "    \n",
    "    a_out = cp.AESEncrypt(p, K, 'CBC', IV)\n",
    "    return(a_out[-16:])"
   ]
  },
  {
   "cell_type": "markdown",
   "metadata": {},
   "source": [
    "<div class=\"alert alert-block alert-info\">   \n",
    "\n",
    "Suppose there's an online banking application, and it carries out user requests by talking to an API server over the network. Each request looks like this: \n",
    "\n",
    "`message || IV || MAC`\n",
    "    \n",
    "The message looks like this: \n",
    "    \n",
    "`from=#{from_id}&to=#{to_id}&amount=#{amount}`\n",
    "    \n",
    "Now, write an API server and a web frontend for it. (NOTE: No need to get ambitious and write actual servers and web apps. Totally fine to go lo-fi on this one.) The client and server should share a secret key `K` to sign and verify messages. \n",
    "    \n",
    "The API server should accept messages, verify signatures, and carry out each transaction if the MAC is valid. It's also publicly exposed - the attacker can submit messages freely assuming he can forge the right MAC. \n",
    "    \n",
    "The web client should allow the attacker to generate valid messages for accounts he controls. (Feel free to sanitize params if you're feeling anal-retentive.) Assume the attacker is in a position to capture and inspect messages from the client to the API server. \n",
    "    \n",
    "</div>"
   ]
  },
  {
   "cell_type": "markdown",
   "metadata": {},
   "source": [
    "The way I interpret this challenge, based on this first stage of the attack, only the first block of the message is being manipulated. Therefore, to get it to work you have to make some big assumptions:\n",
    "\n",
    "1.  The to_id will have to appear in the first block (this means the account #'s have to be short enough for that to happen), and \n",
    "2.  We have intercepted a previous valid transaction from the target account owner to someone else in the amount we want to steal.  \n"
   ]
  },
  {
   "cell_type": "code",
   "execution_count": 4,
   "metadata": {},
   "outputs": [],
   "source": [
    "class account:\n",
    "    \n",
    "    def __init__(self, starting_balance):\n",
    "            \n",
    "        #self.id = id\n",
    "        self.balance = starting_balance\n",
    "        self.key = random.Random.get_random_bytes(32)\n",
    "        \n",
    "    def __str__(self):\n",
    "        \n",
    "        display_str = ''\n",
    "        display_str += f'Account Key:  {self.key}\\n'\n",
    "        display_str += f'Account Balance: ${self.balance:,.2f}\\n'\n",
    "        return (display_str)\n",
    "        \n",
    "class bank_app:\n",
    "\n",
    "    next_id = 1\n",
    "    \n",
    "    def __init__(self):\n",
    "        \n",
    "        # Create some test accounts\n",
    "        self.accounts = {}\n",
    "        \n",
    "        self.accounts[self.next_id] = account(5000000)\n",
    "        self.next_id += 1\n",
    "        self.accounts[self.next_id] = account(300000)\n",
    "        self.next_id += 1\n",
    "        self.accounts[self.next_id] = account(70230.24)\n",
    "        self.next_id += 1\n",
    "    \n",
    "    def __str__(self):\n",
    "        \n",
    "        display_str = ''\n",
    "        for account in self.accounts:\n",
    "            display_str += 'Account ID:  ' + str(account) + '\\n'\n",
    "            display_str += str(self.accounts[account])\n",
    "            display_str += '\\n'\n",
    "            \n",
    "        return(display_str)\n",
    "    \n",
    "    def open_new_account(self, deposit_amount):\n",
    "        \n",
    "        id = self.next_id\n",
    "        self.accounts[id] = account(deposit_amount)\n",
    "        self.next_id += 1\n",
    "        \n",
    "        return(id)\n",
    "    \n",
    "    def process_msg(self, msg):\n",
    "        \n",
    "        if len(msg) < 32:\n",
    "            raise(ValueError('Invalid message)'))\n",
    "        \n",
    "        IV, MAC = msg[-32:-16], msg[-16:]\n",
    "        transaction = cp.strip_PKCS7_pad(msg[:-32]).split(b'&')\n",
    "        \n",
    "        if transaction[0][:5] == b'from=' and \\\n",
    "           transaction[1][:3] == b'to=' and \\\n",
    "           transaction[2][:7] == b'amount=':\n",
    "            \n",
    "            start = transaction[0].find(b'=') + 1\n",
    "            from_id = int(transaction[0][start:])            \n",
    "            key = self.accounts[from_id].key        \n",
    "            myMAC = CBC_MAC(msg[:-32], key, IV)       \n",
    "            \n",
    "        else:\n",
    "        \n",
    "            raise(Exception('Invalid transaction format'))\n",
    "                    \n",
    "        if (MAC == myMAC):            \n",
    "            \n",
    "            start = transaction[1].find(b'=') + 1\n",
    "            to_id = int(transaction[1][start:])            \n",
    "\n",
    "            #print(transaction[2])\n",
    "            start = transaction[2].find(b'=') + 1\n",
    "            amount = float(transaction[2][start:])     \n",
    "\n",
    "        \n",
    "        if self.accounts[from_id].balance >= amount:\n",
    "            self.accounts[from_id].balance -= amount\n",
    "            self.accounts[to_id].balance += amount\n",
    "            return(True)\n",
    "        else:\n",
    "            return(False)    "
   ]
  },
  {
   "cell_type": "code",
   "execution_count": 5,
   "metadata": {},
   "outputs": [],
   "source": [
    "def create_signed_transaction(from_id, to_id, amount):\n",
    "    \n",
    "    # To simplify things, just assuming the authentic user has access to their account transaction key.\n",
    "    id_key = my_bank.accounts[from_id].key\n",
    "    msg = cp.PKCS7_pad((f'from={from_id}&to={to_id}&amount={amount}').encode())\n",
    "    IV = b'\\x00'*16\n",
    "    MAC = CBC_MAC(msg, id_key, IV)\n",
    "    \n",
    "    return(msg + IV + MAC)\n",
    "    "
   ]
  },
  {
   "cell_type": "code",
   "execution_count": 6,
   "metadata": {},
   "outputs": [],
   "source": [
    "my_bank = bank_app()"
   ]
  },
  {
   "cell_type": "code",
   "execution_count": 7,
   "metadata": {},
   "outputs": [
    {
     "name": "stdout",
     "output_type": "stream",
     "text": [
      "*****************************\n",
      "Balances before transfer\n",
      "*****************************\n",
      "\n",
      "Account ID:  1\n",
      "Account Key:  b\"\\x8dp\\xa3\\xbaT\\x8e:\\xf3e\\x92\\xd7\\xb54\\xf2\\xe8\\xb1\\xea$\\xedE\\xc7D\\x1bm\\xa2\\xfa'\\xc9\\x07d14\"\n",
      "Account Balance: $5,000,000.00\n",
      "\n",
      "Account ID:  2\n",
      "Account Key:  b'N\\x98\\xc3P\\xdd\\x8f\\x13\\xbc\\r#4\\x1aa\\x15\\xab\\xbc#\\xb6\\xac)\\xe1\\xf549L-\\x89\\xcd\\x8e\\xc4W\\xf5'\n",
      "Account Balance: $300,000.00\n",
      "\n",
      "Account ID:  3\n",
      "Account Key:  b'\\xde\\x86\\xe0\\x03\\xb1&`s\\xdclg\\xfc~\\x1e\\xc0\\x11\\xe6\\x9d!\\x16Rp\\xa5!\\x0f\\xea\\xb6\\x83#\\x18\\xe9\\xaa'\n",
      "Account Balance: $70,230.24\n",
      "\n",
      "\n",
      "Transfering $1000000.00 from Acct 10001 to Acct 10002\n",
      "\n",
      "*****************************\n",
      "Balances after transfer\n",
      "*****************************\n",
      "\n",
      "Account ID:  1\n",
      "Account Key:  b\"\\x8dp\\xa3\\xbaT\\x8e:\\xf3e\\x92\\xd7\\xb54\\xf2\\xe8\\xb1\\xea$\\xedE\\xc7D\\x1bm\\xa2\\xfa'\\xc9\\x07d14\"\n",
      "Account Balance: $4,000,000.00\n",
      "\n",
      "Account ID:  2\n",
      "Account Key:  b'N\\x98\\xc3P\\xdd\\x8f\\x13\\xbc\\r#4\\x1aa\\x15\\xab\\xbc#\\xb6\\xac)\\xe1\\xf549L-\\x89\\xcd\\x8e\\xc4W\\xf5'\n",
      "Account Balance: $1,300,000.00\n",
      "\n",
      "Account ID:  3\n",
      "Account Key:  b'\\xde\\x86\\xe0\\x03\\xb1&`s\\xdclg\\xfc~\\x1e\\xc0\\x11\\xe6\\x9d!\\x16Rp\\xa5!\\x0f\\xea\\xb6\\x83#\\x18\\xe9\\xaa'\n",
      "Account Balance: $70,230.24\n",
      "\n",
      "\n"
     ]
    }
   ],
   "source": [
    "print('*****************************')\n",
    "print('Balances before transfer')\n",
    "print('*****************************\\n')\n",
    "print(my_bank)\n",
    "\n",
    "print('Transfering $1000000.00 from Acct 10001 to Acct 10002')\n",
    "t = create_signed_transaction(1, 2, 1000000)\n",
    "print()\n",
    "print('*****************************')\n",
    "print('Balances after transfer')\n",
    "print('*****************************\\n')\n",
    "my_bank.process_msg(t)\n",
    "print(my_bank)"
   ]
  },
  {
   "cell_type": "markdown",
   "metadata": {},
   "source": [
    "<div class=\"alert alert-block alert-info\">   \n",
    "\n",
    "One thing we haven't discussed is the `IV`. Assume the client generates a per-message IV and sends it along with the MAC. That's how CBC works, right? \n",
    "Wrong. \n",
    "    \n",
    "For messages signed under CBC-MAC, an attacker-controlled `IV` is a liability. Why? Because it yields full control over the first block of the message. \n",
    "Use this fact to generate a message transferring 1M spacebucks from a target victim's account into your account. \n",
    "    \n",
    "I'll wait. Just let me know when you're done. \n",
    "... waiting \n",
    "... waiting \n",
    "... waiting \n",
    "All done? Great - I knew you could do it! \n",
    "\n",
    "</div>"
   ]
  },
  {
   "cell_type": "code",
   "execution_count": 8,
   "metadata": {},
   "outputs": [],
   "source": [
    "# Open a new $0 balance account that I control and have the key for. \n",
    "my_id = my_bank.open_new_account(0)\n",
    "my_key = my_bank.accounts[my_id].key"
   ]
  },
  {
   "cell_type": "code",
   "execution_count": 9,
   "metadata": {},
   "outputs": [
    {
     "name": "stdout",
     "output_type": "stream",
     "text": [
      "Balance before attack: $0.00\n",
      "Balance after attack: $1,000,000.00\n"
     ]
    }
   ],
   "source": [
    "intercepted_msg = t\n",
    "malicious_message = f'from=1&to={my_id}&amou'.encode()\n",
    "intercepted_IV = intercepted_msg[-32:-16]\n",
    "forged_IV = cp.bitwise_xor(cp.bitwise_xor(intercepted_msg[0:16], intercepted_IV), malicious_message)\n",
    "my_evil_transaction = malicious_message + intercepted_msg[16:-32] + \\\n",
    "                      forged_IV + intercepted_msg[-16:]   \n",
    "print(f'Balance before attack: ${my_bank.accounts[my_id].balance:,.2f}')\n",
    "my_bank.process_msg(my_evil_transaction)\n",
    "print(f'Balance after attack: ${my_bank.accounts[my_id].balance:,.2f}')"
   ]
  },
  {
   "cell_type": "markdown",
   "metadata": {},
   "source": [
    "<div class=\"alert alert-block alert-info\">   \n",
    "\n",
    "Now let's tune up that protocol a little bit. \n",
    "    \n",
    "As we now know, you're supposed to use a fixed `IV` with CBC-MAC, so let's do that. We'll set ours at `0` for simplicity. This means the `IV` comes out of the protocol: \n",
    "    \n",
    "`message || MAC`\n",
    "    \n",
    "Pretty simple, but we'll also adjust the message. For the purposes of efficiency, the bank wants to be able to process multiple transactions in a single request. So the message now looks like this: \n",
    "    \n",
    "`from=#{from_id}&tx_list=#{transactions}`\n",
    "    \n",
    "With the transaction list formatted like: \n",
    "    \n",
    "`to:amount(;to:amount)*`\n",
    "\n",
    "</div>"
   ]
  },
  {
   "cell_type": "code",
   "execution_count": 15,
   "metadata": {},
   "outputs": [],
   "source": [
    "class new_bank(bank_app):\n",
    "    \n",
    "    def process_msg(self, msg):\n",
    "                \n",
    "        if len(msg) < 32:\n",
    "            raise(ValueError('Invalid message)'))\n",
    "        \n",
    "        IV = b'\\x00' * 16\n",
    "        MAC = msg[-16:]\n",
    "        data = cp.strip_PKCS7_pad(msg[:-16])\n",
    "        transaction = data.split(b'&')\n",
    "        \n",
    "        if transaction[0][:5] == b'from=' and \\\n",
    "           transaction[1][:8] == b'tx_list=':\n",
    "            \n",
    "            start = transaction[0].find(b'=') + 1\n",
    "            from_id = int(transaction[0][start:])            \n",
    "            key = self.accounts[from_id].key       \n",
    "            #pdb.set_trace()\n",
    "            myMAC = CBC_MAC(msg[:-16], key, IV)       \n",
    "            \n",
    "        else:\n",
    "        \n",
    "            raise(Exception('Invalid transaction format'))\n",
    "                    \n",
    "        if (MAC != myMAC):            \n",
    "            return(False)\n",
    "        \n",
    "        start = transaction[1].find(b'=') + 1\n",
    "        transaction_list = transaction[1][start:].split(b';')           \n",
    "\n",
    "        for transfer in transaction_list:\n",
    "            to_id, amount = transfer.split(b':')\n",
    "            to_id = int(to_id)\n",
    "            amount = float(amount)\n",
    "            if self.accounts[from_id].balance >= amount:\n",
    "                self.accounts[from_id].balance -= amount\n",
    "                self.accounts[to_id].balance += amount\n",
    "            else:\n",
    "                return(False)    \n",
    "        \n",
    "        return(True)\n",
    "def new_create_signed_transaction(from_id, transfer_list):\n",
    "    \n",
    "    # To simplify things, just assuming the authentic user has access to their account transaction key.\n",
    "    id_key = my_new_bank.accounts[from_id].key\n",
    "    msg = f'from={from_id}&tx_list='\n",
    "    for transfer in transfer_list:\n",
    "        msg += f'{transfer[0]}:{transfer[1]};'\n",
    "    msg = cp.PKCS7_pad(msg[:-1].encode())\n",
    "    IV = b'\\x00'*16\n",
    "    MAC = CBC_MAC(msg, id_key, IV)\n",
    "    \n",
    "    return(msg + MAC)"
   ]
  },
  {
   "cell_type": "code",
   "execution_count": 16,
   "metadata": {},
   "outputs": [
    {
     "name": "stdout",
     "output_type": "stream",
     "text": [
      "Account ID:  1\n",
      "Account Key:  b'\\x0f\\xa5\\xdfm1\\x11\\xea\\xab\\x97=\\xc4\\x02d\\x0b\\xe4\\xdb\\xeb\\x0b\\xaad\\xe2\\xd6\\xaf\\xf6\\xcb\\x1c\\xaf\\x80>.W\\x83'\n",
      "Account Balance: $5,000,000.00\n",
      "\n",
      "Account ID:  2\n",
      "Account Key:  b'\\x0e5\\x11\\xfd\\x85oHyP\\x0fR}\\xd7\\xb6\\xfe\\xb7f\\n\\x03\\x81n\\xfbr\\xac\\xeb\\x0cTy\\x1d\\xd5\\xacy'\n",
      "Account Balance: $300,000.00\n",
      "\n",
      "Account ID:  3\n",
      "Account Key:  b'1k\\xde\\x88z\\x80L\\xde\\xae\\xf4\\x15\\xf2\\xda\\xd3\\xb6\\x10\\xe1LN\\xc9\\xab\\x13\\xcd\\xdf0V\\x0e\\x80\\xac\\xadV\\xa7'\n",
      "Account Balance: $70,230.24\n",
      "\n",
      "\n",
      "Account ID:  1\n",
      "Account Key:  b'\\x0f\\xa5\\xdfm1\\x11\\xea\\xab\\x97=\\xc4\\x02d\\x0b\\xe4\\xdb\\xeb\\x0b\\xaad\\xe2\\xd6\\xaf\\xf6\\xcb\\x1c\\xaf\\x80>.W\\x83'\n",
      "Account Balance: $4,998,898.01\n",
      "\n",
      "Account ID:  2\n",
      "Account Key:  b'\\x0e5\\x11\\xfd\\x85oHyP\\x0fR}\\xd7\\xb6\\xfe\\xb7f\\n\\x03\\x81n\\xfbr\\xac\\xeb\\x0cTy\\x1d\\xd5\\xacy'\n",
      "Account Balance: $300,100.00\n",
      "\n",
      "Account ID:  3\n",
      "Account Key:  b'1k\\xde\\x88z\\x80L\\xde\\xae\\xf4\\x15\\xf2\\xda\\xd3\\xb6\\x10\\xe1LN\\xc9\\xab\\x13\\xcd\\xdf0V\\x0e\\x80\\xac\\xadV\\xa7'\n",
      "Account Balance: $71,232.23\n",
      "\n",
      "\n"
     ]
    }
   ],
   "source": [
    "my_new_bank = new_bank()\n",
    "print(my_new_bank)\n",
    "\n",
    "from_id = 1\n",
    "transfer_list = [[2, 100],[3, 1001.99]]\n",
    "transaction = new_create_signed_transaction(from_id, transfer_list)\n",
    "my_new_bank.process_msg(transaction)\n",
    "\n",
    "print(my_new_bank)"
   ]
  },
  {
   "cell_type": "markdown",
   "metadata": {},
   "source": [
    "<div class=\"alert alert-block alert-info\">   \n",
    "\n",
    "There's still a weakness here: the MAC is vulnerable to length extension attacks. How? \n",
    "    \n",
    "Well, the output of CBC-MAC is a valid `IV` for a new message. \n",
    "    \n",
    "_\"But we don't control the `IV` anymore!\"_\n",
    "    \n",
    "With sufficient mastery of CBC, we can fake it. \n",
    "    \n",
    "Your mission: capture a valid message from your target user. Use length extension to add a transaction paying the attacker's account 1M spacebucks. \n",
    "\n",
    "<div class=\"alert alert-block alert-warning\">    \n",
    "\n",
    "#### **Hint!**\n",
    "    \n",
    "This would be a lot easier if you had full control over the first block of your message, huh? Maybe you can simulate that. \n",
    "    \n",
    "</div>\n",
    "    \n",
    "_Food for thought: How would you modify the protocol to prevent this?_\n",
    "    \n",
    "</div>    "
   ]
  },
  {
   "cell_type": "markdown",
   "metadata": {},
   "source": [
    "---"
   ]
  },
  {
   "cell_type": "markdown",
   "metadata": {
    "slideshow": {
     "slide_type": "slide"
    }
   },
   "source": [
    "[Back to Index](CryptoPalsWalkthroughs_Cobb.ipynb)"
   ]
  }
 ],
 "metadata": {
  "kernelspec": {
   "display_name": "Python 3",
   "language": "python",
   "name": "python3"
  },
  "language_info": {
   "codemirror_mode": {
    "name": "ipython",
    "version": 3
   },
   "file_extension": ".py",
   "mimetype": "text/x-python",
   "name": "python",
   "nbconvert_exporter": "python",
   "pygments_lexer": "ipython3",
   "version": "3.7.6"
  }
 },
 "nbformat": 4,
 "nbformat_minor": 4
}
