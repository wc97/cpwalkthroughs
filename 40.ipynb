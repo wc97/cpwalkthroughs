{
 "cells": [
  {
   "cell_type": "markdown",
   "metadata": {},
   "source": [
    "### Challenge 40: Implement an E=3 RSA Broadcast attack\n",
    "\n",
    "[Back to Index](CryptoPalsWalkthroughs_Cobb.ipynb)"
   ]
  },
  {
   "cell_type": "code",
   "execution_count": 44,
   "metadata": {},
   "outputs": [],
   "source": [
    "from Crypto.Util import number\n",
    "from Crypto.Random import random\n",
    "from Crypto.Hash.SHA256 import SHA256Hash\n",
    "\n",
    "import cryptopals as cp"
   ]
  },
  {
   "cell_type": "markdown",
   "metadata": {},
   "source": [
    "<div class=\"alert alert-block alert-info\">\n",
    "\n",
    "Assume you're a Javascript programmer. That is, you're using a naive handrolled RSA to encrypt without padding.\n",
    "\n",
    "Assume you can be coerced into encrypting the same plaintext three times, under three different public keys. You can; it's happened.\n",
    "</div>"
   ]
  },
  {
   "cell_type": "markdown",
   "metadata": {},
   "source": [
    "Let's Generate three different public/private key pairs:"
   ]
  },
  {
   "cell_type": "code",
   "execution_count": 45,
   "metadata": {},
   "outputs": [
    {
     "name": "stdout",
     "output_type": "stream",
     "text": [
      "0x4265206361726566756c212020457665206973207761746368696e672121\n",
      "0x4265206361726566756c212020457665206973207761746368696e672121\n",
      "0x4265206361726566756c212020457665206973207761746368696e672121\n",
      "\n",
      "Be careful!  Eve is watching!!\n"
     ]
    }
   ],
   "source": [
    "[e0,d0,n0] = cp.genRSA_keypair(512)\n",
    "[e1,d1,n1] = cp.genRSA_keypair(512)\n",
    "[e2,d2,n2] = cp.genRSA_keypair(512)\n",
    "\n",
    "message = int(b'Be careful!  Eve is watching!!'.hex(), 16)\n",
    "\n",
    "c0 = pow(message, e0, n0)\n",
    "c1 = pow(message, e1, n1)\n",
    "c2 = pow(message, e2, n2)\n",
    "\n",
    "# Make sure the key pairs are valid...\n",
    "p0 = pow(c0, d0, n0)\n",
    "p1 = pow(c1, d1, n1)\n",
    "p2 = pow(c2, d2, n2)\n",
    "\n",
    "print(hex(p0))\n",
    "print(hex(p1))\n",
    "print(hex(p2))\n",
    "print()\n",
    "print(bytes.fromhex(hex(p0)[2:]).decode())"
   ]
  },
  {
   "cell_type": "markdown",
   "metadata": {},
   "source": [
    "<div class=\"alert alert-block alert-info\">\n",
    "\n",
    "Then an attacker can trivially decrypt your message, by:\n",
    "\n",
    "1. Capturing any 3 of the ciphertexts and their corresponding pubkeys\n",
    "2. Using the CRT to solve for the number represented by the three ciphertexts (which are residues mod their respective pubkeys)\n",
    "3. Taking the cube root of the resulting number\n",
    "\n",
    "The CRT says you can take any number and represent it as the combination of a series of residues mod a series of moduli. In the three-residue case, you have:\n",
    "```python\n",
    "result =\n",
    "  (c_0 * m_s_0 * invmod(m_s_0, n_0)) +\n",
    "  (c_1 * m_s_1 * invmod(m_s_1, n_1)) +\n",
    "  (c_2 * m_s_2 * invmod(m_s_2, n_2)) mod N_012\n",
    "```\n",
    "where:\n",
    "\n",
    "```\n",
    " c_0, c_1, c_2 are the three respective residues mod\n",
    " n_0, n_1, n_2\n",
    "\n",
    " m_s_n (for n in 0, 1, 2) are the product of the moduli\n",
    " EXCEPT n_n --- ie, m_s_1 is n_0 * n_2\n",
    "\n",
    " N_012 is the product of all three moduli\n",
    "```\n",
    "    \n",
    "To decrypt RSA using a simple cube root, leave off the final modulus operation; just take the raw accumulated result and cube-root it.\n",
    "\n",
    "</div>"
   ]
  },
  {
   "cell_type": "code",
   "execution_count": 53,
   "metadata": {},
   "outputs": [],
   "source": [
    "ms0 = n1*n2\n",
    "ms1 = n0*n2\n",
    "ms2 = n0*n1\n",
    "\n",
    "N012 = n0*n1*n2\n",
    "\n",
    "result = ((c0 * ms0 * cp.invmod(ms0, n0)) + \\\n",
    "         (c1 * ms1 * cp.invmod(ms1, n1)) + \\\n",
    "         (c2 * ms2 * cp.invmod(ms2, n2))) % N012"
   ]
  },
  {
   "cell_type": "markdown",
   "metadata": {},
   "source": [
    "To find the cube root of a very large integer, I use the implementation from Rosetta code:"
   ]
  },
  {
   "cell_type": "code",
   "execution_count": 54,
   "metadata": {},
   "outputs": [],
   "source": [
    "def root(root, b):\n",
    "    \n",
    "    if b < 2:\n",
    "        return b\n",
    "    a1 = root - 1\n",
    "    c = 1\n",
    "    d = (a1 * c + b // (c ** a1)) // root\n",
    "    e = (a1 * d + b // (d ** a1)) // root\n",
    "    while c not in (d, e):\n",
    "        c, d, e = d, e, (a1 * e + b // (e ** a1)) // root\n",
    "    return min(d, e)"
   ]
  },
  {
   "cell_type": "code",
   "execution_count": 57,
   "metadata": {},
   "outputs": [
    {
     "name": "stdout",
     "output_type": "stream",
     "text": [
      "Be careful!  Eve is watching!!\n"
     ]
    }
   ],
   "source": [
    "PT_n = hex(root(3, result))[2:]\n",
    "print(bytes.fromhex(PT_n).decode())"
   ]
  },
  {
   "cell_type": "markdown",
   "metadata": {
    "slideshow": {
     "slide_type": "slide"
    }
   },
   "source": [
    "[Back to Index](CryptoPalsWalkthroughs_Cobb.ipynb)"
   ]
  }
 ],
 "metadata": {
  "kernelspec": {
   "display_name": "Python 3",
   "language": "python",
   "name": "python3"
  },
  "language_info": {
   "codemirror_mode": {
    "name": "ipython",
    "version": 3
   },
   "file_extension": ".py",
   "mimetype": "text/x-python",
   "name": "python",
   "nbconvert_exporter": "python",
   "pygments_lexer": "ipython3",
   "version": "3.7.4"
  }
 },
 "nbformat": 4,
 "nbformat_minor": 4
}
