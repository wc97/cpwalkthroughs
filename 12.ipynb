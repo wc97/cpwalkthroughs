{
 "cells": [
  {
   "cell_type": "markdown",
   "metadata": {},
   "source": [
    "### Challenge 12:  Byte-at-a-time ECB decryption (Simple)\n",
    "\n",
    "<div class=\"alert alert-block alert-info\">\n",
    "    \n",
    "Copy your oracle function to a new function that encrypts buffers under ECB mode using a consistent but unknown key (for instance, assign a single random key, once, to a global variable).\n",
    "\n",
    "Now take that same function and have it append to the plaintext, BEFORE ENCRYPTING, the following string:\n",
    "\n",
    "```\n",
    "Um9sbGluJyBpbiBteSA1LjAKV2l0aCBteSByYWctdG9wIGRvd24gc28gbXkg\n",
    "aGFpciBjYW4gYmxvdwpUaGUgZ2lybGllcyBvbiBzdGFuZGJ5IHdhdmluZyBq\n",
    "dXN0IHRvIHNheSBoaQpEaWQgeW91IHN0b3A/IE5vLCBJIGp1c3QgZHJvdmUg\n",
    "YnkK\n",
    "```\n",
    "---\n",
    "    \n",
    "<div class=\"alert alert-block alert-warning\">\n",
    "    \n",
    "### Spoiler alert.\n",
    "Do not decode this string now. Don't do it.\n",
    "</div>\n",
    "    \n",
    "---\n",
    "    \n",
    "Base64 decode the string before appending it. Do not base64 decode the string by hand; make your code do it. The point is that you don't know its contents.\n",
    "\n",
    "What you have now is a function that produces:\n",
    "\n",
    "```AES-128-ECB(your-string || unknown-string, random-key)```\n",
    "\n",
    "It turns out: you can decrypt \"unknown-string\" with repeated calls to the oracle function!\n",
    "\n",
    "Here's roughly how:\n",
    "\n",
    "- Feed identical bytes of your-string to the function 1 at a time --- start with 1 byte (\"A\"), then \"AA\", then \"AAA\" and so on. Discover the block size of the cipher. You know it, but do this step anyway.\n",
    "- Detect that the function is using ECB. You already know, but do this step anyways.\n",
    "- Knowing the block size, craft an input block that is exactly 1 byte short (for instance, if the block size is 8 bytes, make \"AAAAAAA\"). Think about what the oracle function is going to put in that last byte position.\n",
    "- Make a dictionary of every possible last byte by feeding different strings to the oracle; for instance, \"AAAAAAAA\", \"AAAAAAAB\", \"AAAAAAAC\", remembering the first block of each invocation.\n",
    "- Match the output of the one-byte-short input to one of the entries in your dictionary. You've now discovered the first byte of unknown-string.\n",
    "- Repeat for the next byte.\n",
    "\n",
    "<div class=\"alert alert-block alert-warning\">\n",
    "### Congratulations.\n",
    "This is the first challenge we've given you whose solution will break real crypto. Lots of people know that when you encrypt something in ECB mode, you can see penguins through it. Not so many of them can decrypt the contents of those ciphertexts, and now you can. If our experience is any guideline, this attack will get you code execution in security tests about once a year.\n",
    "\n",
    "</div>\n",
    "    \n",
    "</div>\n",
    "\n",
    "[Back to Index](CryptoPalsWalkthroughs_Cobb.ipynb)"
   ]
  },
  {
   "cell_type": "code",
   "execution_count": 1,
   "metadata": {},
   "outputs": [],
   "source": [
    "import cryptopals as cp\n",
    "from numpy.random import randint"
   ]
  },
  {
   "cell_type": "code",
   "execution_count": 2,
   "metadata": {},
   "outputs": [],
   "source": [
    "# Generate a random key (we won't look at it directly...pretend it's secret)\n",
    "unknown_key = bytes(list(randint(0, 256, 16)))"
   ]
  },
  {
   "cell_type": "code",
   "execution_count": 3,
   "metadata": {},
   "outputs": [],
   "source": [
    "def encryption_oracle_2(data, unknown_key):\n",
    "    \"\"\"\n",
    "    Implement this:  \n",
    "    AES-128-ECB(data || unknown-string, random-key)\n",
    "    \"\"\"\n",
    "    unknown_string = \"Um9sbGluJyBpbiBteSA1LjAKV2l0aCBteSByYWctdG9wIGRvd24gc\\\n",
    "                      28gbXkgaGFpciBjYW4gYmxvdwpUaGUgZ2lybGllcyBvbiBzdGFuZG\\\n",
    "                      J5IHdhdmluZyBqdXN0IHRvIHNheSBoaQpEaWQgeW91IHN0b3A/IE5\\\n",
    "                      vLCBJIGp1c3QgZHJvdmUgYnkK\"\n",
    "\n",
    "    unknown_bytes = base64.b64decode(unknown_string)\n",
    "    AES_input = data + unknown_bytes\n",
    "\n",
    "    return(AESEncrypt(AES_input, unknown_key))"
   ]
  },
  {
   "cell_type": "code",
   "execution_count": 4,
   "metadata": {
    "jupyter": {
     "source_hidden": true
    }
   },
   "outputs": [
    {
     "name": "stdout",
     "output_type": "stream",
     "text": [
      "N_bytes=1, len(out)=144\n",
      "N_bytes=2, len(out)=144\n",
      "N_bytes=3, len(out)=144\n",
      "N_bytes=4, len(out)=144\n",
      "N_bytes=5, len(out)=144\n",
      "N_bytes=6, len(out)=160\n",
      "N_bytes=7, len(out)=160\n",
      "N_bytes=8, len(out)=160\n",
      "N_bytes=9, len(out)=160\n"
     ]
    }
   ],
   "source": [
    "# Step 1: - Feed identical bytes of your-string to the function 1 at a time \n",
    "# --- start with 1 byte (\"A\"), then \"AA\", then \"AAA\" and so on. Discover \n",
    "# the block size of the cipher. You know it, but do this step anyway.\n",
    "\n",
    "for N_bytes in range(1, 10):\n",
    "    \n",
    "    malicious_data = b'A' * N_bytes\n",
    "    print(f\"N_bytes={N_bytes}, len(out)={len(cp.encryption_oracle_2(malicious_data, unknown_key))}\")"
   ]
  },
  {
   "cell_type": "markdown",
   "metadata": {},
   "source": [
    "Length of the output goes up by 16 bytes...we know the block size = 16."
   ]
  },
  {
   "cell_type": "code",
   "execution_count": 5,
   "metadata": {
    "jupyter": {
     "source_hidden": true
    }
   },
   "outputs": [
    {
     "name": "stdout",
     "output_type": "stream",
     "text": [
      "\n",
      "***********************\n",
      "ECB Mode WAS Detected\n",
      "***********************\n",
      "\n"
     ]
    }
   ],
   "source": [
    "# Step 2:\n",
    "# - Detect that the function is using ECB. You already know, but do this step anyways.\n",
    "\n",
    "malicious_data = b'a' * 100\n",
    "print('\\n***********************')\n",
    "if cp.detect_AES_ECB(cp.encryption_oracle_2(malicious_data, unknown_key)):\n",
    "    print('ECB Mode WAS Detected')\n",
    "else:\n",
    "    print('ECB Mode NOT Detected')\n",
    "print('***********************\\n')"
   ]
  },
  {
   "cell_type": "code",
   "execution_count": 6,
   "metadata": {},
   "outputs": [
    {
     "name": "stdout",
     "output_type": "stream",
     "text": [
      "\n",
      "Probing the oracle:\n",
      "\n",
      "................\n",
      "................\n",
      "................\n",
      "................\n",
      "................\n",
      "................\n",
      "................\n",
      "................\n",
      "............\n",
      "No more matches found.\n",
      "\n",
      "*******************\n",
      "Decoded the secret message!  Plaintext is:\n",
      "\n",
      "Rollin' in my 5.0\n",
      "With my rag-top down so my hair can blow\n",
      "The girlies on standby waving just to say hi\n",
      "Did you stop? No, I just drove by\n",
      "\u0001\n"
     ]
    }
   ],
   "source": [
    "# Step 3-6:\n",
    "#\n",
    "# - Knowing the block size, craft an input block that is exactly 1 byte short \n",
    "#   (for instance, if the block size is 8 bytes, make \"AAAAAAA\"). Think about \n",
    "#   what the oracle function is going to put in that last byte position.\n",
    "#\n",
    "# - Make a dictionary of every possible last byte by feeding different strings \n",
    "#   to the oracle; for instance, \"AAAAAAAA\", \"AAAAAAAB\", \"AAAAAAAC\", remembering \n",
    "#   the first block of each invocation.\n",
    "#\n",
    "# - Match the output of the one-byte-short input to one of the entries in your \n",
    "#   dictionary. You've now discovered the first byte of unknown-string.\n",
    "#\n",
    "# - Repeat for the next byte.\n",
    "\n",
    "plaintext = b''\n",
    "\n",
    "print('\\nProbing the oracle:')\n",
    "\n",
    "for block_idx in range(1,10):\n",
    "    print()\n",
    "    for ii in range(15, -1, -1):\n",
    "        print('.',end='')\n",
    "        malicious_data = (b'\\x00' * ii)\n",
    "        output_to_match = cp.encryption_oracle_2(malicious_data, unknown_key)\n",
    "        malicious_data += plaintext\n",
    "        \n",
    "        Found = False\n",
    "        for chr_idx in range(256):\n",
    "            # Try a character\n",
    "            try_data = malicious_data + bytes([chr_idx])\n",
    "            # print(try_data)\n",
    "            if cp.encryption_oracle_2(try_data, unknown_key)[0:(block_idx*16)-1] == output_to_match[0:(block_idx*16)-1]:\n",
    "                Found = True\n",
    "                # We found this byte...add it to the plaintext.\n",
    "                plaintext += bytes([chr_idx])\n",
    "                break\n",
    "                \n",
    "        if Found == False:\n",
    "            print(f\"\\nNo more matches found.\")\n",
    "            break\n",
    "print()            \n",
    "print('*******************')\n",
    "print('Decoded the secret message!  Plaintext is:\\n')\n",
    "print(plaintext.decode())"
   ]
  },
  {
   "cell_type": "markdown",
   "metadata": {},
   "source": [
    "[Back to Index](CryptoPalsWalkthroughs_Cobb.ipynb)"
   ]
  }
 ],
 "metadata": {
  "kernelspec": {
   "display_name": "Python 3",
   "language": "python",
   "name": "python3"
  },
  "language_info": {
   "codemirror_mode": {
    "name": "ipython",
    "version": 3
   },
   "file_extension": ".py",
   "mimetype": "text/x-python",
   "name": "python",
   "nbconvert_exporter": "python",
   "pygments_lexer": "ipython3",
   "version": "3.7.4"
  }
 },
 "nbformat": 4,
 "nbformat_minor": 4
}
