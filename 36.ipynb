{
 "cells": [
  {
   "cell_type": "markdown",
   "metadata": {},
   "source": [
    "### Challenge 36: Implement Secure Remote Password (SRP)\n",
    "\n",
    "[Back to Index](CryptoPalsWalkthroughs_Cobb.ipynb)"
   ]
  },
  {
   "cell_type": "code",
   "execution_count": 2,
   "metadata": {},
   "outputs": [],
   "source": [
    "from Crypto.Util import number\n",
    "from Crypto.Random import random\n",
    "from Crypto.Hash.SHA256 import SHA256Hash"
   ]
  },
  {
   "cell_type": "markdown",
   "metadata": {},
   "source": [
    "<div class=\"alert alert-block alert-info\">\n",
    "\n",
    "To understand SRP, look at how you generate an AES key from DH; now, just observe you can do the \"opposite\" operation an generate a numeric parameter from a hash. Then:\n",
    "    \n",
    "Replace A and B with C and S (client & server)\n",
    "\n",
    "</div>"
   ]
  },
  {
   "cell_type": "markdown",
   "metadata": {},
   "source": [
    "<div class=\"alert alert-block alert-info\">\n",
    "\n",
    "You're going to want to do this at a REPL of some sort; it may take a couple tries.\n",
    "\n",
    "It doesn't matter how you go from integer to string or string to integer (where things are going in or out of SHA256) as long as you do it consistently. I tested by using the ASCII decimal representation of integers as input to SHA256, and by converting the hexdigest to an integer when processing its output.\n",
    "\n",
    "This is basically Diffie Hellman with a tweak of mixing the password into the public keys. The server also takes an extra step to avoid storing an easily crackable password-equivalent.\n",
    "\n",
    "</div>\n",
    "\n",
    "Per [Wikipedia](https://en.wikipedia.org/wiki/Read%E2%80%93eval%E2%80%93print_loop):  \n",
    "\n",
    "> A read–eval–print loop (REPL), also termed an interactive toplevel or language shell, is a simple, interactive computer programming environment that takes single user inputs (i.e., single expressions), evaluates (executes) them, and returns the result to the user; a program written in a REPL environment is executed piecewise. The term is usually used to refer to programming interfaces similar to the classic Lisp machine interactive environment. Common examples include command line shells and similar environments for programming languages, and the technique is very characteristic of scripting languages.[1]\n",
    "\n",
    "Jupyter lab does a fine job.  :)"
   ]
  },
  {
   "cell_type": "markdown",
   "metadata": {},
   "source": [
    "---\n",
    "The description of this challenge didn't do a very good job of describing the protocol itself.  \n",
    "\n",
    "For the current version (SRP-6a), the protocol looks like this (from Wikipedia implementation):\n",
    "\n",
    "```H```, ```N```, ```g```, and ```k``` are known beforehand to both client and server:\n",
    "\n",
    "0. server stores (```I```, ```s```, ```v```) in its password database\n",
    "1. client sends username ```I``` and public ephemeral value ```A``` to the server\n",
    "2. server sends user's salt ```s``` and public ephemeral value ```B``` to client \n",
    "3. client and server calculate the random scrambling parameter (```u```)\n",
    "4. client computes session key (```S_c``` ==> ```K_c```)\n",
    "5. server computes session key (```S_s``` ==> ```K_s```)\n",
    "6. client sends proof of session key to server\n",
    "7. server sends proof of session key to client\n",
    "\n",
    "This challenge looks like it's based on the **legacy SRP-6 protocol**, which specifies k=3 instead of a hash H(N, g)\n",
    "\n",
    "---"
   ]
  },
  {
   "cell_type": "markdown",
   "metadata": {},
   "source": [
    "<div class=\"alert alert-block alert-info\">   \n",
    "    \n",
    "    \n",
    "```C & S```\n",
    "\n",
    "Agree on N=[NIST Prime], g=2, k=3, I (email), P (password)\n",
    "\n",
    "\n",
    "</div>"
   ]
  },
  {
   "cell_type": "markdown",
   "metadata": {},
   "source": [
    "---\n",
    "#### ```H```, ```N```, ```g```, and ```k``` are known beforehand to both client and server:\n",
    "\n",
    "---\n",
    "\n",
    "- ```H``` is SHA-256 \n",
    "\n",
    "- ```N``` is a strong prime.  I randomly generate one using the Crypto.Util.number package.\n",
    "\n",
    "- ```g = 2``` for SRP-6\n",
    "\n",
    "- ```k = 3``` for SRP-6\n",
    "\n",
    "- ```P``` we will assume was chosen when the user ```I``` was enrolled."
   ]
  },
  {
   "cell_type": "code",
   "execution_count": 3,
   "metadata": {},
   "outputs": [],
   "source": [
    "N = number.getStrongPrime(2048, e=0, false_positive_prob=1e-06, randfunc=None)\n",
    "g = 2\n",
    "k = 3\n",
    "I = 'some.name@email.com'\n",
    "P = 'BADPa$$word'"
   ]
  },
  {
   "cell_type": "markdown",
   "metadata": {},
   "source": [
    "---\n",
    "\n",
    "<div class=\"alert alert-block alert-info\">   \n",
    "    \n",
    "```S```\n",
    "\n",
    "1. Generate salt as random integer\n",
    "2. Generate string xH=SHA256(salt|password)\n",
    "3. Convert xH to integer x somehow (put 0x on hexdigest)\n",
    "4. Generate v=g**x % N\n",
    "5. Save everything but x, xH\n",
    "\n",
    "</div>\n",
    "\n",
    "---\n",
    "0. server stores (```I```, ```s```, ```v```) in its password database\n",
    "\n",
    "---\n",
    "\n",
    "_Note: ```v``` is derived from ```s``` and ```P```, and is used to securely authenticate a client supplied password_"
   ]
  },
  {
   "cell_type": "code",
   "execution_count": 4,
   "metadata": {},
   "outputs": [],
   "source": [
    "# Generate random salt (64-bit integer)\n",
    "s = random.randint(0, 2**64-1)\n",
    "\n",
    "# x = int(H(S|P))\n",
    "# mySHA = SHA256Hash((str(s) + P).encode())\n",
    "xH = SHA256Hash((str(s) + P).encode()).digest().hex()\n",
    "x = int(xH, 16)\n",
    "\n",
    "# v = g**x % N\n",
    "v = pow(g, x, N)\n",
    "\n",
    "# x is discarded.  s and v are stored with I in the server's password database.\n",
    "\n",
    "S_record = {'I':I, 's':s, 'v':v}"
   ]
  },
  {
   "cell_type": "markdown",
   "metadata": {},
   "source": [
    "---\n",
    "<div class=\"alert alert-block alert-info\">\n",
    "    \n",
    "```C->S```\n",
    "    \n",
    "Send I, A=g**a % N (a la Diffie Hellman)\n",
    "\n",
    "</div>"
   ]
  },
  {
   "cell_type": "markdown",
   "metadata": {},
   "source": [
    "---\n",
    "1. client sends username ```I``` and public ephemeral value ```A``` to the server\n",
    "\n",
    "---\n",
    "\n",
    "Note:  ```a``` is the client's private key.  ```A``` is the client's public key.  *These are ephemeral / generated randomly for each session.*"
   ]
  },
  {
   "cell_type": "code",
   "execution_count": 4,
   "metadata": {},
   "outputs": [],
   "source": [
    "a = random.randint(0, 2**64-1) % N\n",
    "A = pow(g, a, N)"
   ]
  },
  {
   "cell_type": "markdown",
   "metadata": {},
   "source": [
    "<div class=\"alert alert-block alert-info\">\n",
    "    \n",
    "```S->C```\n",
    "    \n",
    "Send salt, B=kv + g**b % N\n",
    "\n",
    "</div>\n",
    "\n",
    "---\n",
    "2. server sends user's salt ```s``` and public ephemeral value ```B``` to client \n",
    "\n",
    "---\n",
    "\n",
    "Note:  ```b``` is the server's private key.  ```B``` is the server's public key.  *These are ephemeral / generated randomly for each session.*"
   ]
  },
  {
   "cell_type": "code",
   "execution_count": 5,
   "metadata": {},
   "outputs": [],
   "source": [
    "b = random.randint(0, 2**64-1) % N\n",
    "B = (k*v + pow(g, b, N)) % N"
   ]
  },
  {
   "cell_type": "markdown",
   "metadata": {},
   "source": [
    "<div class=\"alert alert-block alert-info\">    \n",
    "    \n",
    "```S, C```\n",
    "    \n",
    "Compute string uH = SHA256(A|B), u = integer of uH\n",
    "    \n",
    "</div>\n",
    "\n",
    "---\n",
    "3. client and server calculate the random scrambling parameter (```u```)\n",
    "\n",
    "---\n",
    "\n",
    "Note:  ```A``` and ```B``` are large integers (modulo ```N```).  Our SHA256 wants bytes.  We'll convert strings and concatenate, then encode as utf-8.  The client and server both know A and B (public keys) and perform the operation the same way."
   ]
  },
  {
   "cell_type": "code",
   "execution_count": 6,
   "metadata": {},
   "outputs": [],
   "source": [
    "mySHA = SHA256Hash((str(A) + str(B)).encode())\n",
    "u = pow(g, int(mySHA.digest().hex(), 16), N)"
   ]
  },
  {
   "cell_type": "markdown",
   "metadata": {},
   "source": [
    "<div class=\"alert alert-block alert-info\">\n",
    "\n",
    "```C```\n",
    "\n",
    "1. Generate string xH=SHA256(salt|password)\n",
    "2. Convert xH to integer x somehow (put 0x on hexdigest)\n",
    "3. Generate S = (B - k * g \\** x) \\** (a + u * x) % N\n",
    "4. Generate K = SHA256(S)\n",
    "\n",
    "</div>\n",
    "\n",
    "---\n",
    "4. client computes session key (```S_c``` ==> ```K_c```)\n",
    "\n",
    "---\n",
    "\n",
    "Wikipedia and the challenge do this differently.  Wikipedia includes I in the hash.  Cryptopals just hashes ```salt|password```.  I followed the cryptopals challenge for this exercise."
   ]
  },
  {
   "cell_type": "code",
   "execution_count": 7,
   "metadata": {},
   "outputs": [],
   "source": [
    "mySHA = SHA256Hash(bytes(str(s) + P, 'utf-8'))\n",
    "x = int(mySHA.digest().hex(), 16)\n",
    "\n",
    "S_client = pow(B - k * pow(g, x, N), a + u * x, N)\n",
    "mySHA = SHA256Hash(str(S_client).encode())\n",
    "K_client = mySHA.digest()"
   ]
  },
  {
   "cell_type": "markdown",
   "metadata": {},
   "source": [
    "<div class=\"alert alert-block alert-info\">\n",
    "\n",
    "```S```\n",
    "\n",
    "1. Generate S = (A * v \\** u) \\** b % N\n",
    "2. Generate K = SHA256(S)\n",
    "\n",
    "</div>\n",
    "\n",
    "---\n",
    "\n",
    "5. server computes session key (```S_s``` ==> ```K_s```)\n",
    "\n",
    "---"
   ]
  },
  {
   "cell_type": "code",
   "execution_count": 8,
   "metadata": {},
   "outputs": [],
   "source": [
    "S_server = pow (A * pow(S_record['v'], u, N), b, N)\n",
    "mySHA = SHA256Hash(str(S_server).encode())\n",
    "K_server = mySHA.digest()"
   ]
  },
  {
   "cell_type": "markdown",
   "metadata": {},
   "source": [
    "<div class=\"alert alert-block alert-info\">\n",
    "\n",
    "```C->S```\n",
    "    \n",
    "Send HMAC-SHA256(K, salt)\n",
    "\n",
    "</div>\n",
    "\n",
    "---\n",
    "6. client sends proof of session key to server\n",
    "\n",
    "---\n",
    "\n",
    "Note:  The challenge uses a very simple technique to exchange proof of session key.   They both just send H(K, s) to each other.  \n",
    "\n",
    "There are probably better ways... (based on this technique, nothing prevents the server from replaying the Client's proof of session key back to the Client)."
   ]
  },
  {
   "cell_type": "code",
   "execution_count": 9,
   "metadata": {},
   "outputs": [],
   "source": [
    "mySHA = SHA256Hash(K_client + str(s).encode())\n",
    "C_Proof = mySHA.digest()"
   ]
  },
  {
   "cell_type": "markdown",
   "metadata": {},
   "source": [
    "<div class=\"alert alert-block alert-info\">\n",
    "\n",
    "```S->C```\n",
    "    \n",
    "Send \"OK\" if HMAC-SHA256(K, salt) validates\n",
    "\n",
    "</div>\n",
    "\n",
    "---\n",
    "7. server sends proof of session key to client\n",
    "\n",
    "---"
   ]
  },
  {
   "cell_type": "code",
   "execution_count": 10,
   "metadata": {},
   "outputs": [],
   "source": [
    "mySHA = SHA256Hash(K_server + str(s).encode())\n",
    "S_Proof = mySHA.digest()"
   ]
  },
  {
   "cell_type": "code",
   "execution_count": 11,
   "metadata": {},
   "outputs": [
    {
     "name": "stdout",
     "output_type": "stream",
     "text": [
      "S_Proof = 8b6cb100e0379760686caa4f934d1b45155617c88363c05146220660d5b21da4\n",
      "C_Proof = 8b6cb100e0379760686caa4f934d1b45155617c88363c05146220660d5b21da4\n",
      "\n",
      "Proofs of session keys validate on both sides\n"
     ]
    }
   ],
   "source": [
    "print(f\"S_Proof = {S_Proof.hex()}\")\n",
    "print(f\"C_Proof = {C_Proof.hex()}\")\n",
    "print()\n",
    "if S_Proof == C_Proof:\n",
    "    print(f\"Proofs of session keys validate on both sides\")\n",
    "else:\n",
    "    print(f\"Whoops\")"
   ]
  },
  {
   "cell_type": "markdown",
   "metadata": {},
   "source": [
    "[Back to Index](CryptoPalsWalkthroughs_Cobb.ipynb)"
   ]
  }
 ],
 "metadata": {
  "kernelspec": {
   "display_name": "Python 3",
   "language": "python",
   "name": "python3"
  },
  "language_info": {
   "codemirror_mode": {
    "name": "ipython",
    "version": 3
   },
   "file_extension": ".py",
   "mimetype": "text/x-python",
   "name": "python",
   "nbconvert_exporter": "python",
   "pygments_lexer": "ipython3",
   "version": "3.7.4"
  }
 },
 "nbformat": 4,
 "nbformat_minor": 4
}
