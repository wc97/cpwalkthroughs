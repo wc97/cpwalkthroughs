{
 "cells": [
  {
   "cell_type": "markdown",
   "metadata": {},
   "source": [
    "### Challenge 27: Recover the key from CBC with IV=Key\n",
    "\n",
    "[Back to Index](CryptoPalsWalkthroughs_Cobb.ipynb)"
   ]
  },
  {
   "cell_type": "markdown",
   "metadata": {},
   "source": [
    "<div class=\"alert alert-block alert-info\">\n",
    "\n",
    "Find a SHA-1 implementation in the language you code in.\n",
    "\n",
    "<div class=\"alert alert-block alert-warning\">\n",
    "\n",
    "### Don't cheat. It won't work.\n",
    "\n",
    "Do not use the SHA-1 implementation your language already provides (for instance, don't use the \"Digest\" library in Ruby, or call OpenSSL; in Ruby, you'd want a pure-Ruby SHA-1).\n",
    "\n",
    "</div>\n",
    "\n",
    "Write a function to authenticate a message under a secret key by using a secret-prefix MAC, which is simply:\n",
    "\n",
    "```SHA1(key || message)```\n",
    "\n",
    "Verify that you cannot tamper with the message without breaking the MAC you've produced, and that you can't produce a new MAC without knowing the secret key. \n",
    "\n",
    "</div>"
   ]
  },
  {
   "cell_type": "markdown",
   "metadata": {},
   "source": [
    "Found this implementation from [https://gist.github.com/BenWiederhake/cb60f703840f9e81a84499b39eb361b5](https://gist.github.com/BenWiederhake/cb60f703840f9e81a84499b39eb361b5)"
   ]
  },
  {
   "cell_type": "code",
   "execution_count": 23,
   "metadata": {},
   "outputs": [],
   "source": [
    "from Crypto import Random"
   ]
  },
  {
   "cell_type": "code",
   "execution_count": 15,
   "metadata": {},
   "outputs": [],
   "source": [
    "#!/usr/bin/env python3\n",
    "\n",
    "# Based on https://gist.github.com/bonsaiviking/5639034\n",
    "# Converted to Python3 by hand.\n",
    "\n",
    "import struct\n",
    "\n",
    "def leftrotate(i, n):\n",
    "    return ((i << n) & 0xffffffff) | (i >> (32 - n))\n",
    "\n",
    "class SHA1:\n",
    "    def __init__(self, data=b''):\n",
    "        self.h = [\n",
    "                0x67452301,\n",
    "                0xEFCDAB89,\n",
    "                0x98BADCFE,\n",
    "                0x10325476,\n",
    "                0xC3D2E1F0\n",
    "                ]\n",
    "        self.remainder = data\n",
    "        self.count = 0\n",
    "\n",
    "    def _add_chunk(self, chunk):\n",
    "        self.count += 1\n",
    "        w = list( struct.unpack(\">16I\", chunk) + (None,) * (80-16) )\n",
    "        for i in range(16, 80):\n",
    "            n = w[i-3] ^ w[i-8] ^ w[i-14] ^ w[i-16]\n",
    "            w[i] = leftrotate(n, 1)\n",
    "        a,b,c,d,e = self.h\n",
    "        for i in range(80):\n",
    "            f = None\n",
    "            k = None\n",
    "            if i < 20:\n",
    "                f = (b & c) ^ (~b & d)\n",
    "                k = 0x5A827999\n",
    "            elif i < 40:\n",
    "                f = b ^ c ^ d\n",
    "                k = 0x6ED9EBA1\n",
    "            elif i < 60:\n",
    "                f = (b & c) ^ (b & d) ^ (c & d)\n",
    "                k = 0x8F1BBCDC\n",
    "            else:\n",
    "                f = b ^ c ^ d\n",
    "                k = 0xCA62C1D6\n",
    "\n",
    "            temp = (leftrotate(a,5) + f + e + k + w[i]) % 2**32\n",
    "            e = d\n",
    "            d = c\n",
    "            c = leftrotate(b, 30)\n",
    "            b = a\n",
    "            a = temp\n",
    "        self.h[0] = (self.h[0] + a) % 2**32\n",
    "        self.h[1] = (self.h[1] + b) % 2**32\n",
    "        self.h[2] = (self.h[2] + c) % 2**32\n",
    "        self.h[3] = (self.h[3] + d) % 2**32\n",
    "        self.h[4] = (self.h[4] + e) % 2**32\n",
    "\n",
    "    def add(self, data):\n",
    "        message = self.remainder + data\n",
    "        r = len(message) % 64\n",
    "        if r != 0:\n",
    "            self.remainder = message[-r:]\n",
    "        else:\n",
    "            self.remainder = b''\n",
    "        for chunk in range(0, len(message)-r, 64):\n",
    "            self._add_chunk( message[chunk:chunk+64] )\n",
    "        return self\n",
    "\n",
    "    def finish(self):\n",
    "        l = len(self.remainder) + 64 * self.count\n",
    "        self.add( b'\\x80' + b'\\x00' * ((55 - l) % 64) + struct.pack(\">Q\", l * 8) )\n",
    "        h = tuple(x for x in self.h)\n",
    "        self.__init__()\n",
    "        return struct.pack(\">5I\", *h)"
   ]
  },
  {
   "cell_type": "markdown",
   "metadata": {},
   "source": [
    "Write a function to authenticate a message under a secret key by using a secret-prefix MAC, which is simply:\n",
    "\n",
    "```SHA1(key || message)```\n",
    "\n",
    "Verify that you cannot tamper with the message without breaking the MAC you've produced, and that you can't produce a new MAC without knowing the secret key. \n"
   ]
  },
  {
   "cell_type": "code",
   "execution_count": 29,
   "metadata": {},
   "outputs": [],
   "source": [
    "MAC_key = Random.get_random_bytes(32)\n",
    "\n",
    "def make_MAC(key, message):\n",
    "    \n",
    "    my_sha = SHA1(MAC_key + bytes(message))\n",
    "    MAC = my_sha.finish()\n",
    "    \n",
    "    return(MAC)"
   ]
  },
  {
   "cell_type": "code",
   "execution_count": 30,
   "metadata": {},
   "outputs": [
    {
     "name": "stdout",
     "output_type": "stream",
     "text": [
      "b'\\xf7{vz\\x84\\x97\\x1fk0\\xa4\\x9b\\xc5\\'\\xdf\"~o\\xab\\xa2x'\n",
      "b'}|\\xa4\\xb4z\\xc4\\x8c\\xd1\\xac)e!\\xc3\\xde<P,\\xde\\x1ek'\n",
      "Match = False\n"
     ]
    }
   ],
   "source": [
    "message = b'Good message'\n",
    "message_mac = make_MAC(MAC_key, message)\n",
    "\n",
    "bad_message = b'Good massage'\n",
    "bad_msg_mac = make_MAC(MAC_key, bad_message)\n",
    "\n",
    "print(message_mac)\n",
    "print(bad_msg_mac)\n",
    "print(f\"Match = {message_mac == bad_msg_mac}\")"
   ]
  },
  {
   "cell_type": "markdown",
   "metadata": {},
   "source": [
    "[Back to Index](CryptoPalsWalkthroughs_Cobb.ipynb)"
   ]
  }
 ],
 "metadata": {
  "kernelspec": {
   "display_name": "Python 3",
   "language": "python",
   "name": "python3"
  },
  "language_info": {
   "codemirror_mode": {
    "name": "ipython",
    "version": 3
   },
   "file_extension": ".py",
   "mimetype": "text/x-python",
   "name": "python",
   "nbconvert_exporter": "python",
   "pygments_lexer": "ipython3",
   "version": "3.7.4"
  }
 },
 "nbformat": 4,
 "nbformat_minor": 4
}
