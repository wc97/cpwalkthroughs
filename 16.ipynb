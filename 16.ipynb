{
 "cells": [
  {
   "cell_type": "markdown",
   "metadata": {},
   "source": [
    "### Challenge 16: CBC bitflipping attacks\n",
    "\n",
    "[Back to Index](CryptoPalsWalkthroughs_Cobb.ipynb)"
   ]
  },
  {
   "cell_type": "code",
   "execution_count": 10,
   "metadata": {},
   "outputs": [],
   "source": [
    "import cryptopals as cp\n",
    "from numpy.random import randint"
   ]
  },
  {
   "cell_type": "markdown",
   "metadata": {},
   "source": [
    "<div class=\"alert alert-block alert-info\">\n",
    "Generate a random AES key.\n",
    "</div>"
   ]
  },
  {
   "cell_type": "code",
   "execution_count": 9,
   "metadata": {},
   "outputs": [],
   "source": [
    "# ---------UNKNOWN PARAMETERS ------------\n",
    "unknown_key = bytes(list(randint(0, 256, 16)))\n",
    "# ---------END UNKNOWN PARAMETERS---------"
   ]
  },
  {
   "cell_type": "markdown",
   "metadata": {},
   "source": [
    "<div class=\"alert alert-block alert-info\">\n",
    "    \n",
    "Combine your padding code and CBC code to write two functions.\n",
    "\n",
    "The first function should take an arbitrary input string, prepend the string:\n",
    "\n",
    "```\"comment1=cooking%20MCs;userdata=\"```\n",
    "\n",
    ".. and append the string:\n",
    "\n",
    "```\";comment2=%20like%20a%20pound%20of%20bacon\"```\n",
    "\n",
    "The function should quote out the \";\" and \"=\" characters.\n",
    "\n",
    "The function should then pad out the input to the 16-byte AES block length and encrypt it under the random AES key.\n",
    "</div>"
   ]
  },
  {
   "cell_type": "code",
   "execution_count": 15,
   "metadata": {},
   "outputs": [],
   "source": [
    "def Challenge16Part1(data, key):\n",
    "\n",
    "    prepend_str = b'comment1=cooking%20MCs;userdata='\n",
    "    append_str = b';comment2=%20like%20a%20pound%20of%20bacon'\n",
    "\n",
    "    data = data.replace(b';', b'\\\";\\\"')\n",
    "    data = data.replace(b'=', b'\\\"=\\\"')\n",
    "\n",
    "    plaintext = prepend_str + data + append_str\n",
    "    plaintext = cp.PKCS7_pad(plaintext)\n",
    "\n",
    "    ciphertext = cp.AESEncrypt(plaintext, key, mode='CBC')\n",
    "\n",
    "    return(ciphertext)"
   ]
  },
  {
   "cell_type": "markdown",
   "metadata": {},
   "source": [
    "<div class=\"alert alert-block alert-info\">\n",
    "    \n",
    "The second function should decrypt the string and look for the characters \";admin=true;\" (or, equivalently, decrypt, split the string on \";\", convert each resulting string into 2-tuples, and look for the \"admin\" tuple).\n",
    "\n",
    "Return true or false based on whether the string exists.\n",
    "</div>"
   ]
  },
  {
   "cell_type": "code",
   "execution_count": 16,
   "metadata": {},
   "outputs": [],
   "source": [
    "def Challenge16Part2(ciphertext, key):\n",
    "\n",
    "    plaintext = cp.AESDecrypt(ciphertext, key, mode='CBC')\n",
    "    plaintext = cp.strip_PKCS7_pad(plaintext)\n",
    "\n",
    "    if plaintext.find(b';admin=true;') >= 0:\n",
    "        return(True)\n",
    "    else:\n",
    "        return(False)"
   ]
  },
  {
   "cell_type": "markdown",
   "metadata": {},
   "source": [
    "<div class=\"alert alert-block alert-info\">\n",
    "If you've written the first function properly, it should not be possible to provide user input to it that will generate the string the second function is looking for. We'll have to break the crypto to do that.\n",
    "</div>"
   ]
  },
  {
   "cell_type": "code",
   "execution_count": 19,
   "metadata": {},
   "outputs": [
    {
     "name": "stdout",
     "output_type": "stream",
     "text": [
      "*** Try again loser!!!\n"
     ]
    }
   ],
   "source": [
    "# %% Try the trivial solution:\n",
    "\n",
    "payload = b';admin=true'\n",
    "ct = Challenge16Part1(payload, unknown_key)\n",
    "\n",
    "# Check to see if we were successful...\n",
    "\n",
    "if Challenge16Part2(ct, unknown_key) is True:\n",
    "    print('*** Success')\n",
    "else:\n",
    "    print('*** Try again loser!!!')"
   ]
  },
  {
   "cell_type": "markdown",
   "metadata": {},
   "source": [
    "<div class=\"alert alert-block alert-info\">\n",
    "    \n",
    "Instead, modify the ciphertext (without knowledge of the AES key) to accomplish this.\n",
    "\n",
    "You're relying on the fact that in CBC mode, a 1-bit error in a ciphertext block:\n",
    "- Completely scrambles the block the error occurs in\n",
    "- Produces the identical 1-bit error(/edit) in the next ciphertext block.\n",
    "\n",
    "    <div class=\"alert alert-block alert-warning\">\n",
    "        \n",
    "    ### Stop and think for a second.\n",
    "    \n",
    "    Before you implement this attack, answer this question: why does CBC mode have this property?\n",
    "        \n",
    "    </div>\n",
    "    \n",
    "</div>"
   ]
  },
  {
   "cell_type": "markdown",
   "metadata": {},
   "source": [
    "---\n",
    "Ok, as expected, the easy way didn't work.  Let's find out where our payload starts changing the ciphertext, and then come up with a payload that lets us fully control one of the AES ciphertext blocks."
   ]
  },
  {
   "cell_type": "code",
   "execution_count": 25,
   "metadata": {},
   "outputs": [
    {
     "name": "stdout",
     "output_type": "stream",
     "text": [
      "Found edge at: 17\n",
      "Found edge at: 18\n",
      "Found edge at: 19\n"
     ]
    }
   ],
   "source": [
    "payload = b''\n",
    "last_ct = Challenge16Part1(payload, unknown_key)\n",
    "\n",
    "for payload_len in range(1, 20):\n",
    "    payload = b'\\x00' * payload_len\n",
    "    new_ct = Challenge16Part1(payload, unknown_key)\n",
    "    if new_ct[32:48] == last_ct[32:48]:\n",
    "        print(f\"Found edge at: {payload_len}\")\n",
    "    last_ct = new_ct"
   ]
  },
  {
   "cell_type": "markdown",
   "metadata": {},
   "source": [
    "---\n",
    "So...if we make a payload of 17 bytes long, we can completely control Block 2 (base 0) of the ciphertext.  That means I can recover the IV bytes used to encrypt that block by XOR'ing together my all b'\\x00' payload with the ciphertext.  In otherwords, the key stream for that block IS the ciphertext!"
   ]
  },
  {
   "cell_type": "code",
   "execution_count": 43,
   "metadata": {},
   "outputs": [],
   "source": [
    "payload = b'\\x00' * 16\n",
    "ct = Challenge16Part1(payload, unknown_key)\n",
    "block_2_keystream = ct[16:32]\n",
    "\n",
    "# Now just replace the block 1 (base 0) ciphertext with our chosen plaintext,\n",
    "# XORed with the block 2 keystream\n",
    "\n",
    "chosen_pt = b';admin=true;    '\n",
    "chosen_ct = cp.bitwise_xor(chosen_pt, block_2_keystream)\n",
    "ct = ct[:16] + chosen_ct + ct[32:]\n",
    "\n",
    "# %%\n",
    "# Check to see if we were successful...\n",
    "\n",
    "if Challenge16Part2(ct, unknown_key) is True:\n",
    "    print('\\n*** Admin rights granted.\\n')\n",
    "else:\n",
    "    print('Try again loser')\n",
    "\n",
    "# %%\n",
    "# Look inside... this is what the modified plaintext looks like.\n",
    "pt = cp.AESDecrypt(ct, unknown_key, mode='CBC')\n",
    "print(cp.strip_PKCS7_pad(pt))"
   ]
  },
  {
   "cell_type": "markdown",
   "metadata": {},
   "source": [
    "### What did we learn?\n",
    "\n",
    "Back to the two properties of AES-CBC related to 1-bit \"errors\":\n",
    "    \n",
    ">You're relying on the fact that in CBC mode, a 1-bit error in a ciphertext block:\n",
    "\n",
    ">- Completely scrambles the block the error occurs in\n",
    ">- Produces the identical 1-bit error(/edit) in the next ciphertext block.\n",
    "\n",
    "By supplying all '0' plaintext for a block, we were able to learn the portion of the AES IV output corresponding to a targeted block.  Once that's known, it's possible to control the plaintext in that block by manipulating the ciphertext of the prior block.\n",
    "\n",
    "![CBC Decryption - Annotated from Wikipedia](CBCDecrypt.png)\n",
    "\n",
    "In the image above, we're modifying CT Block 1.  This allows us to \"edit\" the plaintext in PT Block 2 (note:  CT Block 1's output is scrambled since our edit causes the AES output to change for that block). "
   ]
  },
  {
   "cell_type": "markdown",
   "metadata": {},
   "source": [
    "[Back to Index](CryptoPalsWalkthroughs_Cobb.ipynb)"
   ]
  }
 ],
 "metadata": {
  "kernelspec": {
   "display_name": "Python 3",
   "language": "python",
   "name": "python3"
  },
  "language_info": {
   "codemirror_mode": {
    "name": "ipython",
    "version": 3
   },
   "file_extension": ".py",
   "mimetype": "text/x-python",
   "name": "python",
   "nbconvert_exporter": "python",
   "pygments_lexer": "ipython3",
   "version": "3.7.4"
  }
 },
 "nbformat": 4,
 "nbformat_minor": 4
}
