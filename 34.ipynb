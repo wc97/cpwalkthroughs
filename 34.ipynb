{
 "cells": [
  {
   "cell_type": "markdown",
   "metadata": {},
   "source": [
    "### Challenge 34: Implement Diffie-Hellman\n",
    "\n",
    "[Back to Index](CryptoPalsWalkthroughs_Cobb.ipynb)"
   ]
  },
  {
   "cell_type": "markdown",
   "metadata": {},
   "source": [
    "<div class=\"alert alert-block alert-info\">\n",
    "\n",
    "Implement a MITM key-fixing attack on Diffie-Hellman with parameter injection\n",
    "</div>"
   ]
  },
  {
   "cell_type": "markdown",
   "metadata": {},
   "source": [
    "<div class=\"alert alert-block alert-info\">\n",
    "\n",
    "Use the code you just worked out to build a protocol and an \"echo\" bot. You don't actually have to do the network part of this if you don't want; just simulate that. The protocol is:\n",
    "\n",
    "```A->B```\n",
    "Send \"p\", \"g\", \"A\"\n",
    "\n",
    "```B->A```\n",
    "Send \"B\"\n",
    "\n",
    "```A->B```\n",
    "Send AES-CBC(SHA1(s)[0:16], iv=random(16), msg) + iv\n",
    "\n",
    "```B->A```\n",
    "Send AES-CBC(SHA1(s)[0:16], iv=random(16), A's msg) + iv\n",
    "\n",
    "(In other words, derive an AES key from DH with SHA1, use it in both directions, and do CBC with random IVs appended or prepended to the message).\n",
    "    \n",
    "</div>"
   ]
  },
  {
   "cell_type": "code",
   "execution_count": 36,
   "metadata": {},
   "outputs": [],
   "source": [
    "import numpy as np\n",
    "import cryptopals as cp\n",
    "import sha1\n",
    "from Crypto import Random"
   ]
  },
  {
   "cell_type": "markdown",
   "metadata": {},
   "source": [
    "Alice creates \"A\" and sends it to Bob.\n",
    "\n",
    "```A->B```\n",
    "Send \"p\", \"g\", \"A\""
   ]
  },
  {
   "cell_type": "code",
   "execution_count": 37,
   "metadata": {},
   "outputs": [],
   "source": [
    "p = 0xffffffffffffffffc90fdaa22168c234c4c6628b80dc1cd129024e088a67cc74020bbea63b139b22514a08798e3404ddef9519b3cd3a431b302b0a6df25f14374fe1356d6d51c245e485b576625e7ec6f44c42e9a637ed6b0bff5cb6f406b7edee386bfb5a899fa5ae9f24117c4b1fe649286651ece45b3dc2007cb8a163bf0598da48361c55d39a69163fa8fd24cf5f83655d23dca3ad961c62f356208552bb9ed529077096966d670c354e4abc9804f1746c08ca237327ffffffffffffffff\n",
    "g = 2"
   ]
  },
  {
   "cell_type": "code",
   "execution_count": 38,
   "metadata": {},
   "outputs": [],
   "source": [
    "# Alice's private key is 'a'\n",
    "a = np.random.randint(0, 2**31) % p\n",
    "\n",
    "# Alice's public key is 'A'\n",
    "A = pow(g, a, p)"
   ]
  },
  {
   "cell_type": "markdown",
   "metadata": {},
   "source": [
    "Bob computes his own public key ```B``` using the parameters (```p``` and ```g```) supplied by Alice and sends ```B``` back to her.  I'm not implementing the transfer portion of the protocol...just pretend."
   ]
  },
  {
   "cell_type": "code",
   "execution_count": 39,
   "metadata": {},
   "outputs": [],
   "source": [
    "# Bob's private key is 'b'\n",
    "b = np.random.randint(0, 2**31) % p\n",
    "\n",
    "# Bob's public key is 'B'\n",
    "B = pow(g, b, p)"
   ]
  },
  {
   "cell_type": "markdown",
   "metadata": {},
   "source": [
    "Bob computes a shared secret using Alice's public key ```A```, his private key ```b```, and the public modulus ```p```:"
   ]
  },
  {
   "cell_type": "code",
   "execution_count": 40,
   "metadata": {},
   "outputs": [],
   "source": [
    "sA = pow(A, b, p)"
   ]
  },
  {
   "cell_type": "markdown",
   "metadata": {},
   "source": [
    "Now, Bob:\n",
    "    \n",
    "1. derives a session key using the shared secret ```sA``` and a random IV.  \n",
    "2. Encrypts her message using this key\n",
    "3. Sends Alice the Encrypted message and IV he used.\n",
    "\n",
    "```AES-CBC(SHA1(s)[0:16], iv=random(16), msg) + iv```"
   ]
  },
  {
   "cell_type": "code",
   "execution_count": 43,
   "metadata": {},
   "outputs": [],
   "source": [
    "sA_hex_str = bytes.fromhex(hex(sA)[2:])\n",
    "\n",
    "key_Bob = sha1.SHA1(sA_hex_str).finish()[0:16]\n",
    "IV = Random.get_random_bytes(16)\n",
    "\n",
    "secret_msg = cp.PKCS7_pad(b'What ever you do...don\\'t tell Eve!')\n",
    "\n",
    "ciphertext = cp.AESEncrypt(secret_msg, key_Bob, 'CBC', IV)\n",
    "data_sent = ciphertext + IV"
   ]
  },
  {
   "cell_type": "markdown",
   "metadata": {},
   "source": [
    "Alice receive's the encrypted message and IV from Bob and:\n",
    "\n",
    "1. Derives the session key using the shared secret ```sA``` she computes, along with the IV provided by Bob.\n",
    "2. Decrypts Bob's message "
   ]
  },
  {
   "cell_type": "code",
   "execution_count": 24,
   "metadata": {},
   "outputs": [
    {
     "name": "stdout",
     "output_type": "stream",
     "text": [
      "What ever you do...don't tell Eve!\u000e\u000e\u000e\u000e\u000e\u000e\u000e\u000e\u000e\u000e\u000e\u000e\u000e\u000e\u0010\u0010\u0010\u0010\u0010\u0010\u0010\u0010\u0010\u0010\u0010\u0010\u0010\u0010\u0010\u0010\n"
     ]
    }
   ],
   "source": [
    "# Slight simplication\n",
    "data_received = data_sent\n",
    "\n",
    "sB = pow(B, a, p)\n",
    "sB_hex_str = bytes.fromhex(hex(sB)[2:])\n",
    "key_Alice = sha1.SHA1(sB_hex_str).finish()[0:16]\n",
    "IV_received = data_received[-16:]\n",
    "ciphertext_Alice = data_received[0:-16]\n",
    "plaintext = cp.AESDecrypt(ciphertext_Alice, key_Alice, 'CBC', IV_received)\n",
    "                          \n",
    "print(plaintext.decode())"
   ]
  },
  {
   "cell_type": "markdown",
   "metadata": {},
   "source": [
    "<div class=\"alert alert-block alert-info\">\n",
    "    \n",
    "Now implement the following MITM attack:\n",
    "\n",
    "```A->M```\n",
    "Send \"p\", \"g\", \"A\"\n",
    "\n",
    "```M->B```\n",
    "Send \"p\", \"g\", \"p\"\n",
    "    \n",
    "</div>"
   ]
  },
  {
   "cell_type": "code",
   "execution_count": 25,
   "metadata": {},
   "outputs": [],
   "source": [
    "# Alice's private key is 'a'\n",
    "a = np.random.randint(0, 2**31) % p\n",
    "\n",
    "# Alice's public key is 'A'\n",
    "A = pow(g, a, p)"
   ]
  },
  {
   "cell_type": "markdown",
   "metadata": {},
   "source": [
    "Eve sends Bob ```p```, ```g```, ```p``` \n",
    "Bob computes a shared secret using ```p``` instead of Alice's real public key, ```A```.\n",
    "\n",
    "Eve does the same thing to Alice after receiving Bob's public key ```B```.  \n",
    "\n",
    "<div class=\"alert alert-block alert-info\">\n",
    "    \n",
    "```B->M```\n",
    "Send \"B\"\n",
    "\n",
    "```M->A```\n",
    "Send \"p\"\n",
    "</div>"
   ]
  },
  {
   "cell_type": "code",
   "execution_count": 46,
   "metadata": {},
   "outputs": [],
   "source": [
    "sA_m = pow(p, b, p)\n",
    "sB_m = pow(p, a, p)"
   ]
  },
  {
   "cell_type": "markdown",
   "metadata": {},
   "source": [
    "By injecting the public modulus in place of the public key, Eve has forced the shared secret values to be **ZERO**."
   ]
  },
  {
   "cell_type": "markdown",
   "metadata": {},
   "source": [
    "<div class=\"alert alert-block alert-info\">\n",
    "\n",
    "```A->M```\n",
    "Send AES-CBC(SHA1(s)[0:16], iv=random(16), msg) + iv\n",
    "    \n",
    "```M->B```\n",
    "Relay that to B\n",
    "\n",
    "```B->M```\n",
    "Send AES-CBC(SHA1(s)[0:16], iv=random(16), A's msg) + iv\n",
    "\n",
    "```M->A```\n",
    "Relay that to A\n",
    "    \n",
    "</div>"
   ]
  },
  {
   "cell_type": "markdown",
   "metadata": {},
   "source": [
    "Eve obviously has access to both ends.  She could have replaced the public keys with something more believable and decrypted / re-encrypted data going both directions.\n",
    "\n",
    "Just to prove it works..."
   ]
  },
  {
   "cell_type": "code",
   "execution_count": 48,
   "metadata": {},
   "outputs": [
    {
     "name": "stdout",
     "output_type": "stream",
     "text": [
      "I told you not to tell Eve!\u0005\u0005\u0005\u0005\u0005\u0010\u0010\u0010\u0010\u0010\u0010\u0010\u0010\u0010\u0010\u0010\u0010\u0010\u0010\u0010\u0010\n"
     ]
    }
   ],
   "source": [
    "sA_m_hex_str = b'\\x00'\n",
    "key_Bob = sha1.SHA1(sA_m_hex_str).finish()[0:16]\n",
    "IV = Random.get_random_bytes(16)\n",
    "secret_msg = cp.PKCS7_pad(b'I told you not to tell Eve!')\n",
    "ciphertext = cp.AESEncrypt(secret_msg, key_Bob, 'CBC', IV)\n",
    "data_sent = ciphertext + IV\n",
    "\n",
    "data_received = data_sent\n",
    "sB_m_hex_str = b'\\x00'\n",
    "key_Alice = sha1.SHA1(sB_m_hex_str).finish()[0:16]\n",
    "IV_received = data_received[-16:]\n",
    "ciphertext_Alice = data_received[0:-16]\n",
    "plaintext = cp.AESDecrypt(ciphertext_Alice, key_Alice, 'CBC', IV_received)\n",
    "                          \n",
    "print(plaintext.decode())"
   ]
  },
  {
   "cell_type": "markdown",
   "metadata": {},
   "source": [
    "<div class=\"alert alert-block alert-info\">\n",
    "    \n",
    "M should be able to decrypt the messages. \"A\" and \"B\" in the protocol --- the public keys, over the wire --- have been swapped out with \"p\". Do the DH math on this quickly to see what that does to the predictability of the key.\n",
    "\n",
    "Decrypt the messages from M's vantage point as they go by.\n",
    "\n",
    "Note that you don't actually have to inject bogus parameters to make this attack work; you could just generate Ma, MA, Mb, and MB as valid DH parameters to do a generic MITM attack. But do the parameter injection attack; it's going to come up again.\n",
    "\n",
    "</div>"
   ]
  },
  {
   "cell_type": "markdown",
   "metadata": {},
   "source": [
    "[Back to Index](CryptoPalsWalkthroughs_Cobb.ipynb)"
   ]
  }
 ],
 "metadata": {
  "kernelspec": {
   "display_name": "Python 3",
   "language": "python",
   "name": "python3"
  },
  "language_info": {
   "codemirror_mode": {
    "name": "ipython",
    "version": 3
   },
   "file_extension": ".py",
   "mimetype": "text/x-python",
   "name": "python",
   "nbconvert_exporter": "python",
   "pygments_lexer": "ipython3",
   "version": "3.7.4"
  }
 },
 "nbformat": 4,
 "nbformat_minor": 4
}
