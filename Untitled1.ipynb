{
 "cells": [
  {
   "cell_type": "code",
   "execution_count": null,
   "metadata": {},
   "outputs": [],
   "source": [
    "%matplotlib inline\n",
    "\n",
    "import numpy as np\n",
    "import base64\n",
    "import matplotlib.pyplot as plt\n",
    "from Crypto.Cipher import ARC4\n",
    "from Crypto import Random\n",
    "\n"
   ]
  },
  {
   "cell_type": "code",
   "execution_count": null,
   "metadata": {},
   "outputs": [],
   "source": [
    "# ****** UNKNOWN PARAMETERS\n",
    "secret_cookie_b64 = 'QkUgU1VSRSBUTyBEUklOSyBZT1VSIE9WQUxUSU5F'\n",
    "secret_cookie = base64.b64decode(secret_cookie_b64)\n",
    "# ****** UNKNOWN PARAMETERS\n",
    "\n",
    "def Challenge56_Oracle(request):\n",
    "    \n",
    "    key = Random.get_random_bytes(16)\n",
    "    cipher = ARC4.new(key)\n",
    "    return(cipher.encrypt(request + secret_cookie))"
   ]
  },
  {
   "cell_type": "code",
   "execution_count": null,
   "metadata": {},
   "outputs": [],
   "source": [
    "Num_Iterations = 2**26\n",
    "\n",
    "# See what length is if we provide a null \"request\"\n",
    "secret_length = len(Challenge56_Oracle(b''))\n",
    "\n",
    "map15 = np.zeros((secret_length, 256))\n",
    "map31 = np.zeros((secret_length, 256))\n",
    "map47 = np.zeros((secret_length, 256))"
   ]
  },
  {
   "cell_type": "code",
   "execution_count": null,
   "metadata": {},
   "outputs": [],
   "source": []
  }
 ],
 "metadata": {
  "kernelspec": {
   "display_name": "Python 3",
   "language": "python",
   "name": "python3"
  },
  "language_info": {
   "codemirror_mode": {
    "name": "ipython",
    "version": 3
   },
   "file_extension": ".py",
   "mimetype": "text/x-python",
   "name": "python",
   "nbconvert_exporter": "python",
   "pygments_lexer": "ipython3",
   "version": "3.7.6"
  }
 },
 "nbformat": 4,
 "nbformat_minor": 4
}
