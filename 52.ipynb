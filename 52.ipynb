{
 "cells": [
  {
   "cell_type": "markdown",
   "metadata": {},
   "source": [
    "#### Challenge 52: Iterated Hash Function Multicollisions\n",
    "\n",
    "[Back to Index](CryptoPalsWalkthroughs_Cobb.ipynb)"
   ]
  },
  {
   "cell_type": "code",
   "execution_count": 1,
   "metadata": {},
   "outputs": [],
   "source": [
    "from Crypto.Random import random\n",
    "from Crypto.Cipher import AES\n",
    "from Crypto.Cipher import Blowfish\n",
    "import cryptopals as cp\n",
    "import pdb"
   ]
  },
  {
   "cell_type": "markdown",
   "metadata": {},
   "source": [
    "<div class=\"alert alert-block alert-info\">   \n",
    "\n",
    "While we're on the topic of hash functions...\n",
    "\n",
    "The major feature you want in your hash function is collision-resistance. That is, it should be hard to generate collisions, and it should be really hard to generate a collision for a given hash (aka preimage).\n",
    "\n",
    "Iterated hash functions have a problem: the effort to generate lots of collisions scales sublinearly.\n",
    "\n",
    "What's an iterated hash function? For all intents and purposes, we're talking about the Merkle-Damgard construction. It looks like this:\n",
    "\n",
    "```\n",
    "function MD(M, H, C):\n",
    "  for M[i] in pad(M):\n",
    "    H := C(M[i], H)\n",
    "  return H\n",
    "```   \n",
    "<br>    \n",
    "    \n",
    "For message `M`, initial state `H`, and compression function `C`.\n",
    "\n",
    "This should look really familiar, because SHA-1 and MD4 are both in this category. What's cool is you can use this formula to build a makeshift hash function out of some spare crypto primitives you have lying around (e.g. `C = AES-128`).\n",
    "\n",
    "Back on task: the cost of collisions scales sublinearly. What does that mean? If it's feasible to find one collision, it's probably feasible to find a lot.\n",
    "\n",
    "How? For a given state `H`, find two blocks that collide. Now take the resulting hash from this collision as your new H and repeat. Recognize that with each iteration you can actually double your collisions by subbing in either of the two blocks for that slot.\n",
    "\n",
    "This means that if finding two colliding messages takes `2^(b/2)` work (where `b` is the bit-size of the hash function), then finding `2^n` colliding messages only takes `n*2^(b/2)` work.\n",
    "\n",
    "Let's test it. First, build your own MD hash function. We're going to be generating a LOT of collisions, so don't knock yourself out. In fact, go out of your way to make it bad. Here's one way:\n",
    "\n",
    "1. Take a fast block cipher and use it as `C`.\n",
    "2. Make `H` pretty small. I won't look down on you if it's only 16 bits. Pick some initial `H`.\n",
    "3. `H` is going to be the input key and the output block from `C`. That means you'll need to pad it on the way in and drop bits on the way out.\n",
    "    \n",
    "</div>"
   ]
  },
  {
   "cell_type": "code",
   "execution_count": 2,
   "metadata": {},
   "outputs": [],
   "source": [
    "def zero_pad(m, blockSize=16):\n",
    "    \n",
    "    r = len(m) % blockSize\n",
    "    \n",
    "    if r != 0:\n",
    "        pad_length = 16 - r\n",
    "    else:\n",
    "        pad_length = 0\n",
    "    \n",
    "    padded_m = m + b'\\x00'*pad_length\n",
    "    \n",
    "    return(padded_m)\n",
    "\n",
    "def MD(M, H, blockSize=2):\n",
    "    \n",
    "    key = zero_pad(H[:blockSize])\n",
    "    myAES = AES.new(key, AES.MODE_ECB)\n",
    "    \n",
    "    Blocks = [M[ii:ii+blockSize] for ii in range(0, len(M), blockSize)]\n",
    "    \n",
    "    for block in Blocks:\n",
    "        \n",
    "        H = myAES.encrypt(zero_pad(block))[0:blockSize]\n",
    "        myAES = AES.new(zero_pad(H), AES.MODE_ECB)\n",
    "        \n",
    "        #H = myAES.encrypt(cp.PKCS7_pad(block))[0:blockSize]\n",
    "        #myAES = AES.new(zero_pad(H), AES.MODE_ECB)\n",
    "\n",
    "    return(H[0:blockSize])\n",
    " "
   ]
  },
  {
   "cell_type": "code",
   "execution_count": 3,
   "metadata": {},
   "outputs": [
    {
     "name": "stdout",
     "output_type": "stream",
     "text": [
      "b'|\\xc8'\n"
     ]
    }
   ],
   "source": [
    "m = b'Complexity is the worst enemy of security, and our systems are getting more complex all the time. [Bruce Schneier]'\n",
    "h = b'AA'\n",
    "\n",
    "print(MD(m, h))"
   ]
  },
  {
   "cell_type": "markdown",
   "metadata": {},
   "source": [
    "<div class=\"alert alert-block alert-info\">   \n",
    "\n",
    "Now write the function `f(n)` that will generate `2^n` collisions in this hash function.\n",
    "    \n",
    "> How? For a given state `H`, find two blocks that collide. Now take the resulting hash from this collision as your new H and repeat. Recognize that with each iteration you can actually double your collisions by subbing in either of the two blocks for that slot.\n",
    "    \n",
    "</div>"
   ]
  },
  {
   "cell_type": "code",
   "execution_count": 4,
   "metadata": {},
   "outputs": [],
   "source": [
    "def find_collision(initial_state, block_size=2):\n",
    "    collision_list = []\n",
    "    hash_list = {}\n",
    "    max_state = 2**(8*block_size)\n",
    "    for ii in range(max_state):\n",
    "        \n",
    "        block = ii.to_bytes(block_size, 'little')\n",
    "        digest = MD(block, initial_state)\n",
    "        \n",
    "        if digest in hash_list:\n",
    "            collision_list.append(block)\n",
    "            collision_list.append(hash_list[digest])\n",
    "            return(collision_list, digest)\n",
    "        else:\n",
    "            hash_list[digest] = block\n",
    "            \n",
    "    return(None)"
   ]
  },
  {
   "cell_type": "code",
   "execution_count": 5,
   "metadata": {},
   "outputs": [],
   "source": [
    "def extend_collision_list(collision_list, last_h):\n",
    "    \n",
    "    collision, next_h = find_collision(last_h)\n",
    "    new_collision_list = []\n",
    "    \n",
    "    for c in collision_list:\n",
    "\n",
    "        new_collision_list.append(c + collision[0])\n",
    "        new_collision_list.append(c + collision[1])\n",
    "\n",
    "    return(new_collision_list, next_h)\n",
    "    "
   ]
  },
  {
   "cell_type": "code",
   "execution_count": 6,
   "metadata": {},
   "outputs": [
    {
     "name": "stdout",
     "output_type": "stream",
     "text": [
      "Extended to 4 collisions\n",
      "Extended to 8 collisions\n",
      "Extended to 16 collisions\n",
      "Extended to 32 collisions\n",
      "Extended to 64 collisions\n",
      "Extended to 128 collisions\n",
      "Extended to 256 collisions\n",
      "Extended to 512 collisions\n",
      "Extended to 1024 collisions\n",
      "Extended to 2048 collisions\n",
      "Extended to 4096 collisions\n",
      "Extended to 8192 collisions\n",
      "All collisions validated\n"
     ]
    }
   ],
   "source": [
    "h = b'\\xf8\\xf7'\n",
    "collision_list, next_h = find_collision(h)\n",
    "\n",
    "N = 12\n",
    "for ii in range(N):\n",
    "    collision_list, next_h = extend_collision_list(collision_list, next_h)\n",
    "    print(f\"Extended to {len(collision_list)} collisions\")\n",
    "\n",
    "# Verify that all of the collisions are valid\n",
    "for ii in range(1, len(collision_list)):\n",
    "    assert(MD(collision_list[ii], h) == next_h)\n",
    "    \n",
    "print(\"All collisions validated\")"
   ]
  },
  {
   "cell_type": "markdown",
   "metadata": {},
   "source": [
    "<div class=\"alert alert-block alert-info\">   \n",
    "\n",
    "Why does this matter? Well, one reason is that people have tried to strengthen hash functions by cascading them together. Here's what I mean:\n",
    "\n",
    "1. Take hash functions `f` and `g`.\n",
    "2. Build `h` such that `h(x) = f(x) || g(x)`.\n",
    "\n",
    "The idea is that if collisions in `f` cost `2^(b1/2)` and collisions in `g` cost `2^(b2/2)`, collisions in h should come to the princely sum of `2^((b1+b2)/2)`.\n",
    "\n",
    "But now we know that's not true!\n",
    "\n",
    "Here's the idea:\n",
    "\n",
    "1. Pick the \"cheaper\" hash function. Suppose it's `f`.\n",
    "2. Generate `2^(b2/2)` colliding messages in `f`.\n",
    "3. There's a good chance your message pool has a collision in `g`.\n",
    "4. Find it.\n",
    "\n",
    "And if it doesn't, keep generating cheap collisions until you find it.\n",
    "\n",
    "Prove this out by building a more expensive (but not too expensive) hash function to pair with the one you just used. Find a pair of messages that collide under both functions. Measure the total number of calls to the collision function.\n",
    "\n",
    "</div>\n",
    "\n",
    "#### Resources:  \n",
    "\n",
    "Paper:  [_Multicollisions in Iterated Hash Functions Application to Cascaded Constructions_](https://link.springer.com/content/pdf/10.1007/978-3-540-28628-8_19.pdf) by Joux"
   ]
  },
  {
   "cell_type": "code",
   "execution_count": 13,
   "metadata": {},
   "outputs": [],
   "source": [
    "WEAK_SIZE = 2     # 16-bit default\n",
    "STRONGER_SIZE = 4 # 32-bit default\n",
    "\n",
    "def f(m, s):\n",
    "    \n",
    "    return(MD(m, s, WEAK_SIZE))\n",
    "\n",
    "def g(m, s):\n",
    "    \n",
    "    return(MD(m, s, STRONGER_SIZE))\n",
    "\n",
    "def H(m, s):\n",
    "    \n",
    "    return(f(m, s) + g(m, s))"
   ]
  },
  {
   "cell_type": "markdown",
   "metadata": {},
   "source": [
    "---\n",
    "\n",
    "I have `b1 = 16` bits and `b2 = 24` bits.\n",
    "\n",
    "2^((b1+b2)/2) would be 2^((16 + 24)/2) = 2^(20)\n",
    "\n",
    "Lets start by generating 2^(16/2) = 2^8 = 256 colliding messages in f:"
   ]
  },
  {
   "cell_type": "code",
   "execution_count": 14,
   "metadata": {},
   "outputs": [],
   "source": [
    "def check_for_g_collision(collision_list, initial_state):\n",
    " \n",
    "    hash_list = {}\n",
    "    for c in collision_list:\n",
    "        digest = g(c, initial_state)\n",
    "        if digest in hash_list:\n",
    "            return[c, hash_list[digest]]\n",
    "        else:\n",
    "            hash_list[digest] = c\n",
    "            \n",
    "    return(None)"
   ]
  },
  {
   "cell_type": "code",
   "execution_count": 15,
   "metadata": {},
   "outputs": [
    {
     "name": "stdout",
     "output_type": "stream",
     "text": [
      "Extended to 4 collisions\n",
      "Extended to 8 collisions\n",
      "Extended to 16 collisions\n",
      "Extended to 32 collisions\n",
      "Extended to 64 collisions\n",
      "Extended to 128 collisions\n",
      "Extended to 256 collisions\n",
      "Extended to 512 collisions\n",
      "Extended to 1024 collisions\n",
      "Extended to 2048 collisions\n",
      "Extended to 4096 collisions\n",
      "Extended to 8192 collisions\n",
      "Extended to 16384 collisions\n",
      "Extended to 32768 collisions\n",
      "Extended to 65536 collisions\n",
      "Extended to 131072 collisions\n",
      "\n",
      "Multi-collision found for:\n",
      "1b01d20092018a007500fc01ed002b02210038003b01d40004007a00bb00ed00dd01\n",
      "1b01d200920159013d00100214020800f40038003b01d40004006900d901ed00dd01\n",
      "\n",
      "4052\n",
      "4052\n",
      "\n",
      "961e30f7\n",
      "961e30f7\n"
     ]
    }
   ],
   "source": [
    "multi_collision_found = False\n",
    "initial_state = random.Random.get_random_bytes(3)\n",
    "initial_N = int(STRONGER_SIZE*8 / 2)\n",
    "max_N = initial_N + 4\n",
    "\n",
    "collision_list, next_state = find_collision(initial_state)\n",
    "\n",
    "N = initial_N\n",
    "for ii in range(N):\n",
    "    collision_list, next_state = extend_collision_list(collision_list, next_state)\n",
    "    print(f\"Extended to {len(collision_list)} collisions\")\n",
    "    \n",
    "multi_collision_found = False\n",
    "g_check = check_for_g_collision(collision_list, initial_state)\n",
    "while (g_check == None) and (N < max_N):\n",
    "    \n",
    "    N += 1\n",
    "    print(f\"Extending to: {2**N}\")\n",
    "    collision_list, next_state = extend_collision_list(collision_list, next_state)\n",
    "    g_check = check_for_g_collision(collision_list, initial_state)\n",
    "    \n",
    "    \n",
    "print()\n",
    "print(f\"Multi-collision found for:\\n{g_check[0].hex()}\\n{g_check[1].hex()}\")\n",
    "print()\n",
    "print(f(g_check[0], initial_state).hex())\n",
    "print(f(g_check[1], initial_state).hex())\n",
    "print()\n",
    "print(g(g_check[0], initial_state).hex())\n",
    "print(g(g_check[1], initial_state).hex())\n"
   ]
  },
  {
   "cell_type": "markdown",
   "metadata": {
    "slideshow": {
     "slide_type": "slide"
    }
   },
   "source": [
    "[Back to Index](CryptoPalsWalkthroughs_Cobb.ipynb)"
   ]
  },
  {
   "cell_type": "code",
   "execution_count": null,
   "metadata": {},
   "outputs": [],
   "source": []
  }
 ],
 "metadata": {
  "kernelspec": {
   "display_name": "Python 3",
   "language": "python",
   "name": "python3"
  },
  "language_info": {
   "codemirror_mode": {
    "name": "ipython",
    "version": 3
   },
   "file_extension": ".py",
   "mimetype": "text/x-python",
   "name": "python",
   "nbconvert_exporter": "python",
   "pygments_lexer": "ipython3",
   "version": "3.7.6"
  }
 },
 "nbformat": 4,
 "nbformat_minor": 4
}
