{
 "cells": [
  {
   "cell_type": "markdown",
   "metadata": {},
   "source": [
    "### Challenge 5:  Implement repeating-key XOR\n",
    "\n",
    "<div class=\"alert alert-block alert-info\">\n",
    "    \n",
    "Here is the opening stanza of an important work of the English language:\n",
    "\n",
    "```Burning 'em, if you ain't quick and nimble\\n\n",
    "I go crazy when I hear a cymbal```\n",
    "\n",
    "Encrypt it, under the key \"ICE\", using repeating-key XOR.\n",
    "\n",
    "In repeating-key XOR, you'll sequentially apply each byte of the key; the first byte of plaintext will be XOR'd against I, the next C, the next E, then I again for the 4th byte, and so on.\n",
    "\n",
    "It should come out to:\n",
    "\n",
    "```0b3637272a2b2e63622c2e69692a23693a2a3c6324202d623d63343c2a26226324272765272\n",
    "a282b2f20430a652e2c652a3124333a653e2b2027630c692b20283165286326302e27282f```\n",
    "\n",
    "Encrypt a bunch of stuff using your repeating-key XOR function. Encrypt your mail. Encrypt your password file. Your .sig file. Get a feel for it. I promise, we aren't wasting your time with this.\n",
    "\n",
    "</div>\n",
    "    \n",
    "[Back to Index](CryptoPalsWalkthroughs_Cobb.ipynb)"
   ]
  },
  {
   "cell_type": "code",
   "execution_count": 3,
   "metadata": {},
   "outputs": [],
   "source": [
    "import cryptopals as cp"
   ]
  },
  {
   "cell_type": "code",
   "execution_count": 4,
   "metadata": {},
   "outputs": [],
   "source": [
    "def encrypt_repeating_key_XOR(plaintext, key):\n",
    "    \n",
    "    \"\"\" \n",
    "    Implements the colution to Set 1, Problem 5\n",
    "    \n",
    "    Encrypts plaintext by XOR'ing it with key repeated to match length of the\n",
    "    plaintext.\n",
    "    \"\"\"\n",
    "\n",
    "    keystream = (key*round(len(plaintext)/len(key)))[:len(plaintext)+1]\n",
    "    ciphertext = cp.bitwise_xor(plaintext, keystream)\n",
    "\n",
    "    return(ciphertext)"
   ]
  },
  {
   "cell_type": "code",
   "execution_count": 5,
   "metadata": {},
   "outputs": [
    {
     "name": "stdout",
     "output_type": "stream",
     "text": [
      "Test 5 Passed\n"
     ]
    }
   ],
   "source": [
    "key = b\"ICE\"\n",
    "plaintext = b\"Burning 'em, if you ain't quick and nimble\\nI go crazy when I hear a cymbal\"\n",
    "ciphertext = encrypt_repeating_key_XOR(plaintext, key)\n",
    "\n",
    "good_answer = \"0b3637272a2b2e63622c2e69692a23693a2a3c6324202d623d63343c2a26226324272765272a282b2f20430a652e2c652a3124333a653e2b2027630c692b20283165286326302e27282f\"\n",
    "\n",
    "if (ciphertext.hex() == good_answer):\n",
    "    print('Test 5 Passed')\n",
    "else:\n",
    "    print('Test 5 Failed')"
   ]
  },
  {
   "cell_type": "markdown",
   "metadata": {},
   "source": [
    "[Back to Index](CryptoPalsWalkthroughs_Cobb.ipynb)"
   ]
  },
  {
   "cell_type": "code",
   "execution_count": null,
   "metadata": {},
   "outputs": [],
   "source": []
  }
 ],
 "metadata": {
  "kernelspec": {
   "display_name": "Python 3",
   "language": "python",
   "name": "python3"
  },
  "language_info": {
   "codemirror_mode": {
    "name": "ipython",
    "version": 3
   },
   "file_extension": ".py",
   "mimetype": "text/x-python",
   "name": "python",
   "nbconvert_exporter": "python",
   "pygments_lexer": "ipython3",
   "version": "3.7.4"
  }
 },
 "nbformat": 4,
 "nbformat_minor": 4
}
