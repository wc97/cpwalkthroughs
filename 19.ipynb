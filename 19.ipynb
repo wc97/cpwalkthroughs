{
 "cells": [
  {
   "cell_type": "markdown",
   "metadata": {},
   "source": [
    "### Challenge 19: Break fixed-nonce CTR mode using substitutions\n",
    "\n",
    "[Back to Index](CryptoPalsWalkthroughs_Cobb.ipynb)"
   ]
  },
  {
   "cell_type": "code",
   "execution_count": 1,
   "metadata": {},
   "outputs": [],
   "source": [
    "# %% Initialize\n",
    "\n",
    "import cryptopals as cp\n",
    "import base64 as b64\n",
    "from numpy.random import randint\n",
    "import numpy as np"
   ]
  },
  {
   "cell_type": "markdown",
   "metadata": {},
   "source": [
    "<div class=\"alert alert-block alert-info\">\n",
    "\n",
    "Take your CTR encrypt/decrypt function and fix its nonce value to 0. Generate a random AES key.\n",
    "\n",
    "</div>"
   ]
  },
  {
   "cell_type": "code",
   "execution_count": 2,
   "metadata": {},
   "outputs": [],
   "source": [
    "key = bytes(list(randint(0, 256, 16)))\n",
    "nonce = [0]*8"
   ]
  },
  {
   "cell_type": "markdown",
   "metadata": {},
   "source": [
    "<div class=\"alert alert-block alert-info\">\n",
    "    \n",
    "In successive encryptions (not in one big running CTR stream), encrypt each line of the base64 decodes of the following, producing multiple independent ciphertexts:\n",
    "\n",
    "```\n",
    "SSBoYXZlIG1ldCB0aGVtIGF0IGNsb3NlIG9mIGRheQ==\n",
    "Q29taW5nIHdpdGggdml2aWQgZmFjZXM=\n",
    "RnJvbSBjb3VudGVyIG9yIGRlc2sgYW1vbmcgZ3JleQ==\n",
    "RWlnaHRlZW50aC1jZW50dXJ5IGhvdXNlcy4=\n",
    "SSBoYXZlIHBhc3NlZCB3aXRoIGEgbm9kIG9mIHRoZSBoZWFk\n",
    "T3IgcG9saXRlIG1lYW5pbmdsZXNzIHdvcmRzLA==\n",
    "T3IgaGF2ZSBsaW5nZXJlZCBhd2hpbGUgYW5kIHNhaWQ=\n",
    "UG9saXRlIG1lYW5pbmdsZXNzIHdvcmRzLA==\n",
    "QW5kIHRob3VnaHQgYmVmb3JlIEkgaGFkIGRvbmU=\n",
    "T2YgYSBtb2NraW5nIHRhbGUgb3IgYSBnaWJl\n",
    "VG8gcGxlYXNlIGEgY29tcGFuaW9u\n",
    "QXJvdW5kIHRoZSBmaXJlIGF0IHRoZSBjbHViLA==\n",
    "QmVpbmcgY2VydGFpbiB0aGF0IHRoZXkgYW5kIEk=\n",
    "QnV0IGxpdmVkIHdoZXJlIG1vdGxleSBpcyB3b3JuOg==\n",
    "QWxsIGNoYW5nZWQsIGNoYW5nZWQgdXR0ZXJseTo=\n",
    "QSB0ZXJyaWJsZSBiZWF1dHkgaXMgYm9ybi4=\n",
    "VGhhdCB3b21hbidzIGRheXMgd2VyZSBzcGVudA==\n",
    "SW4gaWdub3JhbnQgZ29vZCB3aWxsLA==\n",
    "SGVyIG5pZ2h0cyBpbiBhcmd1bWVudA==\n",
    "VW50aWwgaGVyIHZvaWNlIGdyZXcgc2hyaWxsLg==\n",
    "V2hhdCB2b2ljZSBtb3JlIHN3ZWV0IHRoYW4gaGVycw==\n",
    "V2hlbiB5b3VuZyBhbmQgYmVhdXRpZnVsLA==\n",
    "U2hlIHJvZGUgdG8gaGFycmllcnM/\n",
    "VGhpcyBtYW4gaGFkIGtlcHQgYSBzY2hvb2w=\n",
    "QW5kIHJvZGUgb3VyIHdpbmdlZCBob3JzZS4=\n",
    "VGhpcyBvdGhlciBoaXMgaGVscGVyIGFuZCBmcmllbmQ=\n",
    "V2FzIGNvbWluZyBpbnRvIGhpcyBmb3JjZTs=\n",
    "SGUgbWlnaHQgaGF2ZSB3b24gZmFtZSBpbiB0aGUgZW5kLA==\n",
    "U28gc2Vuc2l0aXZlIGhpcyBuYXR1cmUgc2VlbWVkLA==\n",
    "U28gZGFyaW5nIGFuZCBzd2VldCBoaXMgdGhvdWdodC4=\n",
    "VGhpcyBvdGhlciBtYW4gSSBoYWQgZHJlYW1lZA==\n",
    "QSBkcnVua2VuLCB2YWluLWdsb3Jpb3VzIGxvdXQu\n",
    "SGUgaGFkIGRvbmUgbW9zdCBiaXR0ZXIgd3Jvbmc=\n",
    "VG8gc29tZSB3aG8gYXJlIG5lYXIgbXkgaGVhcnQs\n",
    "WWV0IEkgbnVtYmVyIGhpbSBpbiB0aGUgc29uZzs=\n",
    "SGUsIHRvbywgaGFzIHJlc2lnbmVkIGhpcyBwYXJ0\n",
    "SW4gdGhlIGNhc3VhbCBjb21lZHk7\n",
    "SGUsIHRvbywgaGFzIGJlZW4gY2hhbmdlZCBpbiBoaXMgdHVybiw=\n",
    "VHJhbnNmb3JtZWQgdXR0ZXJseTo=\n",
    "QSB0ZXJyaWJsZSBiZWF1dHkgaXMgYm9ybi4=\n",
    "```\n",
    "    \n",
    "(This should produce 40 short CTR-encrypted ciphertexts)."
   ]
  },
  {
   "cell_type": "code",
   "execution_count": 3,
   "metadata": {},
   "outputs": [],
   "source": [
    "s_list = ['SSBoYXZlIG1ldCB0aGVtIGF0IGNsb3NlIG9mIGRheQ==',\n",
    "          'Q29taW5nIHdpdGggdml2aWQgZmFjZXM=',\n",
    "          'RnJvbSBjb3VudGVyIG9yIGRlc2sgYW1vbmcgZ3JleQ==',\n",
    "          'RWlnaHRlZW50aC1jZW50dXJ5IGhvdXNlcy4=',\n",
    "          'SSBoYXZlIHBhc3NlZCB3aXRoIGEgbm9kIG9mIHRoZSBoZWFk',\n",
    "          'T3IgcG9saXRlIG1lYW5pbmdsZXNzIHdvcmRzLA==',\n",
    "          'T3IgaGF2ZSBsaW5nZXJlZCBhd2hpbGUgYW5kIHNhaWQ=',\n",
    "          'UG9saXRlIG1lYW5pbmdsZXNzIHdvcmRzLA==',\n",
    "          'QW5kIHRob3VnaHQgYmVmb3JlIEkgaGFkIGRvbmU=',\n",
    "          'T2YgYSBtb2NraW5nIHRhbGUgb3IgYSBnaWJl',\n",
    "          'VG8gcGxlYXNlIGEgY29tcGFuaW9u',\n",
    "          'QXJvdW5kIHRoZSBmaXJlIGF0IHRoZSBjbHViLA==',\n",
    "          'QmVpbmcgY2VydGFpbiB0aGF0IHRoZXkgYW5kIEk=',\n",
    "          'QnV0IGxpdmVkIHdoZXJlIG1vdGxleSBpcyB3b3JuOg==',\n",
    "          'QWxsIGNoYW5nZWQsIGNoYW5nZWQgdXR0ZXJseTo=',\n",
    "          'QSB0ZXJyaWJsZSBiZWF1dHkgaXMgYm9ybi4=',\n",
    "          'VGhhdCB3b21hbidzIGRheXMgd2VyZSBzcGVudA==',\n",
    "          'SW4gaWdub3JhbnQgZ29vZCB3aWxsLA==',\n",
    "          'SGVyIG5pZ2h0cyBpbiBhcmd1bWVudA==',\n",
    "          'VW50aWwgaGVyIHZvaWNlIGdyZXcgc2hyaWxsLg==',\n",
    "          'V2hhdCB2b2ljZSBtb3JlIHN3ZWV0IHRoYW4gaGVycw==',\n",
    "          'V2hlbiB5b3VuZyBhbmQgYmVhdXRpZnVsLA==',\n",
    "          'U2hlIHJvZGUgdG8gaGFycmllcnM/',\n",
    "          'VGhpcyBtYW4gaGFkIGtlcHQgYSBzY2hvb2w=',\n",
    "          'QW5kIHJvZGUgb3VyIHdpbmdlZCBob3JzZS4=',\n",
    "          'VGhpcyBvdGhlciBoaXMgaGVscGVyIGFuZCBmcmllbmQ=',\n",
    "          'V2FzIGNvbWluZyBpbnRvIGhpcyBmb3JjZTs=',\n",
    "          'SGUgbWlnaHQgaGF2ZSB3b24gZmFtZSBpbiB0aGUgZW5kLA==',\n",
    "          'U28gc2Vuc2l0aXZlIGhpcyBuYXR1cmUgc2VlbWVkLA==',\n",
    "          'U28gZGFyaW5nIGFuZCBzd2VldCBoaXMgdGhvdWdodC4=',\n",
    "          'VGhpcyBvdGhlciBtYW4gSSBoYWQgZHJlYW1lZA==',\n",
    "          'QSBkcnVua2VuLCB2YWluLWdsb3Jpb3VzIGxvdXQu',\n",
    "          'SGUgaGFkIGRvbmUgbW9zdCBiaXR0ZXIgd3Jvbmc=',\n",
    "          'VG8gc29tZSB3aG8gYXJlIG5lYXIgbXkgaGVhcnQs',\n",
    "          'WWV0IEkgbnVtYmVyIGhpbSBpbiB0aGUgc29uZzs=',\n",
    "          'SGUsIHRvbywgaGFzIHJlc2lnbmVkIGhpcyBwYXJ0',\n",
    "          'SW4gdGhlIGNhc3VhbCBjb21lZHk7',\n",
    "          'SGUsIHRvbywgaGFzIGJlZW4gY2hhbmdlZCBpbiBoaXMgdHVybiw=',\n",
    "          'VHJhbnNmb3JtZWQgdXR0ZXJseTo=',\n",
    "          'QSB0ZXJyaWJsZSBiZWF1dHkgaXMgYm9ybi4=']\n",
    "\n",
    "ciphertexts = []\n",
    "for msg in s_list:\n",
    "    \n",
    "    # print(b64.b64decode(msg))\n",
    "    ciphertexts.append(cp.AESEncrypt(b64.b64decode(msg), key, 'CTR', nonce))"
   ]
  },
  {
   "cell_type": "markdown",
   "metadata": {},
   "source": [
    "<div class=\"alert alert-block alert-info\">\n",
    "\n",
    "Because the CTR nonce wasn't randomized for each encryption, each ciphertext has been encrypted against the same keystream. This is very bad.\n",
    "\n",
    "Understanding that, like most stream ciphers (including RC4, and obviously any block cipher run in CTR mode), the actual \"encryption\" of a byte of data boils down to a single XOR operation, it should be plain that:\n",
    "\n",
    "```CIPHERTEXT-BYTE XOR PLAINTEXT-BYTE = KEYSTREAM-BYTE```\n",
    "<br><br>\n",
    "And since the keystream is the same for every ciphertext:\n",
    "\n",
    "```CIPHERTEXT-BYTE XOR KEYSTREAM-BYTE = PLAINTEXT-BYTE``` (ie, \"you don't\n",
    "say!\")\n",
    "\n",
    "Attack this cryptosystem piecemeal: guess letters, use expected English language frequence to validate guesses, catch common English trigrams, and so on.\n",
    "    \n",
    "<div class=\"alert alert-block alert-warning\">\n",
    "\n",
    "### Don't overthink it.\n",
    "        \n",
    "Points for automating this, but part of the reason I'm having you do this is that I think this approach is suboptimal.\n",
    "        \n",
    "</div>\n",
    "\n",
    "</div>"
   ]
  },
  {
   "cell_type": "code",
   "execution_count": 4,
   "metadata": {},
   "outputs": [
    {
     "name": "stdout",
     "output_type": "stream",
     "text": [
      "I have met them at close of day\n",
      "Coming with vivid faces\n",
      "From counter or desk among grey\n",
      "Eighteenth-century houses.\n",
      "I have passed with a nod of the  egy\n",
      "Or polite meaningless words,\n",
      "Or have lingered awhile and said\n",
      "Polite meaningless words,\n",
      "And thought before I had done\n",
      "Of a mocking tale or a gibe\n",
      "To please a companion\n",
      "Around the fire at the club,\n",
      "Being certain that they and I\n",
      "But lived where motley is worn:\n",
      "All changed, changed utterly:\n",
      "A terrible beauty is born.\n",
      "That woman's days were spent\n",
      "In ignorant good will,\n",
      "Her nights in argument\n",
      "Until her voice grew shrill.\n",
      "What voice more sweet than hers\n",
      "When young and beautiful,\n",
      "She rode to harriers?\n",
      "This man had kept a school\n",
      "And rode our winged horse.\n",
      "This other his helper and friend\n",
      "Was coming into his force;\n",
      "He might have won fame in the en,,\n",
      "So sensitive his nature seemed,\n",
      "So daring and sweet his thought.\n",
      "This other man I had dreamed\n",
      "A drunken, vain-glorious lout.\n",
      "He had done most bitter wrong\n",
      "To some who are near my heart,\n",
      "Yet I number him in the song;\n",
      "He, too, has resigned his part\n",
      "In the casual comedy;\n",
      "He, too, has been changed in hishtso..\n",
      "Transformed utterly:\n",
      "A terrible beauty is born.\n"
     ]
    }
   ],
   "source": [
    "english_chars = b'abcdefghijklmnopqrstuvwxyzABCDEFGHIJKLMNOPQRSTUVWXYZ .,'  \n",
    "key_scores = np.zeros((40,256))\n",
    "\n",
    "for text_idx in range(len(ciphertexts)):  \n",
    "    for byte_idx in range(40):      \n",
    "        if len(ciphertexts[text_idx]) > byte_idx:              \n",
    "            for key_byte_guess in range(256):          \n",
    "                # Score key guesses based on english character count if \n",
    "                # all of the ciphertexts are decrypted with that guess.\n",
    "                if (ciphertexts[text_idx][byte_idx] ^ key_byte_guess) in english_chars:              \n",
    "                    key_scores[byte_idx, key_byte_guess] += 1\n",
    "  \n",
    "key_stream = bytearray(40) \n",
    "\n",
    "for ii in range(40):\n",
    "    key_stream[ii] = key_scores[ii,:].argmax()       \n",
    "                \n",
    "for ct in ciphertexts:\n",
    "    for ii in range(len(ct)):\n",
    "        pt_byte = key_stream[ii] ^ ct[ii]\n",
    "        print(f'{chr(pt_byte)}', end='')\n",
    "    print()"
   ]
  },
  {
   "cell_type": "markdown",
   "metadata": {},
   "source": [
    " Well, that was mostly right -- some of the words at the end aren't right because most of the sub-strings weren't long enough, so our scoring system was making its guess based on very few decryptions.       "
   ]
  },
  {
   "cell_type": "markdown",
   "metadata": {},
   "source": [
    "[Back to Index](CryptoPalsWalkthroughs_Cobb.ipynb)"
   ]
  }
 ],
 "metadata": {
  "kernelspec": {
   "display_name": "Python 3",
   "language": "python",
   "name": "python3"
  },
  "language_info": {
   "codemirror_mode": {
    "name": "ipython",
    "version": 3
   },
   "file_extension": ".py",
   "mimetype": "text/x-python",
   "name": "python",
   "nbconvert_exporter": "python",
   "pygments_lexer": "ipython3",
   "version": "3.7.4"
  }
 },
 "nbformat": 4,
 "nbformat_minor": 4
}
