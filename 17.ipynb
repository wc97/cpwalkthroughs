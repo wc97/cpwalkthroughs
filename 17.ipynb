{
 "cells": [
  {
   "cell_type": "markdown",
   "metadata": {},
   "source": [
    "### Challenge 17: The CBC padding oracle\n",
    "\n",
    "[Back to Index](CryptoPalsWalkthroughs_Cobb.ipynb)"
   ]
  },
  {
   "cell_type": "code",
   "execution_count": 1,
   "metadata": {},
   "outputs": [],
   "source": [
    "# %% Initialize\n",
    "\n",
    "import cryptopals as cp\n",
    "import numpy as np\n",
    "import base64\n",
    "from numpy.random import randint\n",
    "\n",
    "# ---------UNKNOWN PARAMETERS ------------\n",
    "unknown_key = bytes(list(randint(0, 256, 16)))\n",
    "unknown_IV = bytes(list(randint(0, 256, 16)))\n",
    "# ---------END UNKNOWN PARAMETERS---------\n",
    "\n",
    "block_size = 16"
   ]
  },
  {
   "cell_type": "markdown",
   "metadata": {},
   "source": [
    "<div class=\"alert alert-block alert-info\">\n",
    "    \n",
    "The CBC padding oracle\n",
    "\n",
    "This is the best-known attack on modern block-cipher cryptography.\n",
    "\n",
    "Combine your padding code and your CBC code to write two functions.\n",
    "    \n",
    "</div>"
   ]
  },
  {
   "cell_type": "markdown",
   "metadata": {},
   "source": [
    "<div class=\"alert alert-block alert-info\">\n",
    "    \n",
    "The first function should select at random one of the following 10 strings:\n",
    "    \n",
    "```\n",
    "MDAwMDAwTm93IHRoYXQgdGhlIHBhcnR5IGlzIGp1bXBpbmc=\n",
    "MDAwMDAxV2l0aCB0aGUgYmFzcyBraWNrZWQgaW4gYW5kIHRoZSBWZWdhJ3MgYXJlIHB1bXBpbic=\n",
    "MDAwMDAyUXVpY2sgdG8gdGhlIHBvaW50LCB0byB0aGUgcG9pbnQsIG5vIGZha2luZw==\n",
    "MDAwMDAzQ29va2luZyBNQydzIGxpa2UgYSBwb3VuZCBvZiBiYWNvbg==\n",
    "MDAwMDA0QnVybmluZyAnZW0sIGlmIHlvdSBhaW4ndCBxdWljayBhbmQgbmltYmxl\n",
    "MDAwMDA1SSBnbyBjcmF6eSB3aGVuIEkgaGVhciBhIGN5bWJhbA==\n",
    "MDAwMDA2QW5kIGEgaGlnaCBoYXQgd2l0aCBhIHNvdXBlZCB1cCB0ZW1wbw==\n",
    "MDAwMDA3SSdtIG9uIGEgcm9sbCwgaXQncyB0aW1lIHRvIGdvIHNvbG8=\n",
    "MDAwMDA4b2xsaW4nIGluIG15IGZpdmUgcG9pbnQgb2g=\n",
    "MDAwMDA5aXRoIG15IHJhZy10b3AgZG93biBzbyBteSBoYWlyIGNhbiBibG93\n",
    "```\n",
    "<br>\n",
    "... generate a random AES key (which it should save for all future encryptions), pad the string out to the 16-byte AES block size and CBC-encrypt it under that key, providing the caller the ciphertext and IV.\n",
    "    \n",
    "</div>"
   ]
  },
  {
   "cell_type": "code",
   "execution_count": 2,
   "metadata": {},
   "outputs": [],
   "source": [
    "def Challenge17Part1(key, IV):\n",
    "\n",
    "    rndStrings = [b'MDAwMDAwTm93IHRoYXQgdGhlIHBhcnR5IGlzIGp1bXBpbmc=',\n",
    "                  b'MDAwMDAxV2l0aCB0aGUgYmFzcyBraWNrZWQgaW4gYW5kIHRoZSBWZWdhJ\\\n",
    "                      3MgYXJlIHB1bXBpbic=',\n",
    "                  b'MDAwMDAyUXVpY2sgdG8gdGhlIHBvaW50LCB0byB0aGUgcG9pbnQsIG5vI\\\n",
    "                      GZha2luZw==',\n",
    "                  b'MDAwMDAzQ29va2luZyBNQydzIGxpa2UgYSBwb3VuZCBvZiBiYWNvbg==',\n",
    "                  b'MDAwMDA0QnVybmluZyAnZW0sIGlmIHlvdSBhaW4ndCBxdWljayBhbmQgb\\\n",
    "                      mltYmxl',\n",
    "                  b'MDAwMDA1SSBnbyBjcmF6eSB3aGVuIEkgaGVhciBhIGN5bWJhbA==',\n",
    "                  b'MDAwMDA2QW5kIGEgaGlnaCBoYXQgd2l0aCBhIHNvdXBlZCB1cCB0ZW1wb\\\n",
    "                      w==',\n",
    "                  b'MDAwMDA3SSdtIG9uIGEgcm9sbCwgaXQncyB0aW1lIHRvIGdvIHNvbG8=',\n",
    "                  b'MDAwMDA4b2xsaW4nIGluIG15IGZpdmUgcG9pbnQgb2g=',\n",
    "                  b'MDAwMDA5aXRoIG15IHJhZy10b3AgZG93biBzbyBteSBoYWlyIGNhbiBib\\\n",
    "                      G93']\n",
    "\n",
    "    strIdx = randint(0, 10)\n",
    "    plaintext = cp.PKCS7_pad(base64.b64decode(rndStrings[strIdx]))\n",
    "    ciphertext = cp.AESEncrypt(plaintext, key, 'CBC', IV)\n",
    "\n",
    "    return(ciphertext)"
   ]
  },
  {
   "cell_type": "markdown",
   "metadata": {},
   "source": [
    "<div class=\"alert alert-block alert-info\">\n",
    "    \n",
    "The second function should consume the ciphertext produced by the first function, decrypt it, check its padding, and return true or false depending on whether the padding is valid.\n",
    "</div>"
   ]
  },
  {
   "cell_type": "code",
   "execution_count": 3,
   "metadata": {},
   "outputs": [],
   "source": [
    "def Challenge17Part2(ciphertext, key, IV):\n",
    "\n",
    "    plaintext = cp.AESDecrypt(ciphertext, key, 'CBC', IV)\n",
    "    try:\n",
    "        cp.strip_PKCS7_pad(plaintext)\n",
    "        return(True)\n",
    "    except:\n",
    "        return(False)"
   ]
  },
  {
   "cell_type": "markdown",
   "metadata": {},
   "source": [
    "<div class=\"alert alert-block alert-info\">\n",
    "    \n",
    "<div class=\"alert alert-block alert-warning\">\n",
    "    \n",
    "### What you're doing here.   \n",
    "\n",
    "This pair of functions approximates AES-CBC encryption as its deployed serverside in web applications; the second function models the server's consumption of an encrypted session token, as if it was a cookie.\n",
    "\n",
    "</div>\n",
    "\n",
    "It turns out that it's possible to decrypt the ciphertexts provided by the first function.\n",
    "\n",
    "The decryption here depends on a side-channel leak by the decryption function. The leak is the error message that the padding is valid or not.\n",
    "\n",
    "You can find 100 web pages on how this attack works, so I won't re-explain it. What I'll say is this:\n",
    "\n",
    "The fundamental insight behind this attack is that the byte 01h is valid padding, and occur in 1/256 trials of \"randomized\" plaintexts produced by decrypting a tampered ciphertext.\n",
    "\n",
    ">02h in isolation is not valid padding.\n",
    "\n",
    ">02h 02h is valid padding, but is much less likely to occur randomly than 01h.\n",
    "\n",
    ">03h 03h 03h is even less likely.\n",
    "\n",
    "So you can assume that if you corrupt a decryption AND it had valid padding, you know what that padding byte is.\n",
    "\n",
    "It is easy to get tripped up on the fact that CBC plaintexts are \"padded\". Padding oracles have nothing to do with the actual padding on a CBC plaintext. It's an attack that targets a specific bit of code that handles decryption. You can mount a padding oracle on any CBC block, whether it's padded or not.\n",
    "    \n",
    "</div>"
   ]
  },
  {
   "cell_type": "markdown",
   "metadata": {},
   "source": [
    "---\n",
    "## Implement the Attack"
   ]
  },
  {
   "cell_type": "code",
   "execution_count": 4,
   "metadata": {},
   "outputs": [
    {
     "name": "stdout",
     "output_type": "stream",
     "text": [
      "True\n"
     ]
    }
   ],
   "source": [
    "part_1_out = Challenge17Part1(unknown_key, unknown_IV)\n",
    "part_2_out = Challenge17Part2(part_1_out, unknown_key, unknown_IV)\n",
    "print(part_2_out)"
   ]
  },
  {
   "cell_type": "code",
   "execution_count": 5,
   "metadata": {},
   "outputs": [
    {
     "name": "stdout",
     "output_type": "stream",
     "text": [
      "\n",
      "Decrypted Plaintext Is:\n",
      "\n",
      "****************he party is jumping\n",
      "\n",
      "Decrypted Plaintext Is:\n",
      "\n",
      "****************he party is jumping\n",
      "\n",
      "Decrypted Plaintext Is:\n",
      "\n",
      "****************-top down so my hair can blow\n",
      "\n",
      "Decrypted Plaintext Is:\n",
      "\n",
      "****************-top down so my hair can blow\n",
      "\n",
      "Decrypted Plaintext Is:\n",
      "\n",
      "****************m, if you ain't quick and nimble\n",
      "\n",
      "Decrypted Plaintext Is:\n",
      "\n",
      "****************he point, to the point, no faking\n",
      "\n",
      "Decrypted Plaintext Is:\n",
      "\n",
      "****************-top down so my hair can blow\n",
      "\n",
      "Decrypted Plaintext Is:\n",
      "\n",
      "****************'s like a pound of bacon\n",
      "\n",
      "Decrypted Plaintext Is:\n",
      "\n",
      "****************oll, it's time to go solo\n",
      "\n",
      "Decrypted Plaintext Is:\n",
      "\n",
      "**************** when I hear a cymbal\n",
      "\n",
      "Decrypted Plaintext Is:\n",
      "\n",
      "****************oll, it's time to go solo\n",
      "\n",
      "Decrypted Plaintext Is:\n",
      "\n",
      "****************ass kicked in and the Vega's are pumpin'\n",
      "\n",
      "Decrypted Plaintext Is:\n",
      "\n",
      "****************my five point oh\n",
      "\n",
      "Decrypted Plaintext Is:\n",
      "\n",
      "****************he point, to the point, no faking\n",
      "\n",
      "Decrypted Plaintext Is:\n",
      "\n",
      "****************he party is jumping\n",
      "\n",
      "Decrypted Plaintext Is:\n",
      "\n",
      "****************-top down so my hair can blow\n",
      "\n",
      "Decrypted Plaintext Is:\n",
      "\n",
      "****************he party is jumping\n",
      "\n",
      "Decrypted Plaintext Is:\n",
      "\n",
      "****************ass kicked in and the Vega's are pumpin'\n",
      "\n",
      "Decrypted Plaintext Is:\n",
      "\n",
      "****************-top down so my hair can blow\n",
      "\n",
      "Decrypted Plaintext Is:\n",
      "\n",
      "**************** hat with a souped up tempo\n"
     ]
    }
   ],
   "source": [
    "# Let's call the random function 20 times & find each plaintext\n",
    "for test_idx in range(20):\n",
    "    \n",
    "    part_1_out = Challenge17Part1(unknown_key, unknown_IV)\n",
    "    part_2_out = Challenge17Part2(part_1_out, unknown_key, unknown_IV)\n",
    "    \n",
    "    PT = b'****************'  # Remember, we can't find the 1st block's Plaintext with this attack\n",
    "    N_blocks = len(part_1_out)//16\n",
    "\n",
    "    for blk_idx in range(0, N_blocks-2):\n",
    "\n",
    "        ao_x_known = b''                # This is the value of the AES intermediate output that we're going after\n",
    "        start_idx = 16*(blk_idx+1)\n",
    "        stop_idx = start_idx + 16\n",
    "\n",
    "        for ii in range(15, -1, -1):    # Work backwards, starting w/ the last byte in the block\n",
    "\n",
    "            for jj in range(0, 256):    # Try every possible character until we find one that gives us valid padding!\n",
    "\n",
    "                random_prefix = list(randint(0, 256, ii))  # Probably not necessary...\n",
    "                ct_0_p = random_prefix + [jj]\n",
    "\n",
    "                ct_1 = list(part_1_out[start_idx:stop_idx])\n",
    "\n",
    "                # Take previous PT and make padding match needed pad length for\n",
    "                # bytes that are already known.\n",
    "                pad_length = (16 - ii)\n",
    "                for kk in range(len(ao_x_known)):\n",
    "                    # We're working on one byte at a time.  \n",
    "                    ct_0_p = ct_0_p + [ao_x_known[kk] ^ pad_length]\n",
    "\n",
    "                chosen_CT = bytes(ct_0_p + ct_1)\n",
    "\n",
    "                if Challenge17Part2(chosen_CT, unknown_key,\n",
    "                                       unknown_IV):\n",
    "\n",
    "                    # Valid padding was found...save this guess.\n",
    "                    this_iv_byte = bytes([jj ^ pad_length])\n",
    "                    ao_x_known = this_iv_byte + ao_x_known\n",
    "                    break\n",
    "\n",
    "                if jj == 255:\n",
    "                    print(f'FAILED AT ii={ii}, jj={jj}')\n",
    "\n",
    "            # end for jj\n",
    "\n",
    "        # end for ii\n",
    "        PT += cp.bitwise_xor(part_1_out[start_idx - 16:stop_idx - 16], ao_x_known)\n",
    "    # end for blk_idx\n",
    "\n",
    "    print('\\nDecrypted Plaintext Is:\\n')\n",
    "    print(cp.strip_PKCS7_pad(PT).decode())"
   ]
  },
  {
   "cell_type": "markdown",
   "metadata": {},
   "source": [
    "[Back to Index](CryptoPalsWalkthroughs_Cobb.ipynb)"
   ]
  },
  {
   "cell_type": "code",
   "execution_count": null,
   "metadata": {},
   "outputs": [],
   "source": []
  }
 ],
 "metadata": {
  "kernelspec": {
   "display_name": "Python 3",
   "language": "python",
   "name": "python3"
  },
  "language_info": {
   "codemirror_mode": {
    "name": "ipython",
    "version": 3
   },
   "file_extension": ".py",
   "mimetype": "text/x-python",
   "name": "python",
   "nbconvert_exporter": "python",
   "pygments_lexer": "ipython3",
   "version": "3.7.6"
  }
 },
 "nbformat": 4,
 "nbformat_minor": 4
}
