{
 "cells": [
  {
   "cell_type": "markdown",
   "metadata": {},
   "source": [
    "### Challenge 18: Implement CTR, the stream cipher mode\n",
    "\n",
    "[Back to Index](CryptoPalsWalkthroughs_Cobb.ipynb)"
   ]
  },
  {
   "cell_type": "markdown",
   "metadata": {},
   "source": [
    "<div class=\"alert alert-block alert-info\">\n",
    "\n",
    "The string:\n",
    "\n",
    "```\n",
    "L77na/nrFsKvynd6HzOoG7GHTLXsTVu9qvY/2syLXzhPweyyMTJULu/6/kXX0KSvoOLSFQ==\n",
    "```\n",
    "<br>\n",
    "... decrypts to something approximating English in CTR mode, which is an AES block cipher mode that turns AES into a stream cipher, with the following parameters:\n",
    "```\n",
    "      key=YELLOW SUBMARINE\n",
    "      nonce=0\n",
    "      format=64 bit unsigned little endian nonce,\n",
    "             64 bit little endian block count (byte count / 16)\n",
    "```\n",
    "CTR mode is very simple.\n",
    "\n",
    "Instead of encrypting the plaintext, CTR mode encrypts a running counter, producing a 16 byte block of keystream, which is XOR'd against the plaintext.\n",
    "\n",
    "For instance, for the first 16 bytes of a message with these parameters:\n",
    "```\n",
    "keystream = AES(\"YELLOW SUBMARINE\",\n",
    "                \"\\x00\\x00\\x00\\x00\\x00\\x00\\x00\\x00\\x00\\x00\\x00\\x00\\x00\\x00\\x00\\x00\")\n",
    "```\n",
    "<br>\n",
    "... for the next 16 bytes:\n",
    "<br><br>\n",
    "    \n",
    "```\n",
    "keystream = AES(\"YELLOW SUBMARINE\",\n",
    "                \"\\x00\\x00\\x00\\x00\\x00\\x00\\x00\\x00\\x01\\x00\\x00\\x00\\x00\\x00\\x00\\x00\")\n",
    "```\n",
    "<br>\n",
    "... and then:\n",
    "<br><br>\n",
    "    \n",
    "```\n",
    "keystream = AES(\"YELLOW SUBMARINE\",\n",
    "                \"\\x00\\x00\\x00\\x00\\x00\\x00\\x00\\x00\\x02\\x00\\x00\\x00\\x00\\x00\\x00\\x00\")\n",
    "```\n",
    "<br>\n",
    "CTR mode does not require padding; when you run out of plaintext, you just stop XOR'ing keystream and stop generating keystream.\n",
    "\n",
    "Decryption is identical to encryption. Generate the same keystream, XOR, and recover the plaintext.\n",
    "\n",
    "Decrypt the string at the top of this function, then use your CTR function to encrypt and decrypt other things.\n",
    "This is the only block cipher mode that matters in good code.\n",
    "\n",
    "Most modern cryptography relies on CTR mode to adapt block ciphers into stream ciphers, because most of what we want to encrypt is better described as a stream than as a sequence of blocks. Daniel Bernstein once quipped to Phil Rogaway that good cryptosystems don't need the \"decrypt\" transforms. Constructions like CTR are what he was talking about.\n",
    "    \n",
    "</div>"
   ]
  },
  {
   "cell_type": "markdown",
   "metadata": {},
   "source": [
    "To implement AES CTR mode, let's just modify the existing AESEncrypt and AESDecrypt functions.  \n",
    "\n",
    "For AESEncrypt, add the following code to handle CTR mode:\n",
    "```python\n",
    "\n",
    "    if mode != 'CTR':\n",
    "        plaintext = PKCS7Pad(plaintext, 16)\n",
    "\n",
    "    elif mode == 'CTR':\n",
    "\n",
    "        if len(IV)==16 and (IV == [0]*16):\n",
    "            # If all zeros nonce or none was passed in, set it to 8 x 0's\n",
    "            IV = [0]*8\n",
    "\n",
    "        elif len(IV) != 8:\n",
    "\n",
    "           raise(ValueError('Nonce must be 8 bytes for CTR mode'))\n",
    "\n",
    "        nonce = IV\n",
    "        PT_Blocks = [plaintext[ii:ii+blockSize] for ii in\n",
    "                     range(0, len(plaintext), blockSize)]\n",
    "\n",
    "        for blk_idx, block in enumerate(PT_Blocks):\n",
    "\n",
    "            AES_input = bytes(nonce) + int.to_bytes(blk_idx, 8, 'little')\n",
    "            block_KEY = aes.encrypt(AES_input)\n",
    "            ciphertext += bitwise_xor(block_KEY[0:len(block)], block)\n",
    "```\n",
    "\n",
    "For AESDecrypt, it's dead simple (Encrypt = Decrypt):\n",
    "```\n",
    "    elif mode == 'CTR':\n",
    "\n",
    "        # Decrypt is the same as encrypt!\n",
    "        plaintext = AESEncrypt(ciphertext, key, mode, IV)\n",
    "\n",
    "    else:\n",
    "\n",
    "        assert(f'Mode {mode} is not supported yet!')\n",
    "\n",
    "    return(plaintext)\n",
    "```"
   ]
  },
  {
   "cell_type": "markdown",
   "metadata": {},
   "source": [
    "Let's try it out on the Challenge #18 ciphertext and parameters:"
   ]
  },
  {
   "cell_type": "code",
   "execution_count": 12,
   "metadata": {},
   "outputs": [
    {
     "name": "stdout",
     "output_type": "stream",
     "text": [
      "Yo, VIP Let's kick it Ice, Ice, baby Ice, Ice, baby \n",
      "b'/\\xbe\\xe7k\\xf9\\xeb\\x16\\xc2\\xaf\\xcawz\\x1f3\\xa8\\x1b\\xb1\\x87L\\xb5\\xecM[\\xbd\\xaa\\xf6?\\xda\\xcc\\x8b_8O\\xc1\\xec\\xb212T.\\xef\\xfa\\xfeE\\xd7\\xd0\\xa4\\xaf\\xa0\\xe2\\xd2\\x15'\n",
      "Yo, VIP Let's kick it Ice, Ice, baby Ice, Ice, baby \n",
      "Yo, VIP Let's kick it Ice, Ice, baby Ice, Ice, baby \n"
     ]
    }
   ],
   "source": [
    "import cryptopals as cp\n",
    "import base64 as b64\n",
    "\n",
    "key = b'YELLOW SUBMARINE'\n",
    "nonce = [0]*8\n",
    "\n",
    "s_b64 = 'L77na/nrFsKvynd6HzOoG7GHTLXsTVu9qvY/2syLXzhPweyyMTJULu/6/kXX0KSvoOLSFQ=='\n",
    "s = b64.b64decode(s_b64)\n",
    "\n",
    "PT = cp.AESDecrypt(s, key, 'CTR', nonce)\n",
    "print(PT.decode())\n",
    "\n",
    "# Demonstrate that encrypt followed by decrypt works properly:\n",
    "CT = cp.AESEncrypt(PT, key, 'CTR', nonce)\n",
    "print(CT)\n",
    "PT = cp.AESDecrypt(CT, key, 'CTR', nonce)\n",
    "print(PT.decode())\n",
    "\n",
    "# Could also just call encrypt to decrypt (they're the same!)\n",
    "PT = cp.AESEncrypt(s, key, 'CTR', nonce)\n",
    "print(PT.decode())\n"
   ]
  },
  {
   "cell_type": "markdown",
   "metadata": {},
   "source": [
    "[Back to Index](CryptoPalsWalkthroughs_Cobb.ipynb)"
   ]
  }
 ],
 "metadata": {
  "kernelspec": {
   "display_name": "Python 3",
   "language": "python",
   "name": "python3"
  },
  "language_info": {
   "codemirror_mode": {
    "name": "ipython",
    "version": 3
   },
   "file_extension": ".py",
   "mimetype": "text/x-python",
   "name": "python",
   "nbconvert_exporter": "python",
   "pygments_lexer": "ipython3",
   "version": "3.7.6"
  }
 },
 "nbformat": 4,
 "nbformat_minor": 4
}
