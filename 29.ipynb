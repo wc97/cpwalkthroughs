{
 "cells": [
  {
   "cell_type": "markdown",
   "metadata": {},
   "source": [
    "### Challenge 29: Break a SHA-1 keyed MAC using length extension\n",
    "\n",
    "[Back to Index](CryptoPalsWalkthroughs_Cobb.ipynb)"
   ]
  },
  {
   "cell_type": "markdown",
   "metadata": {},
   "source": [
    "<div class=\"alert alert-block alert-info\">\n",
    "\n",
    "Secret-prefix SHA-1 MACs are trivially breakable.\n",
    "\n",
    "The attack on secret-prefix SHA1 relies on the fact that you can take the ouput of SHA-1 and use it as a new starting point for SHA-1, thus taking an arbitrary SHA-1 hash and \"feeding it more data\".\n",
    "\n",
    "Since the key precedes the data in secret-prefix, any additional data you feed the SHA-1 hash in this fashion will appear to have been hashed with the secret key.\n",
    "\n",
    "To carry out the attack, you'll need to account for the fact that SHA-1 is \"padded\" with the bit-length of the message; your forged message will need to include that padding. We call this \"glue padding\". The final message you actually forge will be:\n",
    "\n",
    "```SHA1(key || original-message || glue-padding || new-message)```\n",
    "\n",
    "(where the final padding on the whole constructed message is implied)\n",
    "\n",
    "Note that to generate the glue padding, you'll need to know the original bit length of the message; the message itself is known to the attacker, but the secret key isn't, so you'll need to guess at it.\n",
    "\n",
    "This sounds more complicated than it is in practice.\n",
    "\n",
    "To implement the attack, first write the function that computes the MD padding of an arbitrary message and verify that you're generating the same padding that your SHA-1 implementation is using. This should take you 5-10 minutes.\n",
    "\n",
    "Now, take the SHA-1 secret-prefix MAC of the message you want to forge --- this is just a SHA-1 hash --- and break it into 32 bit SHA-1 registers (SHA-1 calls them \"a\", \"b\", \"c\", &c).\n",
    "\n",
    "Modify your SHA-1 implementation so that callers can pass in new values for \"a\", \"b\", \"c\" &c (they normally start at magic numbers). With the registers \"fixated\", hash the additional data you want to forge.\n",
    "\n",
    "Using this attack, generate a secret-prefix MAC under a secret key (choose a random word from /usr/share/dict/words or something) of the string:\n",
    "\n",
    "```\"comment1=cooking%20MCs;userdata=foo;comment2=%20like%20a%20pound%20of%20bacon\"```\n",
    "\n",
    "Forge a variant of this message that ends with ```\";admin=true\"```.\n",
    "\n",
    "<div class=\"alert alert-block alert-warning\">\n",
    "\n",
    "This is a very useful attack.\n",
    "\n",
    "For instance: Thai Duong and Juliano Rizzo, who got to this attack before we did, used it to break the Flickr API.\n",
    "\n",
    "</div>\n",
    "\n",
    "\n",
    "</div>"
   ]
  },
  {
   "cell_type": "markdown",
   "metadata": {},
   "source": [
    "Found this implementation from [https://gist.github.com/BenWiederhake/cb60f703840f9e81a84499b39eb361b5](https://gist.github.com/BenWiederhake/cb60f703840f9e81a84499b39eb361b5)"
   ]
  },
  {
   "cell_type": "code",
   "execution_count": 1,
   "metadata": {},
   "outputs": [],
   "source": [
    "from Crypto import Random\n",
    "import sha1"
   ]
  },
  {
   "cell_type": "markdown",
   "metadata": {},
   "source": [
    "<div class=\"alert alert-block alert-info\">\n",
    "    \n",
    "To implement the attack, first write the function that computes the MD padding of an arbitrary message and verify that you're generating the same padding that your SHA-1 implementation is using. This should take you 5-10 minutes.\n",
    "    \n",
    "</div>\n",
    "\n",
    "From [Wikipedia pseudocode](https://en.wikipedia.org/wiki/SHA-1), \n",
    "\n",
    "ml = message length in bits (always a multiple of the number of bits in a character).\n",
    "\n",
    "Pre-processing:\n",
    "\n",
    "- append the bit '1' to the message e.g. by adding 0x80 if message length is a multiple of 8 bits.\n",
    "- append 0 ≤ k < 512 bits '0', such that the resulting message length in bits is congruent to −64 ≡ 448 (mod 512)\n",
    "- append ml, the original message length, as a 64-bit big-endian integer. \n",
    "\n",
    "Thus, the total length is a multiple of 512 bits."
   ]
  },
  {
   "cell_type": "code",
   "execution_count": 2,
   "metadata": {},
   "outputs": [],
   "source": [
    "def compute_sha1_padding(data):\n",
    "    \n",
    "    # Let's assume message / data is always complete bytes, no extra bits, so always append 0x80\n",
    "    msg_len = len(data)\n",
    "    \n",
    "    # Pad with 0’s until message is 64-bits less than some multiple of 512 (64 in bytes)\n",
    "    n_zero_bytes = ( (56 - ( (msg_len % 64) + 1) ) % 64 ) \n",
    "    \n",
    "    padding = b'\\x80' + b'\\x00'*n_zero_bytes + (msg_len*8).to_bytes(8, 'big')\n",
    "    return(padding)"
   ]
  },
  {
   "cell_type": "code",
   "execution_count": 3,
   "metadata": {},
   "outputs": [],
   "source": [
    "p = compute_sha1_padding(b'tt')"
   ]
  },
  {
   "cell_type": "markdown",
   "metadata": {},
   "source": [
    "<div class=\"alert alert-block alert-info\">\n",
    "\n",
    "Now, take the SHA-1 secret-prefix MAC of the message you want to forge --- this is just a SHA-1 hash --- and break it into 32 bit SHA-1 registers (SHA-1 calls them \"a\", \"b\", \"c\", &c).\n",
    "\n",
    "</div>"
   ]
  },
  {
   "cell_type": "code",
   "execution_count": 4,
   "metadata": {},
   "outputs": [],
   "source": [
    "original_msg = b'This is an authentic message!'\n",
    "mac = sha1.SHA1(original_msg).finish()\n",
    "\n",
    "a = mac[0:4]\n",
    "b = mac[4:8]\n",
    "c = mac[8:12]\n",
    "d = mac[12:16]\n",
    "e = mac[16:20]"
   ]
  },
  {
   "cell_type": "markdown",
   "metadata": {},
   "source": [
    "<div class=\"alert alert-block alert-info\">\n",
    "\n",
    "Modify your SHA-1 implementation so that callers can pass in new values for \"a\", \"b\", \"c\" &c (they normally start at magic numbers). With the registers \"fixated\", hash the additional data you want to forge.\n",
    "\n",
    "</div>"
   ]
  },
  {
   "cell_type": "code",
   "execution_count": 5,
   "metadata": {},
   "outputs": [],
   "source": [
    "import struct\n",
    "\n",
    "def leftrotate(i, n):\n",
    "    return ((i << n) & 0xffffffff) | (i >> (32 - n))\n",
    "\n",
    "class evil_SHA1:\n",
    "    \n",
    "    def __init__(self, data, sha_state):\n",
    "        \n",
    "        a = int.from_bytes(sha_state[0:4], 'big')\n",
    "        b = int.from_bytes(sha_state[4:8], 'big')\n",
    "        c = int.from_bytes(sha_state[8:12], 'big')\n",
    "        d = int.from_bytes(sha_state[12:16], 'big')\n",
    "        e = int.from_bytes(sha_state[16:20], 'big')\n",
    "        \n",
    "        self.h = [a, b, c, d, e]\n",
    "        self.remainder = data\n",
    "        self.count = 0\n",
    "\n",
    "    def _add_chunk(self, chunk):\n",
    "        self.count += 1\n",
    "        w = list( struct.unpack(\">16I\", chunk) + (None,) * (80-16) )\n",
    "        for i in range(16, 80):\n",
    "            n = w[i-3] ^ w[i-8] ^ w[i-14] ^ w[i-16]\n",
    "            w[i] = leftrotate(n, 1)\n",
    "        a,b,c,d,e = self.h\n",
    "        for i in range(80):\n",
    "            f = None\n",
    "            k = None\n",
    "            if i < 20:\n",
    "                f = (b & c) ^ (~b & d)\n",
    "                k = 0x5A827999\n",
    "            elif i < 40:\n",
    "                f = b ^ c ^ d\n",
    "                k = 0x6ED9EBA1\n",
    "            elif i < 60:\n",
    "                f = (b & c) ^ (b & d) ^ (c & d)\n",
    "                k = 0x8F1BBCDC\n",
    "            else:\n",
    "                f = b ^ c ^ d\n",
    "                k = 0xCA62C1D6\n",
    "\n",
    "            temp = (leftrotate(a,5) + f + e + k + w[i]) % 2**32\n",
    "            e = d\n",
    "            d = c\n",
    "            c = leftrotate(b, 30)\n",
    "            b = a\n",
    "            a = temp\n",
    "        self.h[0] = (self.h[0] + a) % 2**32\n",
    "        self.h[1] = (self.h[1] + b) % 2**32\n",
    "        self.h[2] = (self.h[2] + c) % 2**32\n",
    "        self.h[3] = (self.h[3] + d) % 2**32\n",
    "        self.h[4] = (self.h[4] + e) % 2**32\n",
    "\n",
    "    def add(self, data):\n",
    "        message = self.remainder + data\n",
    "        r = len(message) % 64\n",
    "        if r != 0:\n",
    "            self.remainder = message[-r:]\n",
    "        else:\n",
    "            self.remainder = b''\n",
    "        for chunk in range(0, len(message)-r, 64):\n",
    "            self._add_chunk( message[chunk:chunk+64] )\n",
    "        return self\n",
    "\n",
    "    def finish(self):\n",
    "        l = len(self.remainder) + 64 * self.count\n",
    "        self.add( b'\\x80' + b'\\x00' * ((55 - l) % 64) + struct.pack(\">Q\", l * 8) )\n",
    "        h = tuple(x for x in self.h)\n",
    "        #self.__init__(self.data, self.sha_state)\n",
    "        return struct.pack(\">5I\", *h)"
   ]
  },
  {
   "cell_type": "markdown",
   "metadata": {},
   "source": [
    "<div class=\"alert alert-block alert-info\">\n",
    "\n",
    "Using this attack, generate a secret-prefix MAC under a secret key (choose a random word from /usr/share/dict/words or something) of the string:\n",
    "\n",
    "```\"comment1=cooking%20MCs;userdata=foo;comment2=%20like%20a%20pound%20of%20bacon\"```\n",
    "\n",
    "</div>"
   ]
  },
  {
   "cell_type": "code",
   "execution_count": 6,
   "metadata": {},
   "outputs": [],
   "source": [
    "unknown_MAC_key = Random.get_random_bytes(32)\n",
    "\n",
    "def make_MAC(message):\n",
    "    \n",
    "    my_sha = sha1.SHA1(unknown_MAC_key + bytes(message))\n",
    "    MAC = my_sha.finish()\n",
    "    \n",
    "    return(MAC)\n",
    "\n",
    "def check_MAC(message, MAC):\n",
    "    \n",
    "    return(make_MAC(message) == MAC)\n",
    "    "
   ]
  },
  {
   "cell_type": "code",
   "execution_count": 7,
   "metadata": {},
   "outputs": [],
   "source": [
    "original_msg = b'comment1=cooking%20MCs;userdata=foo;comment2=%20like%20a%20pound%20of%20bacon'\n",
    "original_mac = make_MAC(original_msg)"
   ]
  },
  {
   "cell_type": "markdown",
   "metadata": {},
   "source": [
    "<div class=\"alert alert-block alert-info\">\n",
    "\n",
    "Forge a variant of this message that ends with ```\";admin=true\"```.\n",
    "\n",
    "</div>"
   ]
  },
  {
   "cell_type": "code",
   "execution_count": 8,
   "metadata": {},
   "outputs": [
    {
     "name": "stdout",
     "output_type": "stream",
     "text": [
      "My forged message:\n",
      "\n",
      "b'comment1=cooking%20MCs;userdata=foo;comment2=%20like%20a%20pound%20of%20bacon\\x80\\x00\\x00\\x00\\x00\\x00\\x00\\x00\\x00\\x00\\x00\\x00\\x00\\x00\\x00\\x00\\x00\\x00\\x00\\x00\\x00\\x00\\x00\\x00\\x00\\x00\\x00\\x00\\x00\\x00\\x00\\x00\\x00\\x00\\x00\\x00\\x00\\x00\\x00\\x00\\x00\\x00\\x00\\x00\\x00\\x00\\x00\\x00\\x00\\x02h;admin=true'\n",
      "\n",
      "MAC Check passed?  False\n"
     ]
    }
   ],
   "source": [
    "new_msg = b';admin=true'\n",
    "my_evil_SHA = evil_SHA1(new_msg, original_mac)\n",
    "forged_mac = my_evil_SHA.finish()\n",
    "\n",
    "forged_msg = original_msg + compute_sha1_padding(original_msg) + new_msg\n",
    "\n",
    "print(f\"My forged message:\\n\")\n",
    "print(forged_msg)\n",
    "print()\n",
    "print(f\"MAC Check passed?  {check_MAC(forged_msg, forged_mac)}\")"
   ]
  },
  {
   "cell_type": "markdown",
   "metadata": {},
   "source": [
    "---\n",
    "Well, that first attempt didn't work.  \n",
    "\n",
    "Thinking it through, I missed a couple of things.  \n",
    "\n",
    "- The padding includes the length of the message at the end.  For our malicious modified message, that has to include the length of the original message + the length of the new information we're adding.\n",
    "- The \"glue padding\" we add has to also account for the length of the key, or it will include the wrong # of 0x00's.  \n",
    "\n",
    "The original message in this case of ```b'comment1=cooking%20MCs;userdata=foo;comment2=%20like%20a%20pound%20of%20bacon'``` is 77 bytes or 616 bits long.  \n",
    "\n",
    "The original key was 32 bytes or 256 bits long.\n",
    "\n",
    "So the total length of the original message was 872 bits (109 bytes).\n",
    "\n",
    "Padded out -- that would be roundup(872 / 512) = 2 blocks * 512 bits = 1024 bits = 128 bytes in the original message.  \n",
    "\n",
    "So for the malicious message that adds on to this, we need to account for that 128 bytes.\n",
    "\n",
    "Here's an updated version of the evil_SHA1 implementation that allows us to specify the length of the authentic message as an additional parameter."
   ]
  },
  {
   "cell_type": "code",
   "execution_count": 9,
   "metadata": {},
   "outputs": [],
   "source": [
    "import struct\n",
    "\n",
    "def leftrotate(i, n):\n",
    "    return ((i << n) & 0xffffffff) | (i >> (32 - n))\n",
    "\n",
    "class xtra_evil_SHA1:\n",
    "    \n",
    "    def __init__(self, data, sha_state, prev_len):\n",
    "        \n",
    "        self.prev_len = prev_len\n",
    "        \n",
    "        a = int.from_bytes(sha_state[0:4], 'big')\n",
    "        b = int.from_bytes(sha_state[4:8], 'big')\n",
    "        c = int.from_bytes(sha_state[8:12], 'big')\n",
    "        d = int.from_bytes(sha_state[12:16], 'big')\n",
    "        e = int.from_bytes(sha_state[16:20], 'big')\n",
    "        \n",
    "        self.h = [a, b, c, d, e]\n",
    "        self.remainder = data\n",
    "        self.count = 0\n",
    "\n",
    "    def _add_chunk(self, chunk):\n",
    "        self.count += 1\n",
    "        w = list( struct.unpack(\">16I\", chunk) + (None,) * (80-16) )\n",
    "        for i in range(16, 80):\n",
    "            n = w[i-3] ^ w[i-8] ^ w[i-14] ^ w[i-16]\n",
    "            w[i] = leftrotate(n, 1)\n",
    "        a,b,c,d,e = self.h\n",
    "        for i in range(80):\n",
    "            f = None\n",
    "            k = None\n",
    "            if i < 20:\n",
    "                f = (b & c) ^ (~b & d)\n",
    "                k = 0x5A827999\n",
    "            elif i < 40:\n",
    "                f = b ^ c ^ d\n",
    "                k = 0x6ED9EBA1\n",
    "            elif i < 60:\n",
    "                f = (b & c) ^ (b & d) ^ (c & d)\n",
    "                k = 0x8F1BBCDC\n",
    "            else:\n",
    "                f = b ^ c ^ d\n",
    "                k = 0xCA62C1D6\n",
    "\n",
    "            temp = (leftrotate(a,5) + f + e + k + w[i]) % 2**32\n",
    "            e = d\n",
    "            d = c\n",
    "            c = leftrotate(b, 30)\n",
    "            b = a\n",
    "            a = temp\n",
    "            \n",
    "        self.h[0] = (self.h[0] + a) % 2**32\n",
    "        self.h[1] = (self.h[1] + b) % 2**32\n",
    "        self.h[2] = (self.h[2] + c) % 2**32\n",
    "        self.h[3] = (self.h[3] + d) % 2**32\n",
    "        self.h[4] = (self.h[4] + e) % 2**32\n",
    "\n",
    "    def add(self, data):\n",
    "        message = self.remainder + data\n",
    "        r = len(message) % 64\n",
    "        if r != 0:\n",
    "            self.remainder = message[-r:]\n",
    "        else:\n",
    "            self.remainder = b''\n",
    "        for chunk in range(0, len(message)-r, 64):\n",
    "            self._add_chunk( message[chunk:chunk+64] )\n",
    "        return self\n",
    "\n",
    "    def finish(self):\n",
    "        l = self.prev_len + len(self.remainder) + 64 * self.count\n",
    "        self.add( b'\\x80' + b'\\x00' * ((55 - l) % 64) + struct.pack(\">Q\", l * 8) )\n",
    "        h = tuple(x for x in self.h)\n",
    "        #self.__init__(self.data, self.sha_state)\n",
    "        return struct.pack(\">5I\", *h)"
   ]
  },
  {
   "cell_type": "markdown",
   "metadata": {},
   "source": [
    "Let's try this again...I'll assume we know the length of the key, or have learned it through some easy trial & error."
   ]
  },
  {
   "cell_type": "code",
   "execution_count": 10,
   "metadata": {},
   "outputs": [
    {
     "name": "stdout",
     "output_type": "stream",
     "text": [
      "My forged message:\n",
      "\n",
      "b'comment1=cooking%20MCs;userdata=foo;comment2=%20like%20a%20pound%20of%20bacon\\x80\\x00\\x00\\x00\\x00\\x00\\x00\\x00\\x00\\x00\\x00\\x00\\x00\\x00\\x00\\x00\\x00\\x03h;admin=true'\n",
      "\n",
      "MAC Check passed?  True\n"
     ]
    }
   ],
   "source": [
    "new_msg = b';admin=true'\n",
    "\n",
    "FAKE_KEY = b'\\x00' * 32\n",
    "glue_padding = compute_sha1_padding(FAKE_KEY + original_msg)\n",
    "\n",
    "last_len = (len(FAKE_KEY) + len(original_msg) + len(glue_padding)) \n",
    "if (last_len % 64) != 0:\n",
    "    raise(ValueError('Invalid Length Calculated'))\n",
    "    \n",
    "my_evil_SHA = xtra_evil_SHA1(new_msg, original_mac, last_len)\n",
    "\n",
    "forged_mac = my_evil_SHA.finish()\n",
    "forged_msg = original_msg + glue_padding + new_msg\n",
    "\n",
    "print(f\"My forged message:\\n\")\n",
    "print(forged_msg)\n",
    "print()\n",
    "print(f\"MAC Check passed?  {check_MAC(forged_msg, forged_mac)}\")"
   ]
  },
  {
   "cell_type": "markdown",
   "metadata": {},
   "source": [
    "[Back to Index](CryptoPalsWalkthroughs_Cobb.ipynb)"
   ]
  }
 ],
 "metadata": {
  "kernelspec": {
   "display_name": "Python 3",
   "language": "python",
   "name": "python3"
  },
  "language_info": {
   "codemirror_mode": {
    "name": "ipython",
    "version": 3
   },
   "file_extension": ".py",
   "mimetype": "text/x-python",
   "name": "python",
   "nbconvert_exporter": "python",
   "pygments_lexer": "ipython3",
   "version": "3.7.4"
  }
 },
 "nbformat": 4,
 "nbformat_minor": 4
}
