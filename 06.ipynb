{
 "cells": [
  {
   "cell_type": "markdown",
   "metadata": {},
   "source": [
    "### Challenge 6:  Break repeating-key XOR\n",
    "\n",
    "<div class=\"alert alert-block alert-info\">\n",
    "    \n",
    "It is officially on, now.\n",
    "\n",
    "This challenge isn't conceptually hard, but it involves actual error-prone coding. The other challenges in this set are there to bring you up to speed. This one is there to qualify you. If you can do this one, you're probably just fine up to Set 6.\n",
    "\n",
    "There's a file [here](challenge-data/4.txt).\n",
    "\n",
    "It's been base64'd after being encrypted with repeating-key XOR.\n",
    "\n",
    "Decrypt it.\n",
    "\n",
    "Here's how:\n",
    "\n",
    "1.  Let KEYSIZE be the guessed length of the key; try values from 2 to (say) 40.\n",
    "2.  Write a function to compute the edit distance/Hamming distance between two strings. The Hamming distance is just the number of differing bits. The distance between ```this is a test``` and ```wokka wokka!!!``` is 37. Make sure your code agrees before you proceed. \n",
    "3. For each KEYSIZE, take the first KEYSIZE worth of bytes, and the second KEYSIZE worth of bytes, and find the edit distance between them. Normalize this result by dividing by KEYSIZE.\n",
    "4. The KEYSIZE with the smallest normalized edit distance is probably the key. You could proceed perhaps with the smallest 2-3 KEYSIZE values. Or take 4 KEYSIZE blocks instead of 2 and average the distances.\n",
    "5. Now that you probably know the KEYSIZE: break the ciphertext into blocks of KEYSIZE length.\n",
    "6. Now transpose the blocks: make a block that is the first byte of every block, and a block that is the second byte of every block, and so on.\n",
    "7. Solve each block as if it was single-character XOR. You already have code to do this.\n",
    "8. For each block, the single-byte XOR key that produces the best looking histogram is the repeating-key XOR key byte for that block. Put them together and you have the key.\n",
    "\n",
    "This code is going to turn out to be surprisingly useful later on. Breaking repeating-key XOR (\"Vigenere\") statistically is obviously an academic exercise, a \"Crypto 101\" thing. But more people \"know how\" to break it than can actually break it, and a similar technique breaks something much more important.\n",
    "\n",
    "<div class=\"alert alert-block alert-warning\">\n",
    "\n",
    "### No, that's not a mistake.\n",
    "\n",
    " We get more tech support questions for this challenge than any of the other ones. We promise, there aren't any blatant errors in this text. In particular: the \"wokka wokka!!!\" edit distance really is 37.\n",
    "\n",
    "\n",
    "</div>\n",
    "    \n",
    "</div>\n",
    "\n",
    "[Back to Index](CryptoPalsWalkthroughs_Cobb.ipynb)"
   ]
  },
  {
   "cell_type": "code",
   "execution_count": 1,
   "metadata": {},
   "outputs": [],
   "source": [
    "import base64\n",
    "import cryptopals as cp"
   ]
  },
  {
   "cell_type": "markdown",
   "metadata": {},
   "source": [
    "2.  Write a function to compute the edit distance/Hamming distance between two strings. The Hamming distance is just the number of differing bits. The distance between:\n",
    "    \n",
    "    \n",
    "            this is a test\n",
    "            \n",
    "    and\n",
    "\n",
    "            wokka wokka!!!\n",
    "            \n",
    "\n",
    "    is 37. Make sure your code agrees before you proceed. \n"
   ]
  },
  {
   "cell_type": "code",
   "execution_count": 2,
   "metadata": {},
   "outputs": [],
   "source": [
    "def hamming_distance(a, b):\n",
    "\n",
    "    HD = 0\n",
    "    for ii in range(len(a)):\n",
    "        HD += bin(a[ii] ^ b[ii]).count('1')\n",
    "\n",
    "    return(HD)"
   ]
  },
  {
   "cell_type": "code",
   "execution_count": 3,
   "metadata": {},
   "outputs": [
    {
     "name": "stdout",
     "output_type": "stream",
     "text": [
      "Test of hamming_distance function PASSED\n"
     ]
    }
   ],
   "source": [
    "# Test Hamming Distance function:\n",
    "\n",
    "a = b'this is a test'\n",
    "b = b'wokka wokka!!!'\n",
    "\n",
    "if hamming_distance(a,b) == 37:\n",
    "    print('Test of hamming_distance function PASSED')\n",
    "else:\n",
    "    print('Test of hamming_distance function FAILED')\n"
   ]
  },
  {
   "cell_type": "code",
   "execution_count": 4,
   "metadata": {},
   "outputs": [],
   "source": [
    "# Read the challenge file in.\n",
    "f = open('./challenge-data/6.txt', 'r')\n",
    "encrypted_data = base64.b64decode(f.read())\n",
    "f.close()"
   ]
  },
  {
   "cell_type": "code",
   "execution_count": 5,
   "metadata": {},
   "outputs": [],
   "source": [
    "# 3. For each KEYSIZE, take the first KEYSIZE worth of bytes, and the second KEYSIZE worth of \n",
    "#    bytes, and find the edit distance between them. Normalize this result by dividing by KEYSIZE.\n",
    "# \n",
    "# 4. The KEYSIZE with the smallest normalized edit distance is probably the key. You could proceed \n",
    "#    perhaps with the smallest 2-3 KEYSIZE values. Or take 4 KEYSIZE blocks instead of 2 and \n",
    "#    average the distances.\n",
    "\n",
    "keySizeScores = [0]*40\n",
    "for KEYSIZE in range(1, 41):\n",
    "    \n",
    "    a = encrypted_data[0:KEYSIZE]\n",
    "    b = encrypted_data[KEYSIZE:2*KEYSIZE+1]\n",
    "    c = encrypted_data[KEYSIZE*2:3*KEYSIZE+1]\n",
    "    d = encrypted_data[KEYSIZE*3:4*KEYSIZE+1]\n",
    "    \n",
    "    keySizeScores[KEYSIZE-1] = (cp.hamming_distance(a,b) + \\\n",
    "                                cp.hamming_distance(a,c) + \\\n",
    "                                cp.hamming_distance(a,d) + \\\n",
    "                                cp.hamming_distance(b,c) + \\\n",
    "                                cp.hamming_distance(b,d) + \\\n",
    "                                cp.hamming_distance(c,d))/ \\\n",
    "                                (6*KEYSIZE)\n",
    "    \n",
    "    KEYSIZE = int(cp.argmin(keySizeScores)+1)"
   ]
  },
  {
   "cell_type": "code",
   "execution_count": 6,
   "metadata": {},
   "outputs": [],
   "source": [
    "# 5. Now that you probably know the KEYSIZE: break the ciphertext into blocks of KEYSIZE length.\n",
    "#\n",
    "# 6. Now transpose the blocks: make a block that is the first byte of every block, and a block \n",
    "#    that is the second byte of every block, and so on.\n",
    "#\n",
    "# 7. Solve each block as if it was single-character XOR. You already have code to do this.\n",
    "# \n",
    "# 8. For each block, the single-byte XOR key that produces the best looking histogram is the \n",
    "#    repeating-key XOR key byte for that block. Put them together and you have the key.\n",
    "\n",
    "KEY = []\n",
    "for key_idx in range(KEYSIZE):\n",
    "    chunk = encrypted_data[key_idx::KEYSIZE]\n",
    "    (chunk_key, _) = cp.break_single_char_XOR(chunk)\n",
    "    KEY.append(chunk_key)"
   ]
  },
  {
   "cell_type": "code",
   "execution_count": 7,
   "metadata": {},
   "outputs": [
    {
     "name": "stdout",
     "output_type": "stream",
     "text": [
      "\n",
      "I'm back and I'm ringin' the bell \n",
      "A rockin' on the mike while the fly girls yell \n",
      "In ecstasy in the back of me \n",
      "Well that's my DJ Deshay cuttin' all them Z's \n",
      "Hittin' hard and the girlies goin' crazy \n",
      "Vanilla's on the mike, man I'm not lazy. \n",
      "\n",
      "I'm lettin' my drug kick in \n",
      "It controls my mouth and I begin \n",
      "To just let it flow, let my concepts go \n",
      "My posse's to the side yellin', Go Vanilla Go! \n",
      "\n",
      "Smooth 'cause that's the way I will be \n",
      "And if you don't give a damn, then \n",
      "Why you starin' at me \n",
      "So get off 'cause I control the stage \n",
      "There's no dissin' allowed \n",
      "I'm in my own phase \n",
      "The girlies sa y they love me and that is ok \n",
      "And I can dance better than any kid n' play \n",
      "\n",
      "Stage 2 -- Yea the one ya' wanna listen to \n",
      "It's off my head so let the beat play through \n",
      "So I can funk it up and make it sound good \n",
      "1-2-3 Yo -- Knock on some wood \n",
      "For good luck, I like my rhymes atrocious \n",
      "Supercalafragilisticexpialidocious \n",
      "I'm an effect and that you can bet \n",
      "I can take a fly girl and make her wet. \n",
      "\n",
      "I'm like Samson -- Samson to Delilah \n",
      "There's no denyin', You can try to hang \n",
      "But you'll keep tryin' to get my style \n",
      "Over and over, practice makes perfect \n",
      "But not if you're a loafer. \n",
      "\n",
      "You'll get nowhere, no place, no time, no girls \n",
      "Soon -- Oh my God, homebody, you probably eat \n",
      "Spaghetti with a spoon! Come on and say it! \n",
      "\n",
      "VIP. Vanilla Ice yep, yep, I'm comin' hard like a rhino \n",
      "Intoxicating so you stagger like a wino \n",
      "So punks stop trying and girl stop cryin' \n",
      "Vanilla Ice is sellin' and you people are buyin' \n",
      "'Cause why the freaks are jockin' like Crazy Glue \n",
      "Movin' and groovin' trying to sing along \n",
      "All through the ghetto groovin' this here song \n",
      "Now you're amazed by the VIP posse. \n",
      "\n",
      "Steppin' so hard like a German Nazi \n",
      "Startled by the bases hittin' ground \n",
      "There's no trippin' on mine, I'm just gettin' down \n",
      "Sparkamatic, I'm hangin' tight like a fanatic \n",
      "You trapped me once and I thought that \n",
      "You might have it \n",
      "So step down and lend me your ear \n",
      "'89 in my time! You, '90 is my year. \n",
      "\n",
      "You're weakenin' fast, YO! and I can tell it \n",
      "Your body's gettin' hot, so, so I can smell it \n",
      "So don't be mad and don't be sad \n",
      "'Cause the lyrics belong to ICE, You can call me Dad \n",
      "You're pitchin' a fit, so step back and endure \n",
      "Let the witch doctor, Ice, do the dance to cure \n",
      "So come up close and don't be square \n",
      "You wanna battle me -- Anytime, anywhere \n",
      "\n",
      "You thought that I was weak, Boy, you're dead wrong \n",
      "So come on, everybody and sing this song \n",
      "\n",
      "Say -- Play that funky music Say, go white boy, go white boy go \n",
      "play that funky music Go white boy, go white boy, go \n",
      "Lay down and boogie and play that funky music till you die. \n",
      "\n",
      "Play that funky music Come on, Come on, let me hear \n",
      "Play that funky music white boy you say it, say it \n",
      "Play that funky music A little louder now \n",
      "Play that funky music, white boy Come on, Come on, Come on \n",
      "Play that funky mu\n"
     ]
    }
   ],
   "source": [
    "plaintext = cp.encrypt_repeating_key_XOR(encrypted_data, KEY)\n",
    "print()\n",
    "print(bytes(plaintext).decode())"
   ]
  },
  {
   "cell_type": "markdown",
   "metadata": {},
   "source": [
    "[Back to Index](CryptoPalsWalkthroughs_Cobb.ipynb)"
   ]
  },
  {
   "cell_type": "code",
   "execution_count": null,
   "metadata": {},
   "outputs": [],
   "source": []
  }
 ],
 "metadata": {
  "kernelspec": {
   "display_name": "Python 3",
   "language": "python",
   "name": "python3"
  },
  "language_info": {
   "codemirror_mode": {
    "name": "ipython",
    "version": 3
   },
   "file_extension": ".py",
   "mimetype": "text/x-python",
   "name": "python",
   "nbconvert_exporter": "python",
   "pygments_lexer": "ipython3",
   "version": "3.7.6"
  }
 },
 "nbformat": 4,
 "nbformat_minor": 4
}
