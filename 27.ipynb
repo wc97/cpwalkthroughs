{
 "cells": [
  {
   "cell_type": "markdown",
   "metadata": {},
   "source": [
    "### Challenge 27: Recover the key from CBC with IV=Key\n",
    "\n",
    "[Back to Index](CryptoPalsWalkthroughs_Cobb.ipynb)"
   ]
  },
  {
   "cell_type": "markdown",
   "metadata": {},
   "source": [
    "<div class=\"alert alert-block alert-info\">\n",
    "\n",
    "Take your code from the CBC exercise and modify it so that it repurposes the key for CBC encryption as the IV.\n",
    "\n",
    "Applications sometimes use the key as an IV on the auspices that both the sender and the receiver have to know the key already, and can save some space by using it as both a key and an IV.\n",
    "\n",
    "Using the key as an IV is insecure; an attacker that can modify ciphertext in flight can get the receiver to decrypt a value that will reveal the key.\n",
    "\n",
    "The CBC code from exercise 16 encrypts a URL string. Verify each byte of the plaintext for ASCII compliance (ie, look for high-ASCII values). Noncompliant messages should raise an exception or return an error that includes the decrypted plaintext (this happens all the time in real systems, for what it's worth).\n",
    "\n",
    "Use your code to encrypt a message that is at least 3 blocks long:\n",
    "\n",
    "```AES-CBC(P_1, P_2, P_3) -> C_1, C_2, C_3```\n",
    "\n",
    "Modify the message (you are now the attacker):\n",
    "\n",
    "```C_1, C_2, C_3 -> C_1, 0, C_1```\n",
    "\n",
    "Decrypt the message (you are now the receiver) and raise the appropriate error if high-ASCII is found.\n",
    "\n",
    "As the attacker, recovering the plaintext from the error, extract the key:\n",
    "\n",
    "```P'_1 XOR P'_3```\n",
    "\n",
    "</div>"
   ]
  },
  {
   "cell_type": "markdown",
   "metadata": {},
   "source": [
    "The CBC bit-flipping attack was [Challenge 16](16.ipynb).  "
   ]
  },
  {
   "cell_type": "code",
   "execution_count": 1,
   "metadata": {},
   "outputs": [],
   "source": [
    "import cryptopals as cp\n",
    "from Crypto import Random"
   ]
  },
  {
   "cell_type": "markdown",
   "metadata": {},
   "source": [
    "<div class=\"alert alert-block alert-info\">\n",
    "Generate a random AES key.\n",
    "</div>\n",
    "\n",
    "I just discovered the Crypto random library -- which has get_random_bytes and getrandbits.  Will use those from here out."
   ]
  },
  {
   "cell_type": "code",
   "execution_count": 7,
   "metadata": {},
   "outputs": [],
   "source": [
    "# ---------UNKNOWN PARAMETERS ------------\n",
    "#unknown_key = Random.get_random_bytes(16)\n",
    "unknown_key = b'DOGEATDOGEATDOGD'\n",
    "unknown_IV = unknown_key\n",
    "# ---------END UNKNOWN PARAMETERS---------"
   ]
  },
  {
   "cell_type": "markdown",
   "metadata": {},
   "source": [
    "<div class=\"alert alert-block alert-info\">\n",
    "\n",
    "Use your code to encrypt a message that is at least 3 blocks long:\n",
    "\n",
    "```AES-CBC(P_1, P_2, P_3) -> C_1, C_2, C_3```\n",
    "\n",
    "</div>"
   ]
  },
  {
   "cell_type": "code",
   "execution_count": 8,
   "metadata": {},
   "outputs": [],
   "source": [
    "P_1 = b'0123456789ABCDEF'\n",
    "P_2 = b'0123456789ABCDEF'\n",
    "P_3 = b'0123456789ABCDEF'\n",
    "\n",
    "CT = cp.AESEncrypt(P_1+P_2+P_3, unknown_key, 'CBC', unknown_IV)"
   ]
  },
  {
   "cell_type": "markdown",
   "metadata": {},
   "source": [
    "<div class=\"alert alert-block alert-info\">\n",
    "    \n",
    "Modify the message (you are now the attacker):\n",
    "\n",
    "```C_1, C_2, C_3 -> C_1, 0, C_1```\n",
    "</div>"
   ]
  },
  {
   "cell_type": "code",
   "execution_count": 9,
   "metadata": {},
   "outputs": [],
   "source": [
    "CT_malicious = CT[0:16] + b'\\x00'*16 + CT[0:16] + CT[48:]"
   ]
  },
  {
   "cell_type": "markdown",
   "metadata": {},
   "source": [
    "<div class=\"alert alert-block alert-info\">\n",
    "\n",
    "Decrypt the message (you are now the receiver) and raise the appropriate error if high-ASCII is found.\n",
    "\n",
    "</div>"
   ]
  },
  {
   "cell_type": "code",
   "execution_count": 10,
   "metadata": {},
   "outputs": [],
   "source": [
    "def Challenge27_decrypt_verify(CT, key, IV):\n",
    "    \n",
    "    PT = cp.AESDecrypt(CT, key, 'CBC', IV)    \n",
    "    if any(int(PT) > 127):\n",
    "        raise(ValueError(PT))"
   ]
  },
  {
   "cell_type": "markdown",
   "metadata": {},
   "source": [
    "Call the function with our malicious ciphertext.  \n",
    "\n",
    "When the exception returns the plaintext, scrape it off so we can use it to recover the key."
   ]
  },
  {
   "cell_type": "code",
   "execution_count": 10,
   "metadata": {},
   "outputs": [
    {
     "name": "stdout",
     "output_type": "stream",
     "text": [
      "b'0123456789ABCDEF\\x1c\\xfe\\xc9od I\\xe4\\xb9;\\tutr\\xb8%t~uvuarx\\x7f|\\x00\\x16\\x07\\x0b\\x02\\x02<\\xdb\\x0bf\\xd8\\xa6\\xafx\\x8d\\xbf\\x81]\\x91\\xfd9\\x12'\n"
     ]
    }
   ],
   "source": [
    "try:\n",
    "    Challenge27_decrypt_verify(CT_malicious, unknown_key, unknown_IV)\n",
    "except ValueError as Argument:\n",
    "    \n",
    "    PT = eval(Argument.args[0][40:])\n",
    "    \n",
    "print(PT)"
   ]
  },
  {
   "cell_type": "markdown",
   "metadata": {},
   "source": [
    "<div class=\"alert alert-block alert-info\">\n",
    "    \n",
    "As the attacker, recovering the plaintext from the error, extract the key:\n",
    "\n",
    "```P'_1 XOR P'_3```\n",
    "\n",
    "</div>"
   ]
  },
  {
   "cell_type": "code",
   "execution_count": 11,
   "metadata": {},
   "outputs": [
    {
     "name": "stdout",
     "output_type": "stream",
     "text": [
      "You win\n",
      "Extracted Key:  b'DOGEATDOGEATDOGD'\n"
     ]
    }
   ],
   "source": [
    "key_guess = cp.bitwise_xor(PT[0:16], PT[32:48])\n",
    "\n",
    "if key_guess == unknown_key:\n",
    "    print('You win')\n",
    "    print(f'Extracted Key:  {key_guess}')\n",
    "else:\n",
    "    print('Try again')"
   ]
  },
  {
   "cell_type": "markdown",
   "metadata": {},
   "source": [
    "[Back to Index](CryptoPalsWalkthroughs_Cobb.ipynb)"
   ]
  }
 ],
 "metadata": {
  "kernelspec": {
   "display_name": "Python 3",
   "language": "python",
   "name": "python3"
  },
  "language_info": {
   "codemirror_mode": {
    "name": "ipython",
    "version": 3
   },
   "file_extension": ".py",
   "mimetype": "text/x-python",
   "name": "python",
   "nbconvert_exporter": "python",
   "pygments_lexer": "ipython3",
   "version": "3.7.4"
  }
 },
 "nbformat": 4,
 "nbformat_minor": 4
}
