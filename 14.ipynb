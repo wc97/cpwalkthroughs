{
 "cells": [
  {
   "cell_type": "markdown",
   "metadata": {},
   "source": [
    "### Challenge 14:  Byte-at-a-time ECB decryption (Harder)\n",
    "\n",
    "[Back to Index](CryptoPalsWalkthroughs_Cobb.ipynb)"
   ]
  },
  {
   "cell_type": "markdown",
   "metadata": {},
   "source": [
    "<div class=\"alert alert-block alert-info\">\n",
    "\n",
    "Take your oracle function from [Challenge 12](12.ipynb). Now generate a random count of random bytes and prepend this string to every plaintext. You are now doing:\n",
    "\n",
    "```AES-128-ECB(random-prefix || attacker-controlled || target-bytes, random-key)```\n",
    "    \n",
    "Same goal: decrypt the target-bytes.    \n",
    "    \n",
    "</div>"
   ]
  },
  {
   "cell_type": "code",
   "execution_count": 1,
   "metadata": {},
   "outputs": [],
   "source": [
    "import base64\n",
    "import cryptopals as cp\n",
    "from numpy.random import randint\n",
    "\n",
    "# ---------UNKNOWN PARAMETERS ------------\n",
    "unknown_key = bytes(list(randint(0, 17, 16)))\n",
    "random_prefix = bytes(list(randint(0, 256, randint(0, 16))))\n",
    "# ---------END UNKNOWN PARAMETERS---------"
   ]
  },
  {
   "cell_type": "code",
   "execution_count": 2,
   "metadata": {},
   "outputs": [],
   "source": [
    "def encryption_oracle_3(data, key, random_prefix):\n",
    "\n",
    "    unknown_string = \"Um9sbGluJyBpbiBteSA1LjAKV2l0aCBteSByYWctdG9wIGRvd24gc\\\n",
    "                      28gbXkgaGFpciBjYW4gYmxvdwpUaGUgZ2lybGllcyBvbiBzdGFuZG\\\n",
    "                      J5IHdhdmluZyBqdXN0IHRvIHNheSBoaQpEaWQgeW91IHN0b3A/IE5\\\n",
    "                      vLCBJIGp1c3QgZHJvdmUgYnkK\"\n",
    "\n",
    "    AES_input = random_prefix + data + base64.b64decode(unknown_string)\n",
    "\n",
    "    return(cp.AESEncrypt(AES_input, key))"
   ]
  },
  {
   "cell_type": "markdown",
   "metadata": {},
   "source": [
    "<div class=\"alert alert-block alert-info\">\n",
    "  \n",
    "### Stop and think for a second.\n",
    "\n",
    "What's harder than challenge #12 about doing this? How would you overcome that obstacle? The hint is: you're using all the tools you already have; no crazy math is required.\n",
    "\n",
    "Think \"STIMULUS\" and \"RESPONSE\".\n",
    "    \n",
    "</div>"
   ]
  },
  {
   "cell_type": "code",
   "execution_count": 3,
   "metadata": {},
   "outputs": [
    {
     "name": "stdout",
     "output_type": "stream",
     "text": [
      "Random prefix length is: 3\n",
      "Probe data length is: 45\n"
     ]
    }
   ],
   "source": [
    "plaintext = b''\n",
    "\n",
    "# First step... find length of the random prefix.\n",
    "# Assume we already know the oracle is using ECB), and block size is 16\n",
    "# Feed it 2 identical blocks plus incrementally add one more byte that's\n",
    "# different from the byte used for those until we detect two identical \n",
    "# (adjacent) ciphertext blocks \n",
    "\n",
    "probe_data = (b'\\xff' * 32)\n",
    "block_size_found = False\n",
    "\n",
    "byte_ctr = 0\n",
    "while not(block_size_found):\n",
    "    \n",
    "    ciphertext = encryption_oracle_3(probe_data, unknown_key, random_prefix)\n",
    "    \n",
    "    # We'll use a slightly different ECB detector -- I want to identify any \n",
    "    # adjacent identical blocks of ciphertext...\n",
    "    ECB_block_idx = cp.detect_AES_ECB_adjacent(ciphertext)\n",
    "    \n",
    "    if ECB_block_idx >= 0:\n",
    "        block_size_found = True\n",
    "    elif byte_ctr > 16:\n",
    "        print('Not able to find padding that led to ECB detect!')\n",
    "        break\n",
    "    else:\n",
    "        byte_ctr += 1\n",
    "        probe_data = b'\\x00' + probe_data\n",
    "    \n",
    "print(f\"Random prefix length is: {len(random_prefix)}\")\n",
    "print(f\"Probe data length is: {len(probe_data)}\")"
   ]
  },
  {
   "cell_type": "code",
   "execution_count": 10,
   "metadata": {},
   "outputs": [
    {
     "name": "stdout",
     "output_type": "stream",
     "text": [
      "No match found at block_idx: 9, chr_idx: 4\n",
      "\n",
      "*******************\n",
      "Decoded the secret message!  Plaintext is:\n",
      "\n",
      "Rollin' in my 5.0\n",
      "With my rag-top down so my hair can blow\n",
      "The girlies on standby waving just to say hi\n",
      "Did you stop? No, I just drove by\n",
      "\u0001\u0000\u0000\u0000\u0000\u0000\u0000\u0000\u0000\u0000\u0000\u0000\u0000\u0000\u0000\u0000\u0000\u0000\u0000\u0000\u0000\u0000\u0000\u0000\u0000\u0000\u0000\u0000\u0000\u0000\u0000\u0000\u0000\u0000\u0000\u0000\u0000\u0000\u0000\u0000\u0000\u0000\u0000\u0000\u0000\u0000\u0000\u0000\u0000\u0000\u0000\u0000\u0000\u0000\u0000\u0000\u0000\u0000\u0000\u0000\u0000\u0000\u0000\u0000\u0000\u0000\u0000\u0000\u0000\u0000\u0000\u0000\u0000\u0000\u0000\u0000\u0000\u0000\u0000\u0000\u0000\u0000\u0000\u0000\u0000\u0000\u0000\u0000\u0000\u0000\u0000\u0000\u0000\u0000\u0000\u0000\u0000\u0000\u0000\u0000\u0000\u0000\u0000\u0000\u0000\u0000\u0000\u0000\u0000\u0000\u0000\u0000\u0000\u0000\u0000\u0000\u0000\u0000\u0000\u0000\u0000\u0000\u0000\u0000\u0000\u0000\u0000\u0000\u0000\u0000\u0000\u0000\u0000\u0000\u0000\u0000\u0000\u0000\u0000\u0000\u0000\u0000\u0000\u0000\u0000\u0000\u0000\u0000\u0000\u0000\u0000\u0000\u0000\u0000\u0000\u0000\u0000\u0000\u0000\u0000\u0000\u0000\u0000\u0000\u0000\u0000\u0000\u0000\u0000\u0000\u0000\u0000\u0000\u0000\u0000\u0000\u0000\u0000\u0000\u0000\u0000\u0000\u0000\u0000\u0000\u0000\u0000\u0000\u0000\u0000\u0000\u0000\u0000\u0000\u0000\u0000\u0000\u0000\u0000\u0000\u0000\u0000\u0000\u0000\u0000\u0000\u0000\u0000\u0000\u0000\u0000\u0000\u0000\u0000\u0000\u0000\u0000\u0000\u0000\u0000\u0000\u0000\u0000\u0000\u0000\u0000\u0000\u0000\u0000\u0000\u0000\u0000\u0000\u0000\u0000\u0000\u0000\u0000\u0000\u0000\u0000\u0000\u0000\u0000\u0000\u0000\u0000\u0000\u0000\u0000\u0000\u0000\u0000\u0000\u0000\u0000\u0000\u0000\u0000\u0000\u0000\u0000\u0000\u0000\u0000\u0000\u0000\u0000\u0000\u0000\u0000\u0000\u0000\u0000\u0000\u0000\u0000\u0000\u0000\u0000\u0000\u0000\u0000\u0000\u0000\u0000\u0000\u0000\u0000\u0000\u0000\u0000\u0000\u0000\u0000\u0000\u0000\u0000\u0000\u0000\u0000\u0000\u0000\u0000\u0000\u0000\u0000\u0000\u0000\u0000\u0000\u0000\u0000\u0000\u0000\u0000\u0000\u0000\u0000\u0000\u0000\u0000\u0000\u0000\u0000\u0000\u0000\u0000\u0000\u0000\u0000\u0000\u0000\u0000\u0000\u0000\u0000\u0000\u0000\u0000\u0000\u0000\u0000\u0000\u0000\u0000\u0000\u0000\u0000\u0000\u0000\u0000\u0000\u0000\u0000\u0000\u0000\u0000\u0000\u0000\u0000\u0000\u0000\u0000\u0000\u0000\u0000\u0000\u0000\u0000\u0000\u0000\u0000\u0000\u0000\u0000\u0000\u0000\u0000\u0000\u0000\u0000\u0000\u0000\u0000\u0000\u0000\u0000\u0000\u0000\u0000\u0000\u0000\u0000\u0000\u0000\u0000\u0000\u0000\u0000\u0000\u0000\u0000\u0000\u0000\u0000\u0000\u0000\u0000\u0000\u0000\u0000\u0000\u0000\u0000\u0000\u0000\u0000\u0000\u0000\u0000\u0000\u0000\u0000\u0000\u0000\u0000\u0000\u0000\u0000\u0000\u0000\u0000\u0000\u0000\u0000\u0000\u0000\u0000\u0000\u0000\u0000\u0000\u0000\u0000\u0000\u0000\u0000\u0000\u0000\u0000\u0000\u0000\u0000\u0000\u0000\u0000\u0000\u0000\u0000\u0000\u0000\u0000\u0000\u0000\u0000\u0000\u0000\u0000\u0000\u0000\u0000\u0000\u0000\u0000\u0000\u0000\u0000\u0000\u0000\u0000\u0000\u0000\u0000\u0000\u0000\u0000\u0000\u0000\u0000\u0000\u0000\u0000\u0000\u0000\u0000\u0000\u0000\u0000\u0000\u0000\u0000\u0000\u0000\u0000\u0000\u0000\u0000\u0000\u0000\u0000\u0000\u0000\u0000\u0000\u0000\u0000\u0000\u0000\u0000\u0000\u0000\u0000\u0000\u0000\u0000\u0000\u0000\u0000\u0000\u0000\u0000\u0000\u0000\u0000\u0000\u0000\u0000\u0000\u0000\u0000\u0000\u0000\u0000\u0000\u0000\u0000\u0000\u0000\u0000\u0000\u0000\u0000\u0000\u0000\u0000\u0000\u0000\u0000\u0000\u0000\u0000\u0000\u0000\u0000\u0000\u0000\u0000\u0000\u0000\u0000\u0000\u0000\u0000\u0000\u0000\u0000\u0000\u0000\u0000\u0000\u0000\u0000\u0000\u0000\u0000\u0000\u0000\u0000\u0000\u0000\u0000\u0000\u0000\u0000\u0000\u0000\u0000\u0000\u0000\u0000\u0000\u0000\u0000\u0000\u0000\u0000\u0000\u0000\u0000\u0000\u0000\u0000\u0000\u0000\u0000\u0000\u0000\u0000\u0000\u0000\u0000\u0000\u0000\u0000\u0000\u0000\u0000\u0000\u0000\u0000\u0000\u0000\u0000\u0000\u0000\u0000\u0000\u0000\u0000\u0000\u0000\u0000\u0000\u0000\u0000\u0000\u0000\u0000\u0000\u0000\u0000\u0000\u0000\u0000\u0000\u0000\u0000\u0000\u0000\u0000\u0000\u0000\u0000\u0000\u0000\u0000\u0000\u0000\u0000\u0000\u0000\u0000\u0000\u0000\u0000\u0000\u0000\u0000\u0000\u0000\u0000\u0000\u0000\u0000\u0000\u0000\u0000\u0000\u0000\u0000\u0000\u0000\u0000\u0000\u0000\n"
     ]
    }
   ],
   "source": [
    "block_idx_offset = ECB_block_idx + 2\n",
    "for block_idx in range(1,10):\n",
    "    \n",
    "    for ii in range(15, -1, -1):\n",
    "\n",
    "        malicious_data = probe_data + (b'\\x00' * ii)\n",
    "        output_to_match = cp.encryption_oracle_3(malicious_data, unknown_key, random_prefix)\n",
    "        malicious_data += plaintext\n",
    "        #pdb.set_trace()\n",
    "        Found = False\n",
    "        \n",
    "        start_idx = block_idx + block_idx_offset\n",
    "        \n",
    "        for chr_idx in range(256):\n",
    "            # Try a character\n",
    "            try_data = malicious_data + bytes([chr_idx])\n",
    "            # print(try_data)\n",
    "            if  cp.encryption_oracle_3(try_data, unknown_key, random_prefix)[0:(start_idx*16)-1] == output_to_match[0:(start_idx*16)-1]:\n",
    "                Found = True\n",
    "                #print(f'Found match! Byte value is:  {chr_idx}')\n",
    "                #print(try_data)\n",
    "                plaintext += bytes([chr_idx])\n",
    "                break\n",
    "                \n",
    "        if Found == False:\n",
    "            print(f\"No match found at block_idx: {block_idx}, chr_idx: {ii}\")\n",
    "            break\n",
    "            \n",
    "print()            \n",
    "print('*******************')\n",
    "print('Decoded the secret message!  Plaintext is:\\n')\n",
    "print(plaintext.decode())"
   ]
  },
  {
   "cell_type": "markdown",
   "metadata": {},
   "source": [
    "[Back to Index](CryptoPalsWalkthroughs_Cobb.ipynb)"
   ]
  }
 ],
 "metadata": {
  "kernelspec": {
   "display_name": "Python 3",
   "language": "python",
   "name": "python3"
  },
  "language_info": {
   "codemirror_mode": {
    "name": "ipython",
    "version": 3
   },
   "file_extension": ".py",
   "mimetype": "text/x-python",
   "name": "python",
   "nbconvert_exporter": "python",
   "pygments_lexer": "ipython3",
   "version": "3.7.6"
  }
 },
 "nbformat": 4,
 "nbformat_minor": 4
}
