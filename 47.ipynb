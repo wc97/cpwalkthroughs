{
 "cells": [
  {
   "cell_type": "markdown",
   "metadata": {},
   "source": [
    "#### Challenge 47: Bleichenbacher's PKCS 1.5 Padding Oracle (Simple Case)\n",
    "\n",
    "[Back to Index](CryptoPalsWalkthroughs_Cobb.ipynb)"
   ]
  },
  {
   "cell_type": "code",
   "execution_count": 1,
   "metadata": {},
   "outputs": [],
   "source": [
    "from Crypto.Util import number\n",
    "from Crypto.Random import random\n",
    "from Crypto.Hash.SHA256 import SHA256Hash\n",
    "\n",
    "import math\n",
    "import base64\n",
    "import cryptopals as cp\n",
    "\n",
    "from decimal import *"
   ]
  },
  {
   "cell_type": "markdown",
   "metadata": {},
   "source": [
    "<div class=\"alert alert-block alert-info\">   \n",
    "    \n",
    "<div class=\"alert alert-block alert-warning\">\n",
    "    \n",
    "#### **Degree of difficulty: Moderate**\n",
    "These next two challenges are the hardest in the entire set.\n",
    "\n",
    "</div>\n",
    "    \n",
    "Let us Google this for you: [Chosen ciphertext attacks against protocols based on the RSA encryption standard](http://lmgtfy.com/?q=%22Chosen+ciphertext+attacks+against+protocols+based+on+the+RSA+encryption+standard%22)\n",
    "\n",
    "This is Bleichenbacher from CRYPTO '98; I get a bunch of .ps versions on the first search page.\n",
    "\n",
    "Read the paper. It describes a padding oracle attack on PKCS#1v1.5. The attack is similar in spirit to the CBC padding oracle you built earlier; it's an \"adaptive chosen ciphertext attack\", which means you start with a valid ciphertext and repeatedly corrupt it, bouncing the adulterated ciphertexts off the target to learn things about the original.\n",
    "\n",
    "This is a common flaw even in modern cryptosystems that use RSA.\n",
    "\n",
    "It's also the most fun you can have building a crypto attack. It involves 9th grade math, but also has you implementing an algorithm that is complex on par with finding a minimum cost spanning tree.\n",
    "\n",
    "The setup:\n",
    "\n",
    "- Build an oracle function, just like you did in the last exercise, but have it check for plaintext[0] == 0 and plaintext[1] == 2.\n",
    "- Generate a 256 bit keypair (that is, p and q will each be 128 bit primes), [n, e, d].\n",
    "- Plug d and n into your oracle function.\n",
    "- PKCS1.5-pad a short message, like \"kick it, CC\", and call it \"m\". Encrypt to to get \"c\".\n",
    "- Decrypt \"c\" using your padding oracle.\n",
    "\n",
    "For this challenge, we've used an untenably small RSA modulus (you could factor this keypair instantly). That's because this exercise targets a specific step in the Bleichenbacher paper --- Step 2c, which implements a fast, nearly O(log n) search for the plaintext.\n",
    "\n",
    "Things you want to keep in mind as you read the paper:\n",
    "\n",
    "- RSA ciphertexts are just numbers.\n",
    "- RSA is \"homomorphic\" with respect to multiplication, which means you can multiply c * RSA(2) to get a c' that will decrypt to plaintext * 2. This is mindbending but easy to see if you play with it in code --- try multiplying ciphertexts with the RSA encryptions of numbers so you know you grok it.\n",
    "- What you need to grok for this challenge is that Bleichenbacher uses multiplication on ciphertexts the way the CBC oracle uses XORs of random blocks.\n",
    "- A PKCS#1v1.5 conformant plaintext, one that starts with 00:02, must be a number between 02:00:00...00 and 02:FF:FF..FF --- in other words, 2B and 3B-1, where B is the bit size of the modulus minus the first 16 bits. When you see 2B and 3B, that's the idea the paper is playing with.\n",
    "\n",
    "To decrypt \"c\", you'll need Step 2a from the paper (the search for the first \"s\" that, when encrypted and multiplied with the ciphertext, produces a conformant plaintext), Step 2c, the fast O(log n) search, and Step 3.\n",
    "\n",
    "Your Step 3 code is probably not going to need to handle multiple ranges.\n",
    "\n",
    "We recommend you just use the raw math from paper (check, check, double check your translation to code) and not spend too much time trying to grok how the math works.\n",
    "\n",
    "</div>    "
   ]
  },
  {
   "cell_type": "markdown",
   "metadata": {},
   "source": [
    "---"
   ]
  },
  {
   "cell_type": "markdown",
   "metadata": {},
   "source": [
    "<div class=\"alert alert-block alert-info\">   \n",
    "\n",
    "- Generate a 256 bit keypair (that is, p and q will each be 128 bit primes), [n, e, d].\n",
    "    \n",
    "</div> "
   ]
  },
  {
   "cell_type": "code",
   "execution_count": 2,
   "metadata": {},
   "outputs": [
    {
     "name": "stdout",
     "output_type": "stream",
     "text": [
      ".\n",
      "Generated working parameters:\n",
      "\n",
      "e=3\n",
      "d=53777869319703031599516294649703618585025636491959090953832213672012582755667\n",
      "n=80666803979554547399274441974555427878108500570338866219237207416391833746109\n"
     ]
    }
   ],
   "source": [
    "valid_params = False\n",
    "\n",
    "while not(valid_params):\n",
    "    \n",
    "    print('.', end='')\n",
    "    p = number.getPrime(256 // 2)\n",
    "    q = number.getPrime(256 // 2)\n",
    "\n",
    "    n = (p * q)\n",
    "\n",
    "    et = (p-1) * (q-1)\n",
    "    e = 3\n",
    "\n",
    "    d = cp.invmod(e, et)\n",
    "\n",
    "    # Check parameters:\n",
    "    PT = random.randint(0, 2**32-1)\n",
    "    valid_params = (pow(pow(PT, e, n), d, n) == PT)\n",
    "\n",
    "print(f\"\\nGenerated working parameters:\\n\")\n",
    "print(f\"e={e}\\nd={d}\\nn={n}\")"
   ]
  },
  {
   "cell_type": "code",
   "execution_count": 3,
   "metadata": {},
   "outputs": [],
   "source": [
    "# Set decimal precision to handle math  for this challenge...\n",
    "getcontext().prec = int(math.log2(n))"
   ]
  },
  {
   "cell_type": "code",
   "execution_count": 4,
   "metadata": {},
   "outputs": [],
   "source": [
    "e, d, n = cp.genRSA_keypair(1024)"
   ]
  },
  {
   "cell_type": "markdown",
   "metadata": {},
   "source": [
    "<div class=\"alert alert-block alert-info\">   \n",
    "    \n",
    "- Build an oracle function, just like you did in the last exercise, but have it check for plaintext[0] == 0 and plaintext[1] == 2.\n",
    "- Plug d and n into your oracle function.\n",
    "- PKCS1.5-pad a short message, like \"kick it, CC\", and call it \"m\". Encrypt to to get \"c\".\n",
    "\n",
    "</div> \n",
    "\n",
    "Here is [RFC2313](https://tools.ietf.org/html/rfc2313) that describes PKCS1.5 padding for RSA.  For encryption, we assume block type 02.  \n",
    "\n",
    "The encryption block `EB` is constructed as:\n",
    "\n",
    "`EB = 00 || BT || PS || 00 || D`\n",
    "\n",
    "where:\n",
    "\n",
    "- `BT = 02`\n",
    "- `PS` is the padding string, which is pseudorandomly generated w/ no `00`'s\n",
    "- `D` is the data\n",
    "\n",
    "The length of the encryption block `EB` is equal to `k`, where `k` is the length of the modulus in octets (bytes).  "
   ]
  },
  {
   "cell_type": "code",
   "execution_count": 5,
   "metadata": {},
   "outputs": [],
   "source": [
    "def remove_pkcs15_padding(byte_data, n):\n",
    "    \n",
    "    k = math.ceil(math.log2(n)) // 8\n",
    "    \n",
    "    if len(byte_data)==(k-1):        \n",
    "        byte_data = b'\\x00' + byte_data\n",
    "    \n",
    "    if not(len(byte_data) == k):\n",
    "        return(False)\n",
    "\n",
    "    if not(byte_data[1] == 0x02):\n",
    "        return(False)\n",
    "    \n",
    "    data_idx = byte_data.find(b'\\x00', 2) + 1   \n",
    "    payload = byte_data[data_idx:]\n",
    "    \n",
    "    return(payload)\n",
    "    \n",
    "def validate_pkcs15_padding(byte_data, n):\n",
    "\n",
    "    k = math.ceil(math.log2(n)) // 8\n",
    "    \n",
    "    if len(byte_data)==(k-1):        \n",
    "        byte_data = b'\\x00' + byte_data\n",
    "    \n",
    "    if not(len(byte_data) == k):\n",
    "        return(False)\n",
    "\n",
    "    if not(byte_data[1] == 0x02):\n",
    "        return(False)\n",
    "    \n",
    "    data_idx = byte_data.find(b'\\x00', 3) + 1\n",
    "    \n",
    "    return not(data_idx == 0)\n",
    "\n",
    "def simple_validate_padding(byte_data, n):\n",
    "\n",
    "    k = math.ceil(math.log2(n)) // 8\n",
    "    \n",
    "    if len(byte_data)==(k-1):        \n",
    "        byte_data = b'\\x00' + byte_data\n",
    "    \n",
    "    if not(len(byte_data) == k):\n",
    "        return(False)\n",
    "\n",
    "    if not(byte_data[1] == 0x02):\n",
    "        return(False)\n",
    "\n",
    "    return(True)\n",
    "\n",
    "def pkcs15_pad(data, n):\n",
    "    \n",
    "    k = math.ceil(math.log2(n)) // 8\n",
    "    data_len = len(data)\n",
    "    ps_len = k - data_len - 3\n",
    "    \n",
    "    b00 = b'\\x00'\n",
    "    BT = b'\\x02'\n",
    "    PS = []\n",
    "    \n",
    "    for ii in range(ps_len):\n",
    "        PS.append(random.randint(1, 255))\n",
    "    \n",
    "    EB = b00 + BT + bytes(PS) + b00 + data\n",
    "    \n",
    "    return(EB)\n",
    "\n",
    "def bytes_to_bigint(byte_data):\n",
    "    \n",
    "    return(int(byte_data.hex(), 16))\n",
    "\n",
    "def bigint_to_bytes(int_data):\n",
    "    \n",
    "    hex_data = hex(int_data)[2:]\n",
    "    if len(hex_data) % 2:\n",
    "        hex_data = '0' + hex_data\n",
    "    return(bytes.fromhex(hex_data))\n"
   ]
  },
  {
   "cell_type": "code",
   "execution_count": 6,
   "metadata": {},
   "outputs": [],
   "source": [
    "def challenge47_oracle(ciphertext):\n",
    "    \n",
    "    plaintext = pow(ciphertext, d, n)\n",
    "    plaintext_hex = hex(plaintext)[2:]\n",
    "    if (len(plaintext_hex) % 2):\n",
    "        plaintext_hex = '0' + plaintext_hex\n",
    "    plaintext_bytes = bytes.fromhex(plaintext_hex)\n",
    "    \n",
    "    return( simple_validate_padding(plaintext_bytes, n) )\n",
    "        "
   ]
  },
  {
   "cell_type": "code",
   "execution_count": 7,
   "metadata": {},
   "outputs": [
    {
     "data": {
      "text/plain": [
       "b\"\\x02\\xcb\\xa5Tr\\x88S\\x1e\\x8d\\xcd*\\xbe\\x04sW\\xde\\x93\\xb4\\x93\\xe7}\\xe9\\x1d\\xa8\\xae\\xf8X:\\xcb\\xd4b\\xb2\\x99\\x94\\xf2\\x92\\x8e\\x89\\x05k\\xb2g\\x11\\xca\\xd6\\x03\\x87\\xb1\\xc4\\x96c\\xa2\\x92=\\x8e8\\xc3T\\xdaN\\xea\\x1ejyRp\\xbe\\x9c\\x03\\xa3\\x8b\\xb5T8I\\x81 \\xbe:U\\x0f$$\\xf5\\xb9\\xf4\\xbe\\xa1M\\x9eF}\\xac\\xc9\\xde'\\xb7\\xdf\\x0c\\x88#\\xcc\\xdb\\x021\\xba\\xafC-\\xed\\xf1\\t\\xd1E\\x85\\xa1E\\xc5<\\x10kX\\x00help\""
      ]
     },
     "execution_count": 7,
     "metadata": {},
     "output_type": "execute_result"
    }
   ],
   "source": [
    "x = pkcs15_pad(b'help', n)\n",
    "x_int = bytes_to_bigint(x)\n",
    "bigint_to_bytes(x_int)"
   ]
  },
  {
   "cell_type": "code",
   "execution_count": 8,
   "metadata": {},
   "outputs": [
    {
     "name": "stdout",
     "output_type": "stream",
     "text": [
      "This is a test message\n"
     ]
    }
   ],
   "source": [
    "# Test everything out to make sure it works....\n",
    "m = bytes_to_bigint(pkcs15_pad(b'This is a test message', n))\n",
    "c = pow(m, e, n)\n",
    "m_r = bigint_to_bytes(pow(c, d, n))\n",
    "assert(validate_pkcs15_padding(m_r, n))\n",
    "m_r = remove_pkcs15_padding(m_r, n)\n",
    "print(m_r.decode())"
   ]
  },
  {
   "cell_type": "code",
   "execution_count": 9,
   "metadata": {},
   "outputs": [],
   "source": [
    "m = bytes_to_bigint(pkcs15_pad(b'kick it, cc', n))\n",
    "c = pow(m, e, n)"
   ]
  },
  {
   "cell_type": "markdown",
   "metadata": {},
   "source": [
    "<div class=\"alert alert-block alert-info\">   \n",
    "\n",
    "- Decrypt \"c\" using your padding oracle.\n",
    "    \n",
    "</div>"
   ]
  },
  {
   "cell_type": "code",
   "execution_count": 10,
   "metadata": {},
   "outputs": [],
   "source": [
    "# Implement Step #3 - Narrowing set of solutions.\n",
    "\n",
    "def update_intervals(M_Last, s):\n",
    "    \n",
    "    M = []\n",
    "\n",
    "    for interval in M_Last:\n",
    "\n",
    "        a, b = interval[1], interval[2]\n",
    "        r_min = math.floor((a*s - 3*B + 1) / n)\n",
    "        r_max = math.ceil((b*s - 2*B) / n)\n",
    "\n",
    "        for r in range(r_min, r_max+1):\n",
    "            new_a = max(a, math.ceil((2*B+r*n)/s))\n",
    "            new_b = min(b, math.floor((3*B - 1 + r*n) / s))\n",
    "            if new_b >= new_a:\n",
    "                M.append([r, new_a, new_b])\n",
    "    \n",
    "    if M == []:\n",
    "        return(M_Last)\n",
    "        print('Houston, we have a problem')\n",
    "    else:\n",
    "        return(M)"
   ]
  },
  {
   "cell_type": "code",
   "execution_count": 11,
   "metadata": {},
   "outputs": [],
   "source": [
    "# Implement Step 2.a - find an initial s that results in conforming PKCS padding:\n",
    "\n",
    "k = math.ceil(math.log2(n)) // 8\n",
    "B = Decimal(2**(8*(k-2)))\n",
    "s0 = math.ceil(n / (3*B))\n",
    "\n",
    "conforming = False\n",
    "while not(conforming):\n",
    "    \n",
    "    c_ = c*(pow(s0, e, n)) % n\n",
    "    conforming = challenge47_oracle(c_)\n",
    "    if not(conforming):\n",
    "        s0 += 1    "
   ]
  },
  {
   "cell_type": "code",
   "execution_count": null,
   "metadata": {},
   "outputs": [
    {
     "name": "stdout",
     "output_type": "stream",
     "text": [
      "......................................................"
     ]
    }
   ],
   "source": [
    "s = s0\n",
    "\n",
    "M = [[0, 2*B, 3*B - 1]]\n",
    "M = update_intervals(M, s)\n",
    "\n",
    "a = Decimal(0)\n",
    "b = Decimal(0)\n",
    "r = Decimal(0)\n",
    "\n",
    "done = False\n",
    "while not(done):\n",
    "\n",
    "    conforming = False\n",
    "    #print(M)\n",
    "    if len(M) > 1:\n",
    "        \n",
    "        # Step 2.b:  Searching with more than one interval left\n",
    "        \n",
    "        while not(conforming):\n",
    "            s += 1\n",
    "            c_ = c*(pow(s, e, n)) % n\n",
    "            conforming = challenge47_oracle(c_)\n",
    "            \n",
    "    else: \n",
    "        \n",
    "        # Step 2.c:  Searching with one interval left\n",
    "        \n",
    "        a, b = M[0][1], M[0][2]        \n",
    "        r = math.floor(2*((b*s - 2*B) / n)) % n\n",
    "        #print(f'Searching:\\nr={r}\\na={a}\\nb={b}')\n",
    "        #print(bigint_to_bytes(m))\n",
    "        #print(bigint_to_bytes(b))\n",
    "        #print()\n",
    "        print('.', end='')\n",
    "        while not(conforming):\n",
    "            \n",
    "            s_min = math.floor((2*B + r*n) / b)\n",
    "            s_max = math.ceil((3*B + r*n) / a)\n",
    "            s = s_min\n",
    "            \n",
    "            while not(conforming) and (s <= s_max):\n",
    "                \n",
    "                c_ = c*(pow(s, e, n)) % n\n",
    "                conforming = challenge47_oracle(c_)\n",
    "                if not(conforming):\n",
    "                    # s += 1\n",
    "                    s = (s + 1) % n\n",
    "                \n",
    "            r += 1\n",
    "                \n",
    "    M = update_intervals(M, s)\n",
    "    if (len(M) == 1) and (M[0][1] == M[0][2]): \n",
    "        done = True"
   ]
  },
  {
   "cell_type": "code",
   "execution_count": null,
   "metadata": {},
   "outputs": [],
   "source": [
    "recovered_msg = remove_pkcs15_padding(bigint_to_bytes(M[0][1]), n)\n",
    "print(recovered_msg)\n"
   ]
  },
  {
   "cell_type": "markdown",
   "metadata": {
    "slideshow": {
     "slide_type": "slide"
    }
   },
   "source": [
    "[Back to Index](CryptoPalsWalkthroughs_Cobb.ipynb)"
   ]
  }
 ],
 "metadata": {
  "kernelspec": {
   "display_name": "Python 3",
   "language": "python",
   "name": "python3"
  },
  "language_info": {
   "codemirror_mode": {
    "name": "ipython",
    "version": 3
   },
   "file_extension": ".py",
   "mimetype": "text/x-python",
   "name": "python",
   "nbconvert_exporter": "python",
   "pygments_lexer": "ipython3",
   "version": "3.7.4"
  }
 },
 "nbformat": 4,
 "nbformat_minor": 4
}
