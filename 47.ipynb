{
 "cells": [
  {
   "cell_type": "markdown",
   "metadata": {},
   "source": [
    "#### Challenge 46: RSA parity oracle\n",
    "\n",
    "[Back to Index](CryptoPalsWalkthroughs_Cobb.ipynb)"
   ]
  },
  {
   "cell_type": "code",
   "execution_count": 1,
   "metadata": {},
   "outputs": [],
   "source": [
    "from Crypto.Util import number\n",
    "from Crypto.Random import random\n",
    "from Crypto.Hash.SHA256 import SHA256Hash\n",
    "\n",
    "import base64\n",
    "import cryptopals as cp"
   ]
  },
  {
   "cell_type": "markdown",
   "metadata": {},
   "source": [
    "<div class=\"alert alert-block alert-info\">   \n",
    "\n",
    "\n",
    "    \n",
    "#\n",
    "Bleichenbacher's PKCS 1.5 Padding Oracle (Simple Case)\n",
    "    \n",
    "<div class=\"alert alert-block alert-warning\">\n",
    "Degree of difficulty: moderate\n",
    "These next two challenges are the hardest in the entire set.\n",
    "\n",
    "</div>\n",
    "    \n",
    "Let us Google this for you: [Chosen ciphertext attacks against protocols based on the RSA encryption standard](http://lmgtfy.com/?q=%22Chosen+ciphertext+attacks+against+protocols+based+on+the+RSA+encryption+standard%22)\n",
    "\n",
    "This is Bleichenbacher from CRYPTO '98; I get a bunch of .ps versions on the first search page.\n",
    "\n",
    "Read the paper. It describes a padding oracle attack on PKCS#1v1.5. The attack is similar in spirit to the CBC padding oracle you built earlier; it's an \"adaptive chosen ciphertext attack\", which means you start with a valid ciphertext and repeatedly corrupt it, bouncing the adulterated ciphertexts off the target to learn things about the original.\n",
    "\n",
    "This is a common flaw even in modern cryptosystems that use RSA.\n",
    "\n",
    "It's also the most fun you can have building a crypto attack. It involves 9th grade math, but also has you implementing an algorithm that is complex on par with finding a minimum cost spanning tree.\n",
    "\n",
    "The setup:\n",
    "\n",
    "- Build an oracle function, just like you did in the last exercise, but have it check for plaintext[0] == 0 and plaintext[1] == 2.\n",
    "- Generate a 256 bit keypair (that is, p and q will each be 128 bit primes), [n, e, d].\n",
    "- Plug d and n into your oracle function.\n",
    "- PKCS1.5-pad a short message, like \"kick it, CC\", and call it \"m\". Encrypt to to get \"c\".\n",
    "- Decrypt \"c\" using your padding oracle.\n",
    "\n",
    "For this challenge, we've used an untenably small RSA modulus (you could factor this keypair instantly). That's because this exercise targets a specific step in the Bleichenbacher paper --- Step 2c, which implements a fast, nearly O(log n) search for the plaintext.\n",
    "\n",
    "Things you want to keep in mind as you read the paper:\n",
    "\n",
    "- RSA ciphertexts are just numbers.\n",
    "- RSA is \"homomorphic\" with respect to multiplication, which means you can multiply c * RSA(2) to get a c' that will decrypt to plaintext * 2. This is mindbending but easy to see if you play with it in code --- try multiplying ciphertexts with the RSA encryptions of numbers so you know you grok it.\n",
    "- What you need to grok for this challenge is that Bleichenbacher uses multiplication on ciphertexts the way the CBC oracle uses XORs of random blocks.\n",
    "- A PKCS#1v1.5 conformant plaintext, one that starts with 00:02, must be a number between 02:00:00...00 and 02:FF:FF..FF --- in other words, 2B and 3B-1, where B is the bit size of the modulus minus the first 16 bits. When you see 2B and 3B, that's the idea the paper is playing with.\n",
    "\n",
    "To decrypt \"c\", you'll need Step 2a from the paper (the search for the first \"s\" that, when encrypted and multiplied with the ciphertext, produces a conformant plaintext), Step 2c, the fast O(log n) search, and Step 3.\n",
    "\n",
    "Your Step 3 code is probably not going to need to handle multiple ranges.\n",
    "\n",
    "We recommend you just use the raw math from paper (check, check, double check your translation to code) and not spend too much time trying to grok how the math works.\n",
    "\n",
    "</div>    "
   ]
  },
  {
   "cell_type": "markdown",
   "metadata": {},
   "source": [
    "<div class=\"alert alert-block alert-info\">   \n",
    "    \n",
    "- Build an oracle function, just like you did in the last exercise, but have it check for plaintext[0] == 0 and plaintext[1] == 2.\n",
    "\n",
    "</div> "
   ]
  },
  {
   "cell_type": "code",
   "execution_count": null,
   "metadata": {},
   "outputs": [],
   "source": []
  },
  {
   "cell_type": "markdown",
   "metadata": {},
   "source": [
    "<div class=\"alert alert-block alert-info\">   \n",
    "\n",
    "- Generate a 256 bit keypair (that is, p and q will each be 128 bit primes), [n, e, d].\n",
    "    \n",
    "</div> "
   ]
  },
  {
   "cell_type": "code",
   "execution_count": 14,
   "metadata": {},
   "outputs": [
    {
     "name": "stdout",
     "output_type": "stream",
     "text": [
      ".\n",
      ".\n",
      ".\n",
      ".\n",
      ".\n",
      ".\n",
      "\n",
      "Generated working parameters:\n",
      "\n",
      "e=3\n",
      "d=44081457870200272099100494409308834928123733124593474073757273801083752060171\n",
      "n=66122186805300408148650741613963252392712037124957477611809672313313637454137\n"
     ]
    }
   ],
   "source": [
    "valid_params = False\n",
    "x\n",
    "while not(valid_params):\n",
    "    \n",
    "    print('.')\n",
    "    p = number.getPrime(256 // 2)\n",
    "    q = number.getPrime(256 // 2)\n",
    "\n",
    "    n = (p * q)\n",
    "\n",
    "    et = (p-1) * (q-1)\n",
    "    e = 3\n",
    "\n",
    "    d = cp.invmod(e, et)\n",
    "\n",
    "    # Check parameters:\n",
    "    PT = random.randint(0, 2**32-1)\n",
    "    valid_params = (pow(pow(PT, e, n), d, n) == PT)\n",
    "\n",
    "print(f\"\\nGenerated working parameters:\\n\")\n",
    "print(f\"e={e}\\nd={d}\\nn={n}\")"
   ]
  },
  {
   "cell_type": "markdown",
   "metadata": {},
   "source": [
    "<div class=\"alert alert-block alert-info\">   \n",
    "\n",
    "- Plug d and n into your oracle function.\n",
    "    \n",
    "</div> "
   ]
  },
  {
   "cell_type": "code",
   "execution_count": null,
   "metadata": {},
   "outputs": [],
   "source": []
  },
  {
   "cell_type": "markdown",
   "metadata": {},
   "source": [
    "<div class=\"alert alert-block alert-info\">   \n",
    "\n",
    "- PKCS1.5-pad a short message, like \"kick it, CC\", and call it \"m\". Encrypt to to get \"c\".\n",
    "\n",
    "</div> "
   ]
  },
  {
   "cell_type": "markdown",
   "metadata": {},
   "source": [
    "<div class=\"alert alert-block alert-info\">   \n",
    "\n",
    "- Decrypt \"c\" using your padding oracle.\n",
    "    \n",
    "</div>"
   ]
  },
  {
   "cell_type": "code",
   "execution_count": 1,
   "metadata": {},
   "outputs": [
    {
     "ename": "NameError",
     "evalue": "name 'cp' is not defined",
     "output_type": "error",
     "traceback": [
      "\u001b[1;31m---------------------------------------------------------------------------\u001b[0m",
      "\u001b[1;31mNameError\u001b[0m                                 Traceback (most recent call last)",
      "\u001b[1;32m<ipython-input-1-ac7cbef8db6f>\u001b[0m in \u001b[0;36m<module>\u001b[1;34m\u001b[0m\n\u001b[1;32m----> 1\u001b[1;33m \u001b[0me\u001b[0m\u001b[1;33m,\u001b[0m\u001b[0md\u001b[0m\u001b[1;33m,\u001b[0m\u001b[0mn\u001b[0m \u001b[1;33m=\u001b[0m \u001b[0mcp\u001b[0m\u001b[1;33m.\u001b[0m\u001b[0mgenRSA_keypair\u001b[0m\u001b[1;33m(\u001b[0m\u001b[1;36m1024\u001b[0m\u001b[1;33m)\u001b[0m\u001b[1;33m\u001b[0m\u001b[1;33m\u001b[0m\u001b[0m\n\u001b[0m",
      "\u001b[1;31mNameError\u001b[0m: name 'cp' is not defined"
     ]
    }
   ],
   "source": [
    "e,d,n = cp.genRSA_keypair(1024)"
   ]
  },
  {
   "cell_type": "markdown",
   "metadata": {},
   "source": [
    "<div class=\"alert alert-block alert-info\">   \n",
    "\n",
    "Write an oracle function that uses the private key to answer the question \"is the plaintext of this message even or odd\" (is the last bit of the message 0 or 1). Imagine for instance a server that accepted RSA-encrypted messages and checked the parity of their decryption to validate them, and spat out an error if they were of the wrong parity.\n",
    "\n",
    "Anyways: function returning true or false based on whether the decrypted plaintext was even or odd, and nothing else.\n",
    "\n",
    "</div>"
   ]
  },
  {
   "cell_type": "code",
   "execution_count": null,
   "metadata": {},
   "outputs": [],
   "source": [
    "def pt_is_odd(ciphertext):\n",
    "    \"\"\"Return True of plaintext is odd.  False if plaintext is even.\"\"\"\n",
    "    plaintext = pow(ciphertext, d, n)\n",
    "    return((plaintext % 2) == 1)"
   ]
  },
  {
   "cell_type": "markdown",
   "metadata": {},
   "source": [
    "<div class=\"alert alert-block alert-info\">   \n",
    "    \n",
    "Take the following string and un-Base64 it in your code (without looking at it!) and encrypt it to the public key, creating a ciphertext:\n",
    "\n",
    "`VGhhdCdzIHdoeSBJIGZvdW5kIHlvdSBkb24ndCBwbGF5IGFyb3VuZCB3aXRoIHRoZSBGdW5reSBDb2xkIE1lZGluYQ==`\n",
    "\n",
    "</div>"
   ]
  },
  {
   "cell_type": "code",
   "execution_count": null,
   "metadata": {},
   "outputs": [],
   "source": [
    "s = 'VGhhdCdzIHdoeSBJIGZvdW5kIHlvdSBkb24ndCBwbGF5IGFyb3VuZCB3aXRoIHRoZSBGdW5reSBDb2xkIE1lZGluYQ=='\n",
    "s_int = int(base64.b64decode(s).hex(), 16)\n",
    "ciphertext = pow(s_int, e, n)"
   ]
  },
  {
   "cell_type": "markdown",
   "metadata": {},
   "source": [
    "<div class=\"alert alert-block alert-info\">   \n",
    "\n",
    "With your oracle function, you can trivially decrypt the message.\n",
    "\n",
    "Here's why:\n",
    "\n",
    "- RSA ciphertexts are just numbers. You can do trivial math on them. You can for instance multiply a ciphertext by the RSA-encryption of another number; the corresponding plaintext will be the product of those two numbers.\n",
    "- If you double a ciphertext (multiply it by `(2**e)%n)`, the resulting plaintext will (obviously) be either even or odd.\n",
    "- If the plaintext after doubling is even, doubling the plaintext didn't wrap the modulus --- the modulus is a prime number. That means the plaintext is less than half the modulus.\n",
    "\n",
    "You can repeatedly apply this heuristic, once per bit of the message, checking your oracle function each time.\n",
    "\n",
    "Your decryption function starts with bounds for the plaintext of `[0,n]`.\n",
    "\n",
    "Each iteration of the decryption cuts the bounds in half; either the upper bound is reduced by half, or the lower bound is.\n",
    "\n",
    "After `log2(n)` iterations, you have the decryption of the message.\n",
    "\n",
    "Print the upper bound of the message as a string at each iteration; you'll see the message decrypt \"hollywood style\".\n",
    "\n",
    "Decrypt the string (after encrypting it to a hidden private key) above.\n",
    "\n",
    "</div>"
   ]
  },
  {
   "cell_type": "code",
   "execution_count": null,
   "metadata": {},
   "outputs": [],
   "source": [
    "def print_it(x):\n",
    "    \n",
    "    hex_x = hex(x)[2:]\n",
    "    if len(hex_x) % 2:\n",
    "        hex_x = '0' + hex_x\n",
    "    print(bytes.fromhex(hex_x))"
   ]
  },
  {
   "cell_type": "code",
   "execution_count": 91,
   "metadata": {},
   "outputs": [
    {
     "name": "stdout",
     "output_type": "stream",
     "text": [
      "b\"That's why I found you don't play around with the Funky Cold Medin\\x1c\"\n"
     ]
    }
   ],
   "source": [
    "DISPLAY_PROGRESS = False\n",
    "\n",
    "lower_bound = 0\n",
    "upper_bound = n\n",
    "\n",
    "tmp = ciphertext\n",
    "\n",
    "while (upper_bound - lower_bound) > 0:\n",
    "    tmp = (tmp * pow(2, e, n)) % n\n",
    "    if pt_is_odd(tmp):\n",
    "        #lower_bound += (upper_bound - lower_bound) // 2\n",
    "        lower_bound = (lower_bound + upper_bound) // 2\n",
    "    else:        \n",
    "        #upper_bound -= (upper_bound - lower_bound) // 2\n",
    "        upper_bound = (lower_bound + upper_bound) // 2\n",
    "        \n",
    "    if DISPLAY_PROGRESS:\n",
    "        \n",
    "        print_it(upper_bound)\n",
    "       \n",
    "print_it(upper_bound)"
   ]
  },
  {
   "cell_type": "markdown",
   "metadata": {},
   "source": [
    "---\n",
    "\n",
    "So close, but not quite.  The last byte isn't being recovered properly...probably an issue related to integer math / rounding.\n",
    "\n",
    "I tried floats and they don't provide nearly enough precision.  Decimals are the thing to use here, and then set precision high enough to handle the big #'s we're dealing with.\n",
    "\n",
    "---"
   ]
  },
  {
   "cell_type": "code",
   "execution_count": 137,
   "metadata": {},
   "outputs": [
    {
     "data": {
      "text/plain": [
       "\u001b[1;31mInit signature:\u001b[0m \u001b[0mDecimal\u001b[0m\u001b[1;33m(\u001b[0m\u001b[0mvalue\u001b[0m\u001b[1;33m=\u001b[0m\u001b[1;34m'0'\u001b[0m\u001b[1;33m,\u001b[0m \u001b[0mcontext\u001b[0m\u001b[1;33m=\u001b[0m\u001b[1;32mNone\u001b[0m\u001b[1;33m)\u001b[0m\u001b[1;33m\u001b[0m\u001b[1;33m\u001b[0m\u001b[0m\n",
       "\u001b[1;31mDocstring:\u001b[0m     \n",
       "Construct a new Decimal object. 'value' can be an integer, string, tuple,\n",
       "or another Decimal object. If no value is given, return Decimal('0'). The\n",
       "context does not affect the conversion and is only passed to determine if\n",
       "the InvalidOperation trap is active.\n",
       "\u001b[1;31mFile:\u001b[0m           c:\\programdata\\anaconda3\\lib\\decimal.py\n",
       "\u001b[1;31mType:\u001b[0m           type\n",
       "\u001b[1;31mSubclasses:\u001b[0m     \n"
      ]
     },
     "metadata": {},
     "output_type": "display_data"
    }
   ],
   "source": [
    "?Decimal"
   ]
  },
  {
   "cell_type": "code",
   "execution_count": 90,
   "metadata": {},
   "outputs": [
    {
     "name": "stdout",
     "output_type": "stream",
     "text": [
      "b\"That's why I found you don't play around with the Funky Cold Medina\"\n"
     ]
    }
   ],
   "source": [
    "DISPLAY_PROGRESS = False\n",
    "\n",
    "import math\n",
    "from decimal import *\n",
    "\n",
    "getcontext().prec = int(math.log2(n))\n",
    "\n",
    "lower_bound = Decimal(0)\n",
    "upper_bound = Decimal(n)\n",
    "\n",
    "tmp = ciphertext\n",
    "\n",
    "while (upper_bound - lower_bound) >= 0.5:\n",
    "    tmp = (tmp * pow(2, e, n)) % n\n",
    "    if pt_is_odd(tmp):\n",
    "        lower_bound += (upper_bound - lower_bound) / 2\n",
    "    else:        \n",
    "        upper_bound -= (upper_bound - lower_bound) / 2\n",
    "        \n",
    "    if DISPLAY_PROGRESS:\n",
    "        \n",
    "        print_it(int(upper_bound))\n",
    "       \n",
    "print_it(int(upper_bound))"
   ]
  },
  {
   "cell_type": "markdown",
   "metadata": {},
   "source": [
    "Let's try to understand what's going on here a little better.  Let's choose some small RSA parameters:"
   ]
  },
  {
   "cell_type": "code",
   "execution_count": 99,
   "metadata": {},
   "outputs": [
    {
     "name": "stdout",
     "output_type": "stream",
     "text": [
      "e=3, d=107, n=187\n"
     ]
    }
   ],
   "source": [
    "p = 11\n",
    "q = 17\n",
    "n = p*q\n",
    "et = (p-1)*(q-1)\n",
    "e=3\n",
    "d = cp.invmod(e, et)\n",
    "print(f\"e={e}, d={d}, n={n}\")"
   ]
  },
  {
   "cell_type": "markdown",
   "metadata": {},
   "source": [
    "Make sure my Simple RSA works properly:"
   ]
  },
  {
   "cell_type": "code",
   "execution_count": 100,
   "metadata": {},
   "outputs": [],
   "source": [
    "x = 7\n",
    "assert(((((x**e)%n)**d) % n) == x)"
   ]
  },
  {
   "cell_type": "markdown",
   "metadata": {},
   "source": [
    "Now, demonstrate that math on the ciphertext ==> same math on the plaintexts:"
   ]
  },
  {
   "cell_type": "code",
   "execution_count": 101,
   "metadata": {},
   "outputs": [],
   "source": [
    "pt = 3\n",
    "ct = (pt**e) % n"
   ]
  },
  {
   "cell_type": "markdown",
   "metadata": {},
   "source": [
    "The challenge says that:\n",
    "    \n",
    "    - If you double a ciphertext (multiply it by `(2**e) % n)`, the resulting plaintext will (obviously) be either even or odd. \n",
    "    - If the plaintext after doubling is even, doubling the plaintext didn't wrap the modulus --- the modulus is a prime number. That means the plaintext is less than half the modulus.\n",
    "    \n",
    "The second one took me a bit to grasp.  Since the modulus is a prime #, it is odd.  Doubling a # should always result in an even result in our normal math world.  But, if the doubled # is bigger than the modulus, the result is the result minus the modulus -- so an even # minus the odd modulus will be odd.  \n",
    "\n",
    "Therefore, if doubling a # gives an even result, the original # was less than half the modulus.  If doubling it gives an odd result, the original was > than the modulus.  \n",
    "\n",
    "Doing this iteratively, we're actually multiplying by powers of two:  `2**1 = 2`, `2**2 = 4`, `2**3 = 8`, etc. and narrowing down the possible value of the plaintext based on the parity of the result.\n"
   ]
  },
  {
   "cell_type": "markdown",
   "metadata": {},
   "source": [
    "Demonstrate: If I multiply the ciphertext by an \"encrypted\" 2, it will also multiply the plaintext by 2:"
   ]
  },
  {
   "cell_type": "code",
   "execution_count": 120,
   "metadata": {},
   "outputs": [
    {
     "name": "stdout",
     "output_type": "stream",
     "text": [
      "67\n"
     ]
    }
   ],
   "source": [
    "ct = (ct * (2**e % n))\n",
    "pt = (ct**d) % n\n",
    "print(pt)"
   ]
  },
  {
   "cell_type": "code",
   "execution_count": 141,
   "metadata": {},
   "outputs": [
    {
     "name": "stdout",
     "output_type": "stream",
     "text": [
      "\n",
      "Lower bound = 0\n",
      "Upper Bound = 187\n",
      "\n",
      "bit = 1\n",
      "Multiplier = 2\n",
      "Oracle saw: 150\n",
      "PT was even, so original PT is < (187 - 93.5) = 93.5\n",
      "\n",
      "Lower bound = 0\n",
      "Upper Bound = 93.5\n",
      "\n",
      "bit = 2\n",
      "Multiplier = 4\n",
      "Oracle saw: 113\n",
      "PT was odd, so original PT is > (0 + 46.75) = 46.75\n",
      "\n",
      "Lower bound = 46.75\n",
      "Upper Bound = 93.5\n",
      "\n",
      "bit = 3\n",
      "Multiplier = 8\n",
      "Oracle saw: 39\n",
      "PT was odd, so original PT is > (46.75 + 23.375) = 70.125\n",
      "\n",
      "Lower bound = 70.125\n",
      "Upper Bound = 93.5\n",
      "\n",
      "bit = 4\n",
      "Multiplier = 16\n",
      "Oracle saw: 78\n",
      "PT was even, so original PT is < (93.5 - 11.6875) = 81.8125\n",
      "\n",
      "Lower bound = 70.125\n",
      "Upper Bound = 81.8125\n",
      "\n",
      "bit = 5\n",
      "Multiplier = 32\n",
      "Oracle saw: 156\n",
      "PT was even, so original PT is < (81.8125 - 5.84375) = 75.96875\n",
      "\n",
      "Lower bound = 70.125\n",
      "Upper Bound = 75.96875\n",
      "\n",
      "bit = 6\n",
      "Multiplier = 64\n",
      "Oracle saw: 125\n",
      "PT was odd, so original PT is > (70.125 + 2.921875) = 73.046875\n",
      "\n",
      "Lower bound = 73.046875\n",
      "Upper Bound = 75.96875\n",
      "\n",
      "bit = 7\n",
      "Multiplier = 128\n",
      "Oracle saw: 63\n",
      "PT was odd, so original PT is > (73.046875 + 1.4609375) = 74.5078125\n",
      "\n",
      "Lower bound = 74.5078125\n",
      "Upper Bound = 75.96875\n",
      "\n",
      "bit = 8\n",
      "Multiplier = 256\n",
      "Oracle saw: 126\n",
      "PT was even, so original PT is < (75.96875 - 0.73046875) = 75.23828125\n",
      "\n",
      "Lower bound = 74.5078125\n",
      "Upper Bound = 75.23828125\n",
      "Guessed 'PT' = 75\n"
     ]
    }
   ],
   "source": [
    "import numpy as np\n",
    "\n",
    "pt = 75 \n",
    "original_ct = (pt**e) % n\n",
    "\n",
    "lower_bound = 0\n",
    "upper_bound = n\n",
    "\n",
    "count = 0\n",
    "\n",
    "n_bits = int(math.log2(n))+1\n",
    "\n",
    "for bit_idx in range(n_bits):\n",
    "    \n",
    "    print()\n",
    "    print(f\"Lower bound = {lower_bound}\")\n",
    "    print(f\"Upper Bound = {upper_bound}\")\n",
    "    print()\n",
    "    multiplier = (2**(bit_idx+1))\n",
    "    print(f\"bit = {bit_idx+1}\")\n",
    "    print(f\"Multiplier = {multiplier}\")\n",
    "    ct = (original_ct * (multiplier**e % n) % n)\n",
    "    \n",
    "    # Peak at the current pt:\n",
    "    print(f\"Oracle saw: {ct**d % n}\")\n",
    "    \n",
    "    pt_odd = pt_is_odd(ct)\n",
    "    if pt_odd:\n",
    "        print(f\"PT was odd, so original PT is > ({lower_bound} + {n/multiplier}) = {lower_bound + n/multiplier}\")\n",
    "    else:\n",
    "        print(f\"PT was even, so original PT is < ({upper_bound} - {n/multiplier}) = {upper_bound - n/multiplier}\")\n",
    "\n",
    "    if pt_odd:\n",
    "        lower_bound += (upper_bound - lower_bound) / 2\n",
    "    else:        \n",
    "        upper_bound -= (upper_bound - lower_bound) / 2\n",
    "\n",
    "print()\n",
    "print(f\"Lower bound = {lower_bound}\")\n",
    "print(f\"Upper Bound = {upper_bound}\")\n",
    "print(f\"Guessed 'PT' = {int(np.round((upper_bound + lower_bound)/2))}\")"
   ]
  },
  {
   "cell_type": "markdown",
   "metadata": {
    "slideshow": {
     "slide_type": "slide"
    }
   },
   "source": [
    "[Back to Index](CryptoPalsWalkthroughs_Cobb.ipynb)"
   ]
  },
  {
   "cell_type": "code",
   "execution_count": null,
   "metadata": {},
   "outputs": [],
   "source": []
  }
 ],
 "metadata": {
  "kernelspec": {
   "display_name": "Python 3",
   "language": "python",
   "name": "python3"
  },
  "language_info": {
   "codemirror_mode": {
    "name": "ipython",
    "version": 3
   },
   "file_extension": ".py",
   "mimetype": "text/x-python",
   "name": "python",
   "nbconvert_exporter": "python",
   "pygments_lexer": "ipython3",
   "version": "3.7.6"
  }
 },
 "nbformat": 4,
 "nbformat_minor": 4
}
