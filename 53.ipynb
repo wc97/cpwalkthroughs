{
 "cells": [
  {
   "cell_type": "markdown",
   "metadata": {},
   "source": [
    "#### Challenge 53:  Kelsey and Schneier's Expandable Messages\n",
    "\n",
    "[Back to Index](CryptoPalsWalkthroughs_Cobb.ipynb)"
   ]
  },
  {
   "cell_type": "code",
   "execution_count": 1,
   "metadata": {},
   "outputs": [],
   "source": [
    "from Crypto.Random import random\n",
    "from Crypto.Cipher import AES\n",
    "from Crypto.Cipher import Blowfish\n",
    "import cryptopals as cp\n",
    "import pdb"
   ]
  },
  {
   "cell_type": "markdown",
   "metadata": {},
   "source": [
    "<div class=\"alert alert-block alert-info\">   \n",
    "\n",
    "One of the basic yardsticks we use to judge a cryptographic hash function is its resistance to second preimage attacks. That means that if I give you `x` and `y` such that `H(x) = y`, you should have a tough time finding `x'` such that `H(x') = H(x) = y`.\n",
    "\n",
    "How tough? Brute-force tough. For a `2^b` hash function, we want second preimage attacks to cost `2^b` operations.\n",
    "\n",
    "This turns out not to be the case for very long messages.\n",
    "\n",
    "Consider the problem we're trying to solve: we want to find a message that will collide with `H(x)` in the very last block. But there are a ton of intermediate blocks, each with its own intermediate hash state.\n",
    "\n",
    "What if we could collide into one of those? We could then append all the following blocks from the original message to produce the original `H(x)`. Almost.\n",
    "\n",
    "We can't do this exactly because the padding will mess things up.\n",
    "\n",
    "What we need are expandable messages.\n",
    "\n",
    "In the last problem we used multicollisions to produce `2^n` colliding messages for `n*2^(b/2)` effort. We can use the same principles to produce a set of messages of length `(k, k + 2^k - 1)` for a given `k`.\n",
    "    \n",
    "</div>"
   ]
  },
  {
   "cell_type": "markdown",
   "metadata": {},
   "source": [
    "--- \n",
    "\n",
    "Here's the reference paper by Kelsey and Schneier:\n",
    "\n",
    "[https://www.schneier.com/academic/archives/2005/01/second_preimages_on.html](https://www.schneier.com/academic/archives/2005/01/second_preimages_on.html)\n",
    "    \n",
    "    \n",
    "> __Abstract.__  We expand a previous result of Dean [Dea99] to provide asecond preimage attack on alln-bit iterated hash functions with Damg ̊ard-Merkle strengthening andn-bit intermediate states, allowing a secondpreimage to be found for a 2k-message-block message with aboutk ×2n/2+1+2n−k+1 work. Using RIPEMD-160 as an example, our attack canfind a second preimage for a 2^60 byte message in about 2^106 work, rather than the previously expected 2^160 work. We also provide slightly cheaperways to find multicollisions than the method of Joux [Jou04]. Both of these results are based on expandable messages–patterns for producing messages of varying length, which all collide on the intermediate hash result immediately after processing the message. We provide an algorithm for finding expandable messages for any n-bit hash function built usingthe Damgard-Merkle construction, which requires only a small multiple of the work done to find a single collision in the hash function.\n",
    "---"
   ]
  },
  {
   "cell_type": "markdown",
   "metadata": {},
   "source": [
    "<div class=\"alert alert-block alert-info\">  \n",
    "    \n",
    "Here's how:\n",
    "\n",
    "- Starting from the hash function's initial state, find a collision between a single-block message and a message of `2^(k-1)+1` blocks. DO NOT hash the entire long message each time. Choose `2^(k-1)` dummy blocks, hash those, then focus on the last block.\n",
    "    \n",
    "</div>"
   ]
  },
  {
   "cell_type": "code",
   "execution_count": 61,
   "metadata": {},
   "outputs": [
    {
     "name": "stdout",
     "output_type": "stream",
     "text": [
      "No collision found for this dummy state.  Resetting.\n",
      "\n",
      "Collision Found:\n",
      "\n",
      "Original Message:  b'\\xc6W'\n",
      "Original Hash Digest:  b'\\xb4\\x8b'\n",
      "\n",
      "Colliding Message for k=5:  b'\\x81\\xe3=V\\x12G\\xda\\xdcq\\xb8}\\xf0.\\xcb~\\x95\\xe9p[;\\x1d\\xd5,\\x87ai\\xe4F\\xd2vO\\xbc\"v'\n",
      "Colliding Hash Digest:  b'\\xb4\\x8b'\n"
     ]
    }
   ],
   "source": [
    "b = 16\n",
    "block_size = b//8\n",
    "k = 5\n",
    "N_blocks = 2**(k-1)+1\n",
    "N_dummy_blocks = N_blocks - 1\n",
    "\n",
    "# Start with some random b-bit message and initial state:\n",
    "message = random.Random.get_random_bytes(block_size)\n",
    "initial_state = random.Random.get_random_bytes(block_size)\n",
    "original_H = cp.MD(message, initial_state, block_size)\n",
    "\n",
    "# Now search for a collision...\n",
    "\n",
    "collision_found = False\n",
    "while not(collision_found):\n",
    "\n",
    "    dummy_blocks = b''\n",
    "    for ii in range(N_dummy_blocks):\n",
    "        dummy_blocks += random.Random.get_random_bytes(block_size)    \n",
    "\n",
    "    db = 0\n",
    "    max_msg = 2**b\n",
    "    dummy_state = cp.MD(dummy_blocks, initial_state, block_size)\n",
    "    \n",
    "    while not(collision_found) and (db < max_msg):\n",
    "\n",
    "        db_bytes = db.to_bytes(block_size, 'little')\n",
    "        this_H = cp.MD(db_bytes, dummy_state, block_size)\n",
    "\n",
    "        if original_H == this_H:\n",
    "            colliding_message = dummy_blocks + db_bytes\n",
    "            colliding_H = cp.MD(colliding_message, initial_state, block_size)\n",
    "            collision_found = True\n",
    "        else:\n",
    "            db += 1\n",
    "\n",
    "    print('No collision found for this dummy state.  Resetting.')\n",
    "                \n",
    "print(\"\\nCollision Found:\\n\")\n",
    "print(f\"Original Message:  {message}\")\n",
    "print(f\"Original Hash Digest:  {original_H}\\n\")\n",
    "print(f\"Colliding Message for k={k}:  {colliding_message}\")\n",
    "print(f\"Colliding Hash Digest:  {colliding_H}\")"
   ]
  },
  {
   "cell_type": "markdown",
   "metadata": {},
   "source": [
    "<div class=\"alert alert-block alert-info\">  \n",
    "\n",
    "- Take the output state from the first step. Use this as your new initial state and find another collision between a single-block message and a message of `2^(k-2)+1` blocks.\n",
    "\n",
    "</div>"
   ]
  },
  {
   "cell_type": "code",
   "execution_count": 62,
   "metadata": {},
   "outputs": [
    {
     "name": "stdout",
     "output_type": "stream",
     "text": [
      "No collision found for this dummy state.  Resetting.\n",
      "\n",
      "Collision Found:\n",
      "\n",
      "Original Message:  b'\\xc6W'\n",
      "Original Hash Digest:  b'\\xb4\\x8b'\n",
      "\n",
      "Colliding Message for k=5:  b'\\x81\\xe3=V\\x12G\\xda\\xdcq\\xb8}\\xf0.\\xcb~\\x95\\xe9p[;\\x1d\\xd5,\\x87ai\\xe4F\\xd2vO\\xbc\"v\\xce\\xa7r\\xd6{\\xe4dE6\\xac\\x94[\\x85e\\x9f-\\xb9 '\n",
      "Colliding Hash Digest:  b'\\xb4\\x8b'\n"
     ]
    }
   ],
   "source": [
    "starting_state = colliding_H\n",
    "N_blocks = 2**(k-2)+1\n",
    "N_dummy_blocks = N_blocks - 1\n",
    "\n",
    "# Now search for a collision...\n",
    "\n",
    "collision_found = False\n",
    "while not(collision_found):\n",
    "\n",
    "    dummy_blocks = b''\n",
    "    for ii in range(N_dummy_blocks):\n",
    "        dummy_blocks += random.Random.get_random_bytes(block_size)    \n",
    "\n",
    "    db = 0\n",
    "    max_msg = 2**b\n",
    "    dummy_state = cp.MD(dummy_blocks, starting_state, block_size)\n",
    "    \n",
    "    while not(collision_found) and (db < max_msg):\n",
    "\n",
    "        db_bytes = db.to_bytes(block_size, 'little')\n",
    "        this_H = cp.MD(db_bytes, dummy_state, block_size)\n",
    "\n",
    "        if original_H == this_H:\n",
    "            new_colliding_message = colliding_message + dummy_blocks + db_bytes\n",
    "            colliding_H = cp.MD(new_colliding_message, initial_state, block_size)\n",
    "            collision_found = True\n",
    "        else:\n",
    "            db += 1\n",
    "\n",
    "    print('No collision found for this dummy state.  Resetting.')\n",
    "                \n",
    "print(\"\\nCollision Found:\\n\")\n",
    "print(f\"Original Message:  {message}\")\n",
    "print(f\"Original Hash Digest:  {original_H}\\n\")\n",
    "print(f\"Colliding Message for k={k}:  {new_colliding_message}\")\n",
    "print(f\"Colliding Hash Digest:  {colliding_H}\")"
   ]
  },
  {
   "cell_type": "markdown",
   "metadata": {},
   "source": [
    "<div class=\"alert alert-block alert-info\">  \n",
    "    \n",
    "- Repeat this process `k` total times. Your last collision should be between a single-block message and a message of `2^0+1 = 2` blocks.\n",
    "    \n",
    "</div>"
   ]
  },
  {
   "cell_type": "code",
   "execution_count": 66,
   "metadata": {},
   "outputs": [
    {
     "name": "stdout",
     "output_type": "stream",
     "text": [
      "Processing:  ii=1\n",
      "No collision found--generating new dummy values....\n",
      "No collision found--generating new dummy values....\n",
      "No collision found--generating new dummy values....\n",
      "Processing:  ii=2\n",
      "No collision found--generating new dummy values....\n",
      "Processing:  ii=3\n",
      "No collision found--generating new dummy values....\n",
      "No collision found--generating new dummy values....\n",
      "Processing:  ii=4\n",
      "No collision found--generating new dummy values....\n",
      "Processing:  ii=5\n",
      "No collision found--generating new dummy values....\n",
      "\n",
      "Collision Found:\n",
      "\n",
      "Original Message:  b'\\xc6W'\n",
      "Original Hash Digest:  b'\\xb4\\x8b'\n",
      "\n",
      "Hashes of generated collisions:\n",
      "b'\\xb4\\x8b'\n",
      "b'\\xb4\\x8b'\n",
      "b'\\xb4\\x8b'\n",
      "b'\\xb4\\x8b'\n",
      "b'\\xb4\\x8b'\n"
     ]
    }
   ],
   "source": [
    "k = 5\n",
    "max_msg = 2**b\n",
    "round_initial_state = initial_state\n",
    "colliding_message = b''\n",
    "collision_list = []\n",
    "\n",
    "for ii in range(1, k + 1):\n",
    "\n",
    "    print(f\"Processing:  ii={ii}\")\n",
    "    N_blocks = 2**(k - ii) + 1\n",
    "    N_dummy_blocks = N_blocks - 1\n",
    "\n",
    "    collision_found = False\n",
    "    while not(collision_found):\n",
    "\n",
    "        dummy_blocks = b''\n",
    "        for ii in range(N_dummy_blocks):\n",
    "            dummy_blocks += random.Random.get_random_bytes(block_size)    \n",
    "        dummy_hash = cp.MD(dummy_blocks, round_initial_state, block_size)\n",
    "        \n",
    "        db = 0\n",
    "        while not(collision_found) and (db < max_msg):\n",
    "\n",
    "            last_block = db.to_bytes(block_size, 'little')\n",
    "            this_H = cp.MD(last_block, dummy_hash, block_size)\n",
    "\n",
    "            if original_H == this_H:\n",
    "                colliding_message = colliding_message + dummy_blocks + last_block\n",
    "                collision_list.append(colliding_message)\n",
    "                collision_found = True\n",
    "                round_initial_state = this_H\n",
    "            else:\n",
    "                db += 1\n",
    "\n",
    "        print('No collision found--generating new dummy values....') \n",
    "            \n",
    "colliding_H = cp.MD(colliding_message, initial_dummy_state, block_size)            \n",
    "print(\"\\nCollision Found:\\n\")\n",
    "print(f\"Original Message:  {message}\")\n",
    "print(f\"Original Hash Digest:  {original_H}\\n\")\n",
    "print(\"Hashes of generated collisions:\")\n",
    "for c in collision_list:\n",
    "    print(cp.MD(c, initial_state, block_size))"
   ]
  },
  {
   "cell_type": "markdown",
   "metadata": {},
   "source": [
    "<div class=\"alert alert-block alert-info\">  \n",
    "    \n",
    "Now you can make a message of any length in `(k, k + 2^k - 1)` blocks by choosing the appropriate message (short or long) from each pair.\n",
    "\n",
    "Now we're ready to attack a long message `M` of `2^k` blocks.\n",
    "\n",
    "1. Generate an expandable message of length `(k, k + 2^k - 1)` using the strategy outlined above.\n",
    "2. Hash `M` and generate a map of intermediate hash states to the block indices that they correspond to.\n",
    "3. From your expandable message's final state, find a single-block \"bridge\" to intermediate state in your map. Note the index i it maps to.\n",
    "4. Use your expandable message to generate a prefix of the right length such that `len(prefix || bridge || M[i..]) = len(M)`.\n",
    "\n",
    "The padding in the final block should now be correct, and your forgery should hash to the same value as `M`.\n",
    "\n",
    "    \n",
    "</div>"
   ]
  },
  {
   "cell_type": "markdown",
   "metadata": {
    "slideshow": {
     "slide_type": "slide"
    }
   },
   "source": [
    "[Back to Index](CryptoPalsWalkthroughs_Cobb.ipynb)"
   ]
  }
 ],
 "metadata": {
  "kernelspec": {
   "display_name": "Python 3",
   "language": "python",
   "name": "python3"
  },
  "language_info": {
   "codemirror_mode": {
    "name": "ipython",
    "version": 3
   },
   "file_extension": ".py",
   "mimetype": "text/x-python",
   "name": "python",
   "nbconvert_exporter": "python",
   "pygments_lexer": "ipython3",
   "version": "3.7.6"
  }
 },
 "nbformat": 4,
 "nbformat_minor": 4
}
