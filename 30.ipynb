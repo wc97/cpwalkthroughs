{
 "cells": [
  {
   "cell_type": "markdown",
   "metadata": {},
   "source": [
    "### Challenge 30: Break an MD4 keyed MAC using length extension\n",
    "\n",
    "[Back to Index](CryptoPalsWalkthroughs_Cobb.ipynb)"
   ]
  },
  {
   "cell_type": "markdown",
   "metadata": {},
   "source": [
    "<div class=\"alert alert-block alert-info\">\n",
    "\n",
    "Second verse, same as the first, but use MD4 instead of SHA-1. Having done this attack once against SHA-1, the MD4 variant should take much less time; mostly just the time you'll spend Googling for an implementation of MD4.\n",
    "\n",
    "<div class=\"alert alert-block alert-warning\">\n",
    "\n",
    "#### **You're thinking, why did we bother with this?**\n",
    "\n",
    "Blame Stripe. In their second CTF game, the second-to-last challenge involved breaking an H(k, m) MAC with SHA1. Which meant that SHA1 code was floating all over the Internet. MD4 code, not so much.\n",
    "\n",
    "</div>\n",
    "\n",
    "\n",
    "</div>"
   ]
  },
  {
   "cell_type": "code",
   "execution_count": 1,
   "metadata": {},
   "outputs": [],
   "source": [
    "from Crypto import Random\n",
    "import cryptopals as cp\n",
    "import md4"
   ]
  },
  {
   "cell_type": "markdown",
   "metadata": {},
   "source": [
    "I used the pure Python3 MD4 implementation from [https://gist.github.com/BenWiederhake/eb6dfc2c31d3dc8c34508f4fd091cea9](https://gist.github.com/BenWiederhake/eb6dfc2c31d3dc8c34508f4fd091cea9)"
   ]
  },
  {
   "cell_type": "code",
   "execution_count": 2,
   "metadata": {},
   "outputs": [],
   "source": [
    "# From  https://gist.github.com/BenWiederhake/eb6dfc2c31d3dc8c34508f4fd091cea9\n",
    "\n",
    "import codecs\n",
    "import struct\n",
    "\n",
    "def leftrotate(i, n):\n",
    "    return ((i << n) & 0xffffffff) | (i >> (32 - n))\n",
    "\n",
    "def F(x, y, z):\n",
    "    return (x & y) | (~x & z)\n",
    "\n",
    "def G(x, y, z):\n",
    "    return (x & y) | (x & z) | (y & z)\n",
    "\n",
    "def H(x, y, z):\n",
    "    return x ^ y ^ z\n",
    "\n",
    "class MD4(object):\n",
    "    def __init__(self, data=b''):\n",
    "        self.remainder = data\n",
    "        self.count = 0\n",
    "        self.h = [\n",
    "                0x67452301,\n",
    "                0xefcdab89,\n",
    "                0x98badcfe,\n",
    "                0x10325476\n",
    "                ]\n",
    "\n",
    "    def _add_chunk(self, chunk):\n",
    "        self.count += 1\n",
    "        X = list( struct.unpack(\"<16I\", chunk) + (None,) * (80-16) )\n",
    "        h = [x for x in self.h]\n",
    "        # Round 1\n",
    "        s = (3, 7, 11, 19)\n",
    "        for r in range(16):\n",
    "            i = (16-r)%4\n",
    "            k = r\n",
    "            h[i] = leftrotate( (h[i] + F(h[(i+1)%4], h[(i+2)%4], h[(i+3)%4]) + X[k]) % 2**32, s[r%4] )\n",
    "        # Round 2\n",
    "        s = (3, 5, 9, 13)\n",
    "        for r in range(16):\n",
    "            i = (16-r)%4\n",
    "            k = 4*(r%4) + r//4\n",
    "            h[i] = leftrotate( (h[i] + G(h[(i+1)%4], h[(i+2)%4], h[(i+3)%4]) + X[k] + 0x5a827999) % 2**32, s[r%4] )\n",
    "        # Round 3\n",
    "        s = (3, 9, 11, 15)\n",
    "        k = (0, 8, 4, 12, 2, 10, 6, 14, 1, 9, 5, 13, 3, 11, 7, 15) #wish I could function\n",
    "        for r in range(16):\n",
    "            i = (16-r)%4\n",
    "            h[i] = leftrotate( (h[i] + H(h[(i+1)%4], h[(i+2)%4], h[(i+3)%4]) + X[k[r]] + 0x6ed9eba1) % 2**32, s[r%4] )\n",
    "\n",
    "        for i, v in enumerate(h):\n",
    "            self.h[i] = (v + self.h[i]) % 2**32\n",
    "\n",
    "    def add(self, data):\n",
    "        message = self.remainder + data\n",
    "        r = len(message) % 64\n",
    "        if r != 0:\n",
    "            self.remainder = message[-r:]\n",
    "        else:\n",
    "            self.remainder = b''\n",
    "        for chunk in range(0, len(message)-r, 64):\n",
    "            self._add_chunk( message[chunk:chunk+64] )\n",
    "        return self\n",
    "\n",
    "    def finish(self):\n",
    "        l = len(self.remainder) + 64 * self.count\n",
    "        self.add( b'\\x80' + b'\\x00' * ((55 - l) % 64) + struct.pack(\"<Q\", l * 8) )\n",
    "        out = struct.pack(\"<4I\", *self.h)\n",
    "        self.__init__()\n",
    "        return out"
   ]
  },
  {
   "cell_type": "markdown",
   "metadata": {},
   "source": [
    "<div class=\"alert alert-block alert-info\">\n",
    "    \n",
    "To implement the attack, first write the function that computes the MD padding of an arbitrary message and verify that you're generating the same padding that your SHA-1 implementation is using. This should take you 5-10 minutes.\n",
    "    \n",
    "</div>\n",
    "\n",
    "MD4 padding scheme is almost identical to SHA-1, so we can mostly re-use the ```compute_sha1_padding``` from Challenge #29.  It does look like it encodes message length in little endian instead of big endian."
   ]
  },
  {
   "cell_type": "markdown",
   "metadata": {},
   "source": [
    "<div class=\"alert alert-block alert-info\">\n",
    "\n",
    "Now, take the SHA-1 secret-prefix MAC of the message you want to forge --- this is just a SHA-1 hash --- and break it into 32 bit SHA-1 registers (SHA-1 calls them \"a\", \"b\", \"c\", &c).\n",
    "\n",
    "</div>\n",
    "\n",
    "As with Challenge 29, we'll do this inside our \"evil\" implementation of MD4."
   ]
  },
  {
   "cell_type": "code",
   "execution_count": 3,
   "metadata": {},
   "outputs": [],
   "source": [
    "original_msg = b'This is an authentic message!'\n",
    "mac = MD4(original_msg).finish()"
   ]
  },
  {
   "cell_type": "markdown",
   "metadata": {},
   "source": [
    "<div class=\"alert alert-block alert-info\">\n",
    "\n",
    "Modify your ~~SHA-1~~ **MD4** implementation so that callers can pass in new values for \"a\", \"b\", \"c\" &c (they normally start at magic numbers). With the registers \"fixated\", hash the additional data you want to forge.\n",
    "\n",
    "</div>"
   ]
  },
  {
   "cell_type": "code",
   "execution_count": 4,
   "metadata": {},
   "outputs": [],
   "source": [
    "import codecs\n",
    "import struct\n",
    "\n",
    "def leftrotate(i, n):\n",
    "    return ((i << n) & 0xffffffff) | (i >> (32 - n))\n",
    "\n",
    "def F(x, y, z):\n",
    "    return (x & y) | (~x & z)\n",
    "\n",
    "def G(x, y, z):\n",
    "    return (x & y) | (x & z) | (y & z)\n",
    "\n",
    "def H(x, y, z):\n",
    "    return x ^ y ^ z\n",
    "\n",
    "class evil_MD4(object):\n",
    "    def __init__(self, data, state, prev_len):\n",
    "        \n",
    "        self.remainder = data\n",
    "        self.prev_len = prev_len\n",
    "        self.count = 0\n",
    "        \n",
    "        a = int.from_bytes(state[0:4], 'little')\n",
    "        b = int.from_bytes(state[4:8], 'little')\n",
    "        c = int.from_bytes(state[8:12], 'little')\n",
    "        d = int.from_bytes(state[12:16], 'little')\n",
    "        \n",
    "        self.h = [a, b, c, d]\n",
    "\n",
    "    def _add_chunk(self, chunk):\n",
    "        self.count += 1\n",
    "        X = list( struct.unpack(\"<16I\", chunk) + (None,) * (80-16) )\n",
    "        h = [x for x in self.h]\n",
    "        # Round 1\n",
    "        s = (3, 7, 11, 19)\n",
    "        for r in range(16):\n",
    "            i = (16-r)%4\n",
    "            k = r\n",
    "            h[i] = leftrotate( (h[i] + F(h[(i+1)%4], h[(i+2)%4], h[(i+3)%4]) + X[k]) % 2**32, s[r%4] )\n",
    "        # Round 2\n",
    "        s = (3, 5, 9, 13)\n",
    "        for r in range(16):\n",
    "            i = (16-r)%4\n",
    "            k = 4*(r%4) + r//4\n",
    "            h[i] = leftrotate( (h[i] + G(h[(i+1)%4], h[(i+2)%4], h[(i+3)%4]) + X[k] + 0x5a827999) % 2**32, s[r%4] )\n",
    "        # Round 3\n",
    "        s = (3, 9, 11, 15)\n",
    "        k = (0, 8, 4, 12, 2, 10, 6, 14, 1, 9, 5, 13, 3, 11, 7, 15) #wish I could function\n",
    "        for r in range(16):\n",
    "            i = (16-r)%4\n",
    "            h[i] = leftrotate( (h[i] + H(h[(i+1)%4], h[(i+2)%4], h[(i+3)%4]) + X[k[r]] + 0x6ed9eba1) % 2**32, s[r%4] )\n",
    "\n",
    "        for i, v in enumerate(h):\n",
    "            self.h[i] = (v + self.h[i]) % 2**32\n",
    "\n",
    "    def add(self, data):\n",
    "        message = self.remainder + data\n",
    "        r = len(message) % 64\n",
    "        if r != 0:\n",
    "            self.remainder = message[-r:]\n",
    "        else:\n",
    "            self.remainder = b''\n",
    "        for chunk in range(0, len(message)-r, 64):\n",
    "            self._add_chunk( message[chunk:chunk+64] )\n",
    "        return self\n",
    "\n",
    "    def finish(self):        \n",
    "        l = self.prev_len + len(self.remainder) + 64 * self.count\n",
    "        self.add( b'\\x80' + b'\\x00' * ((55 - l) % 64) + struct.pack(\"<Q\", l * 8) )\n",
    "        out = struct.pack(\"<4I\", *self.h)\n",
    "        ##self.__init__()\n",
    "        return out"
   ]
  },
  {
   "cell_type": "markdown",
   "metadata": {},
   "source": [
    "<div class=\"alert alert-block alert-info\">\n",
    "\n",
    "Using this attack, generate a secret-prefix MAC under a secret key (choose a random word from /usr/share/dict/words or something) of the string:\n",
    "\n",
    "```\"comment1=cooking%20MCs;userdata=foo;comment2=%20like%20a%20pound%20of%20bacon\"```\n",
    "\n",
    "</div>"
   ]
  },
  {
   "cell_type": "code",
   "execution_count": 5,
   "metadata": {},
   "outputs": [],
   "source": [
    "unknown_MD4_key = Random.get_random_bytes(32)\n",
    "\n",
    "def make_MAC(message):\n",
    "    \n",
    "    my_md4 = MD4(unknown_MD4_key + bytes(message))\n",
    "    MAC = my_md4.finish()\n",
    "    \n",
    "    return(MAC)\n",
    "\n",
    "def check_MAC(message, MAC):\n",
    "    \n",
    "    return(make_MAC(message) == MAC)\n",
    "    "
   ]
  },
  {
   "cell_type": "code",
   "execution_count": 6,
   "metadata": {},
   "outputs": [],
   "source": [
    "original_msg = b'comment1=cooking%20MCs;userdata=foo;comment2=%20like%20a%20pound%20of%20bacon'\n",
    "original_mac = make_MAC(original_msg)"
   ]
  },
  {
   "cell_type": "markdown",
   "metadata": {},
   "source": [
    "<div class=\"alert alert-block alert-info\">\n",
    "\n",
    "Forge a variant of this message that ends with ```\";admin=true\"```.\n",
    "\n",
    "</div>"
   ]
  },
  {
   "cell_type": "code",
   "execution_count": 9,
   "metadata": {},
   "outputs": [
    {
     "name": "stdout",
     "output_type": "stream",
     "text": [
      "My forged message:\n",
      "\n",
      "b'comment1=cooking%20MCs;userdata=foo;comment2=%20like%20a%20pound%20of%20bacon\\x80\\x00\\x00\\x00\\x00\\x00\\x00\\x00\\x00\\x00\\x00h\\x03\\x00\\x00\\x00\\x00\\x00\\x00;admin=true'\n",
      "\n",
      "MAC Check passed?  True\n"
     ]
    }
   ],
   "source": [
    "new_msg = b';admin=true'\n",
    "\n",
    "FAKE_KEY = b'\\x00' * 32\n",
    "glue_padding = cp.compute_md4_padding(FAKE_KEY + original_msg)\n",
    "\n",
    "last_len = (len(FAKE_KEY) + len(original_msg) + len(glue_padding)) \n",
    "if (last_len % 64) != 0:\n",
    "    raise(ValueError('Invalid Length Calculated'))\n",
    "    \n",
    "forged_mac = evil_MD4(new_msg, original_mac, last_len).finish()\n",
    "forged_msg = original_msg + glue_padding + new_msg\n",
    "\n",
    "print(f\"My forged message:\\n\")\n",
    "print(forged_msg)\n",
    "print()\n",
    "print(f\"MAC Check passed?  {check_MAC(forged_msg, forged_mac)}\")"
   ]
  },
  {
   "cell_type": "markdown",
   "metadata": {},
   "source": [
    "Well that was easy."
   ]
  },
  {
   "cell_type": "markdown",
   "metadata": {},
   "source": [
    "[Back to Index](CryptoPalsWalkthroughs_Cobb.ipynb)"
   ]
  }
 ],
 "metadata": {
  "kernelspec": {
   "display_name": "Python 3",
   "language": "python",
   "name": "python3"
  },
  "language_info": {
   "codemirror_mode": {
    "name": "ipython",
    "version": 3
   },
   "file_extension": ".py",
   "mimetype": "text/x-python",
   "name": "python",
   "nbconvert_exporter": "python",
   "pygments_lexer": "ipython3",
   "version": "3.7.4"
  }
 },
 "nbformat": 4,
 "nbformat_minor": 4
}
