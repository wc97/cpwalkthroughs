{
 "cells": [
  {
   "cell_type": "markdown",
   "metadata": {},
   "source": [
    "#### Challenge 42: Bleichenbacher's e=3 RSA Attack\n",
    "\n",
    "[Back to Index](CryptoPalsWalkthroughs_Cobb.ipynb)"
   ]
  },
  {
   "cell_type": "code",
   "execution_count": 4,
   "metadata": {},
   "outputs": [],
   "source": [
    "from Crypto.Util import number\n",
    "from Crypto.Random import random\n",
    "from Crypto.Hash.SHA256 import SHA256Hash\n",
    "\n",
    "import cryptopals as cp"
   ]
  },
  {
   "cell_type": "markdown",
   "metadata": {},
   "source": [
    "<div class=\"alert alert-block alert-info\">\n",
    "\n",
    "<div class=\"alert alert-block alert-warning\">    \n",
    "\n",
    "#### **Crypto-tourism informational placard.**\n",
    "\n",
    "This attack broke Firefox's TLS certificate validation several years ago. You could write a Python script to fake an RSA signature for any certificate. We find new instances of it every other year or so.\n",
    "\n",
    "</div>\n",
    "    \n",
    "RSA with an encrypting exponent of 3 is popular, because it makes the RSA math faster.\n",
    "\n",
    "With `e=3` RSA, encryption is just cubing a number mod the public encryption modulus:\n",
    "\n",
    "`c = m ** 3 % n`\n",
    "\n",
    "    \n",
    "`e=3` is secure as long as we can make assumptions about the message blocks we're encrypting. The worry with low-exponent RSA is that the message blocks we process won't be large enough to wrap the modulus after being cubed. The block `00:02` (imagine sufficient zero-padding) can be \"encrypted\" in `e=3` RSA; it is simply `00:08`.\n",
    "\n",
    "When RSA is used to sign, rather than encrypt, the operations are reversed; the verifier \"decrypts\" the message by cubing it. This produces a \"plaintext\" which the verifier checks for validity.\n",
    "\n",
    "When you use RSA to sign a message, you supply it a block input that contains a message digest. The PKCS1.5 standard formats that block as:\n",
    "\n",
    "`00h 01h ffh ffh ... ffh ffh 00h ASN.1 GOOP HASH`\n",
    "\n",
    "As intended, the ffh bytes in that block expand to fill the whole block, producing a \"right-justified\" hash (the last byte of the hash is the last byte of the message).\n",
    "\n",
    "There was, 7 years ago, a common implementation flaw with RSA verifiers: they'd verify signatures by \"decrypting\" them (cubing them modulo the public exponent) and then \"parsing\" them by looking for `00h 01h ... ffh 00h ASN.1 HASH`.\n",
    "\n",
    "This is a bug because it implies the verifier isn't checking all the padding. If you don't check the padding, you leave open the possibility that instead of hundreds of ffh bytes, you have only a few, which if you think about it means there could be squizzilions of possible numbers that could produce a valid-looking signature.\n",
    "\n",
    "How to find such a block? Find a number that when cubed (a) doesn't wrap the modulus (thus bypassing the key entirely) and (b) produces a block that starts `\"00h 01h ffh ... 00h ASN.1 HASH\"`.\n",
    "\n",
    "There are two ways to approach this problem:\n",
    "\n",
    "- You can work from Hal Finney's writeup, available on Google, of how Bleichenbacher explained the math \"so that you can do it by hand with a pencil\".\n",
    "- You can implement an integer cube root in your language, format the message block you want to forge, leaving sufficient trailing zeros at the end to fill with garbage, then take the cube-root of that block.\n",
    "\n",
    "Forge a 1024-bit RSA signature for the string \"hi mom\". Make sure your implementation actually accepts the signature!\n",
    "\n",
    "</div>"
   ]
  },
  {
   "cell_type": "code",
   "execution_count": 5,
   "metadata": {},
   "outputs": [],
   "source": [
    "key_size = 1024\n",
    "[e,d,n] = cp.genRSA_keypair(key_size)\n",
    "m = int((b'This is ridiculous! There\\'s no such thing as privacy anymore!'*4).hex(), 16)\n",
    "c = pow(m, e, n)"
   ]
  },
  {
   "cell_type": "code",
   "execution_count": 12,
   "metadata": {},
   "outputs": [],
   "source": [
    "s = 79\n",
    "c_ = (pow(s, e, n) * c) % n\n",
    "p_ = pow(c_, d, n)"
   ]
  },
  {
   "cell_type": "markdown",
   "metadata": {},
   "source": [
    "Despite the warning, I wanted to try straight division (not multiplying by the inverse mod N):"
   ]
  },
  {
   "cell_type": "code",
   "execution_count": 13,
   "metadata": {},
   "outputs": [
    {
     "name": "stdout",
     "output_type": "stream",
     "text": [
      "This is ridiculous! There's no such thing as privacy anymore!This is ridiculous! There's no such thing as privacy anymore!This is ridiculous! There's no such thing as privacy anymore!This is ridiculous! There's no such thing as privacy anymore!\n"
     ]
    }
   ],
   "source": [
    "recovered_pt = (p_ // s) % n\n",
    "\n",
    "print(bytes.fromhex(hex(recovered_pt)[2:]).decode())"
   ]
  },
  {
   "cell_type": "markdown",
   "metadata": {},
   "source": [
    "Now the way it says to do it:"
   ]
  },
  {
   "cell_type": "code",
   "execution_count": 14,
   "metadata": {},
   "outputs": [
    {
     "name": "stdout",
     "output_type": "stream",
     "text": [
      "This is ridiculous! There's no such thing as privacy anymore!This is ridiculous! There's no such thing as privacy anymore!This is ridiculous! There's no such thing as privacy anymore!This is ridiculous! There's no such thing as privacy anymore!\n"
     ]
    }
   ],
   "source": [
    "mi = cp.invmod(s, n)\n",
    "recovered_pt = (p_*mi) % n\n",
    "print(bytes.fromhex(hex(recovered_pt)[2:]).decode())"
   ]
  },
  {
   "cell_type": "markdown",
   "metadata": {},
   "source": [
    "Let's try to break the division approach:"
   ]
  },
  {
   "cell_type": "markdown",
   "metadata": {
    "slideshow": {
     "slide_type": "slide"
    }
   },
   "source": [
    "[Back to Index](CryptoPalsWalkthroughs_Cobb.ipynb)"
   ]
  },
  {
   "cell_type": "code",
   "execution_count": 44,
   "metadata": {},
   "outputs": [
    {
     "name": "stdout",
     "output_type": "stream",
     "text": [
      ".\n",
      "Broke it!\n",
      "e=3\n",
      "d=13784155787454640965203320918456828855576350957154037222797011255165358470367881823584041715061754827774338504096176436120475191939229449781152894319605928252913300736282366016848779083912182646827542663181074178251488178035165720461277396960286993903600420480331825348205323534468578466963075371691051312181999979240211075743135335667166862700410731000271406232507052029364966540907676351362097390400954839239373713919572846050908107205998352793777885820373061841666941478495929055051905449803604551103700362868106112893945484374599667847712517441128352550514766396104086948998499666483037133089815898176502824916123\n",
      "n=20676233681181961447804981377685243283364526435731055834195516882748037705551822735376062572592632241661507756144264654180712787908844174671729341479408892379369951104423549025273168625868273970241313994771611267377232267052748580691916095440430490855400630720497738022307985301702867700444613057536576968273287661965976930946948637139294611572506276884739532485972175220492483424755763358315804885521753105503846727998302376021052849485890590755445340694383790854592544029789836947314019884367226534497266420746803794732828671721901738141185898170879743357412826420798498965663229300175584920793387910767087317740591\n",
      "s=202974978408942505289936681821489341720\n",
      "\n"
     ]
    }
   ],
   "source": [
    "key_size = 1024\n",
    "for ii in range(1000):\n",
    "    \n",
    "    print('.')\n",
    "    [e,d,n] = cp.genRSA_keypair(key_size)\n",
    "    c = pow(m, e, n)\n",
    "    s = random.randint(0, 2**128-1)\n",
    "    c_ = (pow(s, e, n) * c) % n\n",
    "    p_ = pow(c_, d, n)\n",
    "    recovered_pt = (p_ // s) % n\n",
    "    \n",
    "    if recovered_pt != m:        \n",
    "        print('Broke it!')\n",
    "        print(f'e={e}\\nd={d}\\nn={n}\\ns={s}\\n')\n",
    "        break\n"
   ]
  },
  {
   "cell_type": "markdown",
   "metadata": {},
   "source": [
    "Here are two trivial examples of where division by a # and multiplication by a multiplicative inverse are 1) the same, and 2) different within a cyclic group (modulo arithmetic)."
   ]
  },
  {
   "cell_type": "code",
   "execution_count": 43,
   "metadata": {},
   "outputs": [
    {
     "name": "stdout",
     "output_type": "stream",
     "text": [
      "3\n",
      "3\n",
      "2\n",
      "15\n"
     ]
    }
   ],
   "source": [
    "n = 17\n",
    "s = 4\n",
    "x = 12\n",
    "\n",
    "print((x//s) % n)\n",
    "print((x * cp.invmod(s, n)) % n)\n",
    "\n",
    "n = 17\n",
    "s = 4\n",
    "x = 9\n",
    "\n",
    "print((x//s) % n)\n",
    "print((x * cp.invmod(s, n)) % n)"
   ]
  },
  {
   "cell_type": "code",
   "execution_count": null,
   "metadata": {},
   "outputs": [],
   "source": []
  }
 ],
 "metadata": {
  "kernelspec": {
   "display_name": "Python 3",
   "language": "python",
   "name": "python3"
  },
  "language_info": {
   "codemirror_mode": {
    "name": "ipython",
    "version": 3
   },
   "file_extension": ".py",
   "mimetype": "text/x-python",
   "name": "python",
   "nbconvert_exporter": "python",
   "pygments_lexer": "ipython3",
   "version": "3.7.4"
  }
 },
 "nbformat": 4,
 "nbformat_minor": 4
}
