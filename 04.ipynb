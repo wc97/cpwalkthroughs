{
 "cells": [
  {
   "cell_type": "markdown",
   "metadata": {},
   "source": [
    "### Set 1 - Challenge 4:  Detect single-character XOR \n",
    "\n",
    "<div class=\"alert alert-block alert-info\">\n",
    "    \n",
    "One of the 60-character strings in this file has been encrypted by single-character XOR.\n",
    "\n",
    "Find it.\n",
    "\n",
    "(Your code from #3 should help.)\n",
    "\n",
    "</div>\n",
    "    \n",
    "[Back to Index](CryptoPalsWalkthroughs_Cobb.ipynb)\n"
   ]
  },
  {
   "cell_type": "code",
   "execution_count": 2,
   "metadata": {},
   "outputs": [],
   "source": [
    "import cryptopals as cp"
   ]
  },
  {
   "cell_type": "code",
   "execution_count": 3,
   "metadata": {},
   "outputs": [
    {
     "name": "stdout",
     "output_type": "stream",
     "text": [
      "Found one:  b'Now that the party is jumping\\n' for Key=53, Score=28\n"
     ]
    }
   ],
   "source": [
    "f = open('./challenge-data/4.txt', 'r')\n",
    "encrypted_data = f.readlines()\n",
    "f.close\n",
    "\n",
    "for line in encrypted_data:\n",
    "    \n",
    "    (key, plaintext) = cp.break_single_char_XOR(bytes.fromhex(line.strip()))\n",
    "    score = cp.score_english(plaintext)\n",
    "    if score > 25:\n",
    "        print(f\"Found one:  {bytes(plaintext)} for Key={key}, Score={score}\")"
   ]
  },
  {
   "cell_type": "markdown",
   "metadata": {},
   "source": [
    "[Back to Index](CryptoPalsWalkthroughs_Cobb.ipynb)"
   ]
  },
  {
   "cell_type": "code",
   "execution_count": null,
   "metadata": {},
   "outputs": [],
   "source": []
  }
 ],
 "metadata": {
  "kernelspec": {
   "display_name": "Python 3",
   "language": "python",
   "name": "python3"
  },
  "language_info": {
   "codemirror_mode": {
    "name": "ipython",
    "version": 3
   },
   "file_extension": ".py",
   "mimetype": "text/x-python",
   "name": "python",
   "nbconvert_exporter": "python",
   "pygments_lexer": "ipython3",
   "version": "3.7.4"
  }
 },
 "nbformat": 4,
 "nbformat_minor": 4
}
