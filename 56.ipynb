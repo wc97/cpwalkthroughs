{
 "cells": [
  {
   "cell_type": "markdown",
   "metadata": {},
   "source": [
    "#### Challenge 56:  RC4 Single-Byte Biases\n",
    "\n",
    "[Back to Index](CryptoPalsWalkthroughs_Cobb.ipynb)"
   ]
  },
  {
   "cell_type": "code",
   "execution_count": 1,
   "metadata": {},
   "outputs": [],
   "source": [
    "from Crypto.Random import random\n",
    "from Crypto.Cipher import AES\n",
    "from Crypto.Cipher import Blowfish\n",
    "import math\n",
    "import cryptopals as cp\n",
    "import pdb"
   ]
  },
  {
   "cell_type": "markdown",
   "metadata": {},
   "source": [
    "<div class=\"alert alert-block alert-info\">   \n",
    "\n",
    "RC4 is popular stream cipher notable for its usage in protocols like TLS, WPA, RDP, &c.\n",
    "\n",
    "It's also susceptible to significant single-byte biases, especially early in the keystream. What does this mean?\n",
    "\n",
    "Simply: for a given position in the keystream, certain bytes are more (or less) likely to pop up than others. Given enough encryptions of a given plaintext, an attacker can use these biases to recover the entire plaintext.\n",
    "\n",
    "Now, search online for _\"On the Security of RC4 in TLS and WPA\"_. This site is your one-stop shop for RC4 information.\n",
    "\n",
    "Click through to \"RC4 biases\" on the right.\n",
    "\n",
    "These are graphs of each single-byte bias (one per page). Notice in particular the monster spikes on `z16`, `z32`, `z48`, etc. (Note: these are _one-indexed_, so `z16 = keystream[15]`.)\n",
    "\n",
    "How useful are these biases?\n",
    "\n",
    "Click through to the research paper and scroll down to the simulation results. (Incidentally, the whole paper is a good read if you have some spare time.) We start out with clear spikes at `2^26` iterations, but our chances for recovering each of the first `256` bytes approaches `1` as we get up towards `2^32`.\n",
    "\n",
    "There are two ways to take advantage of these biases. The first method is really simple:\n",
    "\n",
    "1. Gain exhaustive knowledge of the keystream biases.\n",
    "2. Encrypt the unknown plaintext 2^30+ times under different keys.\n",
    "3. Compare the ciphertext biases against the keystream biases.\n",
    "\n",
    "Doing this requires deep knowledge of the biases for each byte of the keystream. But it turns out we can do pretty well with just a few useful biases - if we have some control over the plaintext.\n",
    "\n",
    "How? By using knowledge of a single bias as a peephole into the plaintext.\n",
    "\n",
    "Decode this secret:\n",
    "\n",
    "`QkUgU1VSRSBUTyBEUklOSyBZT1VSIE9WQUxUSU5F`\n",
    "\n",
    "And call it a cookie. No peeking!\n",
    "\n",
    "Now use it to build this encryption oracle:\n",
    "\n",
    "`RC4(your-request || cookie, random-key)`\n",
    "\n",
    "Use a fresh 128-bit key on every invocation.\n",
    "\n",
    "Picture this scenario: you want to steal a user's secure cookie. You can spawn arbitrary requests (from a malicious plugin or somesuch) and monitor network traffic. (Ok, this is unrealistic - the cookie wouldn't be right at the beginning of the request like that - this is just an example!)\n",
    "\n",
    "You can control the position of the cookie by requesting `\"/\"`, `\"/A\"`, `\"/AA\"`, and so on.\n",
    "\n",
    "Build bias maps for a couple chosen indices (`z16` and `z32` are good) and decrypt the cookie.\n",
    "\n",
    "</div>"
   ]
  },
  {
   "cell_type": "code",
   "execution_count": null,
   "metadata": {},
   "outputs": [],
   "source": []
  },
  {
   "cell_type": "markdown",
   "metadata": {},
   "source": [
    "[Back to Index](CryptoPalsWalkthroughs_Cobb.ipynb)"
   ]
  }
 ],
 "metadata": {
  "kernelspec": {
   "display_name": "Python 3",
   "language": "python",
   "name": "python3"
  },
  "language_info": {
   "codemirror_mode": {
    "name": "ipython",
    "version": 3
   },
   "file_extension": ".py",
   "mimetype": "text/x-python",
   "name": "python",
   "nbconvert_exporter": "python",
   "pygments_lexer": "ipython3",
   "version": "3.7.6"
  }
 },
 "nbformat": 4,
 "nbformat_minor": 4
}
