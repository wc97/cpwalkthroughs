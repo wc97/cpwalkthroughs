{
 "cells": [
  {
   "cell_type": "markdown",
   "metadata": {},
   "source": [
    "#### Challenge 56:  RC4 Single-Byte Biases\n",
    "\n",
    "[Back to Index](CryptoPalsWalkthroughs_Cobb.ipynb)"
   ]
  },
  {
   "cell_type": "code",
   "execution_count": 1,
   "metadata": {},
   "outputs": [],
   "source": [
    "%matplotlib inline\n",
    "\n",
    "import numpy as np\n",
    "import numpy.matlib \n",
    "import base64\n",
    "import matplotlib.pyplot as plt\n",
    "from Crypto.Cipher import ARC4\n",
    "from Crypto import Random"
   ]
  },
  {
   "cell_type": "markdown",
   "metadata": {},
   "source": [
    "<div class=\"alert alert-block alert-info\">   \n",
    "\n",
    "RC4 is popular stream cipher notable for its usage in protocols like TLS, WPA, RDP, &c.\n",
    "\n",
    "It's also susceptible to significant single-byte biases, especially early in the keystream. What does this mean?\n",
    "\n",
    "Simply: for a given position in the keystream, certain bytes are more (or less) likely to pop up than others. Given enough encryptions of a given plaintext, an attacker can use these biases to recover the entire plaintext.\n",
    "\n",
    "Now, search online for [\"On the Security of RC4 in TLS and WPA\"](http://www.isg.rhul.ac.uk/tls/). This site is your one-stop shop for RC4 information.\n",
    "\n",
    "Click through to [\"RC4 biases\"](http://www.isg.rhul.ac.uk/tls/biases.pdf) on the right.\n",
    "\n",
    "These are graphs of each single-byte bias (one per page). Notice in particular the monster spikes on `z16`, `z32`, `z48`, etc. (Note: these are _one-indexed_, so `z16 = keystream[15]`.)\n",
    "\n",
    "How useful are these biases?\n",
    "\n",
    "Click through to the research paper and scroll down to the simulation results. (Incidentally, the whole paper is a good read if you have some spare time.) We start out with clear spikes at `2^26` iterations, but our chances for recovering each of the first `256` bytes approaches `1` as we get up towards `2^32`.\n",
    "\n",
    "There are two ways to take advantage of these biases. The first method is really simple:\n",
    "\n",
    "1. Gain exhaustive knowledge of the keystream biases.\n",
    "2. Encrypt the unknown plaintext 2^30+ times under different keys.\n",
    "3. Compare the ciphertext biases against the keystream biases.\n",
    "\n",
    "Doing this requires deep knowledge of the biases for each byte of the keystream. But it turns out we can do pretty well with just a few useful biases - if we have some control over the plaintext.\n",
    "\n",
    "How? By using knowledge of a single bias as a peephole into the plaintext.\n",
    "\n",
    "</div>    "
   ]
  },
  {
   "cell_type": "markdown",
   "metadata": {},
   "source": [
    "<div class=\"alert alert-block alert-info\">  \n",
    "\n",
    "Decode this secret:\n",
    "\n",
    "`QkUgU1VSRSBUTyBEUklOSyBZT1VSIE9WQUxUSU5F`\n",
    "\n",
    "And call it a cookie. No peeking!\n",
    "\n",
    "</div>    "
   ]
  },
  {
   "cell_type": "markdown",
   "metadata": {},
   "source": [
    "<div class=\"alert alert-block alert-info\">  \n",
    "    \n",
    "Now use it to build this encryption oracle:\n",
    "\n",
    "`RC4(your-request || cookie, random-key)`\n",
    "\n",
    "Use a fresh 128-bit key on every invocation.\n",
    "\n",
    "</div>  "
   ]
  },
  {
   "cell_type": "code",
   "execution_count": 2,
   "metadata": {},
   "outputs": [],
   "source": [
    "# ****** UNKNOWN PARAMETERS\n",
    "secret_cookie_b64 = 'QkUgU1VSRSBUTyBEUklOSyBZT1VSIE9WQUxUSU5F'\n",
    "secret_cookie = base64.b64decode(secret_cookie_b64)\n",
    "# ****** UNKNOWN PARAMETERS\n",
    "\n",
    "def Challenge56_Oracle(request):\n",
    "    \n",
    "    key = Random.get_random_bytes(16)\n",
    "    cipher = ARC4.new(key)\n",
    "    return(cipher.encrypt(request + secret_cookie))\n",
    "    "
   ]
  },
  {
   "cell_type": "markdown",
   "metadata": {},
   "source": [
    "  \n",
    "<div class=\"alert alert-block alert-info\">  \n",
    "    \n",
    "Picture this scenario: you want to steal a user's secure cookie. You can spawn arbitrary requests (from a malicious plugin or somesuch) and monitor network traffic. (Ok, this is unrealistic - the cookie wouldn't be right at the beginning of the request like that - this is just an example!)\n",
    "\n",
    "You can control the position of the cookie by requesting `\"/\"`, `\"/A\"`, `\"/AA\"`, and so on.\n",
    "\n",
    "Build bias maps for a couple chosen indices (`z16` and `z32` are good) and decrypt the cookie.\n",
    "\n",
    "</div>"
   ]
  },
  {
   "cell_type": "code",
   "execution_count": 3,
   "metadata": {},
   "outputs": [],
   "source": [
    "Num_Iterations = 2**26\n",
    "\n",
    "# See what length is if we provide a null \"request\"\n",
    "secret_length = len(Challenge56_Oracle(b''))\n",
    "\n",
    "map15 = np.zeros((secret_length, 256))\n",
    "map31 = np.zeros((secret_length, 256))\n",
    "map47 = np.zeros((secret_length, 256))"
   ]
  },
  {
   "cell_type": "markdown",
   "metadata": {},
   "source": [
    "There are a lot of interesting things we could do here, but I'll just start with the naive approach:\n",
    "\n",
    "1.  Make a large # of requests with the secret cookie in a particular position.  2**24 per position seems to be enough to recover most bytes of plaintext.\n",
    "2.  Log the value of the ciphertext produced at each byte position (15, 31, 47, ...) known to have a large key byte bias towards a significant value\n",
    "3.  Recover the plaintext by finding what PT byte would result in a peak bias that matches the known RC4 bias (remember, CT is just PT xored with KY)"
   ]
  },
  {
   "cell_type": "code",
   "execution_count": 4,
   "metadata": {},
   "outputs": [
    {
     "name": "stdout",
     "output_type": "stream",
     "text": [
      "15, "
     ]
    },
    {
     "ename": "KeyboardInterrupt",
     "evalue": "",
     "output_type": "error",
     "traceback": [
      "\u001b[1;31m---------------------------------------------------------------------------\u001b[0m",
      "\u001b[1;31mKeyboardInterrupt\u001b[0m                         Traceback (most recent call last)",
      "\u001b[1;32m<ipython-input-4-d4e7801c2058>\u001b[0m in \u001b[0;36m<module>\u001b[1;34m\u001b[0m\n\u001b[0;32m     11\u001b[0m     \u001b[1;32mfor\u001b[0m \u001b[0mjj\u001b[0m \u001b[1;32min\u001b[0m \u001b[0mrange\u001b[0m\u001b[1;33m(\u001b[0m\u001b[0mNum_Iterations\u001b[0m\u001b[1;33m)\u001b[0m\u001b[1;33m:\u001b[0m\u001b[1;33m\u001b[0m\u001b[1;33m\u001b[0m\u001b[0m\n\u001b[0;32m     12\u001b[0m \u001b[1;33m\u001b[0m\u001b[0m\n\u001b[1;32m---> 13\u001b[1;33m         \u001b[0mciphertext\u001b[0m \u001b[1;33m=\u001b[0m \u001b[0mChallenge56_Oracle\u001b[0m\u001b[1;33m(\u001b[0m\u001b[0mrequest\u001b[0m\u001b[1;33m)\u001b[0m\u001b[1;33m\u001b[0m\u001b[1;33m\u001b[0m\u001b[0m\n\u001b[0m\u001b[0;32m     14\u001b[0m         \u001b[1;32mif\u001b[0m \u001b[0mpad_length\u001b[0m \u001b[1;33m<\u001b[0m \u001b[1;36m16\u001b[0m\u001b[1;33m:\u001b[0m\u001b[1;33m\u001b[0m\u001b[1;33m\u001b[0m\u001b[0m\n\u001b[0;32m     15\u001b[0m             \u001b[0mmap15\u001b[0m\u001b[1;33m[\u001b[0m\u001b[0mb_15\u001b[0m\u001b[1;33m]\u001b[0m\u001b[1;33m[\u001b[0m\u001b[0mciphertext\u001b[0m\u001b[1;33m[\u001b[0m\u001b[1;36m15\u001b[0m\u001b[1;33m]\u001b[0m\u001b[1;33m]\u001b[0m \u001b[1;33m+=\u001b[0m \u001b[1;36m1\u001b[0m\u001b[1;33m\u001b[0m\u001b[1;33m\u001b[0m\u001b[0m\n",
      "\u001b[1;32m<ipython-input-2-b3a4560aa6d9>\u001b[0m in \u001b[0;36mChallenge56_Oracle\u001b[1;34m(request)\u001b[0m\n\u001b[0;32m      6\u001b[0m \u001b[1;32mdef\u001b[0m \u001b[0mChallenge56_Oracle\u001b[0m\u001b[1;33m(\u001b[0m\u001b[0mrequest\u001b[0m\u001b[1;33m)\u001b[0m\u001b[1;33m:\u001b[0m\u001b[1;33m\u001b[0m\u001b[1;33m\u001b[0m\u001b[0m\n\u001b[0;32m      7\u001b[0m \u001b[1;33m\u001b[0m\u001b[0m\n\u001b[1;32m----> 8\u001b[1;33m     \u001b[0mkey\u001b[0m \u001b[1;33m=\u001b[0m \u001b[0mRandom\u001b[0m\u001b[1;33m.\u001b[0m\u001b[0mget_random_bytes\u001b[0m\u001b[1;33m(\u001b[0m\u001b[1;36m16\u001b[0m\u001b[1;33m)\u001b[0m\u001b[1;33m\u001b[0m\u001b[1;33m\u001b[0m\u001b[0m\n\u001b[0m\u001b[0;32m      9\u001b[0m     \u001b[0mcipher\u001b[0m \u001b[1;33m=\u001b[0m \u001b[0mARC4\u001b[0m\u001b[1;33m.\u001b[0m\u001b[0mnew\u001b[0m\u001b[1;33m(\u001b[0m\u001b[0mkey\u001b[0m\u001b[1;33m)\u001b[0m\u001b[1;33m\u001b[0m\u001b[1;33m\u001b[0m\u001b[0m\n\u001b[0;32m     10\u001b[0m     \u001b[1;32mreturn\u001b[0m\u001b[1;33m(\u001b[0m\u001b[0mcipher\u001b[0m\u001b[1;33m.\u001b[0m\u001b[0mencrypt\u001b[0m\u001b[1;33m(\u001b[0m\u001b[0mrequest\u001b[0m \u001b[1;33m+\u001b[0m \u001b[0msecret_cookie\u001b[0m\u001b[1;33m)\u001b[0m\u001b[1;33m)\u001b[0m\u001b[1;33m\u001b[0m\u001b[1;33m\u001b[0m\u001b[0m\n",
      "\u001b[1;32mC:\\ProgramData\\Anaconda3\\lib\\site-packages\\Crypto\\Random\\__init__.py\u001b[0m in \u001b[0;36mget_random_bytes\u001b[1;34m(n)\u001b[0m\n\u001b[0;32m     39\u001b[0m \u001b[1;32mdef\u001b[0m \u001b[0mget_random_bytes\u001b[0m\u001b[1;33m(\u001b[0m\u001b[0mn\u001b[0m\u001b[1;33m)\u001b[0m\u001b[1;33m:\u001b[0m\u001b[1;33m\u001b[0m\u001b[1;33m\u001b[0m\u001b[0m\n\u001b[0;32m     40\u001b[0m     \u001b[1;34m\"\"\"Return the specified number of cryptographically-strong random bytes.\"\"\"\u001b[0m\u001b[1;33m\u001b[0m\u001b[1;33m\u001b[0m\u001b[0m\n\u001b[1;32m---> 41\u001b[1;33m     \u001b[1;32mreturn\u001b[0m \u001b[0m_UserFriendlyRNG\u001b[0m\u001b[1;33m.\u001b[0m\u001b[0mget_random_bytes\u001b[0m\u001b[1;33m(\u001b[0m\u001b[0mn\u001b[0m\u001b[1;33m)\u001b[0m\u001b[1;33m\u001b[0m\u001b[1;33m\u001b[0m\u001b[0m\n\u001b[0m\u001b[0;32m     42\u001b[0m \u001b[1;33m\u001b[0m\u001b[0m\n\u001b[0;32m     43\u001b[0m \u001b[1;31m# vim:set ts=4 sw=4 sts=4 expandtab:\u001b[0m\u001b[1;33m\u001b[0m\u001b[1;33m\u001b[0m\u001b[1;33m\u001b[0m\u001b[0m\n",
      "\u001b[1;32mC:\\ProgramData\\Anaconda3\\lib\\site-packages\\Crypto\\Random\\_UserFriendlyRNG.py\u001b[0m in \u001b[0;36mget_random_bytes\u001b[1;34m(n)\u001b[0m\n\u001b[0;32m    226\u001b[0m \u001b[1;32mdef\u001b[0m \u001b[0mget_random_bytes\u001b[0m\u001b[1;33m(\u001b[0m\u001b[0mn\u001b[0m\u001b[1;33m)\u001b[0m\u001b[1;33m:\u001b[0m\u001b[1;33m\u001b[0m\u001b[1;33m\u001b[0m\u001b[0m\n\u001b[0;32m    227\u001b[0m     \u001b[1;34m\"\"\"Return the specified number of cryptographically-strong random bytes.\"\"\"\u001b[0m\u001b[1;33m\u001b[0m\u001b[1;33m\u001b[0m\u001b[0m\n\u001b[1;32m--> 228\u001b[1;33m     \u001b[1;32mreturn\u001b[0m \u001b[0m_get_singleton\u001b[0m\u001b[1;33m(\u001b[0m\u001b[1;33m)\u001b[0m\u001b[1;33m.\u001b[0m\u001b[0mread\u001b[0m\u001b[1;33m(\u001b[0m\u001b[0mn\u001b[0m\u001b[1;33m)\u001b[0m\u001b[1;33m\u001b[0m\u001b[1;33m\u001b[0m\u001b[0m\n\u001b[0m\u001b[0;32m    229\u001b[0m \u001b[1;33m\u001b[0m\u001b[0m\n\u001b[0;32m    230\u001b[0m \u001b[1;31m# vim:set ts=4 sw=4 sts=4 expandtab:\u001b[0m\u001b[1;33m\u001b[0m\u001b[1;33m\u001b[0m\u001b[1;33m\u001b[0m\u001b[0m\n",
      "\u001b[1;32mC:\\ProgramData\\Anaconda3\\lib\\site-packages\\Crypto\\Random\\_UserFriendlyRNG.py\u001b[0m in \u001b[0;36mread\u001b[1;34m(self, bytes)\u001b[0m\n\u001b[0;32m    176\u001b[0m         \u001b[0mself\u001b[0m\u001b[1;33m.\u001b[0m\u001b[0m_lock\u001b[0m\u001b[1;33m.\u001b[0m\u001b[0macquire\u001b[0m\u001b[1;33m(\u001b[0m\u001b[1;33m)\u001b[0m\u001b[1;33m\u001b[0m\u001b[1;33m\u001b[0m\u001b[0m\n\u001b[0;32m    177\u001b[0m         \u001b[1;32mtry\u001b[0m\u001b[1;33m:\u001b[0m\u001b[1;33m\u001b[0m\u001b[1;33m\u001b[0m\u001b[0m\n\u001b[1;32m--> 178\u001b[1;33m             \u001b[1;32mreturn\u001b[0m \u001b[0m_UserFriendlyRNG\u001b[0m\u001b[1;33m.\u001b[0m\u001b[0mread\u001b[0m\u001b[1;33m(\u001b[0m\u001b[0mself\u001b[0m\u001b[1;33m,\u001b[0m \u001b[0mbytes\u001b[0m\u001b[1;33m)\u001b[0m\u001b[1;33m\u001b[0m\u001b[1;33m\u001b[0m\u001b[0m\n\u001b[0m\u001b[0;32m    179\u001b[0m         \u001b[1;32mfinally\u001b[0m\u001b[1;33m:\u001b[0m\u001b[1;33m\u001b[0m\u001b[1;33m\u001b[0m\u001b[0m\n\u001b[0;32m    180\u001b[0m             \u001b[0mself\u001b[0m\u001b[1;33m.\u001b[0m\u001b[0m_lock\u001b[0m\u001b[1;33m.\u001b[0m\u001b[0mrelease\u001b[0m\u001b[1;33m(\u001b[0m\u001b[1;33m)\u001b[0m\u001b[1;33m\u001b[0m\u001b[1;33m\u001b[0m\u001b[0m\n",
      "\u001b[1;32mC:\\ProgramData\\Anaconda3\\lib\\site-packages\\Crypto\\Random\\_UserFriendlyRNG.py\u001b[0m in \u001b[0;36mread\u001b[1;34m(self, N)\u001b[0m\n\u001b[0;32m    127\u001b[0m \u001b[1;33m\u001b[0m\u001b[0m\n\u001b[0;32m    128\u001b[0m         \u001b[1;31m# Collect some entropy and feed it to Fortuna\u001b[0m\u001b[1;33m\u001b[0m\u001b[1;33m\u001b[0m\u001b[1;33m\u001b[0m\u001b[0m\n\u001b[1;32m--> 129\u001b[1;33m         \u001b[0mself\u001b[0m\u001b[1;33m.\u001b[0m\u001b[0m_ec\u001b[0m\u001b[1;33m.\u001b[0m\u001b[0mcollect\u001b[0m\u001b[1;33m(\u001b[0m\u001b[1;33m)\u001b[0m\u001b[1;33m\u001b[0m\u001b[1;33m\u001b[0m\u001b[0m\n\u001b[0m\u001b[0;32m    130\u001b[0m \u001b[1;33m\u001b[0m\u001b[0m\n\u001b[0;32m    131\u001b[0m         \u001b[1;31m# Ask Fortuna to generate some bytes\u001b[0m\u001b[1;33m\u001b[0m\u001b[1;33m\u001b[0m\u001b[1;33m\u001b[0m\u001b[0m\n",
      "\u001b[1;32mC:\\ProgramData\\Anaconda3\\lib\\site-packages\\Crypto\\Random\\_UserFriendlyRNG.py\u001b[0m in \u001b[0;36mcollect\u001b[1;34m(self)\u001b[0m\n\u001b[0;32m     68\u001b[0m     \u001b[1;32mdef\u001b[0m \u001b[0mcollect\u001b[0m\u001b[1;33m(\u001b[0m\u001b[0mself\u001b[0m\u001b[1;33m)\u001b[0m\u001b[1;33m:\u001b[0m\u001b[1;33m\u001b[0m\u001b[1;33m\u001b[0m\u001b[0m\n\u001b[0;32m     69\u001b[0m         \u001b[1;31m# Collect 64 bits of entropy from the operating system and feed it to Fortuna.\u001b[0m\u001b[1;33m\u001b[0m\u001b[1;33m\u001b[0m\u001b[1;33m\u001b[0m\u001b[0m\n\u001b[1;32m---> 70\u001b[1;33m         \u001b[0mself\u001b[0m\u001b[1;33m.\u001b[0m\u001b[0m_osrng_es\u001b[0m\u001b[1;33m.\u001b[0m\u001b[0mfeed\u001b[0m\u001b[1;33m(\u001b[0m\u001b[0mself\u001b[0m\u001b[1;33m.\u001b[0m\u001b[0m_osrng\u001b[0m\u001b[1;33m.\u001b[0m\u001b[0mread\u001b[0m\u001b[1;33m(\u001b[0m\u001b[1;36m8\u001b[0m\u001b[1;33m)\u001b[0m\u001b[1;33m)\u001b[0m\u001b[1;33m\u001b[0m\u001b[1;33m\u001b[0m\u001b[0m\n\u001b[0m\u001b[0;32m     71\u001b[0m \u001b[1;33m\u001b[0m\u001b[0m\n\u001b[0;32m     72\u001b[0m         \u001b[1;31m# Add the fractional part of time.time()\u001b[0m\u001b[1;33m\u001b[0m\u001b[1;33m\u001b[0m\u001b[1;33m\u001b[0m\u001b[0m\n",
      "\u001b[1;32mC:\\ProgramData\\Anaconda3\\lib\\site-packages\\Crypto\\Random\\OSRNG\\rng_base.py\u001b[0m in \u001b[0;36mread\u001b[1;34m(self, N)\u001b[0m\n\u001b[0;32m     74\u001b[0m         \u001b[1;32melif\u001b[0m \u001b[0mN\u001b[0m \u001b[1;33m==\u001b[0m \u001b[1;36m0\u001b[0m\u001b[1;33m:\u001b[0m\u001b[1;33m\u001b[0m\u001b[1;33m\u001b[0m\u001b[0m\n\u001b[0;32m     75\u001b[0m             \u001b[1;32mreturn\u001b[0m \u001b[1;34m\"\"\u001b[0m\u001b[1;33m\u001b[0m\u001b[1;33m\u001b[0m\u001b[0m\n\u001b[1;32m---> 76\u001b[1;33m         \u001b[0mdata\u001b[0m \u001b[1;33m=\u001b[0m \u001b[0mself\u001b[0m\u001b[1;33m.\u001b[0m\u001b[0m_read\u001b[0m\u001b[1;33m(\u001b[0m\u001b[0mN\u001b[0m\u001b[1;33m)\u001b[0m\u001b[1;33m\u001b[0m\u001b[1;33m\u001b[0m\u001b[0m\n\u001b[0m\u001b[0;32m     77\u001b[0m         \u001b[1;32mif\u001b[0m \u001b[0mlen\u001b[0m\u001b[1;33m(\u001b[0m\u001b[0mdata\u001b[0m\u001b[1;33m)\u001b[0m \u001b[1;33m!=\u001b[0m \u001b[0mN\u001b[0m\u001b[1;33m:\u001b[0m\u001b[1;33m\u001b[0m\u001b[1;33m\u001b[0m\u001b[0m\n\u001b[0;32m     78\u001b[0m             \u001b[1;32mraise\u001b[0m \u001b[0mAssertionError\u001b[0m\u001b[1;33m(\u001b[0m\u001b[1;34m\"%s produced truncated output (requested %d, got %d)\"\u001b[0m \u001b[1;33m%\u001b[0m \u001b[1;33m(\u001b[0m\u001b[0mself\u001b[0m\u001b[1;33m.\u001b[0m\u001b[0mname\u001b[0m\u001b[1;33m,\u001b[0m \u001b[0mN\u001b[0m\u001b[1;33m,\u001b[0m \u001b[0mlen\u001b[0m\u001b[1;33m(\u001b[0m\u001b[0mdata\u001b[0m\u001b[1;33m)\u001b[0m\u001b[1;33m)\u001b[0m\u001b[1;33m)\u001b[0m\u001b[1;33m\u001b[0m\u001b[1;33m\u001b[0m\u001b[0m\n",
      "\u001b[1;32mC:\\ProgramData\\Anaconda3\\lib\\site-packages\\Crypto\\Random\\OSRNG\\nt.py\u001b[0m in \u001b[0;36m_read\u001b[1;34m(self, N)\u001b[0m\n\u001b[0;32m     66\u001b[0m         \u001b[0mself\u001b[0m\u001b[1;33m.\u001b[0m\u001b[0mflush\u001b[0m\u001b[1;33m(\u001b[0m\u001b[1;33m)\u001b[0m\u001b[1;33m\u001b[0m\u001b[1;33m\u001b[0m\u001b[0m\n\u001b[0;32m     67\u001b[0m         \u001b[0mdata\u001b[0m \u001b[1;33m=\u001b[0m \u001b[0mself\u001b[0m\u001b[1;33m.\u001b[0m\u001b[0m__winrand\u001b[0m\u001b[1;33m.\u001b[0m\u001b[0mget_bytes\u001b[0m\u001b[1;33m(\u001b[0m\u001b[0mN\u001b[0m\u001b[1;33m)\u001b[0m\u001b[1;33m\u001b[0m\u001b[1;33m\u001b[0m\u001b[0m\n\u001b[1;32m---> 68\u001b[1;33m         \u001b[0mself\u001b[0m\u001b[1;33m.\u001b[0m\u001b[0mflush\u001b[0m\u001b[1;33m(\u001b[0m\u001b[1;33m)\u001b[0m\u001b[1;33m\u001b[0m\u001b[1;33m\u001b[0m\u001b[0m\n\u001b[0m\u001b[0;32m     69\u001b[0m         \u001b[1;32mreturn\u001b[0m \u001b[0mdata\u001b[0m\u001b[1;33m\u001b[0m\u001b[1;33m\u001b[0m\u001b[0m\n\u001b[0;32m     70\u001b[0m \u001b[1;33m\u001b[0m\u001b[0m\n",
      "\u001b[1;32mC:\\ProgramData\\Anaconda3\\lib\\site-packages\\Crypto\\Random\\OSRNG\\nt.py\u001b[0m in \u001b[0;36mflush\u001b[1;34m(self)\u001b[0m\n\u001b[0;32m     53\u001b[0m             \u001b[1;32mraise\u001b[0m \u001b[0mValueError\u001b[0m\u001b[1;33m(\u001b[0m\u001b[1;34m\"I/O operation on closed file\"\u001b[0m\u001b[1;33m)\u001b[0m\u001b[1;33m\u001b[0m\u001b[1;33m\u001b[0m\u001b[0m\n\u001b[0;32m     54\u001b[0m         \u001b[0mdata\u001b[0m \u001b[1;33m=\u001b[0m \u001b[0mself\u001b[0m\u001b[1;33m.\u001b[0m\u001b[0m__winrand\u001b[0m\u001b[1;33m.\u001b[0m\u001b[0mget_bytes\u001b[0m\u001b[1;33m(\u001b[0m\u001b[1;36m128\u001b[0m\u001b[1;33m*\u001b[0m\u001b[1;36m1024\u001b[0m\u001b[1;33m)\u001b[0m\u001b[1;33m\u001b[0m\u001b[1;33m\u001b[0m\u001b[0m\n\u001b[1;32m---> 55\u001b[1;33m         \u001b[1;32massert\u001b[0m \u001b[1;33m(\u001b[0m\u001b[0mlen\u001b[0m\u001b[1;33m(\u001b[0m\u001b[0mdata\u001b[0m\u001b[1;33m)\u001b[0m \u001b[1;33m==\u001b[0m \u001b[1;36m128\u001b[0m\u001b[1;33m*\u001b[0m\u001b[1;36m1024\u001b[0m\u001b[1;33m)\u001b[0m\u001b[1;33m\u001b[0m\u001b[1;33m\u001b[0m\u001b[0m\n\u001b[0m\u001b[0;32m     56\u001b[0m         \u001b[0mBaseRNG\u001b[0m\u001b[1;33m.\u001b[0m\u001b[0mflush\u001b[0m\u001b[1;33m(\u001b[0m\u001b[0mself\u001b[0m\u001b[1;33m)\u001b[0m\u001b[1;33m\u001b[0m\u001b[1;33m\u001b[0m\u001b[0m\n\u001b[0;32m     57\u001b[0m \u001b[1;33m\u001b[0m\u001b[0m\n",
      "\u001b[1;31mKeyboardInterrupt\u001b[0m: "
     ]
    }
   ],
   "source": [
    "Num_Iterations = 2**24\n",
    "for pad_length in range(15, 31):\n",
    "    \n",
    "    print(f'{pad_length}, ', end='')\n",
    "    request = b'\\x00'*pad_length\n",
    "    \n",
    "    b_15 = 15 - pad_length  # Bias peak is 240\n",
    "    b_31 = 31 - pad_length  # Bias peak is 224\n",
    "    b_47 = 47 - pad_length  # Bias peak is 208\n",
    "    \n",
    "    for jj in range(Num_Iterations):\n",
    "        \n",
    "        ciphertext = Challenge56_Oracle(request)\n",
    "        if pad_length < 16:\n",
    "            map15[b_15][ciphertext[15]] += 1\n",
    "        if pad_length < 32 and len(ciphertext) >= 32:\n",
    "            map31[b_31][ciphertext[31]] += 1\n",
    "        if len(ciphertext) >= 48:\n",
    "            map47[b_47][ciphertext[47]] += 1\n",
    "        \n",
    "    pad_length += 1"
   ]
  },
  {
   "cell_type": "code",
   "execution_count": 128,
   "metadata": {},
   "outputs": [
    {
     "name": "stdout",
     "output_type": "stream",
     "text": [
      "[178, 181, 208, 163, 165, 162, 181, 208, 164, 191, 208, 180, 162, 185, 190, 187, 0, 0, 0, 0, 0, 0, 0, 0, 0, 0, 0, 0, 0, 0]\n",
      "[0, 0, 0, 0, 0, 0, 0, 0, 0, 0, 0, 0, 0, 0, 0, 0, 192, 185, 175, 117, 178, 192, 175, 182, 161, 172, 180, 169, 174, 165]\n",
      "[0, 0, 0, 0, 0, 0, 0, 0, 0, 0, 0, 0, 0, 0, 0, 0, 0, 0, 0, 0, 0, 0, 0, 0, 0, 0, 0, 0, 0, 0]\n",
      "b'BE SURE TO DRINK\\xf0\\xf0\\xf0\\xf0\\xf0\\xf0\\xf0\\xf0\\xf0\\xf0\\xf0\\xf0\\xf0\\xf0'\n",
      "b'\\xe0\\xe0\\xe0\\xe0\\xe0\\xe0\\xe0\\xe0\\xe0\\xe0\\xe0\\xe0\\xe0\\xe0\\xe0\\xe0 YO\\x95R OVALTINE'\n",
      "b'\\xd0\\xd0\\xd0\\xd0\\xd0\\xd0\\xd0\\xd0\\xd0\\xd0\\xd0\\xd0\\xd0\\xd0\\xd0\\xd0\\xd0\\xd0\\xd0\\xd0\\xd0\\xd0\\xd0\\xd0\\xd0\\xd0\\xd0\\xd0\\xd0\\xd0'\n",
      "*****************************\n",
      "Decrypted cookie:\n",
      "BE SURE TO DRINK YOR OVALTINE\n"
     ]
    }
   ],
   "source": [
    "m15_maxes = [np.argmax(map15[ii]) for ii in range(len(map15))]\n",
    "m31_maxes = [np.argmax(map31[ii]) for ii in range(len(map31))]\n",
    "m47_maxes = [np.argmax(map47[ii]) for ii in range(len(map47))]\n",
    "\n",
    "print(m15_maxes)\n",
    "print(m31_maxes)\n",
    "print(m47_maxes)\n",
    "\n",
    "m15_pt = bytes([c ^ 240 for c in m15_maxes])\n",
    "m31_pt = bytes([c ^ 224 for c in m31_maxes])\n",
    "m47_pt = bytes([c ^ 208 for c in m47_maxes])\n",
    "\n",
    "print(m15_pt)\n",
    "print(m31_pt)\n",
    "print(m47_pt)\n",
    "\n",
    "# Combine the data collected at the high bias byte positions...15, 31, 47, etc...\n",
    "combined = np.zeros((secret_length, 256))\n",
    "for ii in range(secret_length):\n",
    "    for jj in range(256):\n",
    "        combined[ii][jj^240] += int(map15[ii][jj])\n",
    "        combined[ii][jj^224] += int(map31[ii][jj]) \n",
    "        combined[ii][jj^208] += int(map47[ii][jj])\n",
    "    \n",
    "msg = ''\n",
    "for ii in range(secret_length):\n",
    "    msg += chr(combined[ii].argmax())\n",
    "\n",
    "print('*****************************')\n",
    "print('Decrypted cookie:')\n",
    "print(msg)"
   ]
  },
  {
   "cell_type": "code",
   "execution_count": 3,
   "metadata": {},
   "outputs": [],
   "source": [
    "import pickle\n",
    "f = open('rc4dist.pickle', 'rb')\n",
    "key_prob_mat = pickle.load(f)\n",
    "f.close()"
   ]
  },
  {
   "cell_type": "code",
   "execution_count": 5,
   "metadata": {},
   "outputs": [
    {
     "name": "stdout",
     "output_type": "stream",
     "text": [
      "0, 1, 2, 3, 4, 5, 6, 7, 8, 9, 10, 11, 12, 13, 14, 15, 16, 17, 18, 19, 20, "
     ]
    }
   ],
   "source": [
    "Num_Iterations = 2**17\n",
    "\n",
    "# Initialize the plaintext probability matrix.\n",
    "secret_length = len(Challenge56_Oracle(b''))\n",
    "pt_prior_prob = np.matlib.repmat(np.array(1/128), secret_length, 128)\n",
    "\n",
    "max_pad_length = 47\n",
    "\n",
    "filename = './pt_prob_mat2.mmp'\n",
    "pt_prob_mat = np.memmap(filename, mode=\"w+\", dtype=np.float, shape=(secret_length, 128, Num_Iterations*max_pad_length))\n",
    "#pt_prob_mat = np.zeros((secret_length, 128, Num_Iterations*max_pad_length))\n",
    "pt_prob_mat[:,:,0] = pt_prior_prob\n",
    "\n",
    "max_length = max_pad_length + secret_length\n",
    "index_mat = np.tile(range(128), (max_length, 1))\n",
    "\n",
    "count = 0\n",
    "for pad_length in range(0, 21):\n",
    "    \n",
    "    print(f'{pad_length}, ', end='')\n",
    "    request = b'\\x00'*pad_length\n",
    "        \n",
    "    for jj in range(1, Num_Iterations):\n",
    "        \n",
    "        ciphertext = np.array(list(Challenge56_Oracle(request)))\n",
    "        ciphertext_len = len(ciphertext)        \n",
    "        ciphertext_mat = np.tile(ciphertext, (128, 1)).T\n",
    "        hyp_ky_mat = np.bitwise_xor(ciphertext_mat, index_mat[:ciphertext_len,:])\n",
    "        likelihood_mat = np.zeros((secret_length, 128))\n",
    "        \n",
    "        for kk in range(ciphertext_len):\n",
    "            likelihood_mat[kk-pad_length,:] = key_prob_mat[kk, [hyp_ky_mat[kk,:]]]\n",
    "                                                \n",
    "        bayes_numerators = likelihood_mat * pt_prob_mat[:,:,count]\n",
    "        bayes_denominators = np.tile(np.sum(bayes_numerators, axis=1).T, (128, 1)).T\n",
    "        count += 1\n",
    "        pt_prob_mat[:,:,count] = bayes_numerators / bayes_denominators\n",
    "    \n",
    "    pt_prob_mat.flush()\n",
    "        "
   ]
  },
  {
   "cell_type": "code",
   "execution_count": 57,
   "metadata": {},
   "outputs": [
    {
     "name": "stdout",
     "output_type": "stream",
     "text": [
      "0, 1, 2, 3, 4, 5, 6, 7, 8, 9, 10, 11, 12, 13, 14, 15, 16, 17, 18, 19, 20, "
     ]
    }
   ],
   "source": [
    "Num_Iterations = 2**16\n",
    "for pad_length in range(0, 21):\n",
    "    \n",
    "    print(f'{pad_length}, ', end='')\n",
    "    request = b'\\x00'*pad_length\n",
    "        \n",
    "    for jj in range(1, Num_Iterations):\n",
    "        \n",
    "        ciphertext = np.array(list(Challenge56_Oracle(request)))\n",
    "        ciphertext_len = len(ciphertext)        \n",
    "        ciphertext_mat = np.tile(ciphertext, (128, 1)).T\n",
    "        hyp_ky_mat = np.bitwise_xor(ciphertext_mat, index_mat[:ciphertext_len,:])\n",
    "        likelihood_mat = np.zeros((secret_length, 128))\n",
    "        \n",
    "        for kk in range(ciphertext_len):\n",
    "            likelihood_mat[kk-pad_length,:] = key_prob_mat[kk, [hyp_ky_mat[kk,:]]]\n",
    "                                                \n",
    "        bayes_numerators = likelihood_mat * pt_prob_mat[:,:,count]\n",
    "        bayes_denominators = np.tile(np.sum(bayes_numerators, axis=1).T, (128, 1)).T\n",
    "        count += 1\n",
    "        pt_prob_mat[:,:,count] = bayes_numerators / bayes_denominators\n",
    "    \n",
    "    pt_prob_mat.flush()"
   ]
  },
  {
   "cell_type": "code",
   "execution_count": 5,
   "metadata": {},
   "outputs": [
    {
     "name": "stdout",
     "output_type": "stream",
     "text": [
      "0, 1, 2, 3, 4, 5, 6, 7, 8, 9, 10, 11, 12, 13, 14, 15, 16, 17, 18, 19, 20, "
     ]
    }
   ],
   "source": [
    "Num_Iterations = 2**17\n",
    "\n",
    "# Initialize the plaintext probability matrix.\n",
    "secret_length = len(Challenge56_Oracle(b''))\n",
    "pt_prior_prob = np.matlib.repmat(np.array(1/128), secret_length, 128)\n",
    "\n",
    "max_pad_length = 47\n",
    "\n",
    "filename = './pt_prob_mat2.mmp'\n",
    "pt_prob_mat = np.memmap(filename, mode=\"w+\", dtype=np.float, shape=(secret_length, 128, Num_Iterations*max_pad_length))\n",
    "pt_prob_mat[:,:,0] = pt_prior_prob\n",
    "\n",
    "max_length = max_pad_length + secret_length\n",
    "index_mat = np.tile(range(128), (max_length, 1))\n",
    "\n",
    "count = 0\n",
    "for pad_length in range(0, 21):\n",
    "    \n",
    "    print(f'{pad_length}, ', end='')\n",
    "    request = b'\\x00'*pad_length\n",
    "        \n",
    "    for jj in range(1, Num_Iterations):\n",
    "        \n",
    "        ciphertext = np.array(list(Challenge56_Oracle(request)))\n",
    "        ciphertext_len = len(ciphertext)        \n",
    "        ciphertext_mat = np.tile(ciphertext, (128, 1)).T\n",
    "        hyp_ky_mat = np.bitwise_xor(ciphertext_mat, index_mat[:ciphertext_len,:])\n",
    "        likelihood_mat = np.zeros((secret_length, 128))\n",
    "        \n",
    "        for kk in range(ciphertext_len):\n",
    "            likelihood_mat[kk-pad_length,:] = key_prob_mat[kk, [hyp_ky_mat[kk,:]]]\n",
    "                                                \n",
    "        bayes_numerators = likelihood_mat * pt_prob_mat[:,:,count]\n",
    "        bayes_denominators = np.tile(np.sum(bayes_numerators, axis=1).T, (128, 1)).T\n",
    "        count += 1\n",
    "        pt_prob_mat[:,:,count] = bayes_numerators / bayes_denominators\n",
    "    \n",
    "    pt_prob_mat.flush()\n",
    "        "
   ]
  },
  {
   "cell_type": "markdown",
   "metadata": {},
   "source": [
    "[Back to Index](CryptoPalsWalkthroughs_Cobb.ipynb)"
   ]
  },
  {
   "cell_type": "code",
   "execution_count": 28,
   "metadata": {},
   "outputs": [],
   "source": [
    "del pt_prob_mat"
   ]
  },
  {
   "cell_type": "code",
   "execution_count": null,
   "metadata": {},
   "outputs": [],
   "source": []
  }
 ],
 "metadata": {
  "kernelspec": {
   "display_name": "Python 3",
   "language": "python",
   "name": "python3"
  },
  "language_info": {
   "codemirror_mode": {
    "name": "ipython",
    "version": 3
   },
   "file_extension": ".py",
   "mimetype": "text/x-python",
   "name": "python",
   "nbconvert_exporter": "python",
   "pygments_lexer": "ipython3",
   "version": "3.7.6"
  }
 },
 "nbformat": 4,
 "nbformat_minor": 4
}
