{
 "cells": [
  {
   "cell_type": "markdown",
   "metadata": {},
   "source": [
    "### Challenge 35: Implement DH with negotiated groups, and break with malicious \"g\" parameters\n",
    "\n",
    "[Back to Index](CryptoPalsWalkthroughs_Cobb.ipynb)"
   ]
  },
  {
   "cell_type": "markdown",
   "metadata": {},
   "source": [
    "<div class=\"alert alert-block alert-info\">\n",
    "\n",
    "Implement DH with negotiated groups, and break with malicious \"g\" parameters\n",
    "\n",
    "```A->B```    Send \"p\", \"g\"\n",
    "    \n",
    "```B->A```    Send ACK\n",
    "    \n",
    "```A->B```    Send \"A\"\n",
    "    \n",
    "```B->A```    Send \"B\"\n",
    "    \n",
    "```->B```     Send ```AES-CBC(SHA1(s)[0:16], iv=random(16), msg) + iv```\n",
    "    \n",
    "```B->A```    Send ```AES-CBC(SHA1(s)[0:16], iv=random(16), A's msg) + iv```\n",
    "\n",
    "Do the MITM attack again, but play with \"g\". What happens with:\n",
    "\n",
    "```g = 1```\n",
    "    \n",
    "```g = p```\n",
    "    \n",
    "```g = p - 1```\n",
    "    \n",
    "Write attacks for each.\n",
    "\n",
    "<div class=\"alert alert-block alert-warning\">\n",
    "\n",
    "#### **When does this ever happen?**\n",
    "\n",
    "Honestly, not that often in real-world systems. If you can mess with \"g\", chances are you can mess with something worse. Most systems pre-agree on a static DH group. But the same construction exists in Elliptic Curve Diffie-Hellman, and this becomes more relevant there.\n",
    "\n",
    "</div>\n",
    "\n",
    "</div>"
   ]
  },
  {
   "cell_type": "code",
   "execution_count": 1,
   "metadata": {},
   "outputs": [],
   "source": [
    "import numpy as np\n",
    "import cryptopals as cp\n",
    "import sha1\n",
    "from Crypto import Random"
   ]
  },
  {
   "cell_type": "markdown",
   "metadata": {},
   "source": [
    "<div class=\"alert alert-block alert-info\">\n",
    "\n",
    "Implement DH with negotiated groups, and break with malicious \"g\" parameters\n",
    "    \n",
    "</div>"
   ]
  },
  {
   "cell_type": "markdown",
   "metadata": {},
   "source": [
    "---\n",
    "From this challenge description, it's not clear to me if we can somehow manipulate Alice's g parameter as well as Bob's?\n",
    "\n",
    "---"
   ]
  },
  {
   "cell_type": "markdown",
   "metadata": {},
   "source": [
    "<div class=\"alert alert-block alert-info\">\n",
    "\n",
    "Use the code you just worked out to build a protocol and an \"echo\" bot. You don't actually have to do the network part of this if you don't want; just simulate that. The protocol is:\n",
    "\n",
    "```A->B```    Send \"p\", \"g\"\n",
    "    \n",
    "```B->A```    Send ACK\n",
    "    \n",
    "```A->B```    Send \"A\"\n",
    "    \n",
    "```B->A```    Send \"B\"\n",
    "    \n",
    "```->B```     Send ```AES-CBC(SHA1(s)[0:16], iv=random(16), msg) + iv```\n",
    "    \n",
    "```B->A```    Send ```AES-CBC(SHA1(s)[0:16], iv=random(16), A's msg) + iv```\n",
    "    \n",
    "</div>"
   ]
  },
  {
   "cell_type": "markdown",
   "metadata": {},
   "source": [
    "<div class=\"alert alert-block alert-info\">\n",
    "    \n",
    "```A->B```    Send \"p\", \"g\"\n",
    "\n",
    "```B->A```    Send ACK\n",
    "    \n",
    "</div>"
   ]
  },
  {
   "cell_type": "code",
   "execution_count": 2,
   "metadata": {},
   "outputs": [],
   "source": [
    "p = 0xffffffffffffffffc90fdaa22168c234c4c6628b80dc1cd129024e088a67cc74020bbea63b139b22514a08798e3404ddef9519b3cd3a431b302b0a6df25f14374fe1356d6d51c245e485b576625e7ec6f44c42e9a637ed6b0bff5cb6f406b7edee386bfb5a899fa5ae9f24117c4b1fe649286651ece45b3dc2007cb8a163bf0598da48361c55d39a69163fa8fd24cf5f83655d23dca3ad961c62f356208552bb9ed529077096966d670c354e4abc9804f1746c08ca237327ffffffffffffffff\n",
    "g = 2"
   ]
  },
  {
   "cell_type": "markdown",
   "metadata": {},
   "source": [
    "<div class=\"alert alert-block alert-info\">\n",
    "    \n",
    "```A->B```    Send \"A\"\n",
    "</div>"
   ]
  },
  {
   "cell_type": "code",
   "execution_count": 3,
   "metadata": {},
   "outputs": [],
   "source": [
    "# Alice's private key is 'a'\n",
    "a = np.random.randint(0, 2**31) % p\n",
    "\n",
    "# Alice's public key is 'A'\n",
    "A = pow(g, a, p)"
   ]
  },
  {
   "cell_type": "markdown",
   "metadata": {},
   "source": [
    "---\n",
    "**This is where Mallory / Eve gets involved!**\n",
    "\n",
    "---"
   ]
  },
  {
   "cell_type": "markdown",
   "metadata": {},
   "source": [
    "<div class=\"alert alert-block alert-info\">\n",
    "    \n",
    "```B->A```    Send \"B\"\n",
    "   \n",
    "</div>"
   ]
  },
  {
   "cell_type": "markdown",
   "metadata": {},
   "source": [
    "<div class=\"alert alert-block alert-info\">\n",
    "\n",
    "Do the MITM attack again, but play with \"g\". What happens with:\n",
    "\n",
    "**```g = 1```**\n",
    "    \n",
    "```g = p```\n",
    "    \n",
    "```g = p - 1```\n",
    "    \n",
    "</div>"
   ]
  },
  {
   "cell_type": "markdown",
   "metadata": {},
   "source": [
    "Bob computes his own public key ```B``` using the parameters (```p``` and ```g```) supplied by Alice and sends ```B``` back to her.  I'm not implementing the transfer portion of the protocol...just pretend."
   ]
  },
  {
   "cell_type": "code",
   "execution_count": 4,
   "metadata": {},
   "outputs": [],
   "source": [
    "g_evil = 1\n",
    "\n",
    "# Bob's private key is 'b'\n",
    "b = np.random.randint(0, 2**31) % p\n",
    "\n",
    "# Bob's public key is 'B'.  He computed this using g_evil -- and shares it with Alice.\n",
    "B = pow(g_evil, b, p)"
   ]
  },
  {
   "cell_type": "markdown",
   "metadata": {},
   "source": [
    "---\n",
    "By setting ```g=1```, Mallory has forced Bob's public key to be a power of 1 ==> \n",
    "\n",
    "**B is always 1.**"
   ]
  },
  {
   "cell_type": "markdown",
   "metadata": {},
   "source": [
    "Bob computes a shared secret using Alice's public key ```A```, his private key ```b```, and the public modulus ```p```\n",
    "\n",
    "---\n",
    "I'm stuck (maybe) here.  If Alice computed her public key using the good / not evil ```g```, and Mallory doesn't tamper with that, Bob would use her true public key based on the original ```g``` to calculate the shared secret.  On the other hand, Alice will use Bob's evil public key (B = 1) to compute what she thinks is the shared secret.  Thus, sB will always be a power of 1, or 1 mod p.  So...the shared secrets that are hashed to produce the AES key don't match.  \n",
    "\n",
    "I think this means Mallory / Eve would be able to intercept and decrypt messages from Alice --> Bob, but not vice versa.  Furthermore, I don't think Alice would be able to decrypt Bob's messages and Bob would not be able to decrypt Alice's.?\n",
    "\n",
    "**What am I missing?**\n",
    "\n",
    "Note:  If Mallory was able to tamper with ```g``` before Alice used it, they both will compute a shared secret = 1 and this becomes a viable MITM attack."
   ]
  },
  {
   "cell_type": "markdown",
   "metadata": {},
   "source": [
    "<div class=\"alert alert-block alert-info\">\n",
    "\n",
    "Do the MITM attack again, but play with \"g\". What happens with:\n",
    "\n",
    "```g = 1```\n",
    "    \n",
    "**```g = p```**\n",
    "    \n",
    "```g = p - 1```\n",
    "    \n",
    "</div>"
   ]
  },
  {
   "cell_type": "code",
   "execution_count": 25,
   "metadata": {},
   "outputs": [],
   "source": [
    "p = 0xffffffffffffffffc90fdaa22168c234c4c6628b80dc1cd129024e088a67cc74020bbea63b139b22514a08798e3404ddef9519b3cd3a431b302b0a6df25f14374fe1356d6d51c245e485b576625e7ec6f44c42e9a637ed6b0bff5cb6f406b7edee386bfb5a899fa5ae9f24117c4b1fe649286651ece45b3dc2007cb8a163bf0598da48361c55d39a69163fa8fd24cf5f83655d23dca3ad961c62f356208552bb9ed529077096966d670c354e4abc9804f1746c08ca237327ffffffffffffffff\n",
    "g = 2"
   ]
  },
  {
   "cell_type": "code",
   "execution_count": 26,
   "metadata": {},
   "outputs": [],
   "source": [
    "# Alice's private key is 'a'\n",
    "a = np.random.randint(0, 2**31) % p\n",
    "\n",
    "# Alice's public key is 'A'\n",
    "A = pow(g, a, p)"
   ]
  },
  {
   "cell_type": "code",
   "execution_count": 30,
   "metadata": {},
   "outputs": [],
   "source": [
    "g_evil = p\n",
    "\n",
    "# Bob's private key is 'b'\n",
    "b = np.random.randint(0, 2**31) % p\n",
    "# Bob's public key is 'B'.  He computed this using g_evil -- and shares it with Alice.\n",
    "B = pow(g_evil, b, p)"
   ]
  },
  {
   "cell_type": "markdown",
   "metadata": {},
   "source": [
    "---\n",
    "This seems to be the same situation.  If Mallory only manipulates the g used by one side, that results in a public key of ```B = 0``` for Bob, but no change for Alice.  If, on the other hand, Mallory can manipulate ```g``` before Alice generates her public key, they'll both generate a public key of zero, resulting in matching shared secrets and AES keys.\n",
    "\n",
    "---"
   ]
  },
  {
   "cell_type": "markdown",
   "metadata": {},
   "source": [
    "<div class=\"alert alert-block alert-info\">\n",
    "\n",
    "Do the MITM attack again, but play with \"g\". What happens with:\n",
    "\n",
    "```g = 1```\n",
    "    \n",
    "```g = p```\n",
    "    \n",
    "**```g = p - 1```**\n",
    "    \n",
    "</div>"
   ]
  },
  {
   "cell_type": "code",
   "execution_count": 25,
   "metadata": {},
   "outputs": [],
   "source": [
    "p = 0xffffffffffffffffc90fdaa22168c234c4c6628b80dc1cd129024e088a67cc74020bbea63b139b22514a08798e3404ddef9519b3cd3a431b302b0a6df25f14374fe1356d6d51c245e485b576625e7ec6f44c42e9a637ed6b0bff5cb6f406b7edee386bfb5a899fa5ae9f24117c4b1fe649286651ece45b3dc2007cb8a163bf0598da48361c55d39a69163fa8fd24cf5f83655d23dca3ad961c62f356208552bb9ed529077096966d670c354e4abc9804f1746c08ca237327ffffffffffffffff\n",
    "g = 2"
   ]
  },
  {
   "cell_type": "code",
   "execution_count": 32,
   "metadata": {},
   "outputs": [],
   "source": [
    "# Alice's private key is 'a'\n",
    "a = np.random.randint(0, 2**31) % p\n",
    "\n",
    "# Alice's public key is 'A'\n",
    "A = pow(g, a, p)"
   ]
  },
  {
   "cell_type": "code",
   "execution_count": 33,
   "metadata": {},
   "outputs": [],
   "source": [
    "g_evil = p - 1\n",
    "\n",
    "# Bob's private key is 'b'\n",
    "b = np.random.randint(0, 2**31) % p\n",
    "# Bob's public key is 'B'.  He computed this using g_evil -- and shares it with Alice.\n",
    "B = pow(g_evil, b, p)"
   ]
  },
  {
   "cell_type": "code",
   "execution_count": 43,
   "metadata": {},
   "outputs": [],
   "source": [
    "sB = pow(B, a, p)"
   ]
  },
  {
   "cell_type": "markdown",
   "metadata": {},
   "source": [
    "---\n",
    "Again, same situation.  The difference here is that because  the shared secret computed by Alice will always = Bob's public key (= p-1). Same observation as for the other two cases.\n",
    "\n",
    "---"
   ]
  },
  {
   "cell_type": "markdown",
   "metadata": {},
   "source": [
    "[Back to Index](CryptoPalsWalkthroughs_Cobb.ipynb)"
   ]
  }
 ],
 "metadata": {
  "kernelspec": {
   "display_name": "Python 3",
   "language": "python",
   "name": "python3"
  },
  "language_info": {
   "codemirror_mode": {
    "name": "ipython",
    "version": 3
   },
   "file_extension": ".py",
   "mimetype": "text/x-python",
   "name": "python",
   "nbconvert_exporter": "python",
   "pygments_lexer": "ipython3",
   "version": "3.7.4"
  }
 },
 "nbformat": 4,
 "nbformat_minor": 4
}
