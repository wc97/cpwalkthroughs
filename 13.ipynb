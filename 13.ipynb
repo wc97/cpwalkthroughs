{
 "cells": [
  {
   "cell_type": "markdown",
   "metadata": {},
   "source": [
    "### Challenge #13:  ECB cut-and-paste\n",
    "\n",
    "[Back to Index](CryptoPalsWalkthroughs_Cobb.ipynb)"
   ]
  },
  {
   "cell_type": "markdown",
   "metadata": {},
   "source": [
    "<div class=\"alert alert-block alert-info\">\n",
    "    \n",
    "Write a k=v parsing routine, as if for a structured cookie. The routine should take:\n",
    "\n",
    "```foo=bar&baz=qux&zap=zazzle```\n",
    "\n",
    "... and produce:\n",
    "    \n",
    "```python\n",
    "{\n",
    "  foo: 'bar',\n",
    "  baz: 'qux',\n",
    "  zap: 'zazzle'\n",
    "}\n",
    "```\n",
    "\n",
    "</div>"
   ]
  },
  {
   "cell_type": "code",
   "execution_count": 41,
   "metadata": {},
   "outputs": [],
   "source": [
    "def parse_structured_cookie(data):\n",
    "    \"\"\"\n",
    "    For Challenge #13 (Set #2)\n",
    "    I parse the supplied data and return as a Python dictionary\n",
    "    \"\"\"\n",
    "    new_dict = {}\n",
    "    split_data = data.split('&')\n",
    "\n",
    "    for data_def in split_data:\n",
    "\n",
    "        left_right = data_def.split('=')\n",
    "        new_dict[left_right[0]] = left_right[1]\n",
    "\n",
    "    return(new_dict)"
   ]
  },
  {
   "cell_type": "code",
   "execution_count": 42,
   "metadata": {},
   "outputs": [
    {
     "data": {
      "text/plain": [
       "{'foo': 'bar', 'baz': 'qux', 'zap': 'zazzle'}"
      ]
     },
     "execution_count": 42,
     "metadata": {},
     "output_type": "execute_result"
    }
   ],
   "source": [
    "parse_structured_cookie('foo=bar&baz=qux&zap=zazzle')"
   ]
  },
  {
   "cell_type": "markdown",
   "metadata": {},
   "source": [
    "<div class=\"alert alert-block alert-info\">\n",
    "    \n",
    "Now write a function that encodes a user profile in that format, given an email address. You should have something like:\n",
    "```python\n",
    "profile_for(\"foo@bar.com\")\n",
    "```\n",
    "<br>\n",
    "... and it should produce:\n",
    "<br><br> \n",
    "    \n",
    "```python\n",
    "{\n",
    "  email: 'foo@bar.com',\n",
    "  uid: 10,\n",
    "  role: 'user'\n",
    "}\n",
    "```\n",
    "<br>\n",
    "... encoded as:\n",
    "<br><br>\n",
    "    \n",
    "```python\n",
    "email=foo@bar.com&uid=10&role=user\n",
    "```\n",
    "\n",
    "</div>"
   ]
  },
  {
   "cell_type": "code",
   "execution_count": 43,
   "metadata": {},
   "outputs": [],
   "source": [
    "def profile_for(email_address):\n",
    "    \"\"\"\n",
    "    For Challenge #13 (Set #2)\n",
    "    \"\"\"\n",
    "    \n",
    "    email_address = email_address.replace('=', '')\n",
    "    email_address = email_address.replace('&', '')\n",
    "    return('email=' + email_address + '&uid=10&role=user')"
   ]
  },
  {
   "cell_type": "code",
   "execution_count": 44,
   "metadata": {},
   "outputs": [
    {
     "data": {
      "text/plain": [
       "'email=foo@bar.com&uid=10&role=user'"
      ]
     },
     "execution_count": 44,
     "metadata": {},
     "output_type": "execute_result"
    }
   ],
   "source": [
    "profile_for(\"foo@bar.com\")"
   ]
  },
  {
   "cell_type": "markdown",
   "metadata": {},
   "source": [
    "<div class=\"alert alert-block alert-info\">\n",
    "    \n",
    "Your \"profile_for\" function should not allow encoding metacharacters (& and =). \n",
    "\n",
    "Eat them, quote them, whatever you want to do, but don't let people set their\n",
    "email address to ```foo@bar.com&role=admin```.\n",
    "    \n",
    "</div>"
   ]
  },
  {
   "cell_type": "code",
   "execution_count": 45,
   "metadata": {},
   "outputs": [
    {
     "data": {
      "text/plain": [
       "'email=foo@bar.comroleadmin&uid=10&role=user'"
      ]
     },
     "execution_count": 45,
     "metadata": {},
     "output_type": "execute_result"
    }
   ],
   "source": [
    "profile_for(\"foo@bar.com&role=admin\")"
   ]
  },
  {
   "cell_type": "markdown",
   "metadata": {},
   "source": [
    "<div class=\"alert alert-block alert-info\">\n",
    "    \n",
    "Now, two more easy functions. Generate a random AES key, then:\n",
    "\n",
    "- Encrypt the encoded user profile under the key; \"provide\" that to the \"attacker\".\n",
    "- Decrypt the encoded user profile and parse it.\n",
    "    \n",
    "</div>"
   ]
  },
  {
   "cell_type": "code",
   "execution_count": 46,
   "metadata": {},
   "outputs": [],
   "source": [
    "# We'll want a PKCS#7 stripping function for this...\n",
    "def strip_PKCS7_pad(data):\n",
    "    \"\"\"Function to remove PKCS#7 padding from a string\"\"\"\n",
    "    if data[-data[-1]:].count(data[-1]) == data[-1]:\n",
    "        return(data[:-data[-1]])\n",
    "    else:\n",
    "        return(-1)"
   ]
  },
  {
   "cell_type": "code",
   "execution_count": 47,
   "metadata": {},
   "outputs": [],
   "source": [
    "user_profile = profile_for('someuser@somewhere.com')\n",
    "\n",
    "unknown_key = bytes(list(randint(0, 256, 16)))\n",
    "encrypted_profile = cp.AESEncrypt(user_profile, unknown_key)\n",
    "decrypted_profile = strip_PKCS7_pad(cp.AESDecrypt(encrypted_profile, unknown_key))\n",
    "\n",
    "parsed_profile = parse_structured_cookie(decrypted_profile.decode())\n",
    "print(parsed_profile)"
   ]
  },
  {
   "cell_type": "markdown",
   "metadata": {},
   "source": [
    "<div class=\"alert alert-block alert-info\">\n",
    "    \n",
    "Using only the user input to profile_for() (as an oracle to generate \"valid\" ciphertexts) and the ciphertexts themselves, make a role=admin profile.\n",
    "\n",
    "</div>\n",
    "    \n",
    "### How do we do this?\n",
    "\n",
    "A couple of observations:\n",
    "\n",
    "- We can supply an email, and get back a valid encrypted profile.  \n",
    "- We know the block size (we learned how to figure this out earlier)\n",
    "- We know the format of the unencrypted profile\n",
    "\n",
    "First, lets construct a profile where the 'role=' portion stops at the end of an AES block:"
   ]
  },
  {
   "cell_type": "code",
   "execution_count": 55,
   "metadata": {},
   "outputs": [],
   "source": [
    "# Make one account that has 'role=' stop precisely at end of 2nd AES block\n",
    "email1 = 'aaaaaaa@a.com'\n",
    "encrypted_profile1 = cp.AESEncrypt(profile_for(email1), unknown_key)"
   ]
  },
  {
   "cell_type": "markdown",
   "metadata": {},
   "source": [
    "Remember, we don't actually know the key -- only the server knows that.  We're just doing it this way to simplify the coding a bit.\n",
    "\n",
    "Now we have a plaintext that looks like this:\n",
    "\n",
    "|015|014|013|012|011|010|009|008|007|006|005|004|003|002|001|000|\n",
    "|---|---|---|---|---|---|---|---|---|---|---|---|---|---|---|---|\n",
    "|e  |m  |a  |i  |l  |=  | a | a | a | a | a | a | a | @ | a | . |   \n",
    "\n",
    "|015|014|013|012|011|010|009|008|007|006|005|004|003|002|001|000|\n",
    "|---|---|---|---|---|---|---|---|---|---|---|---|---|---|---|---|\n",
    "| c | o | m | & | u | i | d | = | 1 | 0 | & | r | o | l | e | = |\n",
    "\n",
    "|015|014|013|012|011|010|009|008|007|006|005|004|003|002|001|000|\n",
    "|---|---|---|---|---|---|---|---|---|---|---|---|---|---|---|---|\n",
    "| u | s | e | r |0xc|0xc|0xc|0xc|0xc|0xc|0xc|0xc|0xc|0xc|0xc|0xc|\n",
    "\n",
    "Can you guess what's next?"
   ]
  },
  {
   "cell_type": "markdown",
   "metadata": {},
   "source": [
    "Now make a second one where ```admin``` is start of 3rd block...padded out to end so there's nothing else.  Because this is using ECB, this is exactly how the 3rd AES block would look for a legitimate encrypted profile."
   ]
  },
  {
   "cell_type": "code",
   "execution_count": 101,
   "metadata": {},
   "outputs": [],
   "source": [
    "email2 = 'aaaaaaaaaaaaaaaaaaaaaaaaaaadmin\\x0b\\x0b\\x0b\\x0b\\x0b\\x0b\\x0b\\x0b\\x0b\\x0b\\x0b'\n",
    "encrypted_profile2 = cp.AESEncrypt(profile_for(email2), unknown_key)"
   ]
  },
  {
   "cell_type": "markdown",
   "metadata": {},
   "source": [
    "For this second profile, the plaintext looks like this:\n",
    "\n",
    "|015|014|013|012|011|010|009|008|007|006|005|004|003|002|001|000|\n",
    "|---|---|---|---|---|---|---|---|---|---|---|---|---|---|---|---|\n",
    "|e  |m  |a  |i  |l  |=  | a | a | a | a | a | a | a | a | a | a |\n",
    "\n",
    "|015|014|013|012|011|010|009|008|007|006|005|004|003|002|001|000|\n",
    "|---|---|---|---|---|---|---|---|---|---|---|---|---|---|---|---|\n",
    "| a | a | a | a | a | a | a | a | a | a | a | a | a | a | a | a |\n",
    "\n",
    "|015|014|013|012|011|010|009|008|007|006|005|004|003|002|001|000|\n",
    "|---|---|---|---|---|---|---|---|---|---|---|---|---|---|---|---|\n",
    "| a | d | m | i | n |0xb|0xb|0xb|0xb|0xb|0xb|0xb|0xb|0xb|0xb|0xb|\n",
    "\n",
    "Now the easy part...\n",
    "\n",
    "We can cut & paste together full blocks of ciphertext from each profile to create the one we want... combine the parts of the encrypted data we need from each to create one that looks like a legitimate account for the original user, but with ```role=admin```."
   ]
  },
  {
   "cell_type": "code",
   "execution_count": 102,
   "metadata": {},
   "outputs": [],
   "source": [
    "evil_encrypted_admin_profile = encrypted_profile1[0:32] + encrypted_profile2[32:48]"
   ]
  },
  {
   "cell_type": "markdown",
   "metadata": {},
   "source": [
    "Check if it worked.  Decrypt the \"evil\" encrypted profile & parse it. This is what the server would do..."
   ]
  },
  {
   "cell_type": "code",
   "execution_count": 103,
   "metadata": {},
   "outputs": [
    {
     "data": {
      "text/plain": [
       "{'email': 'aaaaaaa@a.com', 'uid': '10', 'role': 'admin'}"
      ]
     },
     "execution_count": 103,
     "metadata": {},
     "output_type": "execute_result"
    }
   ],
   "source": [
    "decrypted_admin_profile = cp.AESDecrypt(evil_encrypted_admin_profile, unknown_key)\n",
    "parse_structured_cookie(strip_PKCS7_pad(decrypted_admin_profile).decode())"
   ]
  },
  {
   "cell_type": "markdown",
   "metadata": {},
   "source": [
    "---\n",
    "**Bingo!**"
   ]
  },
  {
   "cell_type": "markdown",
   "metadata": {},
   "source": [
    "[Back to Index](CryptoPalsWalkthroughs_Cobb.ipynb)"
   ]
  },
  {
   "cell_type": "code",
   "execution_count": null,
   "metadata": {},
   "outputs": [],
   "source": []
  }
 ],
 "metadata": {
  "kernelspec": {
   "display_name": "Python 3",
   "language": "python",
   "name": "python3"
  },
  "language_info": {
   "codemirror_mode": {
    "name": "ipython",
    "version": 3
   },
   "file_extension": ".py",
   "mimetype": "text/x-python",
   "name": "python",
   "nbconvert_exporter": "python",
   "pygments_lexer": "ipython3",
   "version": "3.7.4"
  }
 },
 "nbformat": 4,
 "nbformat_minor": 4
}
