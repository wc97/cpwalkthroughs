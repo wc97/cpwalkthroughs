{
 "cells": [
  {
   "cell_type": "markdown",
   "metadata": {},
   "source": [
    "### Challenge 33: Implement Diffie-Hellman\n",
    "\n",
    "[Back to Index](CryptoPalsWalkthroughs_Cobb.ipynb)"
   ]
  },
  {
   "cell_type": "markdown",
   "metadata": {},
   "source": [
    "<div class=\"alert alert-block alert-info\">\n",
    "\n",
    "For one of the most important algorithms in cryptography this exercise couldn't be a whole lot easier.\n",
    "</div>"
   ]
  },
  {
   "cell_type": "markdown",
   "metadata": {},
   "source": [
    "<div class=\"alert alert-block alert-info\">\n",
    "Set a variable \"p\" to 37 and \"g\" to 5. This algorithm is so easy I'm not even going to explain it. Just do what I do.\n",
    "</div>"
   ]
  },
  {
   "cell_type": "code",
   "execution_count": 3,
   "metadata": {},
   "outputs": [],
   "source": [
    "import numpy as np"
   ]
  },
  {
   "cell_type": "code",
   "execution_count": 4,
   "metadata": {},
   "outputs": [],
   "source": [
    "p = 37\n",
    "g = 5"
   ]
  },
  {
   "cell_type": "markdown",
   "metadata": {},
   "source": [
    "<div class=\"alert alert-block alert-info\">\n",
    "Generate \"a\", a random number mod 37. Now generate \"A\", which is \"g\" raised to the \"a\" power mode 37 --- A = (g**a) % p.\n",
    "\n",
    "Do the same for \"b\" and \"B\".\n",
    "</div>"
   ]
  },
  {
   "cell_type": "code",
   "execution_count": 5,
   "metadata": {},
   "outputs": [],
   "source": [
    "a = np.random.randint(0, 2**31) % p\n",
    "A = (g ** a) % p\n",
    "b = np.random.randint(0, 2**31) % p\n",
    "B = (g ** b) % p"
   ]
  },
  {
   "cell_type": "markdown",
   "metadata": {},
   "source": [
    "<div class=\"alert alert-block alert-info\">\n",
    "\"A\" and \"B\" are public keys. Generate a session key with them; set \"s\" to \"B\" raised to the \"a\" power mod 37 --- s = (B**a) % p.\n",
    "\n",
    "Do the same with A**b, check that you come up with the same \"s\".\n",
    "</div>"
   ]
  },
  {
   "cell_type": "code",
   "execution_count": 6,
   "metadata": {},
   "outputs": [
    {
     "name": "stdout",
     "output_type": "stream",
     "text": [
      "SA == sB?  True\n"
     ]
    }
   ],
   "source": [
    "sB = (B ** a) % p\n",
    "sA = (A ** b) % p\n",
    "\n",
    "print(f'SA == sB?  {sA==sB}')"
   ]
  },
  {
   "cell_type": "markdown",
   "metadata": {},
   "source": [
    "<div class=\"alert alert-block alert-info\">\n",
    "To turn \"s\" into a key, you can just hash it to create 128 bits of key material (or SHA256 it to create a key for encrypting and a key for a MAC).\n",
    "\n",
    "Ok, that was fun, now repeat the exercise with bignums like in the real world. Here are parameters NIST likes:\n",
    "```\n",
    "p:\n",
    "ffffffffffffffffc90fdaa22168c234c4c6628b80dc1cd129024\n",
    "e088a67cc74020bbea63b139b22514a08798e3404ddef9519b3cd\n",
    "3a431b302b0a6df25f14374fe1356d6d51c245e485b576625e7ec\n",
    "6f44c42e9a637ed6b0bff5cb6f406b7edee386bfb5a899fa5ae9f\n",
    "24117c4b1fe649286651ece45b3dc2007cb8a163bf0598da48361\n",
    "c55d39a69163fa8fd24cf5f83655d23dca3ad961c62f356208552\n",
    "bb9ed529077096966d670c354e4abc9804f1746c08ca237327fff\n",
    "fffffffffffff\n",
    " \n",
    "g: 2\n",
    "```\n",
    "This is very easy to do in Python or Ruby or other high-level languages that auto-promote fixnums to bignums, but it isn't \"hard\" anywhere.\n",
    "\n",
    "Note that you'll need to write your own modexp (this is blackboard math, don't freak out), because you'll blow out your bignum library raising \"a\" to the 1024-bit-numberth power. You can find modexp routines on Rosetta Code for most languages.\n",
    "\n",
    "</div>"
   ]
  },
  {
   "cell_type": "markdown",
   "metadata": {},
   "source": [
    "Python actually natively handles very large integers quite well.  \n",
    "\n",
    "For the modular exponentiation, you just need to use ```pow(a, b, m)``` function instead of (a ** b) % m."
   ]
  },
  {
   "cell_type": "code",
   "execution_count": 8,
   "metadata": {},
   "outputs": [
    {
     "name": "stdout",
     "output_type": "stream",
     "text": [
      "\n",
      "sA = 242009600258184120618855281343552661261348178120625038124964877531877656437413865600892794186994067351681294595129264254317304011905310911177872529006285239345412598641910267426573296666965683117338650532667452146622486402508677268992890736872100585993559050187507129314472167351836089293250832044907973013718058932290595818767361527985909189813671676518337167303902757811668823279130253167872578279523962086363987859935757129089248467988693398961264943116331939\n",
      "\n",
      "sB = 242009600258184120618855281343552661261348178120625038124964877531877656437413865600892794186994067351681294595129264254317304011905310911177872529006285239345412598641910267426573296666965683117338650532667452146622486402508677268992890736872100585993559050187507129314472167351836089293250832044907973013718058932290595818767361527985909189813671676518337167303902757811668823279130253167872578279523962086363987859935757129089248467988693398961264943116331939\n",
      "\n",
      "(SA == sB) = True\n"
     ]
    }
   ],
   "source": [
    "p = 0xffffffffffffffffc90fdaa22168c234c4c6628b80dc1cd129024e088a67cc74020bbea63b139b22514a08798e3404ddef9519b3cd3a431b302b0a6df25f14374fe1356d6d51c245e485b576625e7ec6f44c42e9a637ed6b0bff5cb6f406b7edee386bfb5a899fa5ae9f24117c4b1fe649286651ece45b3dc2007cb8a163bf0598da48361c55d39a69163fa8fd24cf5f83655d23dca3ad961c62f356208552bb9ed529077096966d670c354e4abc9804f1746c08ca237327ffffffffffffffff\n",
    "g = 2\n",
    "\n",
    "a = np.random.randint(0, 2**31) % p\n",
    "A = pow(g, a, p)\n",
    "b = np.random.randint(0, 2**31) % p\n",
    "B = pow(g, b, p)\n",
    "\n",
    "sA = pow(A, b, p)\n",
    "sB = pow(B, a, p)\n",
    "\n",
    "print()\n",
    "print(f'sA = {sA}\\n')\n",
    "print(f'sB = {sB}\\n')\n",
    "print(f'(SA == sB) = {sA==sB}')\n"
   ]
  },
  {
   "cell_type": "markdown",
   "metadata": {},
   "source": [
    "[Back to Index](CryptoPalsWalkthroughs_Cobb.ipynb)"
   ]
  }
 ],
 "metadata": {
  "kernelspec": {
   "display_name": "Python 3",
   "language": "python",
   "name": "python3"
  },
  "language_info": {
   "codemirror_mode": {
    "name": "ipython",
    "version": 3
   },
   "file_extension": ".py",
   "mimetype": "text/x-python",
   "name": "python",
   "nbconvert_exporter": "python",
   "pygments_lexer": "ipython3",
   "version": "3.7.4"
  }
 },
 "nbformat": 4,
 "nbformat_minor": 4
}
