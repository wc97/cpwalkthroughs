{
 "cells": [
  {
   "cell_type": "markdown",
   "metadata": {},
   "source": [
    "#### Challenge 43: DSA key recovery from nonce\n",
    "\n",
    "[Back to Index](CryptoPalsWalkthroughs_Cobb.ipynb)"
   ]
  },
  {
   "cell_type": "code",
   "execution_count": 4,
   "metadata": {},
   "outputs": [],
   "source": [
    "from Crypto.Util import number\n",
    "from Crypto.Random import random\n",
    "from Crypto.Hash.SHA256 import SHA256Hash\n",
    "\n",
    "import cryptopals as cp\n",
    "import sha1"
   ]
  },
  {
   "cell_type": "markdown",
   "metadata": {},
   "source": [
    "<div class=\"alert alert-block alert-info\">\n",
    "\n",
    "**Step 1**: Relocate so that you are out of easy travel distance of us.\n",
    "\n",
    "**Step 2**: Implement DSA, up to signing and verifying, including parameter generation.\n",
    "\n",
    "Hah-hah you're too far away to come punch us.\n",
    "\n",
    "Just kidding you can skip the parameter generation part if you want; if you do, use these params:\n",
    "\n",
    "```\n",
    "p = 800000000000000089e1855218a0e7dac38136ffafa72eda7\n",
    "    859f2171e25e65eac698c1702578b07dc2a1076da241c76c6\n",
    "    2d374d8389ea5aeffd3226a0530cc565f3bf6b50929139ebe\n",
    "    ac04f48c3c84afb796d61e5a4f9a8fda812ab59494232c7d2\n",
    "    b4deb50aa18ee9e132bfa85ac4374d7f9091abc3d015efc87\n",
    "    1a584471bb1\n",
    "```\n",
    "\n",
    "```\n",
    "q = f4f47f05794b256174bba6e9b396a7707e563c5b\n",
    "```\n",
    "    \n",
    "``` \n",
    "g = 5958c9d3898b224b12672c0b98e06c60df923cb8bc999d119\n",
    "    458fef538b8fa4046c8db53039db620c094c9fa077ef389b5\n",
    "    322a559946a71903f990f1f7e0e025e2d7f7cf494aff1a047\n",
    "    0f5b64c36b625a097f1651fe775323556fe00b3608c887892\n",
    "    878480e99041be601a62166ca6894bdd41a7054ec89f756ba\n",
    "    9fc95302291\n",
    "```\n",
    "</div>"
   ]
  },
  {
   "cell_type": "code",
   "execution_count": 5,
   "metadata": {},
   "outputs": [],
   "source": [
    "p = 0x800000000000000089e1855218a0e7dac38136ffafa72eda7859f2171e25e65eac698c1702578b07dc2a1076da241c76c62d374d8389ea5aeffd3226a0530cc565f3bf6b50929139ebeac04f48c3c84afb796d61e5a4f9a8fda812ab59494232c7d2b4deb50aa18ee9e132bfa85ac4374d7f9091abc3d015efc871a584471bb1\n",
    "q = 0xf4f47f05794b256174bba6e9b396a7707e563c5b\n",
    "g = 0x5958c9d3898b224b12672c0b98e06c60df923cb8bc999d119458fef538b8fa4046c8db53039db620c094c9fa077ef389b5322a559946a71903f990f1f7e0e025e2d7f7cf494aff1a0470f5b64c36b625a097f1651fe775323556fe00b3608c887892878480e99041be601a62166ca6894bdd41a7054ec89f756ba9fc95302291\n"
   ]
  },
  {
   "cell_type": "markdown",
   "metadata": {},
   "source": [
    "From **Applied Cryptography** (Schneier), to sign a message `m`:\n",
    "\n",
    "Private Key:  `x` = an number < `q`  \n",
    "Public Key:   `y = g^x mod p`\n",
    "\n",
    "1. Alice generates a random number, `k`, less than `q`\n",
    "2. Alice generates:   \n",
    "    `r = (g^k mod p) mod q`   \n",
    "    `s = (k^-1 (H(m) + xr)) mod q`\n",
    "3. Send parameters `r` and `s` to Bob as Alice's signature\n",
    "4. Bob verifies the signature by computing:\n",
    "    - `w = s^-1 mod q`\n",
    "    - `u1 = (H(m) * w) mod q`\n",
    "    - `u2 = (rw) mod q`\n",
    "    - `v = ((g^u1 * y^u2) mod p) mod q`\n",
    "5. If `v==r` the signature is verified"
   ]
  },
  {
   "cell_type": "code",
   "execution_count": 6,
   "metadata": {},
   "outputs": [],
   "source": [
    "x = random.randint(0, q-1)\n",
    "y = pow(g, x, p)\n",
    "\n",
    "def gen_DSA_sig(x, m, p, q, g):\n",
    "\n",
    "    k = random.randint(0, q-1)\n",
    "    \n",
    "    r = pow(g, k, p) % q\n",
    "    sha_out = sha1.SHA1(m).finish()\n",
    "    sha_int = int(sha_out.hex(), 16)\n",
    "    s = (cp.invmod(k, q) * (sha_int + x*r)) % q\n",
    "    \n",
    "    return(r, s, k)\n",
    "\n",
    "def check_DSA_sig(m, y, r, s, p, g, q):\n",
    "    \n",
    "    w = cp.invmod(s, q)\n",
    "    sha_out = sha1.SHA1(m).finish()\n",
    "    sha_int = int(sha_out.hex(), 16)\n",
    "    u1 = (sha_int * w) % q\n",
    "    u2 = (r*w) % q\n",
    "    v = ((pow(g, u1, p) * pow(y, u2, p)) % p) % q\n",
    "    \n",
    "    print(hex(v))\n",
    "    print(hex(r))\n",
    "    if v==r:\n",
    "        return(True)\n",
    "    else:\n",
    "        return(False)"
   ]
  },
  {
   "cell_type": "code",
   "execution_count": 7,
   "metadata": {},
   "outputs": [
    {
     "name": "stdout",
     "output_type": "stream",
     "text": [
      "0xd914c4a610dd1782234694d8bbb60364e24b079a\n",
      "0xd914c4a610dd1782234694d8bbb60364e24b079a\n"
     ]
    },
    {
     "data": {
      "text/plain": [
       "True"
      ]
     },
     "execution_count": 7,
     "metadata": {},
     "output_type": "execute_result"
    }
   ],
   "source": [
    "message = b'Test Msg'\n",
    "[r, s, _] = gen_DSA_sig(x, message, p, q, g)\n",
    "check_DSA_sig(message, y, r, s, p, g, q)"
   ]
  },
  {
   "cell_type": "markdown",
   "metadata": {},
   "source": [
    "<div class=\"alert alert-block alert-info\">\n",
    "    \n",
    "(\"But I want smaller params!\" Then generate them yourself.)\n",
    "\n",
    "The DSA signing operation generates a random subkey `k`. You know this because you implemented the DSA sign operation.\n",
    "\n",
    "This is the first and easier of two challenges regarding the DSA `k` subkey.\n",
    "\n",
    "Given a known `k`, it's trivial to recover the DSA private key `x`:\n",
    "\n",
    "          (s * k) - H(msg)\n",
    "      x = ----------------  mod q\n",
    "                  r\n",
    "\n",
    "Do this a couple times to prove to yourself that you grok it. Capture it in a function of some sort.\n",
    "\n",
    "</div>"
   ]
  },
  {
   "cell_type": "code",
   "execution_count": 8,
   "metadata": {},
   "outputs": [],
   "source": [
    "def dsa_priv_key_from_k(m, k, r, s):\n",
    "\n",
    "    sha_out = sha1.SHA1(m).finish()\n",
    "    H_m = int(sha_out.hex(), 16)\n",
    "    \n",
    "    x_guess = ((((s*k) - H_m)) * cp.invmod(r, q)) % q\n",
    "    \n",
    "    return(x_guess)"
   ]
  },
  {
   "cell_type": "code",
   "execution_count": 9,
   "metadata": {},
   "outputs": [
    {
     "name": "stdout",
     "output_type": "stream",
     "text": [
      "Private key SUCCESSFULLY recovered\n"
     ]
    }
   ],
   "source": [
    "message = b'Recover My Key'\n",
    "[r, s, k] = gen_DSA_sig(x, message, p, q, g)\n",
    "\n",
    "x_guess = dsa_priv_key_from_k(message, k, r, s)\n",
    "\n",
    "if x_guess == x:\n",
    "    print('Private key SUCCESSFULLY recovered')\n",
    "else:\n",
    "    print('Key recovery FAILED')"
   ]
  },
  {
   "cell_type": "markdown",
   "metadata": {},
   "source": [
    "<div class=\"alert alert-block alert-info\">\n",
    "    \n",
    "Now then. I used the parameters above. I generated a keypair. My pubkey is:\n",
    "\n",
    "```\n",
    "  y = 84ad4719d044495496a3201c8ff484feb45b962e7302e56a392aee4\n",
    "      abab3e4bdebf2955b4736012f21a08084056b19bcd7fee56048e004\n",
    "      e44984e2f411788efdc837a0d2e5abb7b555039fd243ac01f0fb2ed\n",
    "      1dec568280ce678e931868d23eb095fde9d3779191b8c0299d6e07b\n",
    "      bb283e6633451e535c45513b2d33c99ea17\n",
    "```\n",
    "    \n",
    "I signed\n",
    "\n",
    "```\n",
    "For those that envy a MC it can be hazardous to your health  \n",
    "So be friendly, a matter of life and death, just like a etch-a-sketch\n",
    "```\n",
    "\n",
    "<br>\n",
    "\n",
    "My SHA1 for this string was `d2d0714f014a9784047eaeccf956520045c45265` \n",
    "    \n",
    "I don't know what NIST wants you to do, but when I convert that hash to an integer I get: `0xd2d0714f014a9784047eaeccf956520045c45265`.\n",
    "\n",
    "I get:\n",
    "\n",
    "  `r = 548099063082341131477253921760299949438196259240`  \n",
    "  `s = 857042759984254168557880549501802188789837994940`\n",
    "\n",
    "I signed this string with a broken implemention of DSA that generated `\"k\"` values between `0` and `2^16`. What's my private key?\n",
    "\n",
    "Its SHA-1 fingerprint (after being converted to hex) is:\n",
    "\n",
    "`0954edd5e0afe5542a4adf012611a91912a3ec16`\n",
    "\n",
    "Obviously, it also generates the same signature for that string.\n",
    "\n",
    "</div>"
   ]
  },
  {
   "cell_type": "code",
   "execution_count": 10,
   "metadata": {},
   "outputs": [
    {
     "name": "stdout",
     "output_type": "stream",
     "text": [
      "Our hashes match..continue\n"
     ]
    }
   ],
   "source": [
    "pub_key = int('84ad4719d044495496a3201c8ff484feb45b962e7302e56a392aee4' + \\\n",
    "              'abab3e4bdebf2955b4736012f21a08084056b19bcd7fee56048e004' + \\\n",
    "              'e44984e2f411788efdc837a0d2e5abb7b555039fd243ac01f0fb2ed' + \\\n",
    "              '1dec568280ce678e931868d23eb095fde9d3779191b8c0299d6e07b' + \\\n",
    "              'bb283e6633451e535c45513b2d33c99ea17', 16)\n",
    "\n",
    "message = b'For those that envy a MC it can be hazardous to your health\\n' + \\\n",
    "          b'So be friendly, a matter of life and death, just like a etch-a-sketch\\n'\n",
    "\n",
    "cryptopals_sha = 0xd2d0714f014a9784047eaeccf956520045c45265\n",
    "my_sha = int((sha1.SHA1(message).finish()).hex(), 16)\n",
    "\n",
    "if (my_sha == cryptopals_sha):\n",
    "    print('Our hashes match..continue')\n",
    "else:\n",
    "    raise Exception\n",
    "    "
   ]
  },
  {
   "cell_type": "code",
   "execution_count": 11,
   "metadata": {},
   "outputs": [],
   "source": [
    "def gen_DSA_sig_given_k(x, m, p, q, g, k):\n",
    "   \n",
    "    r = pow(g, k, p) % q\n",
    "    sha_out = sha1.SHA1(m).finish()\n",
    "    sha_int = int(sha_out.hex(), 16)\n",
    "    s = (cp.invmod(k, q) * (sha_int + x*r)) % q\n",
    "    \n",
    "    return(r, s)"
   ]
  },
  {
   "cell_type": "code",
   "execution_count": 12,
   "metadata": {},
   "outputs": [
    {
     "name": "stdout",
     "output_type": "stream",
     "text": [
      "Found private key:\n",
      "x = 125489817134406768603130881762531825565433175625\n",
      "x.hex = 0x15fb2873d16b3e129ff76d0918fd7ada54659e49\n",
      "k = 16575\n"
     ]
    }
   ],
   "source": [
    "r = 548099063082341131477253921760299949438196259240\n",
    "s = 857042759984254168557880549501802188789837994940\n",
    "true_fp = '0954edd5e0afe5542a4adf012611a91912a3ec16'\n",
    "\n",
    "key_found = False\n",
    "for k in range(2**16):\n",
    "    \n",
    "    x_guess = dsa_priv_key_from_k(message, k, r, s)\n",
    "    [r_guess, s_guess] = gen_DSA_sig_given_k(x_guess, message, p, q, g, k)\n",
    "    \n",
    "    if (r_guess==r) and (s_guess == s):\n",
    "        key_found = True\n",
    "        break\n",
    "\n",
    "if not(key_found):\n",
    "    print('Key not found...try again')\n",
    "else:\n",
    "    print('Found private key:')\n",
    "    print(f'x = {x_guess}')\n",
    "    print(f'x.hex = {hex(x_guess)}')\n",
    "    print(f'k = {k}')"
   ]
  },
  {
   "cell_type": "code",
   "execution_count": 13,
   "metadata": {},
   "outputs": [
    {
     "name": "stdout",
     "output_type": "stream",
     "text": [
      "Fingerprint matches\n"
     ]
    }
   ],
   "source": [
    "x_guess_bytes = hex(x_guess)[2:].encode()\n",
    "guessed_fp = sha1.SHA1(x_guess_bytes).finish().hex()\n",
    "if guessed_fp == true_fp:\n",
    "    print('Fingerprint matches')\n",
    "else:\n",
    "    print('Private key fingerprint does NOT match')"
   ]
  },
  {
   "cell_type": "markdown",
   "metadata": {
    "slideshow": {
     "slide_type": "slide"
    }
   },
   "source": [
    "[Back to Index](CryptoPalsWalkthroughs_Cobb.ipynb)"
   ]
  }
 ],
 "metadata": {
  "kernelspec": {
   "display_name": "Python 3",
   "language": "python",
   "name": "python3"
  },
  "language_info": {
   "codemirror_mode": {
    "name": "ipython",
    "version": 3
   },
   "file_extension": ".py",
   "mimetype": "text/x-python",
   "name": "python",
   "nbconvert_exporter": "python",
   "pygments_lexer": "ipython3",
   "version": "3.7.4"
  }
 },
 "nbformat": 4,
 "nbformat_minor": 4
}
