{
 "cells": [
  {
   "cell_type": "markdown",
   "metadata": {},
   "source": [
    "#### Challenge 43: DSA key recovery from nonce\n",
    "\n",
    "[Back to Index](CryptoPalsWalkthroughs_Cobb.ipynb)"
   ]
  },
  {
   "cell_type": "code",
   "execution_count": 26,
   "metadata": {},
   "outputs": [],
   "source": [
    "from Crypto.Util import number\n",
    "from Crypto.Random import random\n",
    "from Crypto.Hash.SHA256 import SHA256Hash\n",
    "\n",
    "import cryptopals as cp\n",
    "import sha1"
   ]
  },
  {
   "cell_type": "markdown",
   "metadata": {},
   "source": [
    "<div class=\"alert alert-block alert-info\">\n",
    "\n",
    "**Step 1**: Relocate so that you are out of easy travel distance of us.\n",
    "\n",
    "**Step 2**: Implement DSA, up to signing and verifying, including parameter generation.\n",
    "\n",
    "Hah-hah you're too far away to come punch us.\n",
    "\n",
    "Just kidding you can skip the parameter generation part if you want; if you do, use these params:\n",
    "\n",
    "```\n",
    "p = 800000000000000089e1855218a0e7dac38136ffafa72eda7\n",
    "    859f2171e25e65eac698c1702578b07dc2a1076da241c76c6\n",
    "    2d374d8389ea5aeffd3226a0530cc565f3bf6b50929139ebe\n",
    "    ac04f48c3c84afb796d61e5a4f9a8fda812ab59494232c7d2\n",
    "    b4deb50aa18ee9e132bfa85ac4374d7f9091abc3d015efc87\n",
    "    1a584471bb1\n",
    "```\n",
    "\n",
    "```\n",
    "q = f4f47f05794b256174bba6e9b396a7707e563c5b\n",
    "```\n",
    "    \n",
    "``` \n",
    "g = 5958c9d3898b224b12672c0b98e06c60df923cb8bc999d119\n",
    "    458fef538b8fa4046c8db53039db620c094c9fa077ef389b5\n",
    "    322a559946a71903f990f1f7e0e025e2d7f7cf494aff1a047\n",
    "    0f5b64c36b625a097f1651fe775323556fe00b3608c887892\n",
    "    878480e99041be601a62166ca6894bdd41a7054ec89f756ba\n",
    "    9fc95302291\n",
    "```\n",
    "    \n",
    "(\"But I want smaller params!\" Then generate them yourself.)\n",
    "\n",
    "The DSA signing operation generates a random subkey `k`. You know this because you implemented the DSA sign operation.\n",
    "\n",
    "This is the first and easier of two challenges regarding the DSA `k` subkey.\n",
    "\n",
    "Given a known `k`, it's trivial to recover the DSA private key `x`:\n",
    "\n",
    "          (s * k) - H(msg)\n",
    "      x = ----------------  mod q\n",
    "                  r\n",
    "\n",
    "Do this a couple times to prove to yourself that you grok it. Capture it in a function of some sort.\n",
    "\n",
    "Now then. I used the parameters above. I generated a keypair. My pubkey is:\n",
    "\n",
    "```\n",
    "  y = 84ad4719d044495496a3201c8ff484feb45b962e7302e56a392aee4\n",
    "      abab3e4bdebf2955b4736012f21a08084056b19bcd7fee56048e004\n",
    "      e44984e2f411788efdc837a0d2e5abb7b555039fd243ac01f0fb2ed\n",
    "      1dec568280ce678e931868d23eb095fde9d3779191b8c0299d6e07b\n",
    "      bb283e6633451e535c45513b2d33c99ea17\n",
    "```\n",
    "    \n",
    "I signed\n",
    "\n",
    "For those that envy a MC it can be hazardous to your health\n",
    "So be friendly, a matter of life and death, just like a etch-a-sketch\n",
    "\n",
    "(My SHA1 for this string was `d2d0714f014a9784047eaeccf956520045c45265`; I don't know what NIST wants you to do, but when I convert that hash to an integer I get: `0xd2d0714f014a9784047eaeccf956520045c45265`).\n",
    "\n",
    "I get:\n",
    "\n",
    "  `r = 548099063082341131477253921760299949438196259240`\n",
    "  `s = 857042759984254168557880549501802188789837994940`\n",
    "\n",
    "I signed this string with a broken implemention of DSA that generated `\"k\"` values between `0` and `2^16`. What's my private key?\n",
    "\n",
    "Its SHA-1 fingerprint (after being converted to hex) is:\n",
    "\n",
    "`0954edd5e0afe5542a4adf012611a91912a3ec16`\n",
    "\n",
    "Obviously, it also generates the same signature for that string.\n",
    "\n",
    "</div>"
   ]
  },
  {
   "cell_type": "code",
   "execution_count": 2,
   "metadata": {},
   "outputs": [],
   "source": []
  },
  {
   "cell_type": "markdown",
   "metadata": {
    "slideshow": {
     "slide_type": "slide"
    }
   },
   "source": [
    "[Back to Index](CryptoPalsWalkthroughs_Cobb.ipynb)"
   ]
  }
 ],
 "metadata": {
  "kernelspec": {
   "display_name": "Python 3",
   "language": "python",
   "name": "python3"
  },
  "language_info": {
   "codemirror_mode": {
    "name": "ipython",
    "version": 3
   },
   "file_extension": ".py",
   "mimetype": "text/x-python",
   "name": "python",
   "nbconvert_exporter": "python",
   "pygments_lexer": "ipython3",
   "version": "3.7.4"
  }
 },
 "nbformat": 4,
 "nbformat_minor": 4
}
