{
 "cells": [
  {
   "cell_type": "markdown",
   "metadata": {},
   "source": [
    "### Challenge 9:  Implement PKCS#7 padding</h3>\n",
    "\n",
    "<div class=\"alert alert-block alert-info\">\n",
    "\n",
    "A block cipher transforms a fixed-sized block (usually 8 or 16 bytes) of plaintext into ciphertext. But we almost never want to transform a single block; we encrypt irregularly-sized messages.\n",
    "\n",
    "One way we account for irregularly-sized messages is by padding, creating a plaintext that is an even multiple of the blocksize. The most popular padding scheme is called PKCS#7.\n",
    "\n",
    "So: pad any block to a specific block length, by appending the number of bytes of padding to the end of the block. For instance,\n",
    "\n",
    "```\"YELLOW SUBMARINE\"```\n",
    "\n",
    "... padded to 20 bytes would be:\n",
    "\n",
    "```\"YELLOW SUBMARINE\\x04\\x04\\x04\\x04\"```\n",
    "\n",
    "</div>\n",
    "    \n",
    "[Back to Index](CryptoPalsWalkthroughs_Cobb.ipynb)"
   ]
  },
  {
   "cell_type": "code",
   "execution_count": 1,
   "metadata": {},
   "outputs": [],
   "source": [
    "import cryptopals as cp\n",
    "import base64"
   ]
  },
  {
   "cell_type": "code",
   "execution_count": 2,
   "metadata": {},
   "outputs": [],
   "source": [
    "def PKCS7_pad(data, blocksize=16):\n",
    "    \n",
    "    \"\"\"\n",
    "    Returns PKCS7 padded data for a given input and block size.\n",
    "    \"\"\"\n",
    "\n",
    "    if (len(data) % blocksize) != 0:\n",
    "        pad_length = blocksize - (len(data) % blocksize)\n",
    "    else:\n",
    "        pad_length = 16\n",
    "\n",
    "    if isinstance(data, str):\n",
    "        data += chr(pad_length) * pad_length\n",
    "    elif isinstance(data, bytes):\n",
    "        data += bytes(list([pad_length])) * pad_length\n",
    "    elif isinstance(data, list):\n",
    "        data += [pad_length] * pad_length\n",
    "    else:\n",
    "        assert(f'Unsupported data type {type(data)} passed to PKCS7Pad')\n",
    "\n",
    "    return data"
   ]
  },
  {
   "cell_type": "code",
   "execution_count": 3,
   "metadata": {},
   "outputs": [
    {
     "name": "stdout",
     "output_type": "stream",
     "text": [
      "b'YELLOW SUBMARINE\\x04\\x04\\x04\\x04'\n",
      "b'YELLOW SUBMARINE****\\x10\\x10\\x10\\x10\\x10\\x10\\x10\\x10\\x10\\x10\\x10\\x10\\x10\\x10\\x10\\x10'\n"
     ]
    }
   ],
   "source": [
    "# Test it out...\n",
    "\n",
    "data = \"YELLOW SUBMARINE\"\n",
    "\n",
    "padded_data = PKCS7_pad(data, 20)\n",
    "print(padded_data.encode())\n",
    "\n",
    "data = \"YELLOW SUBMARINE****\"\n",
    "padded_data2 = PKCS7_pad(data, 20)\n",
    "print(padded_data2.encode())\n"
   ]
  },
  {
   "cell_type": "markdown",
   "metadata": {},
   "source": [
    "[Back to Index](CryptoPalsWalkthroughs_Cobb.ipynb)"
   ]
  }
 ],
 "metadata": {
  "kernelspec": {
   "display_name": "Python 3",
   "language": "python",
   "name": "python3"
  },
  "language_info": {
   "codemirror_mode": {
    "name": "ipython",
    "version": 3
   },
   "file_extension": ".py",
   "mimetype": "text/x-python",
   "name": "python",
   "nbconvert_exporter": "python",
   "pygments_lexer": "ipython3",
   "version": "3.7.4"
  }
 },
 "nbformat": 4,
 "nbformat_minor": 4
}
