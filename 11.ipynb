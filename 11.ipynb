{
 "cells": [
  {
   "cell_type": "markdown",
   "metadata": {},
   "source": [
    "### Challenge 11:  An ECB/CBC detection oracle\n",
    "\n",
    "<div class=\"alert alert-block alert-info\">\n",
    "    \n",
    "Now that you have ECB and CBC working:\n",
    "\n",
    "Write a function to generate a random AES key; that's just 16 random bytes.\n",
    "\n",
    "Write a function that encrypts data under an unknown key --- that is, a function that generates a random key and encrypts under it.\n",
    "\n",
    "The function should look like:\n",
    "\n",
    "```encryption_oracle(your-input)```\n",
    "    \n",
    "```=> [MEANINGLESS JIBBER JABBER]```\n",
    "    \n",
    "Under the hood, have the function append 5-10 bytes (count chosen randomly) before the plaintext and 5-10 bytes after the plaintext.\n",
    "\n",
    "Now, have the function choose to encrypt under ECB 1/2 the time, and under CBC the other half (just use random IVs each time for CBC). Use rand(2) to decide which to use.\n",
    "\n",
    "Detect the block cipher mode the function is using each time. You should end up with a piece of code that, pointed at a block box that might be encrypting ECB or CBC, tells you which one is happening.\n",
    "\n",
    "</div>\n",
    "    \n",
    "[Back to Index](CryptoPalsWalkthroughs_Cobb.ipynb)"
   ]
  },
  {
   "cell_type": "code",
   "execution_count": 1,
   "metadata": {},
   "outputs": [],
   "source": [
    "from numpy.random import randint\n",
    "import cryptopals as cp"
   ]
  },
  {
   "cell_type": "code",
   "execution_count": 2,
   "metadata": {},
   "outputs": [],
   "source": [
    "def encryption_oracle(data):\n",
    "    \"\"\"\n",
    "    Implements Set 2, Challenge 11 - Encryption Oracle\n",
    "    Emulates an accessible function that will encrypt user-provided data under an unknown (random) key\n",
    "    For the purposes of this exercise, it randomly selects between ECB and CBC mode and returns the \"truth\"\n",
    "    Data about what mode was used so we can see if we correctly detect it...\n",
    "    \"\"\"\n",
    "    key = bytes(list(randint(0, 256, 16)))\n",
    "    mode = randint(0, 2)\n",
    "    prepend_data = bytes(list(randint(0, 256, randint(5, 11))))\n",
    "    append_data = bytes(list(randint(0, 256, randint(5, 11))))\n",
    "\n",
    "    data = prepend_data + data + append_data\n",
    "\n",
    "    if mode == 0:\n",
    "\n",
    "        true_mode = 'CBC'\n",
    "        ciphertext = cp.AESEncrypt(data, key, 'CBC')\n",
    "\n",
    "    elif mode == 1:\n",
    "\n",
    "        true_mode = 'ECB'\n",
    "        ciphertext = cp.AESEncrypt(data, key, 'ECB')\n",
    "\n",
    "    ECB_flag = cp.detect_AES_ECB(ciphertext)\n",
    "\n",
    "    if ECB_flag:\n",
    "        detected_mode = 'ECB'\n",
    "    else:\n",
    "        detected_mode = 'CBC'\n",
    "\n",
    "    return(ciphertext, true_mode, detected_mode)"
   ]
  },
  {
   "cell_type": "code",
   "execution_count": 4,
   "metadata": {},
   "outputs": [
    {
     "name": "stdout",
     "output_type": "stream",
     "text": [
      "N_bytes=35:  507 Successful detections out of 1000\n",
      "N_bytes=36:  491 Successful detections out of 1000\n",
      "N_bytes=37:  504 Successful detections out of 1000\n",
      "N_bytes=38:  586 Successful detections out of 1000\n",
      "N_bytes=39:  666 Successful detections out of 1000\n",
      "N_bytes=40:  750 Successful detections out of 1000\n",
      "N_bytes=41:  828 Successful detections out of 1000\n",
      "N_bytes=42:  933 Successful detections out of 1000\n",
      "N_bytes=43:  1000 Successful detections out of 1000\n",
      "N_bytes=44:  1000 Successful detections out of 1000\n"
     ]
    }
   ],
   "source": [
    "# Play with the length of the plaintext we supply to see when the detection oracle starts \n",
    "# being successful...\n",
    "\n",
    "N_bytes = 44\n",
    "N_loops = 1000\n",
    "\n",
    "for N_bytes in range(35, 45):\n",
    "\n",
    "    plaintext = b'c'*N_bytes\n",
    "    success_count = 0\n",
    "\n",
    "    for ii in range(N_loops):\n",
    "\n",
    "        [ciphertext, true_mode] = cp.encryption_oracle(plaintext)\n",
    "        \n",
    "        # Test for ECB...\n",
    "        ECB_flag = cp.detect_AES_ECB(ciphertext)\n",
    "        if ECB_flag:\n",
    "            detected_mode = 'ECB'\n",
    "        else:\n",
    "            detected_mode = 'CBC'\n",
    "        \n",
    "        # Does our test result match the true mode?\n",
    "        if (detected_mode == true_mode):\n",
    "            success_count += 1\n",
    "\n",
    "    print(f\"N_bytes={N_bytes}:  {success_count} Successful detections out of {N_loops}\")"
   ]
  },
  {
   "cell_type": "markdown",
   "metadata": {},
   "source": [
    "[Back to Index](CryptoPalsWalkthroughs_Cobb.ipynb)"
   ]
  }
 ],
 "metadata": {
  "kernelspec": {
   "display_name": "Python 3",
   "language": "python",
   "name": "python3"
  },
  "language_info": {
   "codemirror_mode": {
    "name": "ipython",
    "version": 3
   },
   "file_extension": ".py",
   "mimetype": "text/x-python",
   "name": "python",
   "nbconvert_exporter": "python",
   "pygments_lexer": "ipython3",
   "version": "3.7.4"
  }
 },
 "nbformat": 4,
 "nbformat_minor": 4
}
