{
 "cells": [
  {
   "cell_type": "markdown",
   "metadata": {},
   "source": [
    "### Challenge 8:  Detect AES in ECB mode \n",
    "\n",
    "<div class=\"alert alert-block alert-info\">\n",
    "    \n",
    "In [this file](challenge-data/7.txt) are a bunch of hex-encoded ciphertexts.\n",
    "\n",
    "One of them has been encrypted with ECB.\n",
    "\n",
    "Detect it.\n",
    "\n",
    "Remember that the problem with ECB is that it is stateless and deterministic; the same 16 byte plaintext block will always produce the same 16 byte ciphertext.\n",
    "\n",
    "</div>\n",
    "\n",
    "[Back to Index](CryptoPalsWalkthroughs_Cobb.ipynb)"
   ]
  },
  {
   "cell_type": "code",
   "execution_count": 1,
   "metadata": {},
   "outputs": [],
   "source": [
    "import cryptopals as cp"
   ]
  },
  {
   "cell_type": "code",
   "execution_count": 2,
   "metadata": {},
   "outputs": [],
   "source": [
    "def detect_AES_ECB(ciphertext, blockSize=16):\n",
    "    \"\"\"\n",
    "    Looking for evidence of ECB mode...\n",
    "    If there are multiple ciphertext blocks that are identical, it's very\n",
    "    very likely that ECB mode was used.\n",
    "    \"\"\"\n",
    "    CT_Blocks = [ciphertext[ii:ii+blockSize] for ii in\n",
    "                 range(0, len(ciphertext), blockSize)]\n",
    "\n",
    "    for ii in range(0, len(CT_Blocks)-1):\n",
    "        for jj in range(ii+1, len(CT_Blocks)):\n",
    "            if CT_Blocks[ii] == CT_Blocks[jj]:\n",
    "                return(True)\n",
    "\n",
    "    # Didn't find any matching blocks...ECB not detected\n",
    "    return(False)"
   ]
  },
  {
   "cell_type": "code",
   "execution_count": 3,
   "metadata": {},
   "outputs": [
    {
     "name": "stdout",
     "output_type": "stream",
     "text": [
      "ECB Detected @ Line #: 132\n"
     ]
    }
   ],
   "source": [
    "# Read the challenge file in.\n",
    "f = open('./challenge-data/8.txt', 'r')\n",
    "encrypted_data = f.readlines()\n",
    "f.close()\n",
    "\n",
    "for line_idx in range(len(encrypted_data)):\n",
    "    if detect_AES_ECB(encrypted_data[line_idx]):\n",
    "        print(f\"ECB Detected @ Line #: {line_idx}\")"
   ]
  },
  {
   "cell_type": "markdown",
   "metadata": {},
   "source": [
    "[Back to Index](CryptoPalsWalkthroughs_Cobb.ipynb)"
   ]
  },
  {
   "cell_type": "code",
   "execution_count": null,
   "metadata": {},
   "outputs": [],
   "source": []
  }
 ],
 "metadata": {
  "kernelspec": {
   "display_name": "Python 3",
   "language": "python",
   "name": "python3"
  },
  "language_info": {
   "codemirror_mode": {
    "name": "ipython",
    "version": 3
   },
   "file_extension": ".py",
   "mimetype": "text/x-python",
   "name": "python",
   "nbconvert_exporter": "python",
   "pygments_lexer": "ipython3",
   "version": "3.7.4"
  }
 },
 "nbformat": 4,
 "nbformat_minor": 4
}
