{
 "cells": [
  {
   "cell_type": "markdown",
   "metadata": {},
   "source": [
    "### Challenge 10: Implement CBC mode\n",
    "\n",
    "<div class=\"alert alert-block alert-info\">\n",
    "    \n",
    "CBC mode is a block cipher mode that allows us to encrypt irregularly-sized messages, despite the fact that a block cipher natively only transforms individual blocks.\n",
    "\n",
    "In CBC mode, each ciphertext block is added to the next plaintext block before the next call to the cipher core.\n",
    "\n",
    "The first plaintext block, which has no associated previous ciphertext block, is added to a \"fake 0th ciphertext block\" called the initialization vector, or IV.\n",
    "\n",
    "Implement CBC mode by hand by taking the ECB function you wrote earlier, making it encrypt instead of decrypt (verify this by decrypting whatever you encrypt to test), and using your XOR function from the previous exercise to combine them.\n",
    "\n",
    "The file here is intelligible (somewhat) when CBC decrypted against \"YELLOW SUBMARINE\" with an IV of all ASCII 0 (\\x00\\x00\\x00 &c)\n",
    "\n",
    "<div class=\"alert alert-block alert-warning\">\n",
    "    \n",
    "### Don't cheat.\n",
    "\n",
    "Do not use OpenSSL's CBC code to do CBC mode, even to verify your results. What's the point of even doing this stuff if you aren't going to learn from it?\n",
    "</div>\n",
    "    \n",
    "</div>\n",
    "\n",
    "[Back to Index](CryptoPalsWalkthroughs_Cobb.ipynb)"
   ]
  },
  {
   "cell_type": "code",
   "execution_count": 1,
   "metadata": {},
   "outputs": [],
   "source": [
    "import cryptopals as cp\n",
    "import base64"
   ]
  },
  {
   "cell_type": "code",
   "execution_count": 2,
   "metadata": {},
   "outputs": [],
   "source": [
    "# Read the challenge file in.\n",
    "f = open('./challenge-data/10.txt', 'r')\n",
    "encrypted_data = base64.b64decode(f.read())\n",
    "f.close()"
   ]
  },
  {
   "cell_type": "markdown",
   "metadata": {},
   "source": [
    "Let's implement AES...ECB and CBC mode for now.  For ECB, we'll use Python's implementation from the crypto lib.  For the other modes, we'll wrap ECB mode and implement them ourselves."
   ]
  },
  {
   "cell_type": "code",
   "execution_count": 3,
   "metadata": {},
   "outputs": [],
   "source": [
    "from Crypto.Cipher import AES\n",
    "\n",
    "# Set the (known) AES key\n",
    "key = b\"YELLOW SUBMARINE\"\n",
    "# Set the (known) AES CBC IV\n",
    "IV = [0]*8"
   ]
  },
  {
   "cell_type": "code",
   "execution_count": 4,
   "metadata": {},
   "outputs": [],
   "source": [
    "def AES_encrypt(plaintext, key, mode='ECB', IV=[0]*16):\n",
    "    \"\"\"Implement Advanced Encryption Standard (AES) Encryption\"\"\"\n",
    "    plaintext = PKCS7_pad(plaintext, 16)\n",
    "\n",
    "    blockSize = 16\n",
    "    ciphertext = b''\n",
    "\n",
    "    aes = AES.new(key, AES.MODE_ECB)\n",
    "\n",
    "    if mode == 'ECB':\n",
    "\n",
    "        ciphertext = aes.encrypt(plaintext)\n",
    "\n",
    "    elif mode == 'CBC':\n",
    "\n",
    "        PT_Blocks = [plaintext[ii:ii+blockSize] for ii in\n",
    "                     range(0, len(plaintext), blockSize)]\n",
    "\n",
    "        for block in PT_Blocks:\n",
    "\n",
    "            AES_input = cp.bitwise_xor(block, IV)\n",
    "            IV = aes.encrypt(AES_input)\n",
    "            ciphertext += IV\n",
    "\n",
    "    else:\n",
    "\n",
    "        assert(f'Mode {mode} is not supported yet!')\n",
    "\n",
    "    return(ciphertext)\n",
    "\n",
    "\n",
    "def AES_decrypt(ciphertext, key, mode='ECB', IV=[0]*16):\n",
    "    \"\"\"Implement Advanced Encryption Standard (AES) Decryption\"\"\"\n",
    "    blockSize = 16\n",
    "    plaintext = b''\n",
    "\n",
    "    aes = AES.new(key, AES.MODE_ECB)\n",
    "\n",
    "    if mode == 'ECB':\n",
    "\n",
    "        return(aes.decrypt(ciphertext))\n",
    "\n",
    "    elif mode == 'CBC':\n",
    "\n",
    "        CT_Blocks = [ciphertext[ii:ii+blockSize] for ii in\n",
    "                     range(0, len(ciphertext), blockSize)]\n",
    "\n",
    "        for block in CT_Blocks:\n",
    "\n",
    "            AES_output = aes.decrypt(block)\n",
    "            plaintext += cp.bitwise_xor(AES_output, IV)\n",
    "            IV = block\n",
    "            \n",
    "    else:\n",
    "\n",
    "        assert(f'Mode {mode} is not supported yet!')\n",
    "\n",
    "    return(plaintext)"
   ]
  },
  {
   "cell_type": "code",
   "execution_count": 6,
   "metadata": {},
   "outputs": [],
   "source": [
    "plaintext = AES_decrypt(encrypted_data, key, 'CBC')\n",
    "print(plaintext.decode())"
   ]
  },
  {
   "cell_type": "markdown",
   "metadata": {},
   "source": [
    "Test out encryption and decryption with new random key and IV."
   ]
  },
  {
   "cell_type": "code",
   "execution_count": 14,
   "metadata": {},
   "outputs": [
    {
     "name": "stdout",
     "output_type": "stream",
     "text": [
      "I'm back and I'm ringin' the bell \n",
      "A rockin' on the mike while the fly girls yell \n",
      "In ecstasy in the back of me \n",
      "Well that's my DJ Deshay cuttin' all them Z's \n",
      "Hittin' hard and the girlies goin' crazy \n",
      "Vanilla's on the mike, man I'm not lazy. \n",
      "\n",
      "I'm lettin' my drug kick in \n",
      "It controls my mouth and I begin \n",
      "To just let it flow, let my concepts go \n",
      "My posse's to the side yellin', Go Vanilla Go! \n",
      "\n",
      "Smooth 'cause that's the way I will be \n",
      "And if you don't give a damn, then \n",
      "Why you starin' at me \n",
      "So get off 'cause I control the stage \n",
      "There's no dissin' allowed \n",
      "I'm in my own phase \n",
      "The girlies sa y they love me and that is ok \n",
      "And I can dance better than any kid n' play \n",
      "\n",
      "Stage 2 -- Yea the one ya' wanna listen to \n",
      "It's off my head so let the beat play through \n",
      "So I can funk it up and make it sound good \n",
      "1-2-3 Yo -- Knock on some wood \n",
      "For good luck, I like my rhymes atrocious \n",
      "Supercalafragilisticexpialidocious \n",
      "I'm an effect and that you can bet \n",
      "I can take a fly girl and make her wet. \n",
      "\n",
      "I'm like Samson -- Samson to Delilah \n",
      "There's no denyin', You can try to hang \n",
      "But you'll keep tryin' to get my style \n",
      "Over and over, practice makes perfect \n",
      "But not if you're a loafer. \n",
      "\n",
      "You'll get nowhere, no place, no time, no girls \n",
      "Soon -- Oh my God, homebody, you probably eat \n",
      "Spaghetti with a spoon! Come on and say it! \n",
      "\n",
      "VIP. Vanilla Ice yep, yep, I'm comin' hard like a rhino \n",
      "Intoxicating so you stagger like a wino \n",
      "So punks stop trying and girl stop cryin' \n",
      "Vanilla Ice is sellin' and you people are buyin' \n",
      "'Cause why the freaks are jockin' like Crazy Glue \n",
      "Movin' and groovin' trying to sing along \n",
      "All through the ghetto groovin' this here song \n",
      "Now you're amazed by the VIP posse. \n",
      "\n",
      "Steppin' so hard like a German Nazi \n",
      "Startled by the bases hittin' ground \n",
      "There's no trippin' on mine, I'm just gettin' down \n",
      "Sparkamatic, I'm hangin' tight like a fanatic \n",
      "You trapped me once and I thought that \n",
      "You might have it \n",
      "So step down and lend me your ear \n",
      "'89 in my time! You, '90 is my year. \n",
      "\n",
      "You're weakenin' fast, YO! and I can tell it \n",
      "Your body's gettin' hot, so, so I can smell it \n",
      "So don't be mad and don't be sad \n",
      "'Cause the lyrics belong to ICE, You can call me Dad \n",
      "You're pitchin' a fit, so step back and endure \n",
      "Let the witch doctor, Ice, do the dance to cure \n",
      "So come up close and don't be square \n",
      "You wanna battle me -- Anytime, anywhere \n",
      "\n",
      "You thought that I was weak, Boy, you're dead wrong \n",
      "So come on, everybody and sing this song \n",
      "\n",
      "Say -- Play that funky music Say, go white boy, go white boy go \n",
      "play that funky music Go white boy, go white boy, go \n",
      "Lay down and boogie and play that funky music till you die. \n",
      "\n",
      "Play that funky music Come on, Come on, let me hear \n",
      "Play that funky music white boy you say it, say it \n",
      "Play that funky music A little louder now \n",
      "Play that funky music, white boy Come on, Come on, Come on \n",
      "Play that funky music \n",
      "\u0004\u0004\u0004\u0004\n"
     ]
    }
   ],
   "source": [
    "from Crypto import Random\n",
    "import cryptopals as cp\n",
    "\n",
    "key = Random.get_random_bytes(32)\n",
    "rand_IV = Random.get_random_bytes(16)\n",
    "ciphertext = cp.AESEncrypt(plaintext, key, 'CBC', rand_IV)\n",
    "plaintext_2 = cp.AESDecrypt(ciphertext, key, 'CBC', rand_IV)\n",
    "\n",
    "print(cp.strip_PKCS7_pad(plaintext_2).decode())"
   ]
  },
  {
   "cell_type": "markdown",
   "metadata": {},
   "source": [
    "[Back to Index](CryptoPalsWalkthroughs_Cobb.ipynb)"
   ]
  }
 ],
 "metadata": {
  "kernelspec": {
   "display_name": "Python 3",
   "language": "python",
   "name": "python3"
  },
  "language_info": {
   "codemirror_mode": {
    "name": "ipython",
    "version": 3
   },
   "file_extension": ".py",
   "mimetype": "text/x-python",
   "name": "python",
   "nbconvert_exporter": "python",
   "pygments_lexer": "ipython3",
   "version": "3.7.4"
  }
 },
 "nbformat": 4,
 "nbformat_minor": 4
}
