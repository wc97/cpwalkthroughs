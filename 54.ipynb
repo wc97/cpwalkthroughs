{
 "cells": [
  {
   "cell_type": "markdown",
   "metadata": {},
   "source": [
    "#### Challenge 54: Kelsey and Kohno's Nostradamus Attack\n",
    "\n",
    "[Back to Index](CryptoPalsWalkthroughs_Cobb.ipynb)"
   ]
  },
  {
   "cell_type": "code",
   "execution_count": 1,
   "metadata": {},
   "outputs": [],
   "source": [
    "from Crypto.Random import random\n",
    "import cryptopals as cp\n",
    "import math\n",
    "import pdb"
   ]
  },
  {
   "cell_type": "markdown",
   "metadata": {},
   "source": [
    "<div class=\"alert alert-block alert-info\">   \n",
    "\n",
    "Hash functions are sometimes used as proof of a secret prediction.\n",
    "\n",
    "For example, suppose you wanted to predict the score of every Major League Baseball game in a season. (`2,430` in all.) You might be concerned that publishing your predictions would affect the outcomes.\n",
    "\n",
    "So instead you write down all the scores, hash the document, and publish the hash. Once the season is over, you publish the document. Everyone can then hash the document to verify your soothsaying prowess.\n",
    "\n",
    "But what if you can't accurately predict the scores of `2.4k` baseball games? Have no fear - forging a prediction under this scheme reduces to another second preimage attack.\n",
    "\n",
    "We could apply the long message attack from the previous problem, but it would look pretty shady. Would you trust someone whose predicted message turned out to be `2^50` bytes long?\n",
    "    \n",
    "It turns out we can run a successful attack with a much shorter suffix. Check the method:\n",
    "\n",
    "</div>    "
   ]
  },
  {
   "cell_type": "markdown",
   "metadata": {},
   "source": [
    "<div class=\"alert alert-block alert-info\">     \n",
    "    \n",
    "1. Generate a large number of initial hash states. Say, `2^k`.\n",
    "\n",
    "</div>"
   ]
  },
  {
   "cell_type": "code",
   "execution_count": 20,
   "metadata": {},
   "outputs": [],
   "source": [
    "# Generate 2**k random **unique** initial states.  I'll use \n",
    "\n",
    "M_dummy = \"This is some arbitrary message that is long enough to hold my full prediction.  It is going to be pretty long.  I could keep typing things.  But we just want to illustrate the process.\"\n",
    "M_len = len(M_dummy)\n",
    "\n",
    "b = 16\n",
    "block_size = b // 8\n",
    "k = math.ceil(math.log2(M_len / block_size))\n",
    "N_initial_states = 2**k\n",
    "\n",
    "starting_state_range = range(N_initial_states)\n",
    "starting_state_data = [x.to_bytes(block_size, 'little') for x in starting_state_range]"
   ]
  },
  {
   "cell_type": "markdown",
   "metadata": {},
   "source": [
    "<div class=\"alert alert-block alert-info\"> \n",
    "    \n",
    "2. Pair them up and generate single-block collisions. Now you have `2^k` hash states that collide into `2^(k-1)` states.\n",
    "    \n",
    "</div>\n",
    "\n",
    "---\n",
    "\n",
    "What we're to do here is pretty ambiguous -- wasn't clear at first pass what it means to \"pair them up and generate single-block collisions\" without more information.  Going to the source....\n",
    "\n",
    "> Original Paper: [Herding Hash Functions and the Nostradamus Attack](https://tsapps.nist.gov/publication/get_pdf.cfm?pub_id=150629) by Kelsey and Kohno\n",
    "\n",
    "Looking at this, it looks like we literally just choose the first two and search for message blocks that generates a collision between the two starting states for the next hash output.  Let's try that."
   ]
  },
  {
   "cell_type": "code",
   "execution_count": 21,
   "metadata": {},
   "outputs": [],
   "source": [
    "def find_pairwise_MD_collision(state_a, state_b, block_size):\n",
    "    \n",
    "    max_msg = 2**(block_size*8)\n",
    "    collision_found = False\n",
    "    \n",
    "    m_a = 0\n",
    "    while m_a < max_msg:\n",
    "        \n",
    "        m_a_bytes = m_a.to_bytes(block_size, 'little')\n",
    "        digest_a = cp.MD(m_a_bytes, state_a, block_size)\n",
    "        \n",
    "        m_b = 0\n",
    "        while m_b < max_msg:\n",
    "                    \n",
    "            m_b_bytes = m_b.to_bytes(block_size, 'little')\n",
    "            digest_b = cp.MD(m_b_bytes, state_b, block_size)\n",
    "        \n",
    "            if digest_a == digest_b:\n",
    "                return(m_a_bytes, m_b_bytes, digest_a)\n",
    "            else:\n",
    "                m_b += 1\n",
    "            \n",
    "        m_a += 1\n",
    "            \n",
    "    raise(Exception('No valid collision found'))"
   ]
  },
  {
   "cell_type": "code",
   "execution_count": 22,
   "metadata": {},
   "outputs": [
    {
     "name": "stdout",
     "output_type": "stream",
     "text": [
      "Processing k_i=0\n",
      "Processing k_i=1\n",
      "Processing k_i=2\n",
      "Processing k_i=3\n",
      "Processing k_i=4\n",
      "Processing k_i=5\n",
      "Processing k_i=6\n"
     ]
    }
   ],
   "source": [
    "# Construct the diamond structure as a list of dictionaries -- where the keys for each state \n",
    "# tell us the next message block that's needed to navigate to the root.\n",
    "#\n",
    "# Call it a \"herd map\".\n",
    "# \n",
    "# Structure for each round is {current_digest: [next_block, next_digest]}\n",
    "# \n",
    "# this makes it easy to traverse from a leaf node to the root.\n",
    "\n",
    "current_state_list = starting_state_data\n",
    "herd_map = []\n",
    " \n",
    "for k_i in range(k):\n",
    "    \n",
    "    print(f\"Processing k_i={k_i}\")\n",
    "    round_map = {}    \n",
    "    next_state_list = []\n",
    "    \n",
    "    for ii in range(0, len(current_state_list), 2):\n",
    "    \n",
    "        [x, y, h] = find_pairwise_MD_collision(current_state_list[ii], current_state_list[ii+1], block_size)\n",
    "        \n",
    "        round_map[current_state_list[ii]] = [x, h]\n",
    "        round_map[current_state_list[ii+1]] = [y, h]\n",
    "\n",
    "        next_state_list.append(h)\n",
    "        \n",
    "    current_state_list = next_state_list\n",
    "    herd_map.append(round_map)\n",
    "    \n",
    "final_state = h       "
   ]
  },
  {
   "cell_type": "markdown",
   "metadata": {},
   "source": [
    "<div class=\"alert alert-block alert-info\"> \n",
    "\n",
    "3. Repeat the process. Pair up the `2^(k-1)` states and generate collisions. Now you have `2^(k-2)` states.\n",
    "4. Keep doing this until you have one state. This is your prediction.\n",
    "5. Well, sort of. You need to commit to some length to encode in the padding. Make sure it's long enough to accommodate your actual message, this suffix, and a little bit of glue to join them up. Hash this padding block using the state from step 4 - THIS is your prediction.\n",
    "\n",
    "</div>"
   ]
  },
  {
   "cell_type": "markdown",
   "metadata": {},
   "source": [
    "<div class=\"alert alert-block alert-info\"> \n",
    "\n",
    "What did you just build? It's basically a funnel mapping many initial states into a common final state. What's critical is we now have a big field of `2^k` states we can try to collide into, but the actual suffix will only be `k+1` blocks long.\n",
    "\n",
    "The rest is trivial:\n",
    "\n",
    "1. Wait for the end of the baseball season. (This may take some time.)\n",
    "2. Write down the game results. Or, you know, anything else. I'm not too particular.\n",
    "3. Generate enough glue blocks to get your message length right. The last block should collide into one of the leaves in your tree.\n",
    "4. Follow the path from the leaf all the way up to the root node and build your suffix using the message blocks along the way.\n",
    "\n",
    "The difficulty here will be around `2^(b-k)`. By increasing or decreasing `k` in the tree generation phase, you can tune the difficulty of this step. It probably makes sense to do more work up-front, since people will be waiting on you to supply your message once the event passes. Happy prognosticating!\n",
    "\n",
    "</div>"
   ]
  },
  {
   "cell_type": "code",
   "execution_count": 23,
   "metadata": {},
   "outputs": [
    {
     "name": "stdout",
     "output_type": "stream",
     "text": [
      "Boom!\n",
      "\n",
      "The hashes of these two messages are equal:\n",
      "\n",
      "1: This is some arbitrary message that is long enough to hold my full prediction.  It is going to be pretty long.  I could keep typing things.  But we just want to illustrate the process.\n",
      "\n",
      "Hash: ffc6\n",
      "\n",
      "\n",
      "2: b'I told you I would be right.I told you I would be right.I told you I would be right.I told you I would be right.I told you I would be right.I told you I would be right.I told you I would be right.I told you I would be right.k\\x03!\\x1e\\x00\\x00\\x05\\x00\\x00\\x00\\x00\\x00\\x02?\\x00\\x00\\xb8\\x00'\n",
      "\n",
      "Hash: ffc6\n"
     ]
    }
   ],
   "source": [
    "suffix = M_len.to_bytes(block_size, 'little')\n",
    "M_dummy_digest = cp.MD(suffix, final_state, block_size)\n",
    "M_dummy_len = M_len - (k*block_size + len(suffix)) - block_size\n",
    "\n",
    "# Now let's construct my \"prediction\" after the event actually occured, and\n",
    "# long after I delivered the proof that I predicted it in the form of a hash\n",
    "\n",
    "M_post_event = b\"I told you I would be right.\"*8\n",
    "M_post_event += b'\\x00'*(M_dummy_len - len(M_post_event))\n",
    "\n",
    "initial_state = b'\\x00'*block_size\n",
    "last_state = cp.MD(M_post_event, initial_state, block_size)\n",
    "\n",
    "max_msg = 2**(block_size*8)\n",
    "bridge_val = 0\n",
    "bridge_found = False\n",
    "\n",
    "while not(bridge_found):\n",
    "    \n",
    "    bridge_bytes = bridge_val.to_bytes(block_size, 'little')\n",
    "    bridge_hash = cp.MD(bridge_bytes, last_state, block_size)\n",
    "    \n",
    "    if bridge_hash in starting_state_data:\n",
    "        bridge_found = True\n",
    "\n",
    "    bridge_val += 1\n",
    "    if bridge_val >= max_msg:\n",
    "        raise(Exception('Uh oh'))\n",
    "    \n",
    "post_event_prediction = M_post_event + bridge_bytes\n",
    "leaf_idx = starting_state_data.index(bridge_hash) * block_size\n",
    "current_state = cp.MD(post_event_prediction, initial_state, block_size)\n",
    "\n",
    "for k_i in range(k):\n",
    "    \n",
    "    next_block = herd_map[k_i][current_state][0]\n",
    "    current_state = herd_map[k_i][current_state][1]\n",
    "    post_event_prediction += next_block\n",
    "\n",
    "post_event_prediction += suffix\n",
    "M_final_digest = cp.MD(post_event_prediction, initial_state, block_size)\n",
    "\n",
    "assert (M_final_digest == M_dummy_digest)\n",
    "\n",
    "print('Boom!\\n')\n",
    "print('The hashes of these two messages are equal:\\n')\n",
    "print(f'1: {M_dummy}\\n')\n",
    "print(f'Hash: {M_dummy_digest.hex()}\\n\\n')\n",
    "print(f'2: {post_event_prediction}\\n')\n",
    "print(f'Hash: {M_final_digest.hex()}')"
   ]
  },
  {
   "cell_type": "markdown",
   "metadata": {
    "slideshow": {
     "slide_type": "slide"
    }
   },
   "source": [
    "[Back to Index](CryptoPalsWalkthroughs_Cobb.ipynb)"
   ]
  }
 ],
 "metadata": {
  "kernelspec": {
   "display_name": "Python 3",
   "language": "python",
   "name": "python3"
  },
  "language_info": {
   "codemirror_mode": {
    "name": "ipython",
    "version": 3
   },
   "file_extension": ".py",
   "mimetype": "text/x-python",
   "name": "python",
   "nbconvert_exporter": "python",
   "pygments_lexer": "ipython3",
   "version": "3.7.6"
  }
 },
 "nbformat": 4,
 "nbformat_minor": 4
}
