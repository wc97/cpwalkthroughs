{
 "cells": [
  {
   "cell_type": "markdown",
   "metadata": {},
   "source": [
    "#### Challenge 54: Kelsey and Kohno's Nostradamus Attack\n",
    "\n",
    "[Back to Index](CryptoPalsWalkthroughs_Cobb.ipynb)"
   ]
  },
  {
   "cell_type": "code",
   "execution_count": 25,
   "metadata": {},
   "outputs": [],
   "source": [
    "from Crypto.Random import random\n",
    "import cryptopals as cp\n",
    "import pdb"
   ]
  },
  {
   "cell_type": "markdown",
   "metadata": {},
   "source": [
    "<div class=\"alert alert-block alert-info\">   \n",
    "\n",
    "Hash functions are sometimes used as proof of a secret prediction.\n",
    "\n",
    "For example, suppose you wanted to predict the score of every Major League Baseball game in a season. (`2,430` in all.) You might be concerned that publishing your predictions would affect the outcomes.\n",
    "\n",
    "So instead you write down all the scores, hash the document, and publish the hash. Once the season is over, you publish the document. Everyone can then hash the document to verify your soothsaying prowess.\n",
    "\n",
    "But what if you can't accurately predict the scores of `2.4k` baseball games? Have no fear - forging a prediction under this scheme reduces to another second preimage attack.\n",
    "\n",
    "We could apply the long message attack from the previous problem, but it would look pretty shady. Would you trust someone whose predicted message turned out to be `2^50` bytes long?\n",
    "    \n",
    "It turns out we can run a successful attack with a much shorter suffix. Check the method:\n",
    "\n",
    "</div>    "
   ]
  },
  {
   "cell_type": "markdown",
   "metadata": {},
   "source": [
    "<div class=\"alert alert-block alert-info\">     \n",
    "    \n",
    "1. Generate a large number of initial hash states. Say, `2^k`.\n",
    "\n",
    "</div>"
   ]
  },
  {
   "cell_type": "code",
   "execution_count": 54,
   "metadata": {},
   "outputs": [],
   "source": [
    "# Generate 2**k random **unique** initial states.  I'll use \n",
    "\n",
    "k = 8\n",
    "N_initial_states = 2**k\n",
    "b = 24\n",
    "block_size = b // 8\n",
    "\n",
    "random_bytes = random.Random.get_random_bytes(block_size*N_initial_states)\n",
    "state_data = set([random_bytes[ii:ii+block_size] for ii in\n",
    "                  range(0, len(random_bytes), block_size)])\n",
    "\n",
    "# If some of the states were duplicates, add more until we get to 2**k:\n",
    "while len(state_data) < N_initial_states:\n",
    "    state_data.add(bytes(random.Random.get_random_bytes(block_size)))\n",
    "\n",
    "state_data = list(state_data)"
   ]
  },
  {
   "cell_type": "markdown",
   "metadata": {},
   "source": [
    "<div class=\"alert alert-block alert-info\"> \n",
    "    \n",
    "2. Pair them up and generate single-block collisions. Now you have `2^k` hash states that collide into `2^(k-1)` states.\n",
    "    \n",
    "</div>\n",
    "\n",
    "---\n",
    "\n",
    "What we're to do here is pretty ambiguous -- wasn't clear at first pass what it means to \"pair them up and generate single-block collisions\" without more information.  Going to the source....\n",
    "\n",
    "> Original Paper: [Herding Hash Functions and the Nostradamus Attack](https://tsapps.nist.gov/publication/get_pdf.cfm?pub_id=150629) by Kelsey and Kohno\n",
    "\n",
    "Looking at this, it looks like we literally just choose the first two and search for a message block that generates a collision between the two for the next hash output.  Let's try that."
   ]
  },
  {
   "cell_type": "code",
   "execution_count": 55,
   "metadata": {},
   "outputs": [],
   "source": [
    "def find_pairwise_MD_collision(state_a, state_b, block_size):\n",
    "    \n",
    "    m = 0\n",
    "    max_msg = 2**(block_size*8)\n",
    "    collision_found = False\n",
    "    while m < max_msg:\n",
    "        \n",
    "        m_bytes = m.to_bytes(block_size, 'little')\n",
    "        digest_a = cp.MD(m_bytes, state_a, block_size)\n",
    "        digest_b = cp.MD(m_bytes, state_b, block_size)\n",
    "        \n",
    "        if digest_a == digest_b:\n",
    "            \n",
    "            return(m_bytes, digest_a)\n",
    "        \n",
    "        else:\n",
    "            \n",
    "            m += 1\n",
    "            \n",
    "    raise(Exception('No valid collision found'))"
   ]
  },
  {
   "cell_type": "code",
   "execution_count": 56,
   "metadata": {},
   "outputs": [
    {
     "ename": "KeyboardInterrupt",
     "evalue": "",
     "output_type": "error",
     "traceback": [
      "\u001b[1;31m---------------------------------------------------------------------------\u001b[0m",
      "\u001b[1;31mKeyboardInterrupt\u001b[0m                         Traceback (most recent call last)",
      "\u001b[1;32m<ipython-input-56-77fcfc8a82cf>\u001b[0m in \u001b[0;36m<module>\u001b[1;34m\u001b[0m\n\u001b[0;32m      2\u001b[0m \u001b[1;32mfor\u001b[0m \u001b[0mii\u001b[0m \u001b[1;32min\u001b[0m \u001b[0mrange\u001b[0m\u001b[1;33m(\u001b[0m\u001b[1;36m0\u001b[0m\u001b[1;33m,\u001b[0m \u001b[0mlen\u001b[0m\u001b[1;33m(\u001b[0m\u001b[0mstate_data\u001b[0m\u001b[1;33m)\u001b[0m\u001b[1;33m,\u001b[0m \u001b[1;36m2\u001b[0m\u001b[1;33m)\u001b[0m\u001b[1;33m:\u001b[0m\u001b[1;33m\u001b[0m\u001b[1;33m\u001b[0m\u001b[0m\n\u001b[0;32m      3\u001b[0m \u001b[1;33m\u001b[0m\u001b[0m\n\u001b[1;32m----> 4\u001b[1;33m     \u001b[0mm\u001b[0m\u001b[1;33m.\u001b[0m\u001b[0mappend\u001b[0m\u001b[1;33m(\u001b[0m\u001b[0mfind_pairwise_MD_collision\u001b[0m\u001b[1;33m(\u001b[0m\u001b[0mstate_data\u001b[0m\u001b[1;33m[\u001b[0m\u001b[0mii\u001b[0m\u001b[1;33m]\u001b[0m\u001b[1;33m,\u001b[0m \u001b[0mstate_data\u001b[0m\u001b[1;33m[\u001b[0m\u001b[0mii\u001b[0m\u001b[1;33m+\u001b[0m\u001b[1;36m1\u001b[0m\u001b[1;33m]\u001b[0m\u001b[1;33m,\u001b[0m \u001b[0mblock_size\u001b[0m\u001b[1;33m)\u001b[0m\u001b[1;33m)\u001b[0m\u001b[1;33m\u001b[0m\u001b[1;33m\u001b[0m\u001b[0m\n\u001b[0m",
      "\u001b[1;32m<ipython-input-55-7f166d017aa7>\u001b[0m in \u001b[0;36mfind_pairwise_MD_collision\u001b[1;34m(state_a, state_b, block_size)\u001b[0m\n\u001b[0;32m      8\u001b[0m         \u001b[0mm_bytes\u001b[0m \u001b[1;33m=\u001b[0m \u001b[0mm\u001b[0m\u001b[1;33m.\u001b[0m\u001b[0mto_bytes\u001b[0m\u001b[1;33m(\u001b[0m\u001b[0mblock_size\u001b[0m\u001b[1;33m,\u001b[0m \u001b[1;34m'little'\u001b[0m\u001b[1;33m)\u001b[0m\u001b[1;33m\u001b[0m\u001b[1;33m\u001b[0m\u001b[0m\n\u001b[0;32m      9\u001b[0m         \u001b[0mdigest_a\u001b[0m \u001b[1;33m=\u001b[0m \u001b[0mcp\u001b[0m\u001b[1;33m.\u001b[0m\u001b[0mMD\u001b[0m\u001b[1;33m(\u001b[0m\u001b[0mm_bytes\u001b[0m\u001b[1;33m,\u001b[0m \u001b[0mstate_a\u001b[0m\u001b[1;33m,\u001b[0m \u001b[0mblock_size\u001b[0m\u001b[1;33m)\u001b[0m\u001b[1;33m\u001b[0m\u001b[1;33m\u001b[0m\u001b[0m\n\u001b[1;32m---> 10\u001b[1;33m         \u001b[0mdigest_b\u001b[0m \u001b[1;33m=\u001b[0m \u001b[0mcp\u001b[0m\u001b[1;33m.\u001b[0m\u001b[0mMD\u001b[0m\u001b[1;33m(\u001b[0m\u001b[0mm_bytes\u001b[0m\u001b[1;33m,\u001b[0m \u001b[0mstate_b\u001b[0m\u001b[1;33m,\u001b[0m \u001b[0mblock_size\u001b[0m\u001b[1;33m)\u001b[0m\u001b[1;33m\u001b[0m\u001b[1;33m\u001b[0m\u001b[0m\n\u001b[0m\u001b[0;32m     11\u001b[0m \u001b[1;33m\u001b[0m\u001b[0m\n\u001b[0;32m     12\u001b[0m         \u001b[1;32mif\u001b[0m \u001b[0mdigest_a\u001b[0m \u001b[1;33m==\u001b[0m \u001b[0mdigest_b\u001b[0m\u001b[1;33m:\u001b[0m\u001b[1;33m\u001b[0m\u001b[1;33m\u001b[0m\u001b[0m\n",
      "\u001b[1;32m~\\Documents\\GitHub\\cpwalkthroughs\\cryptopals.py\u001b[0m in \u001b[0;36mMD\u001b[1;34m(M, H, blockSize)\u001b[0m\n\u001b[0;32m    519\u001b[0m \u001b[1;33m\u001b[0m\u001b[0m\n\u001b[0;32m    520\u001b[0m     \u001b[1;32mfor\u001b[0m \u001b[0mblock\u001b[0m \u001b[1;32min\u001b[0m \u001b[0mBlocks\u001b[0m\u001b[1;33m:\u001b[0m\u001b[1;33m\u001b[0m\u001b[1;33m\u001b[0m\u001b[0m\n\u001b[1;32m--> 521\u001b[1;33m \u001b[1;33m\u001b[0m\u001b[0m\n\u001b[0m\u001b[0;32m    522\u001b[0m         \u001b[0mH\u001b[0m \u001b[1;33m=\u001b[0m \u001b[0mmyAES\u001b[0m\u001b[1;33m.\u001b[0m\u001b[0mencrypt\u001b[0m\u001b[1;33m(\u001b[0m\u001b[0mzero_pad\u001b[0m\u001b[1;33m(\u001b[0m\u001b[0mblock\u001b[0m\u001b[1;33m)\u001b[0m\u001b[1;33m)\u001b[0m\u001b[1;33m[\u001b[0m\u001b[1;36m0\u001b[0m\u001b[1;33m:\u001b[0m\u001b[0mblockSize\u001b[0m\u001b[1;33m]\u001b[0m\u001b[1;33m\u001b[0m\u001b[1;33m\u001b[0m\u001b[0m\n\u001b[0;32m    523\u001b[0m         \u001b[0mmyAES\u001b[0m \u001b[1;33m=\u001b[0m \u001b[0mAES\u001b[0m\u001b[1;33m.\u001b[0m\u001b[0mnew\u001b[0m\u001b[1;33m(\u001b[0m\u001b[0mzero_pad\u001b[0m\u001b[1;33m(\u001b[0m\u001b[0mH\u001b[0m\u001b[1;33m)\u001b[0m\u001b[1;33m,\u001b[0m \u001b[0mAES\u001b[0m\u001b[1;33m.\u001b[0m\u001b[0mMODE_ECB\u001b[0m\u001b[1;33m)\u001b[0m\u001b[1;33m\u001b[0m\u001b[1;33m\u001b[0m\u001b[0m\n",
      "\u001b[1;32mC:\\ProgramData\\Anaconda3\\lib\\site-packages\\Crypto\\Cipher\\blockalgo.py\u001b[0m in \u001b[0;36mencrypt\u001b[1;34m(self, plaintext)\u001b[0m\n\u001b[0;32m    242\u001b[0m             \u001b[1;32mreturn\u001b[0m \u001b[0mres\u001b[0m\u001b[1;33m\u001b[0m\u001b[1;33m\u001b[0m\u001b[0m\n\u001b[0;32m    243\u001b[0m \u001b[1;33m\u001b[0m\u001b[0m\n\u001b[1;32m--> 244\u001b[1;33m         \u001b[1;32mreturn\u001b[0m \u001b[0mself\u001b[0m\u001b[1;33m.\u001b[0m\u001b[0m_cipher\u001b[0m\u001b[1;33m.\u001b[0m\u001b[0mencrypt\u001b[0m\u001b[1;33m(\u001b[0m\u001b[0mplaintext\u001b[0m\u001b[1;33m)\u001b[0m\u001b[1;33m\u001b[0m\u001b[1;33m\u001b[0m\u001b[0m\n\u001b[0m\u001b[0;32m    245\u001b[0m \u001b[1;33m\u001b[0m\u001b[0m\n\u001b[0;32m    246\u001b[0m     \u001b[1;32mdef\u001b[0m \u001b[0mdecrypt\u001b[0m\u001b[1;33m(\u001b[0m\u001b[0mself\u001b[0m\u001b[1;33m,\u001b[0m \u001b[0mciphertext\u001b[0m\u001b[1;33m)\u001b[0m\u001b[1;33m:\u001b[0m\u001b[1;33m\u001b[0m\u001b[1;33m\u001b[0m\u001b[0m\n",
      "\u001b[1;31mKeyboardInterrupt\u001b[0m: "
     ]
    }
   ],
   "source": [
    "m = []\n",
    "for ii in range(0, len(state_data), 2):\n",
    "    \n",
    "    m.append(find_pairwise_MD_collision(state_data[ii], state_data[ii+1], block_size))"
   ]
  },
  {
   "cell_type": "markdown",
   "metadata": {},
   "source": [
    "<div class=\"alert alert-block alert-info\"> \n",
    "\n",
    "3. Repeat the process. Pair up the `2^(k-1)` states and generate collisions. Now you have `2^(k-2)` states.\n",
    "\n",
    "</div>"
   ]
  },
  {
   "cell_type": "code",
   "execution_count": null,
   "metadata": {},
   "outputs": [],
   "source": []
  },
  {
   "cell_type": "markdown",
   "metadata": {},
   "source": [
    "<div class=\"alert alert-block alert-info\">   \n",
    "    \n",
    "4. Keep doing this until you have one state. This is your prediction.\n",
    "    \n",
    "</div>"
   ]
  },
  {
   "cell_type": "code",
   "execution_count": null,
   "metadata": {},
   "outputs": [],
   "source": []
  },
  {
   "cell_type": "markdown",
   "metadata": {},
   "source": [
    "<div class=\"alert alert-block alert-info\"> \n",
    "      \n",
    "5. Well, sort of. You need to commit to some length to encode in the padding. Make sure it's long enough to accommodate your actual message, this suffix, and a little bit of glue to join them up. Hash this padding block using the state from step 4 - THIS is your prediction.\n",
    "\n",
    "</div>"
   ]
  },
  {
   "cell_type": "code",
   "execution_count": null,
   "metadata": {},
   "outputs": [],
   "source": []
  },
  {
   "cell_type": "markdown",
   "metadata": {},
   "source": [
    "<div class=\"alert alert-block alert-info\"> \n",
    "\n",
    "What did you just build? It's basically a funnel mapping many initial states into a common final state. What's critical is we now have a big field of `2^k` states we can try to collide into, but the actual suffix will only be `k+1` blocks long.\n",
    "\n",
    "The rest is trivial:\n",
    "\n",
    "1. Wait for the end of the baseball season. (This may take some time.)\n",
    "2. Write down the game results. Or, you know, anything else. I'm not too particular.\n",
    "3. Generate enough glue blocks to get your message length right. The last block should collide into one of the leaves in your tree.\n",
    "4. Follow the path from the leaf all the way up to the root node and build your suffix using the message blocks along the way.\n",
    "\n",
    "The difficulty here will be around `2^(b-k)`. By increasing or decreasing `k` in the tree generation phase, you can tune the difficulty of this step. It probably makes sense to do more work up-front, since people will be waiting on you to supply your message once the event passes. Happy prognosticating!\n",
    "\n",
    "</div>"
   ]
  },
  {
   "cell_type": "code",
   "execution_count": null,
   "metadata": {},
   "outputs": [],
   "source": []
  },
  {
   "cell_type": "markdown",
   "metadata": {
    "slideshow": {
     "slide_type": "slide"
    }
   },
   "source": [
    "[Back to Index](CryptoPalsWalkthroughs_Cobb.ipynb)"
   ]
  }
 ],
 "metadata": {
  "kernelspec": {
   "display_name": "Python 3",
   "language": "python",
   "name": "python3"
  },
  "language_info": {
   "codemirror_mode": {
    "name": "ipython",
    "version": 3
   },
   "file_extension": ".py",
   "mimetype": "text/x-python",
   "name": "python",
   "nbconvert_exporter": "python",
   "pygments_lexer": "ipython3",
   "version": "3.7.6"
  }
 },
 "nbformat": 4,
 "nbformat_minor": 4
}
