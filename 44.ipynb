{
 "cells": [
  {
   "cell_type": "markdown",
   "metadata": {},
   "source": [
    "#### Challenge 44: DSA nonce recovery from repeated nonce\n",
    "\n",
    "[Back to Index](CryptoPalsWalkthroughs_Cobb.ipynb)"
   ]
  },
  {
   "cell_type": "code",
   "execution_count": 1,
   "metadata": {},
   "outputs": [],
   "source": [
    "from Crypto.Util import number\n",
    "from Crypto.Random import random\n",
    "from Crypto.Hash.SHA256 import SHA256Hash\n",
    "\n",
    "import cryptopals as cp\n",
    "import sha1"
   ]
  },
  {
   "cell_type": "markdown",
   "metadata": {},
   "source": [
    "<div class=\"alert alert-block alert-info\">\n",
    "    \n",
    "<div class=\"alert alert-block alert-warning\">\n",
    "    \n",
    "#### **Cryptanalytic MVP award.**\n",
    "\n",
    "This attack (in an elliptic curve group) broke the PS3. It is a great, great attack.\n",
    "    \n",
    "</div>\n",
    "\n",
    "In [this file](challenge-data\\44.txt) find a collection of DSA-signed messages. (NB: each msg has a trailing space.)\n",
    "\n",
    "These were signed under the following pubkey:\n",
    "```\n",
    "y = 2d026f4bf30195ede3a088da85e398ef869611d0f68f07\n",
    "    13d51c9c1a3a26c95105d915e2d8cdf26d056b86b8a7b8\n",
    "    5519b1c23cc3ecdc6062650462e3063bd179c2a6581519\n",
    "    f674a61f1d89a1fff27171ebc1b93d4dc57bceb7ae2430\n",
    "    f98a6a4d83d8279ee65d71c1203d2c96d65ebbf7cce9d3\n",
    "    2971c3de5084cce04a2e147821\n",
    "```\n",
    "(using the same domain parameters as the previous exercise)\n",
    "\n",
    "It should not be hard to find the messages for which we have accidentally used a repeated \"k\". Given a pair of such messages, you can discover the \"k\" we used with the following formula:\n",
    "\n",
    "$$ k = \\frac{m1 - m2}{s1 - s2} \\mod q $$\n",
    "\n",
    "<br>    \n",
    "<div class=\"alert alert-block alert-warning\">\n",
    "\n",
    "#### **9th Grade Math: Study It!**\n",
    "\n",
    "If you want to demystify this, work out that equation from the original DSA equations.\n",
    "\n",
    "</div>\n",
    "    \n",
    "\n",
    "<div class=\"alert alert-block alert-warning\">\n",
    "    \n",
    "#### **Basic cyclic group math operations want to screw you**\n",
    "    \n",
    "Remember all this math is mod q; s2 may be larger than s1, for instance, which isn't a problem if you're doing the subtraction mod q. If you're like me, you'll definitely lose an hour to forgetting a paren or a mod q. (And don't forget that modular inverse function!)\n",
    "\n",
    "</div>    \n",
    "\n",
    "What's my private key? Its SHA-1 (from hex) is:   \n",
    "\n",
    "`ca8f6f7c66fa362d40760d135b763eb8527d3d52`\n",
    "\n",
    "\n",
    "</div>"
   ]
  },
  {
   "cell_type": "code",
   "execution_count": 2,
   "metadata": {},
   "outputs": [],
   "source": [
    "p = 0x800000000000000089e1855218a0e7dac38136ffafa72eda7859f2171e25e65eac698c1702578b07dc2a1076da241c76c62d374d8389ea5aeffd3226a0530cc565f3bf6b50929139ebeac04f48c3c84afb796d61e5a4f9a8fda812ab59494232c7d2b4deb50aa18ee9e132bfa85ac4374d7f9091abc3d015efc871a584471bb1\n",
    "q = 0xf4f47f05794b256174bba6e9b396a7707e563c5b\n",
    "g = 0x5958c9d3898b224b12672c0b98e06c60df923cb8bc999d119458fef538b8fa4046c8db53039db620c094c9fa077ef389b5322a559946a71903f990f1f7e0e025e2d7f7cf494aff1a0470f5b64c36b625a097f1651fe775323556fe00b3608c887892878480e99041be601a62166ca6894bdd41a7054ec89f756ba9fc95302291\n",
    "\n",
    "y = int(\n",
    "    '2d026f4bf30195ede3a088da85e398ef869611d0f68f07'\n",
    "    '13d51c9c1a3a26c95105d915e2d8cdf26d056b86b8a7b8'\n",
    "    '5519b1c23cc3ecdc6062650462e3063bd179c2a6581519'\n",
    "    'f674a61f1d89a1fff27171ebc1b93d4dc57bceb7ae2430'\n",
    "    'f98a6a4d83d8279ee65d71c1203d2c96d65ebbf7cce9d3'\n",
    "    '2971c3de5084cce04a2e147821', 16)\n",
    "\n",
    "true_pk_fp = 'ca8f6f7c66fa362d40760d135b763eb8527d3d52'"
   ]
  },
  {
   "cell_type": "markdown",
   "metadata": {},
   "source": [
    "---\n",
    "Load message data from file and store it:"
   ]
  },
  {
   "cell_type": "code",
   "execution_count": 3,
   "metadata": {},
   "outputs": [],
   "source": [
    "file_path = './challenge-data/44.txt'\n",
    "\n",
    "msg_data = []\n",
    "\n",
    "with open(file_path) as fp:    \n",
    "    while True:\n",
    "        msg = fp.readline()\n",
    "        if not(msg):\n",
    "            break\n",
    "        msg = msg[5:].strip('\\n')\n",
    "        s = int(fp.readline()[3:].strip('\\n'))\n",
    "        r = int(fp.readline()[3:].strip('\\n'))\n",
    "        m = int(fp.readline()[3:].strip('\\n'), 16)\n",
    "        # Verify message hashes match.\n",
    "        # I had to convert to ints for hash check because the text file \n",
    "        # hashes don't include leading 0's.\n",
    "        assert(int(sha1.SHA1(msg.encode()).finish().hex(),16) == m)\n",
    "        msg_data.append([msg, s, r, m])"
   ]
  },
  {
   "cell_type": "code",
   "execution_count": 4,
   "metadata": {},
   "outputs": [],
   "source": [
    "def get_k(m1, s1, m2, s2):\n",
    "    \n",
    "    num = (m1 - m2) % q\n",
    "    den = cp.invmod((s1 - s2) % q, q)\n",
    "    return((num*den) % q)"
   ]
  },
  {
   "cell_type": "code",
   "execution_count": 12,
   "metadata": {},
   "outputs": [
    {
     "name": "stdout",
     "output_type": "stream",
     "text": [
      "Found private key:\n",
      "\n",
      "x = 0xf1b733db159c66bce071d21e044a48b0e4c1665a\n"
     ]
    }
   ],
   "source": [
    "key_found = False\n",
    "for ii in range(len(msg_data)-1):\n",
    "    \n",
    "    for jj in range(ii, len(msg_data)):\n",
    "        \n",
    "        msg1 = msg_data[ii][0].encode()\n",
    "        s1 = msg_data[ii][1]\n",
    "        r1 = msg_data[ii][2]\n",
    "        m1 = msg_data[ii][3]\n",
    "        \n",
    "        s2 = msg_data[jj][1]\n",
    "        m2 = msg_data[jj][3]\n",
    "        \n",
    "        k = get_k(m1, s1, m2, s2)\n",
    "        r_k = pow(g, k, p) % q\n",
    "        if r_k == r1:\n",
    "            key_found = True\n",
    "            print('Found private key:\\n')\n",
    "            x = cp.dsa_priv_key_from_k(msg1, k, r1, s1, q)\n",
    "            print(f'x = {hex(x)}')\n",
    "            break\n",
    "            \n",
    "    if key_found:\n",
    "        break"
   ]
  },
  {
   "cell_type": "code",
   "execution_count": 9,
   "metadata": {},
   "outputs": [
    {
     "name": "stdout",
     "output_type": "stream",
     "text": [
      "Fingerprint matches\n"
     ]
    }
   ],
   "source": [
    "x_bytes = hex(x)[2:].encode()\n",
    "my_pk_fp = sha1.SHA1(x_bytes).finish().hex()\n",
    "\n",
    "if my_pk_fp == true_pk_fp:\n",
    "    print('Fingerprint matches')\n",
    "else:\n",
    "    print('Private key fingerprint does NOT match')"
   ]
  },
  {
   "cell_type": "markdown",
   "metadata": {},
   "source": [
    "<div class=\"alert alert-block alert-info\">\n",
    "\n",
    "Given a known `k`, it's trivial to recover the DSA private key `x`:\n",
    "\n",
    "          (s * k) - H(msg)\n",
    "      x = ----------------  mod q\n",
    "                  r\n",
    "\n",
    "</div>"
   ]
  },
  {
   "cell_type": "markdown",
   "metadata": {
    "slideshow": {
     "slide_type": "slide"
    }
   },
   "source": [
    "[Back to Index](CryptoPalsWalkthroughs_Cobb.ipynb)"
   ]
  }
 ],
 "metadata": {
  "kernelspec": {
   "display_name": "Python 3",
   "language": "python",
   "name": "python3"
  },
  "language_info": {
   "codemirror_mode": {
    "name": "ipython",
    "version": 3
   },
   "file_extension": ".py",
   "mimetype": "text/x-python",
   "name": "python",
   "nbconvert_exporter": "python",
   "pygments_lexer": "ipython3",
   "version": "3.7.4"
  }
 },
 "nbformat": 4,
 "nbformat_minor": 4
}
