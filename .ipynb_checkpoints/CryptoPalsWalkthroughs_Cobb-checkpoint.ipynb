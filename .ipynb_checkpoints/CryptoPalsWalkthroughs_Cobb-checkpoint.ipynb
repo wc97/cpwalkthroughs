{
 "cells": [
  {
   "cell_type": "markdown",
   "metadata": {},
   "source": [
    "These are my Walkthroughs / solutions to the excellent CryptoPals exercises.  \n",
    "\n",
    "Throughout this, the original descriptions from the cryptopals.com website are highlighted in blue alert boxes: \n",
    "\n",
    "<div class=\"alert alert-block alert-info\">\n",
    "blue alert box\n",
    "</div>\n",
    "    \n",
    "Please see [cryptopals.com](http://cryptopals.com) for details."
   ]
  },
  {
   "cell_type": "markdown",
   "metadata": {},
   "source": [
    "# Contents:"
   ]
  },
  {
   "cell_type": "markdown",
   "metadata": {},
   "source": [
    "## Set 1 - Crypto Challenge Set 1\n",
    "\n",
    "<div class=\"alert alert-block alert-info\">\n",
    "    \n",
    "This is the qualifying set. We picked the exercises in it to ramp developers up gradually into coding cryptography, but also to verify that we were working with people who were ready to write code. This set is relatively easy. With one exception, most of these exercises should take only a couple minutes. But don't beat yourself up if it takes longer than that. It took Alex two weeks to get through the set! If you've written any crypto code in the past, you're going to feel like skipping a lot of this. Don't skip them. At least two of them (we won't say which) are important stepping stones to later attacks. \n",
    "\n",
    "1. [Convert hex to base64](01.ipynb)\n",
    "2. [Fixed XOR](02.ipynb)\n",
    "3. [Single-byte XOR cipher](03.ipynb)\n",
    "4. [Detect single-character XOR](04.ipynb)\n",
    "5. [Implement repeating-key XOR](05.ipynb)\n",
    "6. [Break repeating-key XOR](06.ipynb)\n",
    "7. [AES in ECB mode](07.ipynb)\n",
    "8. [Detect AES in ECB mode](08.ipynb)\n",
    "    \n",
    "</div>"
   ]
  },
  {
   "cell_type": "markdown",
   "metadata": {},
   "source": [
    "## Set 2 - Crypto Challenge Set 2\n",
    "\n",
    "<div class=\"alert alert-block alert-info\">\n",
    "    \n",
    "This is the first of several sets on **block cipher cryptography**. This is bread-and-butter crypto, the kind you'll see implemented in most web software that does crypto.\n",
    "\n",
    "This set is relatively easy. People that clear set 1 tend to clear set 2 somewhat quickly.\n",
    "\n",
    "Three of the challenges in this set are extremely valuable in breaking real-world crypto; one allows you to decrypt messages encrypted in the default mode of AES, and the other two allow you to rewrite messages encrypted in the most popular modes of AES. \n",
    "\n",
    "9.  [Implement PKCS#7 padding](09.ipynb)\n",
    "10. [Implement CBC mode](10.ipynb)\n",
    "11. [An ECB/CBC detection oracle](11.ipynb)\n",
    "12. [Byte-at-a-time ECB decryption (Simple)](12.ipynb)\n",
    "13. [ECB cut-and-paste](13.ipynb)\n",
    "14. [Byte-at-a-time ECB decryption (Harder)](14.ipynb)\n",
    "15. [PKCS#7 padding validation](15.ipynb)\n",
    "16. [CBC bitflipping attacks](16.ipynb)\n",
    "\n",
    "</div>"
   ]
  },
  {
   "cell_type": "markdown",
   "metadata": {},
   "source": [
    "## Set 3 - Crypto Challenge Set 3\n",
    "\n",
    "<div class=\"alert alert-block alert-info\">\n",
    "    \n",
    "This is the next set of **block cipher** cryptography challenges (even the randomness stuff here plays into block cipher crypto).\n",
    "\n",
    "This set is moderately difficult. It includes a famous attack against CBC mode, and a \"cloning\" attack on a popular RNG that can be annoying to get right.\n",
    "\n",
    "We've also reached a point in the crypto challenges where all the challenges, with one possible exception, are valuable in breaking real-world crypto.\n",
    "\n",
    "17. [The CBC padding oracle](17.ipynb)\n",
    "18. [Implement CTR, the stream cipher mode](18.ipynb)\n",
    "19. [Break fixed-nonce CTR mode using substitutions](19.ipynb)\n",
    "20. [Break fixed-nonce CTR statistically](20.ipynb)\n",
    "21. [Implement the MT19937 Mersenne Twister RNG](21.ipynb)\n",
    "22. [Crack an MT19937 seed](22.ipynb)\n",
    "23. [Clone an MT19937 RNG from its output](23.ipynb)\n",
    "24. [Create the MT19937 stream cipher and break it](24.ipynb)\n",
    "\n",
    "</div>"
   ]
  },
  {
   "cell_type": "markdown",
   "metadata": {},
   "source": [
    "## Set 4 - Crypto Challenge Set 4\n",
    "\n",
    "<div class=\"alert alert-block alert-info\">\n",
    "\n",
    "This is the last set of **block cipher cryptography challenges**, and also our coverage of **message authentication**.\n",
    "\n",
    "This set is much easier than the last set. We introduce some new concepts, but the attacks themselves involve less code than, say, the CBC padding oracle.\n",
    "\n",
    "Things get significantly trickier in the next two sets. A lot of people drop off after set 4.\n",
    "\n",
    "25. [Break \"random access read/write\" AES CTR](25.ipynb)\n",
    "26. [CTR bitflipping](26.ipynb)\n",
    "27. [Recover the key from CBC with IV=Key](27.ipynb)\n",
    "28. [Implement a SHA-1 keyed MAC](28.ipynb)\n",
    "29. [Break a SHA-1 keyed MAC using length extension](29.ipynb)\n",
    "30. [Break an MD4 keyed MAC using length extension](30.ipynb)\n",
    "31. [Implement and break HMAC-SHA1 with an artificial timing leak](31.ipynb)\n",
    "32. [Break HMAC-SHA1 with a slightly less artificial timing leak](32.ipynb)\n",
    "\n",
    "</div>"
   ]
  },
  {
   "cell_type": "markdown",
   "metadata": {},
   "source": [
    "## Set 5 - Crypto Challenge Set 5\n",
    "\n",
    "<div class=\"alert alert-block alert-info\">\n",
    "\n",
    "This is the first set of **number-theoretic cryptography challenges**, and also our coverage of **message authentication**.\n",
    "\n",
    "This set is significantly harder than the last set. The concepts are new, the attacks bear no resemblance to those of the previous sets, and... math.\n",
    "\n",
    "On the other hand, our favorite cryptanalytic attack ever is in this set (you'll see it soon). We're happy with this set. Don't wimp out here. You're almost done!\n",
    "\n",
    "33. [Implement Diffie-Hellman](33.ipynb)\n",
    "34. [Implement a MITM key-fixing attack on Diffie-Hellman with parameter injection](34.ipynb)\n",
    "35. [Implement DH with negotiated groups, and break with malicious \"g\" parameters](35.ipynb)\n",
    "36. [Implement Secure Remote Password (SRP)](36.ipynb)\n",
    "37. [Break SRP with a zero key](37.ipynb)\n",
    "38. [Offline dictionary attack on simplified SRP](38.ipynb)\n",
    "39. [Implement RSA](39.ipynb)\n",
    "40. [Implement an E=3 RSA Broadcast attack](40.ipynb)\n",
    "\n",
    "</div>"
   ]
  },
  {
   "cell_type": "code",
   "execution_count": null,
   "metadata": {},
   "outputs": [],
   "source": []
  }
 ],
 "metadata": {
  "kernelspec": {
   "display_name": "Python 3",
   "language": "python",
   "name": "python3"
  },
  "language_info": {
   "codemirror_mode": {
    "name": "ipython",
    "version": 3
   },
   "file_extension": ".py",
   "mimetype": "text/x-python",
   "name": "python",
   "nbconvert_exporter": "python",
   "pygments_lexer": "ipython3",
   "version": "3.7.4"
  }
 },
 "nbformat": 4,
 "nbformat_minor": 4
}
