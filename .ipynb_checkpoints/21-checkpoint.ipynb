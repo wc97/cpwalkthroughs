{
 "cells": [
  {
   "cell_type": "markdown",
   "metadata": {},
   "source": [
    "### Challenge 21: Implement the MT19937 Mersenne Twister RNG\n",
    "\n",
    "[Back to Index](CryptoPalsWalkthroughs_Cobb.ipynb)"
   ]
  },
  {
   "cell_type": "markdown",
   "metadata": {},
   "source": [
    "<div class=\"alert alert-block alert-info\">\n",
    "\n",
    "You can get the psuedocode for this from Wikipedia.\n",
    "\n",
    "If you're writing in Python, Ruby, or (gah) PHP, your language is probably already giving you MT19937 as \"rand()\"; don't use rand(). Write the RNG yourself. \n",
    "\n",
    "</div>"
   ]
  },
  {
   "cell_type": "markdown",
   "metadata": {},
   "source": [
    "Here's a link to the Wikipedia description of the algorithm, which includes a pseudocode description:\n",
    "\n",
    ">[https://en.wikipedia.org/wiki/Mersenne_Twister](https://en.wikipedia.org/wiki/Mersenne_Twister)\n",
    "\n",
    "Implementing it in Python 3:"
   ]
  },
  {
   "cell_type": "code",
   "execution_count": 95,
   "metadata": {},
   "outputs": [],
   "source": [
    "cW = 32\n",
    "cN = 624\n",
    "cM = 397\n",
    "cR = 31\n",
    "\n",
    "cA = int('9908b0df', 16)\n",
    "cU = 11\n",
    "cD = int('ffffffff', 16) # 2**32-1 --> max int value.\n",
    "cS = 7\n",
    "cB = int('9d2c5680', 16)\n",
    "cT = 15\n",
    "cC = int('efc60000', 16)\n",
    "cL = 18\n",
    "\n",
    "cF = 1812433253\n",
    "\n",
    "cMASK_LOWER_32 = (1 << cW) - 1   # 2**32 - 1\n",
    "cLOWER_MASK   = (1 << cR) - 1    # 2**31 - 1\n",
    "cUPPER_MASK   = (1 << cR)        # 2**31\n",
    "\n",
    "class mt19937:\n",
    "\n",
    "    def __init__(self, seed):\n",
    "\n",
    "        # initialize the MT state\n",
    "        self.state = [0] * cN\n",
    "        self.seed = seed\n",
    "\n",
    "        self.index = cN\n",
    "        self.state[0] = seed\n",
    "\n",
    "        for ii in range(1, cN):\n",
    "            tmp = cF * (self.state[ii-1] ^ (self.state[ii-1] >> (cW-2))) + ii\n",
    "            self.state[ii] = tmp & cMASK_LOWER_32\n",
    "\n",
    "    def extract_number(self):\n",
    "\n",
    "        if self.index >= cN:\n",
    "            if self.index > cN:\n",
    "                raise(ValueError('Not seeded'))\n",
    "\n",
    "            self.twist()\n",
    "\n",
    "        y = self.state[self.index]\n",
    "        y ^= ((y >> cU) & cD)\n",
    "        y ^= ((y << cS) & cB)\n",
    "        y ^= ((y << cT) & cC)\n",
    "        y ^= (y >> cL)\n",
    "\n",
    "        self.index += 1\n",
    "\n",
    "        tmp = y & cMASK_LOWER_32\n",
    "        return(tmp)\n",
    "\n",
    "    def twist(self):\n",
    "\n",
    "        for ii in range(cN):\n",
    "\n",
    "            x = (self.state[ii] & cUPPER_MASK) + \\\n",
    "                (self.state[(ii+1) % cN] & cLOWER_MASK)\n",
    "\n",
    "            xA = x >> 1\n",
    "\n",
    "            if (x % 2) != 0:\n",
    "                xA = xA ^ cA\n",
    "\n",
    "            self.state[ii] = self.state[(ii + cM) % cN] ^ xA\n",
    "\n",
    "        self.index = 0"
   ]
  },
  {
   "cell_type": "markdown",
   "metadata": {},
   "source": [
    "Let's compare the output of our implementation to the known good output from a good mt19937 implementation (seeded with 0)"
   ]
  },
  {
   "cell_type": "code",
   "execution_count": 98,
   "metadata": {},
   "outputs": [
    {
     "name": "stdout",
     "output_type": "stream",
     "text": [
      "Good MATCH:  2357136044, 2357136044\n",
      "Good MATCH:  2546248239, 2546248239\n",
      "Good MATCH:  3071714933, 3071714933\n",
      "Good MATCH:  3626093760, 3626093760\n",
      "Good MATCH:  2588848963, 2588848963\n",
      "Good MATCH:  3684848379, 3684848379\n",
      "Good MATCH:  2340255427, 2340255427\n",
      "Good MATCH:  3638918503, 3638918503\n",
      "Good MATCH:  1819583497, 1819583497\n",
      "Good MATCH:  2678185683, 2678185683\n",
      "Good MATCH:  2774094101, 2774094101\n",
      "Good MATCH:  1650906866, 1650906866\n",
      "Good MATCH:  1879422756, 1879422756\n",
      "Good MATCH:  1277901399, 1277901399\n",
      "Good MATCH:  3830135878, 3830135878\n",
      "Good MATCH:  243580376, 243580376\n",
      "Good MATCH:  4138900056, 4138900056\n",
      "Good MATCH:  1171049868, 1171049868\n",
      "Good MATCH:  1646868794, 1646868794\n",
      "Good MATCH:  2051556033, 2051556033\n"
     ]
    }
   ],
   "source": [
    "# Sample outputs from \n",
    "test_out = [2357136044, 2546248239, 3071714933, 3626093760, 2588848963,\n",
    "            3684848379, 2340255427, 3638918503, 1819583497, 2678185683, \n",
    "            2774094101, 1650906866, 1879422756, 1277901399, 3830135878,\n",
    "            243580376, 4138900056, 1171049868, 1646868794, 2051556033]\n",
    "\n",
    "seed = 0\n",
    "myMT = mt19937(seed)\n",
    "\n",
    "for ii in range(len(test_out)):\n",
    "    \n",
    "    tmp = myMT.extract_number()\n",
    "    if tmp == test_out[ii]:\n",
    "        print(f\"Good MATCH:  {tmp}, {test_out[ii]}\")\n",
    "    else:\n",
    "        print(f\"Bad  MATCH:  {tmp}, {test_out[ii]}\")"
   ]
  },
  {
   "cell_type": "markdown",
   "metadata": {},
   "source": [
    "[Back to Index](CryptoPalsWalkthroughs_Cobb.ipynb)"
   ]
  }
 ],
 "metadata": {
  "kernelspec": {
   "display_name": "Python 3",
   "language": "python",
   "name": "python3"
  },
  "language_info": {
   "codemirror_mode": {
    "name": "ipython",
    "version": 3
   },
   "file_extension": ".py",
   "mimetype": "text/x-python",
   "name": "python",
   "nbconvert_exporter": "python",
   "pygments_lexer": "ipython3",
   "version": "3.7.4"
  }
 },
 "nbformat": 4,
 "nbformat_minor": 4
}
