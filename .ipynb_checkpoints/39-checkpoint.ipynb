{
 "cells": [
  {
   "cell_type": "markdown",
   "metadata": {},
   "source": [
    "### Challenge 38: Implement RSA\n",
    "\n",
    "[Back to Index](CryptoPalsWalkthroughs_Cobb.ipynb)"
   ]
  },
  {
   "cell_type": "code",
   "execution_count": 1,
   "metadata": {},
   "outputs": [],
   "source": [
    "from Crypto.Util import number\n",
    "from Crypto.Random import random\n",
    "from Crypto.Hash.SHA256 import SHA256Hash\n",
    "\n",
    "import cryptopals as cp"
   ]
  },
  {
   "cell_type": "markdown",
   "metadata": {},
   "source": [
    "<div class=\"alert alert-block alert-info\">\n",
    "\n",
    "There are two annoying things about implementing RSA. Both of them involve key generation; the actual encryption/decryption in RSA is trivial.\n",
    "\n",
    "First, you need to generate random primes. You can't just agree on a prime ahead of time, like you do in DH. You can write this algorithm yourself, but I just cheat and use OpenSSL's BN library to do the work.\n",
    "\n",
    "The second is that you need an \"invmod\" operation (the multiplicative inverse), which is not an operation that is wired into your language. The algorithm is just a couple lines, but I always lose an hour getting it to work.\n",
    "\n",
    "I recommend you not bother with primegen, but do take the time to get your own EGCD and invmod algorithm working.\n",
    "\n",
    "Now:\n",
    "\n",
    "- Generate 2 random primes. We'll use small numbers to start, so you can just pick them out of a prime table. Call them \"`p`\" and \"`q`\".\n",
    "- Let `n` be `p * q`. Your RSA math is `modulo n`.\n",
    "- Let `et` be `(p-1)*(q-1)` (the \"totient\"). You need this value only for keygen.\n",
    "- Let `e` be `3`.\n",
    "- Compute `d = invmod(e, et)`. `invmod(17, 3120)` is `2753`.\n",
    "- Your public key is `[e, n]`. Your private key is `[d, n]`.\n",
    "- To encrypt: `c = m**e (mod n)`. To decrypt: `m = c**d (mod n)`\n",
    "- Test this out with a number, like \"`42`\".\n",
    "- Repeat with bignum primes (keep `e=3`).\n",
    "\n",
    "Finally, to encrypt a string, do something cheesy, like convert the string to hex and put \"0x\" on the front of it to turn it into a number. The math cares not how stupidly you feed it strings.\n",
    "\n",
    "</div>"
   ]
  },
  {
   "cell_type": "markdown",
   "metadata": {},
   "source": [
    "---\n",
    "<div class=\"alert alert-block alert-info\">\n",
    "\n",
    "First, you need to generate random primes. You can't just agree on a prime ahead of time, like you do in DH. You can write this algorithm yourself, but I just cheat and use OpenSSL's BN library to do the work.\n",
    "    \n",
    "</div>\n",
    "    \n",
    "---\n",
    "\n",
    "Python has a package that makes generating good quality random primes easy--the same one I used to generate the large prime I used for Challenges 36-38.  Look up **Crypto.Util.number.getStrongPrime**:\n",
    "\n",
    "---"
   ]
  },
  {
   "cell_type": "code",
   "execution_count": 2,
   "metadata": {},
   "outputs": [
    {
     "data": {
      "text/plain": [
       "\u001b[1;31mSignature:\u001b[0m \u001b[0mnumber\u001b[0m\u001b[1;33m.\u001b[0m\u001b[0mgetStrongPrime\u001b[0m\u001b[1;33m(\u001b[0m\u001b[0mN\u001b[0m\u001b[1;33m,\u001b[0m \u001b[0me\u001b[0m\u001b[1;33m=\u001b[0m\u001b[1;36m0\u001b[0m\u001b[1;33m,\u001b[0m \u001b[0mfalse_positive_prob\u001b[0m\u001b[1;33m=\u001b[0m\u001b[1;36m1e-06\u001b[0m\u001b[1;33m,\u001b[0m \u001b[0mrandfunc\u001b[0m\u001b[1;33m=\u001b[0m\u001b[1;32mNone\u001b[0m\u001b[1;33m)\u001b[0m\u001b[1;33m\u001b[0m\u001b[1;33m\u001b[0m\u001b[0m\n",
       "\u001b[1;31mDocstring:\u001b[0m\n",
       "getStrongPrime(N:int, e:int, false_positive_prob:float, randfunc:callable):long\n",
       "Return a random strong N-bit prime number.\n",
       "In this context p is a strong prime if p-1 and p+1 have at\n",
       "least one large prime factor.\n",
       "N should be a multiple of 128 and > 512.\n",
       "\n",
       "If e is provided the returned prime p-1 will be coprime to e\n",
       "and thus suitable for RSA where e is the public exponent.\n",
       "\n",
       "The optional false_positive_prob is the statistical probability\n",
       "that true is returned even though it is not (pseudo-prime).\n",
       "It defaults to 1e-6 (less than 1:1000000).\n",
       "Note that the real probability of a false-positive is far less. This is\n",
       "just the mathematically provable limit.\n",
       "\n",
       "randfunc should take a single int parameter and return that\n",
       "many random bytes as a string.\n",
       "If randfunc is omitted, then Random.new().read is used.\n",
       "\u001b[1;31mFile:\u001b[0m      c:\\users\\zenz9\\anaconda3\\lib\\site-packages\\crypto\\util\\number.py\n",
       "\u001b[1;31mType:\u001b[0m      function\n"
      ]
     },
     "metadata": {},
     "output_type": "display_data"
    }
   ],
   "source": [
    "?number.getStrongPrime"
   ]
  },
  {
   "cell_type": "markdown",
   "metadata": {},
   "source": [
    "---\n"
   ]
  },
  {
   "cell_type": "code",
   "execution_count": 3,
   "metadata": {},
   "outputs": [
    {
     "name": "stdout",
     "output_type": "stream",
     "text": [
      "0xe5acdc22a39e2a0b4f7591ab8d8e3c8e2f8f95e33c5d4083eb2bd0e3cdc7e1121fac9174203309c81be3b99036a95eb308467899a86a3a1bc1c15c50b5ccb84f9d858af8b33b8cf35e8b89c74059a4c8beb27c340c373ce7254ceb268d9a679c0f879899b6f7b0197b03c579a1a63f34c210d11ead52503b6e3b63d1ea325355\n"
     ]
    }
   ],
   "source": [
    "# Use getStrongPrime to choose a largish strong random prime suitable for RSA (e=3).  \n",
    "\n",
    "N_bits = 1024\n",
    "e=3\n",
    "\n",
    "N = number.getStrongPrime(N_bits, e)\n",
    "print(hex(N))"
   ]
  },
  {
   "cell_type": "markdown",
   "metadata": {},
   "source": [
    "---\n",
    "\n",
    "<div class=\"alert alert-block alert-info\">\n",
    "\n",
    "The second is that you need an \"invmod\" operation (the multiplicative inverse), which is not an operation that is wired into your language. The algorithm is just a couple lines, but I always lose an hour getting it to work.\n",
    "\n",
    "</div>\n",
    "\n",
    "There's a good description of the Euclidean algorithm for finding GCD of two numbers here:  [https://www.math.cmu.edu/~bkell/21110-2010s/numbers.html#euclidean](https://www.math.cmu.edu/~bkell/21110-2010s/numbers.html#euclidean).  This algorithm just finds the Greatest Common Divisor of two #'s:"
   ]
  },
  {
   "cell_type": "code",
   "execution_count": 4,
   "metadata": {},
   "outputs": [],
   "source": [
    "def gcd(a, b):\n",
    "    \n",
    "    c = max([a,b])\n",
    "    d = min([a,b])\n",
    "    \n",
    "    while True:\n",
    "        \n",
    "        r = c % d\n",
    "        if (r==0):\n",
    "            return(d)\n",
    "\n",
    "        \n",
    "        c = d\n",
    "        d = r"
   ]
  },
  {
   "cell_type": "code",
   "execution_count": 5,
   "metadata": {},
   "outputs": [
    {
     "name": "stdout",
     "output_type": "stream",
     "text": [
      "21\n"
     ]
    }
   ],
   "source": [
    "# Try it (answer should be 21):\n",
    "\n",
    "print(gcd(357, 462))"
   ]
  },
  {
   "cell_type": "markdown",
   "metadata": {},
   "source": [
    "---\n",
    "The **extended** Euclidean algorithm is what we actually need for this challenge.  The steps for that are (from [here](https://www.di-mgt.com.au/euclidean.html)):\n",
    "\n",
    "INPUT: Two non-negative integers a and b with a ≥ b.  \n",
    "OUTPUT: d = gcd(a, b) and integers x and y satifying ax + by = d.\n",
    "\n",
    "1. If b = 0 then set d = a, x = 1, y = 0, and return(d, x, y).\n",
    "2. Set x2 = 1, x1 = 0, y2 = 0, y1 = 1\n",
    "3. While b > 0, do:\n",
    "    q = floor(a/b), r = a - qb, x = x2 - qx1, y = y2 - q y1.\n",
    "    a = b, b = r, x2 = x1, x1 = x, y2 = y1, y1 = y.\n",
    "4. Set d = a, x = x2, y = y2, and return(d, x, y).\n",
    "\n",
    "\n",
    "My implementation:"
   ]
  },
  {
   "cell_type": "code",
   "execution_count": 6,
   "metadata": {},
   "outputs": [],
   "source": [
    "def egcd(a,b):\n",
    "    \n",
    "    s, old_s = 0, 1\n",
    "    t, old_t = 1, 0\n",
    "    r, old_r = b, a\n",
    "    \n",
    "    while r != 0:\n",
    "        \n",
    "        q = old_r // r\n",
    "        old_r, r = r, (old_r - q*r)\n",
    "        old_s, s = s, (old_s - q*s)\n",
    "            \n",
    "    return(old_r, old_s, old_t)"
   ]
  },
  {
   "cell_type": "code",
   "execution_count": 7,
   "metadata": {},
   "outputs": [
    {
     "name": "stdout",
     "output_type": "stream",
     "text": [
      "g=38, x=32, y=0\n",
      "g=21, x=-9, y=0\n"
     ]
    }
   ],
   "source": [
    "[g, x, y] = egcd(4864, 3458)\n",
    "print(f\"g={g}, x={x}, y={y}\")\n",
    "\n",
    "[g, x, y] = egcd(357, 462)\n",
    "print(f\"g={g}, x={x}, y={y}\")"
   ]
  },
  {
   "cell_type": "code",
   "execution_count": 8,
   "metadata": {},
   "outputs": [],
   "source": [
    "def invmod(a, m):\n",
    "    \n",
    "    g,x,y = egcd(a,m)\n",
    "    \n",
    "    while x < 0:\n",
    "        x += m\n",
    "        \n",
    "    return(x % m)"
   ]
  },
  {
   "cell_type": "markdown",
   "metadata": {},
   "source": [
    "<div class=\"alert alert-block alert-info\">\n",
    "Generate 2 random primes. We'll use small numbers to start, so you can just pick them out of a prime table. Call them \"`p`\" and \"`q`\".\n",
    "</div>"
   ]
  },
  {
   "cell_type": "code",
   "execution_count": 9,
   "metadata": {},
   "outputs": [],
   "source": [
    "p = 17\n",
    "q = 23"
   ]
  },
  {
   "cell_type": "markdown",
   "metadata": {},
   "source": [
    "<div class=\"alert alert-block alert-info\">\n",
    "Let `n` be `p * q`. Your RSA math is `modulo n`.\n",
    "</div>"
   ]
  },
  {
   "cell_type": "code",
   "execution_count": 10,
   "metadata": {},
   "outputs": [
    {
     "name": "stdout",
     "output_type": "stream",
     "text": [
      "391\n"
     ]
    }
   ],
   "source": [
    "n = (p * q)\n",
    "print(n)"
   ]
  },
  {
   "cell_type": "markdown",
   "metadata": {},
   "source": [
    "<div class=\"alert alert-block alert-info\">\n",
    "    \n",
    "Let `et` be `(p-1)*(q-1)` (the \"totient\"). You need this value only for keygen.\n",
    "\n",
    "</div>"
   ]
  },
  {
   "cell_type": "code",
   "execution_count": 11,
   "metadata": {},
   "outputs": [
    {
     "name": "stdout",
     "output_type": "stream",
     "text": [
      "352\n"
     ]
    }
   ],
   "source": [
    "et = (p-1) * (q-1)\n",
    "print(et)"
   ]
  },
  {
   "cell_type": "markdown",
   "metadata": {},
   "source": [
    "<div class=\"alert alert-block alert-info\">Let `e` be `3`.</div>"
   ]
  },
  {
   "cell_type": "code",
   "execution_count": 12,
   "metadata": {},
   "outputs": [],
   "source": [
    "e=3"
   ]
  },
  {
   "cell_type": "markdown",
   "metadata": {},
   "source": [
    "<div class=\"alert alert-block alert-info\">Compute `d = invmod(e, et)`. `invmod(17, 3120)` is `2753`</div>"
   ]
  },
  {
   "cell_type": "code",
   "execution_count": 13,
   "metadata": {},
   "outputs": [
    {
     "name": "stdout",
     "output_type": "stream",
     "text": [
      "235\n"
     ]
    }
   ],
   "source": [
    "d = invmod(e, et)\n",
    "print(d)"
   ]
  },
  {
   "cell_type": "markdown",
   "metadata": {},
   "source": [
    "<div class=\"alert alert-block alert-info\">Your public key is `[e, n]`. Your private key is `[d, n]`.</div>"
   ]
  },
  {
   "cell_type": "code",
   "execution_count": 14,
   "metadata": {},
   "outputs": [],
   "source": [
    "K_pub = [e, n]\n",
    "K_priv = [d, n]"
   ]
  },
  {
   "cell_type": "markdown",
   "metadata": {},
   "source": [
    "<div class=\"alert alert-block alert-info\">\n",
    "    \n",
    "To encrypt: `c = m**e (mod n)`. To decrypt: `m = c**d (mod n)`\n",
    "\n",
    "Test this out with a number, like \"`42`\".\n",
    "\n",
    "</div>"
   ]
  },
  {
   "cell_type": "code",
   "execution_count": 15,
   "metadata": {},
   "outputs": [
    {
     "name": "stdout",
     "output_type": "stream",
     "text": [
      "42\n"
     ]
    }
   ],
   "source": [
    "m = 42\n",
    "c = pow(m, e, n)\n",
    "pt = pow(c, d, n)\n",
    "\n",
    "print(pt)"
   ]
  },
  {
   "cell_type": "markdown",
   "metadata": {},
   "source": [
    "<div class=\"alert alert-block alert-info\">Repeat with bignum primes (keep `e=3`).</div>"
   ]
  },
  {
   "cell_type": "code",
   "execution_count": 16,
   "metadata": {},
   "outputs": [],
   "source": [
    "p = number.getStrongPrime(1024, e=3)\n",
    "q = number.getStrongPrime(1024, e=3)\n",
    "\n",
    "n = (p * q)\n",
    "\n",
    "et = (p-1) * (q-1)\n",
    "e = 3\n",
    "\n",
    "d = invmod(e, et)"
   ]
  },
  {
   "cell_type": "code",
   "execution_count": 17,
   "metadata": {},
   "outputs": [
    {
     "name": "stdout",
     "output_type": "stream",
     "text": [
      "42\n"
     ]
    }
   ],
   "source": [
    "# Simple message\n",
    "m = 42\n",
    "c = pow(m, e, n)\n",
    "pt = pow(c, d, n)\n",
    "\n",
    "print(pt)"
   ]
  },
  {
   "cell_type": "code",
   "execution_count": 18,
   "metadata": {},
   "outputs": [
    {
     "name": "stdout",
     "output_type": "stream",
     "text": [
      "Encrypted Message:  0x5ca3372f7d07a27909cf99babff9e714c3ecccc9eb6c9e0a32fc150750bbcc035eb28470953f69243392b6061ef71d1c00aae694c1ea9fff2660a569f46064701b9cf3161\n",
      "Decrypted Message:  Help me -- help me now!\n"
     ]
    }
   ],
   "source": [
    "# Example of encrypting a string:\n",
    "m = int(b'Help me -- help me now!'.hex(), 16)\n",
    "c = pow(m, e, n)\n",
    "print(f\"Encrypted Message:  {hex(c)}\")\n",
    "pt = pow(c, d, n)\n",
    "print(f\"Decrypted Message:  {bytes.fromhex(hex(pt)[2:]).decode()}\")"
   ]
  },
  {
   "cell_type": "markdown",
   "metadata": {
    "slideshow": {
     "slide_type": "slide"
    }
   },
   "source": [
    "[Back to Index](CryptoPalsWalkthroughs_Cobb.ipynb)"
   ]
  }
 ],
 "metadata": {
  "kernelspec": {
   "display_name": "Python 3",
   "language": "python",
   "name": "python3"
  },
  "language_info": {
   "codemirror_mode": {
    "name": "ipython",
    "version": 3
   },
   "file_extension": ".py",
   "mimetype": "text/x-python",
   "name": "python",
   "nbconvert_exporter": "python",
   "pygments_lexer": "ipython3",
   "version": "3.7.4"
  }
 },
 "nbformat": 4,
 "nbformat_minor": 4
}
