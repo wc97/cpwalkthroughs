{
 "cells": [
  {
   "cell_type": "markdown",
   "metadata": {},
   "source": [
    "### Challenge 39: Implement RSA\n",
    "\n",
    "[Back to Index](CryptoPalsWalkthroughs_Cobb.ipynb)"
   ]
  },
  {
   "cell_type": "code",
   "execution_count": 33,
   "metadata": {},
   "outputs": [],
   "source": [
    "from Crypto.Util import number\n",
    "from Crypto.Random import random\n",
    "from Crypto.Hash.SHA256 import SHA256Hash\n",
    "\n",
    "import cryptopals as cp"
   ]
  },
  {
   "cell_type": "markdown",
   "metadata": {},
   "source": [
    "<div class=\"alert alert-block alert-info\">\n",
    "\n",
    "There are two annoying things about implementing RSA. Both of them involve key generation; the actual encryption/decryption in RSA is trivial.\n",
    "\n",
    "First, you need to generate random primes. You can't just agree on a prime ahead of time, like you do in DH. You can write this algorithm yourself, but I just cheat and use OpenSSL's BN library to do the work.\n",
    "\n",
    "The second is that you need an \"invmod\" operation (the multiplicative inverse), which is not an operation that is wired into your language. The algorithm is just a couple lines, but I always lose an hour getting it to work.\n",
    "\n",
    "I recommend you not bother with primegen, but do take the time to get your own EGCD and invmod algorithm working.\n",
    "\n",
    "Now:\n",
    "\n",
    "- Generate 2 random primes. We'll use small numbers to start, so you can just pick them out of a prime table. Call them \"`p`\" and \"`q`\".\n",
    "- Let `n` be `p * q`. Your RSA math is `modulo n`.\n",
    "- Let `et` be `(p-1)*(q-1)` (the \"totient\"). You need this value only for keygen.\n",
    "- Let `e` be `3`.\n",
    "- Compute `d = invmod(e, et)`. `invmod(17, 3120)` is `2753`.\n",
    "- Your public key is `[e, n]`. Your private key is `[d, n]`.\n",
    "- To encrypt: `c = m**e (mod n)`. To decrypt: `m = c**d (mod n)`\n",
    "- Test this out with a number, like \"`42`\".\n",
    "- Repeat with bignum primes (keep `e=3`).\n",
    "\n",
    "Finally, to encrypt a string, do something cheesy, like convert the string to hex and put \"0x\" on the front of it to turn it into a number. The math cares not how stupidly you feed it strings.\n",
    "\n",
    "</div>"
   ]
  },
  {
   "cell_type": "markdown",
   "metadata": {},
   "source": [
    "Note:  The use of `e=3` is common with RSA for computational efficiency reasons.  This is addressed more in later exercises."
   ]
  },
  {
   "cell_type": "markdown",
   "metadata": {},
   "source": [
    "---\n",
    "<div class=\"alert alert-block alert-info\">\n",
    "\n",
    "First, you need to generate random primes. You can't just agree on a prime ahead of time, like you do in DH. You can write this algorithm yourself, but I just cheat and use OpenSSL's BN library to do the work.\n",
    "    \n",
    "</div>\n",
    "    \n",
    "---\n",
    "\n",
    "Python has a package that makes generating good quality random primes easy--the same one I used to generate the large prime I used for Challenges 36-38.  Look up **Crypto.Util.number.getStrongPrime**:\n",
    "\n",
    "---"
   ]
  },
  {
   "cell_type": "code",
   "execution_count": 34,
   "metadata": {},
   "outputs": [
    {
     "data": {
      "text/plain": [
       "\u001b[1;31mSignature:\u001b[0m \u001b[0mnumber\u001b[0m\u001b[1;33m.\u001b[0m\u001b[0mgetStrongPrime\u001b[0m\u001b[1;33m(\u001b[0m\u001b[0mN\u001b[0m\u001b[1;33m,\u001b[0m \u001b[0me\u001b[0m\u001b[1;33m=\u001b[0m\u001b[1;36m0\u001b[0m\u001b[1;33m,\u001b[0m \u001b[0mfalse_positive_prob\u001b[0m\u001b[1;33m=\u001b[0m\u001b[1;36m1e-06\u001b[0m\u001b[1;33m,\u001b[0m \u001b[0mrandfunc\u001b[0m\u001b[1;33m=\u001b[0m\u001b[1;32mNone\u001b[0m\u001b[1;33m)\u001b[0m\u001b[1;33m\u001b[0m\u001b[1;33m\u001b[0m\u001b[0m\n",
       "\u001b[1;31mDocstring:\u001b[0m\n",
       "getStrongPrime(N:int, e:int, false_positive_prob:float, randfunc:callable):long\n",
       "Return a random strong N-bit prime number.\n",
       "In this context p is a strong prime if p-1 and p+1 have at\n",
       "least one large prime factor.\n",
       "N should be a multiple of 128 and > 512.\n",
       "\n",
       "If e is provided the returned prime p-1 will be coprime to e\n",
       "and thus suitable for RSA where e is the public exponent.\n",
       "\n",
       "The optional false_positive_prob is the statistical probability\n",
       "that true is returned even though it is not (pseudo-prime).\n",
       "It defaults to 1e-6 (less than 1:1000000).\n",
       "Note that the real probability of a false-positive is far less. This is\n",
       "just the mathematically provable limit.\n",
       "\n",
       "randfunc should take a single int parameter and return that\n",
       "many random bytes as a string.\n",
       "If randfunc is omitted, then Random.new().read is used.\n",
       "\u001b[1;31mFile:\u001b[0m      c:\\users\\zenz9\\anaconda3\\lib\\site-packages\\crypto\\util\\number.py\n",
       "\u001b[1;31mType:\u001b[0m      function\n"
      ]
     },
     "metadata": {},
     "output_type": "display_data"
    }
   ],
   "source": [
    "?number.getStrongPrime"
   ]
  },
  {
   "cell_type": "markdown",
   "metadata": {},
   "source": [
    "---\n"
   ]
  },
  {
   "cell_type": "code",
   "execution_count": 35,
   "metadata": {},
   "outputs": [
    {
     "name": "stdout",
     "output_type": "stream",
     "text": [
      "0xf8a46b793f8b5640b1c39540fe6b386e0519183a319a083a34806814bce9ed2b0a6412e7e78951347314456aeaeb7718f91b756bcc5722138b4151396c4e143085bd160f09ff616c46f9eb0f66ea71be8c4c3712b5b28e3f4cd94d388f1d66f69c91fa8cfab88ed0a583b6b48ec7a89e8667f1be3989216a33e15512f514c25f\n"
     ]
    }
   ],
   "source": [
    "# Use getStrongPrime to choose a largish strong random prime suitable for RSA (e=3).  \n",
    "\n",
    "N_bits = 1024\n",
    "e=3\n",
    "\n",
    "N = number.getStrongPrime(N_bits, e)\n",
    "print(hex(N))"
   ]
  },
  {
   "cell_type": "markdown",
   "metadata": {},
   "source": [
    "---\n",
    "\n",
    "<div class=\"alert alert-block alert-info\">\n",
    "\n",
    "The second is that you need an \"invmod\" operation (the multiplicative inverse), which is not an operation that is wired into your language. The algorithm is just a couple lines, but I always lose an hour getting it to work.\n",
    "\n",
    "</div>\n",
    "\n",
    "There's a good description of the Euclidean algorithm for finding GCD of two numbers here:  [https://www.math.cmu.edu/~bkell/21110-2010s/numbers.html#euclidean](https://www.math.cmu.edu/~bkell/21110-2010s/numbers.html#euclidean).  This algorithm just finds the Greatest Common Divisor of two #'s.  It boils down to:\n",
    "\n",
    "Given two  integers, `a` and `b`:\n",
    "\n",
    "Let `c = max{a, b}`  \n",
    "Let `d = min{a, b}`\n",
    "\n",
    "1. Let `r` = remainder of `c / d`\n",
    "2. If `r==0`, stop.\n",
    "3. Let `c=d`, `d=r`\n",
    "4. Go to step 1.\n",
    "\n",
    "The greatest common denominator of `a` and `b` is the value of `d` when `r==0`\n"
   ]
  },
  {
   "cell_type": "code",
   "execution_count": 36,
   "metadata": {},
   "outputs": [],
   "source": [
    "def gcd(a, b):\n",
    "    \n",
    "    c = max([a,b])\n",
    "    d = min([a,b])\n",
    "    \n",
    "    while True:\n",
    "        \n",
    "        r = c % d\n",
    "        if (r==0):\n",
    "            return(d)\n",
    "        \n",
    "        c = d\n",
    "        d = r"
   ]
  },
  {
   "cell_type": "code",
   "execution_count": 37,
   "metadata": {},
   "outputs": [
    {
     "name": "stdout",
     "output_type": "stream",
     "text": [
      "21\n"
     ]
    }
   ],
   "source": [
    "# Try it (answer should be 21):\n",
    "\n",
    "print(gcd(357, 462))"
   ]
  },
  {
   "cell_type": "markdown",
   "metadata": {},
   "source": [
    "---\n",
    "The *extended* Euclidean algorithm is what we actually need for this challenge.  It keeps track of some additionl information while computing the greatest common denominator that we can use to invert a number under modulo arithmetic.  A good discussion of it is [here](https://www.di-mgt.com.au/euclidean.html):\n",
    "\n",
    "**INPUT**: Two non-negative integers `a` and `b` with `a ≥ b`.\n",
    "\n",
    "**OUTPUT**: `d = gcd(a, b)` and integers `x` and `y` satifying `ax + by = d`.  \n",
    "\n",
    "---\n",
    "For any integer `y` we have `ex + ny ≡ ex (mod n)` because `n` always divides `ny` and so `ny ≡ 0 (mod n)`. Hence `ex ≡ 1 (mod n)` and by definition this means that `x` is the inverse of `e`. \n",
    "\n",
    "In other words, we can use the extended Euclidean algorithm to find the multiplicative inverse of any integer modulo some `n` (if an inverse exists).\n",
    "\n",
    "My implementation of the pseudocode for the extended euclidean algorithm from Wikipedia:"
   ]
  },
  {
   "cell_type": "code",
   "execution_count": 38,
   "metadata": {},
   "outputs": [],
   "source": [
    "def egcd(a,b):\n",
    "    \n",
    "    s, old_s = 0, 1\n",
    "    t, old_t = 1, 0\n",
    "    r, old_r = b, a\n",
    "    \n",
    "    while r != 0:\n",
    "        \n",
    "        q = old_r // r\n",
    "        old_r, r = r, (old_r - q*r)\n",
    "        old_s, s = s, (old_s - q*s)\n",
    "            \n",
    "    return(old_r, old_s, old_t)"
   ]
  },
  {
   "cell_type": "code",
   "execution_count": 39,
   "metadata": {},
   "outputs": [
    {
     "name": "stdout",
     "output_type": "stream",
     "text": [
      "g=38, x=32, y=0\n",
      "g=21, x=-9, y=0\n"
     ]
    }
   ],
   "source": [
    "[g, x, y] = egcd(4864, 3458)\n",
    "print(f\"g={g}, x={x}, y={y}\")\n",
    "\n",
    "[g, x, y] = egcd(357, 462)\n",
    "print(f\"g={g}, x={x}, y={y}\")"
   ]
  },
  {
   "cell_type": "markdown",
   "metadata": {},
   "source": [
    "We can use this to find the multiplicative inverse for an arbitrary integer and modulus"
   ]
  },
  {
   "cell_type": "code",
   "execution_count": 40,
   "metadata": {},
   "outputs": [],
   "source": [
    "def invmod(a, m):\n",
    "    \n",
    "    g,x,y = egcd(a,m)\n",
    "    \n",
    "    while x < 0:\n",
    "        x += m\n",
    "        \n",
    "    return(x % m)"
   ]
  },
  {
   "cell_type": "code",
   "execution_count": 41,
   "metadata": {},
   "outputs": [
    {
     "name": "stdout",
     "output_type": "stream",
     "text": [
      "Multiplicative inverse of 7 mod 3 is: 10\n",
      "\n",
      "Therefore:\n",
      "\n",
      "a * a^(-1) mod m \n",
      "= 7 * 10 mod 23 \n",
      "= 1\n"
     ]
    }
   ],
   "source": [
    "a = 7\n",
    "m = 23\n",
    "print(f'Multiplicative inverse of 7 mod 3 is: {invmod(a, m)}\\n\\nTherefore:\\n')\n",
    "print(f'a * a^(-1) mod m \\n= {a} * {invmod(a,m)} mod {m} \\n= {a*invmod(a,m) % m}')"
   ]
  },
  {
   "cell_type": "markdown",
   "metadata": {},
   "source": [
    "<div class=\"alert alert-block alert-info\">\n",
    "Generate 2 random primes. We'll use small numbers to start, so you can just pick them out of a prime table. Call them \"`p`\" and \"`q`\".\n",
    "</div>"
   ]
  },
  {
   "cell_type": "code",
   "execution_count": 42,
   "metadata": {},
   "outputs": [],
   "source": [
    "p = 17\n",
    "q = 23"
   ]
  },
  {
   "cell_type": "markdown",
   "metadata": {},
   "source": [
    "<div class=\"alert alert-block alert-info\">\n",
    "Let `n` be `p * q`. Your RSA math is `modulo n`.\n",
    "</div>"
   ]
  },
  {
   "cell_type": "code",
   "execution_count": 43,
   "metadata": {},
   "outputs": [
    {
     "name": "stdout",
     "output_type": "stream",
     "text": [
      "391\n"
     ]
    }
   ],
   "source": [
    "n = (p * q)\n",
    "print(n)"
   ]
  },
  {
   "cell_type": "markdown",
   "metadata": {},
   "source": [
    "<div class=\"alert alert-block alert-info\">\n",
    "    \n",
    "Let `et` be `(p-1)*(q-1)` (the \"totient\"). You need this value only for keygen.\n",
    "\n",
    "</div>"
   ]
  },
  {
   "cell_type": "code",
   "execution_count": 44,
   "metadata": {},
   "outputs": [
    {
     "name": "stdout",
     "output_type": "stream",
     "text": [
      "352\n"
     ]
    }
   ],
   "source": [
    "et = (p-1) * (q-1)\n",
    "print(et)"
   ]
  },
  {
   "cell_type": "markdown",
   "metadata": {},
   "source": [
    "<div class=\"alert alert-block alert-info\">Let `e` be `3`.</div>"
   ]
  },
  {
   "cell_type": "code",
   "execution_count": 45,
   "metadata": {},
   "outputs": [],
   "source": [
    "e = 3"
   ]
  },
  {
   "cell_type": "markdown",
   "metadata": {},
   "source": [
    "<div class=\"alert alert-block alert-info\">Compute `d = invmod(e, et)`. `invmod(17, 3120)` is `2753`</div>"
   ]
  },
  {
   "cell_type": "code",
   "execution_count": 46,
   "metadata": {},
   "outputs": [
    {
     "name": "stdout",
     "output_type": "stream",
     "text": [
      "235\n"
     ]
    }
   ],
   "source": [
    "d = invmod(e, et)\n",
    "print(d)"
   ]
  },
  {
   "cell_type": "markdown",
   "metadata": {},
   "source": [
    "<div class=\"alert alert-block alert-info\">Your public key is `[e, n]`. Your private key is `[d, n]`.</div>"
   ]
  },
  {
   "cell_type": "code",
   "execution_count": 47,
   "metadata": {},
   "outputs": [],
   "source": [
    "K_pub = [e, n]\n",
    "K_priv = [d, n]"
   ]
  },
  {
   "cell_type": "markdown",
   "metadata": {},
   "source": [
    "<div class=\"alert alert-block alert-info\">\n",
    "    \n",
    "To encrypt: `c = m**e (mod n)`. To decrypt: `m = c**d (mod n)`\n",
    "\n",
    "Test this out with a number, like \"`42`\".\n",
    "\n",
    "</div>"
   ]
  },
  {
   "cell_type": "code",
   "execution_count": 48,
   "metadata": {},
   "outputs": [
    {
     "name": "stdout",
     "output_type": "stream",
     "text": [
      "42\n"
     ]
    }
   ],
   "source": [
    "m = 42\n",
    "c = pow(m, e, n)\n",
    "pt = pow(c, d, n)\n",
    "\n",
    "print(pt)"
   ]
  },
  {
   "cell_type": "markdown",
   "metadata": {},
   "source": [
    "<div class=\"alert alert-block alert-info\">Repeat with bignum primes (keep `e=3`).</div>"
   ]
  },
  {
   "cell_type": "code",
   "execution_count": 49,
   "metadata": {},
   "outputs": [],
   "source": [
    "p = number.getStrongPrime(1024, e=3)\n",
    "q = number.getStrongPrime(1024, e=3)\n",
    "\n",
    "n = (p * q)\n",
    "\n",
    "et = (p-1) * (q-1)\n",
    "e = 3\n",
    "\n",
    "d = invmod(e, et)"
   ]
  },
  {
   "cell_type": "code",
   "execution_count": 50,
   "metadata": {},
   "outputs": [
    {
     "name": "stdout",
     "output_type": "stream",
     "text": [
      "42\n"
     ]
    }
   ],
   "source": [
    "# Simple message\n",
    "m = 42\n",
    "c = pow(m, e, n)\n",
    "pt = pow(c, d, n)\n",
    "\n",
    "print(pt)"
   ]
  },
  {
   "cell_type": "code",
   "execution_count": 51,
   "metadata": {},
   "outputs": [
    {
     "name": "stdout",
     "output_type": "stream",
     "text": [
      "Encrypted Message:  0x5ca3372f7d07a27909cf99babff9e714c3ecccc9eb6c9e0a32fc150750bbcc035eb28470953f69243392b6061ef71d1c00aae694c1ea9fff2660a569f46064701b9cf3161\n",
      "Decrypted Message:  Help me -- help me now!\n"
     ]
    }
   ],
   "source": [
    "# Example of encrypting a string:\n",
    "m = int(b'Help me -- help me now!'.hex(), 16)\n",
    "c = pow(m, e, n)\n",
    "print(f\"Encrypted Message:  {hex(c)}\")\n",
    "pt = pow(c, d, n)\n",
    "print(f\"Decrypted Message:  {bytes.fromhex(hex(pt)[2:]).decode()}\")"
   ]
  },
  {
   "cell_type": "markdown",
   "metadata": {
    "slideshow": {
     "slide_type": "slide"
    }
   },
   "source": [
    "[Back to Index](CryptoPalsWalkthroughs_Cobb.ipynb)"
   ]
  }
 ],
 "metadata": {
  "kernelspec": {
   "display_name": "Python 3",
   "language": "python",
   "name": "python3"
  },
  "language_info": {
   "codemirror_mode": {
    "name": "ipython",
    "version": 3
   },
   "file_extension": ".py",
   "mimetype": "text/x-python",
   "name": "python",
   "nbconvert_exporter": "python",
   "pygments_lexer": "ipython3",
   "version": "3.7.4"
  }
 },
 "nbformat": 4,
 "nbformat_minor": 4
}
