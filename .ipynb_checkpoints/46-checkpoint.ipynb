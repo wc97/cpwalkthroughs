{
 "cells": [
  {
   "cell_type": "markdown",
   "metadata": {},
   "source": [
    "#### Challenge 46: RSA parity oracle\n",
    "\n",
    "[Back to Index](CryptoPalsWalkthroughs_Cobb.ipynb)"
   ]
  },
  {
   "cell_type": "code",
   "execution_count": 16,
   "metadata": {},
   "outputs": [],
   "source": [
    "from Crypto.Util import number\n",
    "from Crypto.Random import random\n",
    "from Crypto.Hash.SHA256 import SHA256Hash\n",
    "\n",
    "import base64\n",
    "import cryptopals as cp"
   ]
  },
  {
   "cell_type": "markdown",
   "metadata": {},
   "source": [
    "<div class=\"alert alert-block alert-info\">   \n",
    "\n",
    "<div class=\"alert alert-block alert-warning\">\n",
    "    \n",
    "#### **When does this ever happen?**\n",
    "\n",
    "This is a bit of a toy problem, but it's very helpful for understanding what RSA is doing (and also for why pure number-theoretic encryption is terrifying). Trust us, you want to do this before trying the next challenge. Also, it's fun.\n",
    "\n",
    "</div>\n",
    "</div>    "
   ]
  },
  {
   "cell_type": "markdown",
   "metadata": {},
   "source": [
    "<div class=\"alert alert-block alert-info\">   \n",
    "    \n",
    "Generate a 1024 bit RSA key pair.\n",
    "    \n",
    "</div>"
   ]
  },
  {
   "cell_type": "code",
   "execution_count": 17,
   "metadata": {},
   "outputs": [],
   "source": [
    "e,d,n = cp.genRSA_keypair(1024)"
   ]
  },
  {
   "cell_type": "markdown",
   "metadata": {},
   "source": [
    "<div class=\"alert alert-block alert-info\">   \n",
    "\n",
    "Write an oracle function that uses the private key to answer the question \"is the plaintext of this message even or odd\" (is the last bit of the message 0 or 1). Imagine for instance a server that accepted RSA-encrypted messages and checked the parity of their decryption to validate them, and spat out an error if they were of the wrong parity.\n",
    "\n",
    "Anyways: function returning true or false based on whether the decrypted plaintext was even or odd, and nothing else.\n",
    "\n",
    "</div>"
   ]
  },
  {
   "cell_type": "code",
   "execution_count": 18,
   "metadata": {},
   "outputs": [],
   "source": [
    "def pt_is_odd(ciphertext):\n",
    "    \"\"\"Return True of plaintext is odd.  False if plaintext is even.\"\"\"\n",
    "    plaintext = pow(ciphertext, d, n)\n",
    "    return((plaintext % 2) == 1)"
   ]
  },
  {
   "cell_type": "markdown",
   "metadata": {},
   "source": [
    "<div class=\"alert alert-block alert-info\">   \n",
    "    \n",
    "Take the following string and un-Base64 it in your code (without looking at it!) and encrypt it to the public key, creating a ciphertext:\n",
    "\n",
    "`VGhhdCdzIHdoeSBJIGZvdW5kIHlvdSBkb24ndCBwbGF5IGFyb3VuZCB3aXRoIHRoZSBGdW5reSBDb2xkIE1lZGluYQ==`\n",
    "\n",
    "</div>"
   ]
  },
  {
   "cell_type": "code",
   "execution_count": 19,
   "metadata": {},
   "outputs": [],
   "source": [
    "s = 'VGhhdCdzIHdoeSBJIGZvdW5kIHlvdSBkb24ndCBwbGF5IGFyb3VuZCB3aXRoIHRoZSBGdW5reSBDb2xkIE1lZGluYQ=='\n",
    "s_int = int(base64.b64decode(s).hex(), 16)\n",
    "ciphertext = pow(s_int, e, n)"
   ]
  },
  {
   "cell_type": "markdown",
   "metadata": {},
   "source": [
    "<div class=\"alert alert-block alert-info\">   \n",
    "\n",
    "With your oracle function, you can trivially decrypt the message.\n",
    "\n",
    "Here's why:\n",
    "\n",
    "- RSA ciphertexts are just numbers. You can do trivial math on them. You can for instance multiply a ciphertext by the RSA-encryption of another number; the corresponding plaintext will be the product of those two numbers.\n",
    "- If you double a ciphertext (multiply it by `(2**e)%n)`, the resulting plaintext will (obviously) be either even or odd.\n",
    "- If the plaintext after doubling is even, doubling the plaintext didn't wrap the modulus --- the modulus is a prime number. That means the plaintext is less than half the modulus.\n",
    "\n",
    "You can repeatedly apply this heuristic, once per bit of the message, checking your oracle function each time.\n",
    "\n",
    "Your decryption function starts with bounds for the plaintext of `[0,n]`.\n",
    "\n",
    "Each iteration of the decryption cuts the bounds in half; either the upper bound is reduced by half, or the lower bound is.\n",
    "\n",
    "After `log2(n)` iterations, you have the decryption of the message.\n",
    "\n",
    "Print the upper bound of the message as a string at each iteration; you'll see the message decrypt \"hollywood style\".\n",
    "\n",
    "Decrypt the string (after encrypting it to a hidden private key) above.\n",
    "\n",
    "</div>"
   ]
  },
  {
   "cell_type": "code",
   "execution_count": 20,
   "metadata": {},
   "outputs": [
    {
     "name": "stdout",
     "output_type": "stream",
     "text": [
      "b\"That's why I found you don't play around with the Funky Cold Medin#\"\n"
     ]
    }
   ],
   "source": [
    "def print_it(x):\n",
    "    \n",
    "    hex_x = hex(x)[2:]\n",
    "    if len(hex_x) % 2:\n",
    "        hex_x = '0' + hex_x\n",
    "    print(bytes.fromhex(hex_x))\n",
    "\n",
    "DISPLAY_PROGRESS = False\n",
    "\n",
    "lower_bound = 0\n",
    "upper_bound = n\n",
    "\n",
    "tmp = ciphertext\n",
    "\n",
    "while (upper_bound - lower_bound) > 0:\n",
    "    tmp = (tmp * pow(2, e, n)) % n\n",
    "    if pt_is_odd(tmp):\n",
    "        #lower_bound += (upper_bound - lower_bound) // 2\n",
    "        lower_bound = (lower_bound + upper_bound) // 2\n",
    "    else:        \n",
    "        #upper_bound -= (upper_bound - lower_bound) // 2\n",
    "        upper_bound = (lower_bound + upper_bound) // 2\n",
    "        \n",
    "    if DISPLAY_PROGRESS:\n",
    "        \n",
    "        print_it(upper_bound)\n",
    "       \n",
    "print_it(upper_bound)"
   ]
  },
  {
   "cell_type": "markdown",
   "metadata": {},
   "source": [
    "---\n",
    "TODO:\n",
    "\n",
    "Something's not quite right -- not properly identifying the last character... Not sure why... Rounding issue?   \n",
    "\n",
    "---"
   ]
  },
  {
   "cell_type": "markdown",
   "metadata": {
    "slideshow": {
     "slide_type": "slide"
    }
   },
   "source": [
    "[Back to Index](CryptoPalsWalkthroughs_Cobb.ipynb)"
   ]
  }
 ],
 "metadata": {
  "kernelspec": {
   "display_name": "Python 3",
   "language": "python",
   "name": "python3"
  },
  "language_info": {
   "codemirror_mode": {
    "name": "ipython",
    "version": 3
   },
   "file_extension": ".py",
   "mimetype": "text/x-python",
   "name": "python",
   "nbconvert_exporter": "python",
   "pygments_lexer": "ipython3",
   "version": "3.7.4"
  }
 },
 "nbformat": 4,
 "nbformat_minor": 4
}
