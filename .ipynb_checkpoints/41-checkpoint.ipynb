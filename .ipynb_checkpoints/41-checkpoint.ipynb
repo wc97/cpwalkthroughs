{
 "cells": [
  {
   "cell_type": "markdown",
   "metadata": {},
   "source": [
    "#### Challenge 41: Implement unpadded message recovery oracle\n",
    "\n",
    "[Back to Index](CryptoPalsWalkthroughs_Cobb.ipynb)"
   ]
  },
  {
   "cell_type": "code",
   "execution_count": 4,
   "metadata": {},
   "outputs": [],
   "source": [
    "from Crypto.Util import number\n",
    "from Crypto.Random import random\n",
    "from Crypto.Hash.SHA256 import SHA256Hash\n",
    "\n",
    "import cryptopals as cp"
   ]
  },
  {
   "cell_type": "markdown",
   "metadata": {},
   "source": [
    "<div class=\"alert alert-block alert-info\">\n",
    "\n",
    "Nate Lawson says we should stop calling it \"RSA padding\" and start calling it \"RSA armoring\". Here's why.\n",
    "\n",
    "Imagine a web application, again with the Javascript encryption, taking RSA-encrypted messages which (again: Javascript) aren't padded before encryption at all.\n",
    "\n",
    "You can submit an arbitrary RSA blob and the server will return plaintext. But you can't submit the same message twice: let's say the server keeps hashes of previous messages for some liveness interval, and that the message has an embedded timestamp:\n",
    "\n",
    "```\n",
    "{\n",
    "  time: 1356304276,\n",
    "  social: '555-55-5555',\n",
    "}\n",
    "```\n",
    "\n",
    "You'd like to capture other people's messages and use the server to decrypt them. But when you try, the server takes the hash of the ciphertext and uses it to reject the request. Any bit you flip in the ciphertext irrevocably scrambles the decryption.\n",
    "\n",
    "This turns out to be trivially breakable:\n",
    "\n",
    "- Capture the ciphertext C\n",
    "- Let N and E be the public modulus and exponent respectively\n",
    "- Let S be a random number > 1 mod N. Doesn't matter what.\n",
    "- Now:\n",
    "    \n",
    "    ```\n",
    "    `C' = ((S**E mod N) C) mod N\n",
    "    ```\n",
    "    \n",
    "- Submit C', which appears totally different from C, to the server, recovering P', which appears totally different from P\n",
    "- Now:\n",
    "\n",
    "              P'\n",
    "        P = -----  mod N\n",
    "              S\n",
    "\n",
    "Oops!\n",
    "\n",
    "Implement that attack.\n",
    "    \n",
    "<div class=\"alert alert-block alert-warning\">    \n",
    "    \n",
    "#### **Careful about division in cyclic groups.**\n",
    "    \n",
    "Remember: you don't simply divide mod N; you multiply by the multiplicative inverse mod N. So you'll need a modinv() function.\n",
    "    \n",
    "</div>\n",
    "</div>"
   ]
  },
  {
   "cell_type": "code",
   "execution_count": 5,
   "metadata": {},
   "outputs": [],
   "source": [
    "key_size = 1024\n",
    "[e,d,n] = cp.genRSA_keypair(key_size)\n",
    "m = int((b'This is ridiculous! There\\'s no such thing as privacy anymore!'*4).hex(), 16)\n",
    "c = pow(m, e, n)"
   ]
  },
  {
   "cell_type": "code",
   "execution_count": 12,
   "metadata": {},
   "outputs": [],
   "source": [
    "s = 79\n",
    "c_ = (pow(s, e, n) * c) % n\n",
    "p_ = pow(c_, d, n)"
   ]
  },
  {
   "cell_type": "markdown",
   "metadata": {},
   "source": [
    "Despite the warning, I wanted to try straight division (not multiplying by the inverse mod N):"
   ]
  },
  {
   "cell_type": "code",
   "execution_count": 13,
   "metadata": {},
   "outputs": [
    {
     "name": "stdout",
     "output_type": "stream",
     "text": [
      "This is ridiculous! There's no such thing as privacy anymore!This is ridiculous! There's no such thing as privacy anymore!This is ridiculous! There's no such thing as privacy anymore!This is ridiculous! There's no such thing as privacy anymore!\n"
     ]
    }
   ],
   "source": [
    "recovered_pt = (p_ // s) % n\n",
    "\n",
    "print(bytes.fromhex(hex(recovered_pt)[2:]).decode())"
   ]
  },
  {
   "cell_type": "markdown",
   "metadata": {},
   "source": [
    "Now the way it says to do it:"
   ]
  },
  {
   "cell_type": "code",
   "execution_count": 14,
   "metadata": {},
   "outputs": [
    {
     "name": "stdout",
     "output_type": "stream",
     "text": [
      "This is ridiculous! There's no such thing as privacy anymore!This is ridiculous! There's no such thing as privacy anymore!This is ridiculous! There's no such thing as privacy anymore!This is ridiculous! There's no such thing as privacy anymore!\n"
     ]
    }
   ],
   "source": [
    "mi = cp.invmod(s, n)\n",
    "recovered_pt = (p_*mi) % n\n",
    "print(bytes.fromhex(hex(recovered_pt)[2:]).decode())"
   ]
  },
  {
   "cell_type": "markdown",
   "metadata": {},
   "source": [
    "Let's try to break the division approach:"
   ]
  },
  {
   "cell_type": "markdown",
   "metadata": {
    "slideshow": {
     "slide_type": "slide"
    }
   },
   "source": [
    "[Back to Index](CryptoPalsWalkthroughs_Cobb.ipynb)"
   ]
  },
  {
   "cell_type": "code",
   "execution_count": 44,
   "metadata": {},
   "outputs": [
    {
     "name": "stdout",
     "output_type": "stream",
     "text": [
      ".\n",
      "Broke it!\n",
      "e=3\n",
      "d=13784155787454640965203320918456828855576350957154037222797011255165358470367881823584041715061754827774338504096176436120475191939229449781152894319605928252913300736282366016848779083912182646827542663181074178251488178035165720461277396960286993903600420480331825348205323534468578466963075371691051312181999979240211075743135335667166862700410731000271406232507052029364966540907676351362097390400954839239373713919572846050908107205998352793777885820373061841666941478495929055051905449803604551103700362868106112893945484374599667847712517441128352550514766396104086948998499666483037133089815898176502824916123\n",
      "n=20676233681181961447804981377685243283364526435731055834195516882748037705551822735376062572592632241661507756144264654180712787908844174671729341479408892379369951104423549025273168625868273970241313994771611267377232267052748580691916095440430490855400630720497738022307985301702867700444613057536576968273287661965976930946948637139294611572506276884739532485972175220492483424755763358315804885521753105503846727998302376021052849485890590755445340694383790854592544029789836947314019884367226534497266420746803794732828671721901738141185898170879743357412826420798498965663229300175584920793387910767087317740591\n",
      "s=202974978408942505289936681821489341720\n",
      "\n"
     ]
    }
   ],
   "source": [
    "key_size = 1024\n",
    "for ii in range(1000):\n",
    "    \n",
    "    print('.')\n",
    "    [e,d,n] = cp.genRSA_keypair(key_size)\n",
    "    c = pow(m, e, n)\n",
    "    s = random.randint(0, 2**128-1)\n",
    "    c_ = (pow(s, e, n) * c) % n\n",
    "    p_ = pow(c_, d, n)\n",
    "    recovered_pt = (p_ // s) % n\n",
    "    \n",
    "    if recovered_pt != m:        \n",
    "        print('Broke it!')\n",
    "        print(f'e={e}\\nd={d}\\nn={n}\\ns={s}\\n')\n",
    "        break\n"
   ]
  },
  {
   "cell_type": "markdown",
   "metadata": {},
   "source": [
    "Here are two trivial examples of where division by a # and multiplication by a multiplicative inverse are 1) the same, and 2) different within a cyclic group (modulo arithmetic)."
   ]
  },
  {
   "cell_type": "code",
   "execution_count": 43,
   "metadata": {},
   "outputs": [
    {
     "name": "stdout",
     "output_type": "stream",
     "text": [
      "3\n",
      "3\n",
      "2\n",
      "15\n"
     ]
    }
   ],
   "source": [
    "n = 17\n",
    "s = 4\n",
    "x = 12\n",
    "\n",
    "print((x//s) % n)\n",
    "print((x * cp.invmod(s, n)) % n)\n",
    "\n",
    "n = 17\n",
    "s = 4\n",
    "x = 9\n",
    "\n",
    "print((x//s) % n)\n",
    "print((x * cp.invmod(s, n)) % n)"
   ]
  },
  {
   "cell_type": "code",
   "execution_count": null,
   "metadata": {},
   "outputs": [],
   "source": []
  }
 ],
 "metadata": {
  "kernelspec": {
   "display_name": "Python 3",
   "language": "python",
   "name": "python3"
  },
  "language_info": {
   "codemirror_mode": {
    "name": "ipython",
    "version": 3
   },
   "file_extension": ".py",
   "mimetype": "text/x-python",
   "name": "python",
   "nbconvert_exporter": "python",
   "pygments_lexer": "ipython3",
   "version": "3.7.4"
  }
 },
 "nbformat": 4,
 "nbformat_minor": 4
}
