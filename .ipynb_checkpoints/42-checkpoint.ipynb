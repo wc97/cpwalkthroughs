{
 "cells": [
  {
   "cell_type": "markdown",
   "metadata": {},
   "source": [
    "#### Challenge 42: Bleichenbacher's e=3 RSA Attack\n",
    "\n",
    "[Back to Index](CryptoPalsWalkthroughs_Cobb.ipynb)"
   ]
  },
  {
   "cell_type": "code",
   "execution_count": 1,
   "metadata": {},
   "outputs": [],
   "source": [
    "from Crypto.Util import number\n",
    "from Crypto.Random import random\n",
    "from Crypto.Hash.SHA256 import SHA256Hash\n",
    "\n",
    "import cryptopals as cp\n",
    "import sha1"
   ]
  },
  {
   "cell_type": "markdown",
   "metadata": {},
   "source": [
    "<div class=\"alert alert-block alert-info\">\n",
    "\n",
    "<div class=\"alert alert-block alert-warning\">    \n",
    "\n",
    "#### **Crypto-tourism informational placard.**\n",
    "\n",
    "This attack broke Firefox's TLS certificate validation several years ago. You could write a Python script to fake an RSA signature for any certificate. We find new instances of it every other year or so.\n",
    "\n",
    "</div>\n",
    "    \n",
    "RSA with an encrypting exponent of 3 is popular, because it makes the RSA math faster.\n",
    "\n",
    "With `e=3` RSA, encryption is just cubing a number mod the public encryption modulus:\n",
    "\n",
    "`c = m ** 3 % n`\n",
    "\n",
    "    \n",
    "`e=3` is secure as long as we can make assumptions about the message blocks we're encrypting. The worry with low-exponent RSA is that the message blocks we process won't be large enough to wrap the modulus after being cubed. The block `00:02` (imagine sufficient zero-padding) can be \"encrypted\" in `e=3` RSA; it is simply `00:08`.\n",
    "\n",
    "When RSA is used to sign, rather than encrypt, the operations are reversed; the verifier \"decrypts\" the message by cubing it. This produces a \"plaintext\" which the verifier checks for validity.\n",
    "\n",
    "When you use RSA to sign a message, you supply it a block input that contains a message digest. The PKCS1.5 standard formats that block as:\n",
    "\n",
    "`00h 01h ffh ffh ... ffh ffh 00h ASN.1 GOOP HASH`\n",
    "\n",
    "As intended, the `ffh` bytes in that block expand to fill the whole block, producing a \"right-justified\" hash (the last byte of the hash is the last byte of the message).\n",
    "\n",
    "There was, 7 years ago, a common implementation flaw with RSA verifiers: they'd verify signatures by \"decrypting\" them (cubing them modulo the public exponent) and then \"parsing\" them by looking for `00h 01h ... ffh 00h ASN.1 HASH`.\n",
    "\n",
    "This is a bug because it implies the verifier isn't checking all the padding. If you don't check the padding, you leave open the possibility that instead of hundreds of ffh bytes, you have only a few, which if you think about it means there could be squizzilions of possible numbers that could produce a valid-looking signature.\n",
    "\n",
    "How to find such a block? Find a number that when cubed     \n",
    "- (a) doesn't wrap the modulus (thus bypassing the key entirely) and   \n",
    "- (b) produces a block that starts `\"00h 01h ffh ... 00h ASN.1 HASH\"`.\n",
    "\n",
    "There are two ways to approach this problem:\n",
    "\n",
    "- You can work from Hal Finney's writeup, available on Google, of how Bleichenbacher explained the math \"so that you can do it by hand with a pencil\".\n",
    "- You can implement an integer cube root in your language, format the message block you want to forge, leaving sufficient trailing zeros at the end to fill with garbage, then take the cube-root of that block.\n",
    "\n",
    "Forge a 1024-bit RSA signature for the string \"hi mom\". Make sure your implementation actually accepts the signature!\n",
    "\n",
    "</div>"
   ]
  },
  {
   "cell_type": "markdown",
   "metadata": {},
   "source": [
    "Here's [Hal Finney's write-up](https://mailarchive.ietf.org/arch/msg/openpgp/5rnE9ZRN1AokBVj3VqblGlP63QE/).  It doesn't look like Bleichenbacher actually formally published the attack in a peer-reviewed paper -- it was presented at a Rump session of a conference -- Hal Finney did this write-up as a summary of that presentation."
   ]
  },
  {
   "cell_type": "code",
   "execution_count": 2,
   "metadata": {},
   "outputs": [],
   "source": [
    "key_size = 1024\n",
    "[e,d,n] = cp.genRSA_keypair(key_size)\n",
    "\n",
    "message = b'hi mom'\n",
    "m = int(message.hex(), 16)"
   ]
  },
  {
   "cell_type": "markdown",
   "metadata": {},
   "source": [
    "---\n",
    "First, demo operation of signing a message and verifying a sig:\n",
    "    "
   ]
  },
  {
   "cell_type": "code",
   "execution_count": 3,
   "metadata": {},
   "outputs": [],
   "source": [
    "def gen_sig(message, d, n):\n",
    "\n",
    "    msg_hash = sha1.SHA1(message).finish()\n",
    "    \n",
    "    # This isn't correct, but will work for this exercise\n",
    "    ASN1_data = b'HASH=SHA1'\n",
    "    \n",
    "    num_FFs = n.bit_length()//8 - 3 - len(ASN1_data) - len(msg_hash)\n",
    "    sig_to_encrypt = b'\\x00\\x01' + b'\\xff'*num_FFs + b'\\x00' + ASN1_data + msg_hash\n",
    "    sig = pow(int(sig_to_encrypt.hex(), 16), d, n)\n",
    "    \n",
    "    return(sig)"
   ]
  },
  {
   "cell_type": "code",
   "execution_count": 4,
   "metadata": {},
   "outputs": [],
   "source": [
    "sig = gen_sig(message, d, n)"
   ]
  },
  {
   "cell_type": "code",
   "execution_count": 5,
   "metadata": {},
   "outputs": [],
   "source": [
    "def check_sha1_sig(message, sig, n):\n",
    "    \n",
    "    hexstr = hex(pow(sig, 3, n))[2:]\n",
    "    # the hex() function sometimes gives us an odd # of hex characters.  \n",
    "    # Add a leading 0 if necessary\n",
    "    if len(hexstr) % 2 == 1:\n",
    "        hexstr = '0' + hexstr\n",
    "    p = bytes.fromhex(hexstr)\n",
    "    hash_idx = p.find(b'HASH=SHA1') + 9\n",
    "    provided_hash = p[hash_idx:hash_idx+20]\n",
    "    calculated_hash = sha1.SHA1(message).finish()\n",
    "                 \n",
    "    if provided_hash == calculated_hash:\n",
    "        return True\n",
    "    else:\n",
    "        return False\n",
    "    "
   ]
  },
  {
   "cell_type": "code",
   "execution_count": 6,
   "metadata": {},
   "outputs": [
    {
     "data": {
      "text/plain": [
       "True"
      ]
     },
     "execution_count": 6,
     "metadata": {},
     "output_type": "execute_result"
    }
   ],
   "source": [
    "check_sha1_sig(message, sig, n)"
   ]
  },
  {
   "cell_type": "markdown",
   "metadata": {},
   "source": [
    "---\n",
    "\n",
    "<div class=\"alert alert-block alert-info\">\n",
    "You can implement an integer cube root in your language, format the message block you want to forge, leaving sufficient trailing zeros at the end to fill with garbage, then take the cube-root of that block.\n",
    "\n",
    "Forge a 1024-bit RSA signature for the string \"hi mom\". Make sure your implementation actually accepts the signature!\n",
    "\n",
    "</div>"
   ]
  },
  {
   "cell_type": "code",
   "execution_count": 7,
   "metadata": {},
   "outputs": [],
   "source": [
    "# Not implementing proper ASN1 data.  Just faking it to match the characteristics above.\n",
    "\n",
    "ASN1_data = b'HASH=SHA1'\n",
    "forged_sig = b'\\x00\\x01\\xff\\x00' + ASN1_data + sha1.SHA1(message).finish() \n",
    "N_Garbage_Bytes = 1024//8 - len(forged_sig)\n",
    "forged_sig = forged_sig + random.Random.get_random_bytes(N_Garbage_Bytes)\n",
    "forge_sig_done = cp.root(3, int(forged_sig.hex(), 16))"
   ]
  },
  {
   "cell_type": "markdown",
   "metadata": {},
   "source": [
    "---\n",
    "Now check to see if our forged signature passes authentication:"
   ]
  },
  {
   "cell_type": "code",
   "execution_count": 8,
   "metadata": {},
   "outputs": [
    {
     "name": "stdout",
     "output_type": "stream",
     "text": [
      "\n",
      "*********************\n",
      "Authentication passed\n",
      "*********************\n"
     ]
    }
   ],
   "source": [
    "if check_sha1_sig(message, forge_sig_done, n):\n",
    "    print('\\n*********************\\nAuthentication passed\\n*********************')\n",
    "else:\n",
    "    print('\\n*********************\\nAuthentication failed\\n*********************')"
   ]
  },
  {
   "cell_type": "markdown",
   "metadata": {},
   "source": [
    "---\n",
    "\n",
    "#### **TODO**:  Implement using approach from Hal Finney's write-up.\n",
    "\n",
    "Summary of attack from Hal Finney's write-up:\n",
    "\n",
    "- Let `D` represent the numeric value of the `00` byte, the `ASN.1 data`, and the hash, considered as a byte string.  In the case of SHA-1 this will be `36` bytes or `288` bits long.  \n",
    "- Define `N` as `2^288-D`. We will assume that `N` is a multiple of `3`, which can easily be arranged by slightly tweaking the message if neccessary.\n",
    "\n",
    "Bleichenbacher uses an example of a 3072 bit key, and he will position\n",
    "the hash 2072 bits over from the right.  This improperly padded version\n",
    "can be expressed numerically as 2^3057 - 2^2360 + D * 2^2072 + garbage.\n",
    "This is equivalent to 2^3057 - N*2^2072 + garbage.  Then, it turns out\n",
    "that a cube root of this is simply 2^1019 - (N * 2^34 / 3), and that is\n",
    "a value which broken implementations accept as an RSA signature.\n",
    "\n",
    "You can cube this mentally, remembering that the cube of (A-B) is A^3 -\n",
    "3(A^2)B + 3A(B^2) - B^3.  Applying that rule gives 2^3057 - N*2^2072\n",
    "+ (N^2 * 2^1087 / 3) - (N^3 * 2^102 / 27), and this fits the pattern\n",
    "above of 2^3057 - N*2^2072 + garbage.  This is what Daniel means when\n",
    "he says that this attack is simple enough that it could be carried out\n",
    "by pencil and paper (except for the hash calculation itself)."
   ]
  },
  {
   "cell_type": "markdown",
   "metadata": {
    "slideshow": {
     "slide_type": "slide"
    }
   },
   "source": [
    "[Back to Index](CryptoPalsWalkthroughs_Cobb.ipynb)"
   ]
  }
 ],
 "metadata": {
  "kernelspec": {
   "display_name": "Python 3",
   "language": "python",
   "name": "python3"
  },
  "language_info": {
   "codemirror_mode": {
    "name": "ipython",
    "version": 3
   },
   "file_extension": ".py",
   "mimetype": "text/x-python",
   "name": "python",
   "nbconvert_exporter": "python",
   "pygments_lexer": "ipython3",
   "version": "3.7.4"
  }
 },
 "nbformat": 4,
 "nbformat_minor": 4
}
