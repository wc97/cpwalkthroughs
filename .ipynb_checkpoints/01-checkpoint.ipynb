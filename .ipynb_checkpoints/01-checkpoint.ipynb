{
 "cells": [
  {
   "cell_type": "markdown",
   "metadata": {},
   "source": [
    "## Set 1 - Challenge #1: Convert hex to base64\n",
    "\n",
    "<div class=\"alert alert-block alert-info\">\n",
    "    \n",
    "The string: \n",
    "\n",
    "```49276d206b696c6c696e6720796f757220627261696e206c696b65206120706f69736f6e6f7573206d757368726f6f6d```\n",
    "\n",
    "Should produce: \n",
    "\n",
    "```SSdtIGtpbGxpbmcgeW91ciBicmFpbiBsaWtlIGEgcG9pc29ub3VzIG11c2hyb29t```\n",
    "\n",
    "So go ahead and make that happen. You'll need to use this code for the rest of the exercises. \n",
    "\n",
    "<div class=\"alert alert-block alert-warning\">\n",
    "    \n",
    "### Cryptopals Rule\n",
    "\n",
    "Always operate on raw bytes, never on encoded strings. Only use hex and base64 for pretty-printing. \n",
    "\n",
    "</div>\n",
    "    \n",
    "</div>\n",
    "\n",
    "[Back to Index](CryptoPalsWalkthroughs_Cobb.ipynb)"
   ]
  },
  {
   "cell_type": "markdown",
   "metadata": {},
   "source": [
    "A few Python builtins will help out here:\n",
    "\n",
    "- The _base64_ library will handily encode and decode python bytes to base64 format\n",
    "- The bytes.fromhex function will convert a hex string to bytes format\n",
    "- The .hex() will convert from bytes --hex string"
   ]
  },
  {
   "cell_type": "code",
   "execution_count": 3,
   "metadata": {},
   "outputs": [],
   "source": [
    "import base64"
   ]
  },
  {
   "cell_type": "code",
   "execution_count": 7,
   "metadata": {},
   "outputs": [],
   "source": [
    "hex_string = ('49276d206b696c6c696e6720796f757220627261696e206c696b65206120706f69736f6e6f7573206d757368726f6f6d')\n",
    "byte_array = bytes.fromhex(hex_string)\n",
    "my_answer = base64.b64encode(byte_array)\n",
    "good_answer = b'SSdtIGtpbGxpbmcgeW91ciBicmFpbiBsaWtlIGEgcG9pc29ub3VzIG11c2hyb29t'"
   ]
  },
  {
   "cell_type": "code",
   "execution_count": 8,
   "metadata": {},
   "outputs": [
    {
     "name": "stdout",
     "output_type": "stream",
     "text": [
      "Test 1 Passed\n"
     ]
    }
   ],
   "source": [
    "if (my_answer == good_answer):\n",
    "    print('Test 1 Passed')\n",
    "else:\n",
    "    print('Test 1 Failed')"
   ]
  },
  {
   "cell_type": "markdown",
   "metadata": {},
   "source": [
    "[Back to Index](CryptoPalsWalkthroughs_Cobb.ipynb)"
   ]
  }
 ],
 "metadata": {
  "kernelspec": {
   "display_name": "Python 3",
   "language": "python",
   "name": "python3"
  },
  "language_info": {
   "codemirror_mode": {
    "name": "ipython",
    "version": 3
   },
   "file_extension": ".py",
   "mimetype": "text/x-python",
   "name": "python",
   "nbconvert_exporter": "python",
   "pygments_lexer": "ipython3",
   "version": "3.7.4"
  }
 },
 "nbformat": 4,
 "nbformat_minor": 4
}
