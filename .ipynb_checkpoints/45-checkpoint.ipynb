{
 "cells": [
  {
   "cell_type": "markdown",
   "metadata": {},
   "source": [
    "#### Challenge 45: DSA parameter tampering\n",
    "\n",
    "[Back to Index](CryptoPalsWalkthroughs_Cobb.ipynb)"
   ]
  },
  {
   "cell_type": "code",
   "execution_count": 1,
   "metadata": {},
   "outputs": [],
   "source": [
    "from Crypto.Util import number\n",
    "from Crypto.Random import random\n",
    "from Crypto.Hash.SHA256 import SHA256Hash\n",
    "\n",
    "import cryptopals as cp\n",
    "import sha1"
   ]
  },
  {
   "cell_type": "markdown",
   "metadata": {},
   "source": [
    "<div class=\"alert alert-block alert-info\">\n",
    "\n",
    "Take your DSA code from the previous exercise. Imagine it as part of an algorithm in which the client was allowed to propose domain parameters (the `p` and `q` moduli, and the `g` generator).\n",
    "\n",
    "This would be bad, because attackers could trick victims into accepting bad parameters. Vaudenay gave two examples of bad generator parameters: generators that were `0 mod p`, and generators that were `1 mod p`.\n",
    "\n",
    "Use the parameters from the previous exercise, but substitute `0` for `g`. Generate a signature. You will notice something bad. Verify the signature. Now verify any other signature, for any other string.\n",
    "</div>"
   ]
  },
  {
   "cell_type": "code",
   "execution_count": 17,
   "metadata": {},
   "outputs": [
    {
     "name": "stdout",
     "output_type": "stream",
     "text": [
      "r=0, s=428006606802561525388788647814485279473645400407, k=1044755755608588811362655656426295150923390707233\n",
      "True\n",
      "True\n"
     ]
    }
   ],
   "source": [
    "p = 0x800000000000000089e1855218a0e7dac38136ffafa72eda7859f2171e25e65eac698c1702578b07dc2a1076da241c76c62d374d8389ea5aeffd3226a0530cc565f3bf6b50929139ebeac04f48c3c84afb796d61e5a4f9a8fda812ab59494232c7d2b4deb50aa18ee9e132bfa85ac4374d7f9091abc3d015efc871a584471bb1\n",
    "q = 0xf4f47f05794b256174bba6e9b396a7707e563c5b\n",
    "g = 0\n",
    "\n",
    "# Generate a random public/private key pair:\n",
    "x = random.randint(0, q-1)\n",
    "y = pow(g, x, p)\n",
    "\n",
    "msg = b'Test me'\n",
    "[r, s, k] = cp.gen_DSA_sig(x, msg, p, q, g)\n",
    "print(f'r={r}, s={s}, k={k}')\n",
    "print(cp.check_DSA_sig(msg, y, r, s, p, g, q))\n",
    "\n",
    "msg2 = b'BLAHBLAHBLAH'\n",
    "print(cp.check_DSA_sig(msg2, y, r, s, p, g, q))\n",
    "\n"
   ]
  },
  {
   "cell_type": "markdown",
   "metadata": {},
   "source": [
    "<div class=\"alert alert-block alert-info\">\n",
    "\n",
    "Now, try `(p+1)` as `g`. With this `g`, you can generate a magic signature `s`, `r` for any DSA public key that will validate against any string. For arbitrary `z`:\n",
    "\n",
    "  $$ r = ((y^z) \\mod p) \\mod q $$\n",
    "\n",
    "and\n",
    "    \n",
    "  $$ s = \\frac{r}{z} \\mod q $$\n",
    "\n",
    "Sign \"Hello, world\". And \"Goodbye, world\".\n",
    "\n",
    "</div>"
   ]
  },
  {
   "cell_type": "code",
   "execution_count": 36,
   "metadata": {},
   "outputs": [
    {
     "name": "stdout",
     "output_type": "stream",
     "text": [
      "True\n",
      "True\n"
     ]
    }
   ],
   "source": [
    "bad_g = p+1\n",
    "y = pow(bad_g, x, p)\n",
    "\n",
    "z = random.randint(0, q-1)\n",
    "evil_r = pow(y, z, p) % q\n",
    "evil_s = (evil_r * cp.invmod(z, q)) % q\n",
    "\n",
    "msg = b'Hello, world'\n",
    "print(cp.check_DSA_sig(msg, y, evil_r, evil_s, p, bad_g, q))\n",
    "\n",
    "msg = b'Goodbye, world'\n",
    "print(cp.check_DSA_sig(msg, y, evil_r, evil_s, p, bad_g, q))"
   ]
  },
  {
   "cell_type": "markdown",
   "metadata": {
    "slideshow": {
     "slide_type": "slide"
    }
   },
   "source": [
    "[Back to Index](CryptoPalsWalkthroughs_Cobb.ipynb)"
   ]
  }
 ],
 "metadata": {
  "kernelspec": {
   "display_name": "Python 3",
   "language": "python",
   "name": "python3"
  },
  "language_info": {
   "codemirror_mode": {
    "name": "ipython",
    "version": 3
   },
   "file_extension": ".py",
   "mimetype": "text/x-python",
   "name": "python",
   "nbconvert_exporter": "python",
   "pygments_lexer": "ipython3",
   "version": "3.7.4"
  }
 },
 "nbformat": 4,
 "nbformat_minor": 4
}
