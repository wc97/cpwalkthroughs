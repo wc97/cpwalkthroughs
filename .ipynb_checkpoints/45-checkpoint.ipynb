{
 "cells": [
  {
   "cell_type": "markdown",
   "metadata": {},
   "source": [
    "#### Challenge 45: DSA parameter tampering\n",
    "\n",
    "[Back to Index](CryptoPalsWalkthroughs_Cobb.ipynb)"
   ]
  },
  {
   "cell_type": "code",
   "execution_count": 1,
   "metadata": {},
   "outputs": [],
   "source": [
    "from Crypto.Util import number\n",
    "from Crypto.Random import random\n",
    "from Crypto.Hash.SHA256 import SHA256Hash\n",
    "\n",
    "import cryptopals as cp\n",
    "import sha1"
   ]
  },
  {
   "cell_type": "markdown",
   "metadata": {},
   "source": [
    "<div class=\"alert alert-block alert-info\">\n",
    "\n",
    "Take your DSA code from the previous exercise. Imagine it as part of an algorithm in which the client was allowed to propose domain parameters (the `p` and `q` moduli, and the `g` generator).\n",
    "\n",
    "This would be bad, because attackers could trick victims into accepting bad parameters. Vaudenay gave two examples of bad generator parameters: generators that were `0 mod p`, and generators that were `1 mod p`.\n",
    "\n",
    "Use the parameters from the previous exercise, but substitute `0` for `g`. Generate a signature. You will notice something bad. Verify the signature. Now verify any other signature, for any other string.\n",
    "</div>"
   ]
  },
  {
   "cell_type": "code",
   "execution_count": 2,
   "metadata": {},
   "outputs": [
    {
     "name": "stdout",
     "output_type": "stream",
     "text": [
      "r=0, s=871088915603698057528183788525910709550489368534, k=521411376050990140685185409821947567417848461518\n",
      "True\n",
      "True\n"
     ]
    }
   ],
   "source": [
    "p = 0x800000000000000089e1855218a0e7dac38136ffafa72eda7859f2171e25e65eac698c1702578b07dc2a1076da241c76c62d374d8389ea5aeffd3226a0530cc565f3bf6b50929139ebeac04f48c3c84afb796d61e5a4f9a8fda812ab59494232c7d2b4deb50aa18ee9e132bfa85ac4374d7f9091abc3d015efc871a584471bb1\n",
    "q = 0xf4f47f05794b256174bba6e9b396a7707e563c5b\n",
    "g = 0\n",
    "\n",
    "# Generate a random public/private key pair:\n",
    "x = random.randint(0, q-1)\n",
    "y = pow(g, x, p)\n",
    "\n",
    "msg = b'Test me'\n",
    "[r, s, k] = cp.gen_DSA_sig(x, msg, p, q, g)\n",
    "print(f'r={r}, s={s}, k={k}')\n",
    "print(cp.check_DSA_sig(msg, y, r, s, p, g, q))\n",
    "\n",
    "msg2 = b'BLAHBLAHBLAH'\n",
    "print(cp.check_DSA_sig(msg2, y, r, s, p, g, q))\n",
    "\n"
   ]
  },
  {
   "cell_type": "markdown",
   "metadata": {},
   "source": [
    "<div class=\"alert alert-block alert-info\">\n",
    "\n",
    "Now, try `(p+1)` as `g`. With this `g`, you can generate a magic signature `s`, `r` for any DSA public key that will validate against any string. For arbitrary `z`:\n",
    "\n",
    "  $$ r = ((y^z) \\mod p) \\mod q $$\n",
    "\n",
    "and\n",
    "    \n",
    "  $$ s = \\frac{r}{z} \\mod q $$\n",
    "\n",
    "Sign \"Hello, world\". And \"Goodbye, world\".\n",
    "\n",
    "</div>"
   ]
  },
  {
   "cell_type": "code",
   "execution_count": 3,
   "metadata": {},
   "outputs": [
    {
     "name": "stdout",
     "output_type": "stream",
     "text": [
      "y=1, r=1, s=535610566950738117209897101874446532386215908437\n",
      "True\n",
      "True\n"
     ]
    }
   ],
   "source": [
    "bad_g = p+1\n",
    "y = pow(bad_g, x, p)\n",
    "\n",
    "z = random.randint(0, q-1)\n",
    "evil_r = pow(y, z, p) % q\n",
    "evil_s = (evil_r * cp.invmod(z, q)) % q\n",
    "\n",
    "print(f'y={y}, r={evil_r}, s={evil_s}')\n",
    "\n",
    "msg = b'Hello, world'\n",
    "print(cp.check_DSA_sig(msg, y, evil_r, evil_s, p, bad_g, q))\n",
    "\n",
    "msg = b'Goodbye, world'\n",
    "print(cp.check_DSA_sig(msg, y, evil_r, evil_s, p, bad_g, q))"
   ]
  },
  {
   "cell_type": "markdown",
   "metadata": {},
   "source": [
    "Setting `g = p+1` forces `y=1` and `r=1`.  \n",
    "\n",
    "Recall that:\n",
    "\n",
    "4. Bob verifies the signature by computing:\n",
    "    - `w = s^-1 mod q`\n",
    "    - `u1 = (H(m) * w) mod q`\n",
    "    - `u2 = (rw) mod q`\n",
    "    - `v = ((g^u1 * y^u2) mod p) mod q`\n",
    "5. If `v==r` the signature is verified\n",
    "\n",
    "It also causes this to happen in the signature verication calculation:\n",
    "\n",
    "`v = ((p+1)^u1 * 1^(u2) mod p`\n",
    "`= 1 * 1`\n",
    "`= 1`\n",
    "\n",
    "The value of `m` and `s` don't matter.\n",
    "\n",
    "!!\n"
   ]
  },
  {
   "cell_type": "markdown",
   "metadata": {
    "slideshow": {
     "slide_type": "slide"
    }
   },
   "source": [
    "[Back to Index](CryptoPalsWalkthroughs_Cobb.ipynb)"
   ]
  }
 ],
 "metadata": {
  "kernelspec": {
   "display_name": "Python 3",
   "language": "python",
   "name": "python3"
  },
  "language_info": {
   "codemirror_mode": {
    "name": "ipython",
    "version": 3
   },
   "file_extension": ".py",
   "mimetype": "text/x-python",
   "name": "python",
   "nbconvert_exporter": "python",
   "pygments_lexer": "ipython3",
   "version": "3.7.4"
  }
 },
 "nbformat": 4,
 "nbformat_minor": 4
}
