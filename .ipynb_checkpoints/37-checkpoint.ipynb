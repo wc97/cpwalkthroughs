{
 "cells": [
  {
   "cell_type": "markdown",
   "metadata": {},
   "source": [
    "### Challenge 37: Break SRP with a zero key\n",
    "\n",
    "[Back to Index](CryptoPalsWalkthroughs_Cobb.ipynb)"
   ]
  },
  {
   "cell_type": "code",
   "execution_count": 4,
   "metadata": {},
   "outputs": [],
   "source": [
    "from Crypto.Util import number\n",
    "from Crypto.Random import random\n",
    "from Crypto.Hash.SHA256 import SHA256Hash\n",
    "\n",
    "import cryptopals as cp"
   ]
  },
  {
   "cell_type": "markdown",
   "metadata": {},
   "source": [
    "<div class=\"alert alert-block alert-info\">\n",
    "\n",
    "Get your SRP working in an actual client-server setting. \"Log in\" with a valid password using the protocol.\n",
    "\n",
    "Now log in without your password by having the client send 0 as its \"A\" value. What does this to the \"S\" value that both sides compute?\n",
    "\n",
    "Now log in without your password by having the client send N, N*2, &c.\n",
    "\n",
    "<div class=\"alert alert-block alert-warning\">\n",
    "    \n",
    "#### **Cryptanalytic MVP award**\n",
    "\n",
    "Trevor Perrin and Nate Lawson taught us this attack 7 years ago. It is excellent. Attacks on DH are tricky to \"operationalize\". But this attack uses the same concepts, and results in auth bypass. Almost every implementation of SRP we've ever seen has this flaw; if you see a new one, go look for this bug.\n",
    "\n",
    "</div>\n",
    "</div>"
   ]
  },
  {
   "cell_type": "code",
   "execution_count": 5,
   "metadata": {},
   "outputs": [],
   "source": [
    "class session:\n",
    "    \n",
    "    def __init__(self, user_name, salt, A, B):\n",
    "        \n",
    "        hash_out = SHA256Hash((str(A) + str(B)).encode()).digest().hex()\n",
    "        self.salt = salt\n",
    "        self.user_name = user_name\n",
    "        self.A = A\n",
    "        self.B = B\n",
    "        self.u = pow(g, int(hash_out, 16), N)\n",
    "        \n",
    "class server:\n",
    "\n",
    "    class password_entry:\n",
    "    \n",
    "        def __init__(self, salt, v):\n",
    "        \n",
    "            self.salt = salt\n",
    "            self.v = v\n",
    "    \n",
    "    g = 2\n",
    "    k = 3\n",
    "    N = int('e7bd694dded5483a8083fe55c063b0180887542ef644e655d13d40bd1cd808f1'\\\n",
    "            'a9bca3c012478f7cf744222ccf7580036af82c589375e2dddffb6d698e177884'\\\n",
    "            '2594a439e123cd0fc91fbb017bfa7ff312c270d1b0f01def9f31db62872d3cb4'\\\n",
    "            'ed7d62448f13fb1742933223753be04ff20ce0903718f54406305cf6617212bf'\\\n",
    "            '27db2986654a09fbfe6b56445b1af6805384d483be70fc2f6c96a87ebd47e28a'\\\n",
    "            'ffb1b28b0c3b416fa49e4cef5e1a55e7268431c67d3a80daa0a16ddfe6f335e7'\\\n",
    "            'ecd98587a2348bf2e1cde93d42be6f7497fd23d3e74448218f9d0c7143f53773'\\\n",
    "            'c9afeb953fd02623380ffe2ba756668bbf4fdc9c5f56819c09ec055ba01b0447', 16)\n",
    "    \n",
    "    def __init__(self):\n",
    "        \n",
    "        self.users = {}\n",
    "        self.current_session = None\n",
    "    \n",
    "    def add_user(self, user_name, password):\n",
    "    \n",
    "        # Generate random salt (64-bit integer)\n",
    "        salt = random.randint(0, 2**64-1)\n",
    "        x = int(SHA256Hash((str(salt) + password).encode()).digest().hex(), 16)\n",
    "        v = pow(self.g, x, self.N)\n",
    "        record = self.password_entry(salt, v)\n",
    "        self.users[user_name] = record\n",
    "        \n",
    "    def initialize_session(self, user_name, A):\n",
    "        \n",
    "        salt = self.users[user_name].salt\n",
    "        v = self.users[user_name].v\n",
    "        \n",
    "        b = random.randint(0, 2**64-1) % N\n",
    "        B = (k*v + pow(g, b, N)) % N\n",
    "        \n",
    "        self.current_session = session(user_name, salt, A, B)\n",
    "        u = self.current_session.u\n",
    "        \n",
    "        S_server = pow (A * pow(v, u, N), b, N)\n",
    "        self.S = S_server\n",
    "        self.current_session_key = SHA256Hash(str(S_server).encode()).digest()\n",
    "        \n",
    "        return(salt, B)\n",
    "    \n",
    "    def validate_session(self, C_Proof):\n",
    "        \n",
    "        S_Proof = SHA256Hash(self.current_session_key + \n",
    "                             str(self.current_session.salt).encode()).digest()\n",
    "        \n",
    "        if S_Proof == C_Proof:\n",
    "            return_data = 'OK'\n",
    "        else:\n",
    "            return(random.Random.get_random_bytes(16))\n",
    "        \n",
    "        CT = cp.AESEncrypt(return_data, self.current_session_key)\n",
    "        return(CT)\n",
    "        "
   ]
  },
  {
   "cell_type": "code",
   "execution_count": 6,
   "metadata": {},
   "outputs": [],
   "source": [
    "myserver = server()\n",
    "myserver.add_user('somebody@gmail.com', 'password123')\n",
    "myserver.add_user('user2', 'goofy')\n",
    "myserver.add_user('user3', 'pluto')\n",
    "myserver.add_user('user4@hellokitty.com', 'purrrfect')"
   ]
  },
  {
   "cell_type": "markdown",
   "metadata": {},
   "source": [
    "This will emulate the client code:"
   ]
  },
  {
   "cell_type": "code",
   "execution_count": 7,
   "metadata": {},
   "outputs": [],
   "source": [
    "g = 2\n",
    "k = 3\n",
    "N = int('e7bd694dded5483a8083fe55c063b0180887542ef644e655d13d40bd1cd808f1'\\\n",
    "            'a9bca3c012478f7cf744222ccf7580036af82c589375e2dddffb6d698e177884'\\\n",
    "            '2594a439e123cd0fc91fbb017bfa7ff312c270d1b0f01def9f31db62872d3cb4'\\\n",
    "            'ed7d62448f13fb1742933223753be04ff20ce0903718f54406305cf6617212bf'\\\n",
    "            '27db2986654a09fbfe6b56445b1af6805384d483be70fc2f6c96a87ebd47e28a'\\\n",
    "            'ffb1b28b0c3b416fa49e4cef5e1a55e7268431c67d3a80daa0a16ddfe6f335e7'\\\n",
    "            'ecd98587a2348bf2e1cde93d42be6f7497fd23d3e74448218f9d0c7143f53773'\\\n",
    "            'c9afeb953fd02623380ffe2ba756668bbf4fdc9c5f56819c09ec055ba01b0447', 16)"
   ]
  },
  {
   "cell_type": "code",
   "execution_count": 8,
   "metadata": {},
   "outputs": [
    {
     "name": "stdout",
     "output_type": "stream",
     "text": [
      "OK\n"
     ]
    }
   ],
   "source": [
    "# Generate ephemeral private and public key for a new session\n",
    "\n",
    "a = random.randint(0, 2**64-1) % N\n",
    "A = pow(g, a, N)\n",
    "\n",
    "P = 'purrrfect'\n",
    "\n",
    "[salt, B] = myserver.initialize_session('user4@hellokitty.com', A)\n",
    "client_session = session('user4@hellokitty.com', salt, A, B)\n",
    "u = client_session.u\n",
    "\n",
    "mySHA = SHA256Hash(bytes(str(salt) + P, 'utf-8'))\n",
    "x = int(mySHA.digest().hex(), 16)\n",
    "S_client = pow(B - k * pow(g, x, N), a + u * x, N)\n",
    "K_client = SHA256Hash(str(S_client).encode()).digest()\n",
    "\n",
    "C_Proof = SHA256Hash(K_client + str(salt).encode()).digest()\n",
    "server_response_CT = myserver.validate_session(C_Proof)\n",
    "\n",
    "response = cp.strip_PKCS7_pad(cp.AESDecrypt(server_response_CT, K_client))\n",
    "\n",
    "print(response.decode())"
   ]
  },
  {
   "cell_type": "markdown",
   "metadata": {},
   "source": [
    "Check what happens if we supply a bad password.  The server should just return random gibberish."
   ]
  },
  {
   "cell_type": "code",
   "execution_count": 9,
   "metadata": {},
   "outputs": [
    {
     "name": "stdout",
     "output_type": "stream",
     "text": [
      "14bc6a097cd963cac044aa3a7050bdb3\n"
     ]
    }
   ],
   "source": [
    "a = random.randint(0, 2**64-1) % N\n",
    "A = pow(g, a, N)\n",
    "\n",
    "P = 'badpwd'\n",
    "\n",
    "[salt, B] = myserver.initialize_session('user4@hellokitty.com', A)\n",
    "client_session = session('user4@hellokitty.com', salt, A, B)\n",
    "u = client_session.u\n",
    "\n",
    "mySHA = SHA256Hash(bytes(str(salt) + P, 'utf-8'))\n",
    "x = int(mySHA.digest().hex(), 16)\n",
    "S_client = pow(B - k * pow(g, x, N), a + u * x, N)\n",
    "K_client = SHA256Hash(str(S_client).encode()).digest()\n",
    "\n",
    "C_Proof = SHA256Hash(K_client + str(salt).encode()).digest()\n",
    "server_response_CT = myserver.validate_session(C_Proof)\n",
    "\n",
    "response = cp.AESDecrypt(server_response_CT, K_client)\n",
    "\n",
    "print(response.hex())"
   ]
  },
  {
   "cell_type": "markdown",
   "metadata": {
    "slideshow": {
     "slide_type": "slide"
    }
   },
   "source": [
    "---\n",
    "### **The attacks**\n",
    "\n",
    "<div class=\"alert alert-block alert-info\">\n",
    "\n",
    "Now log in without your password by having the client send 0 as its \"A\" value. What does this to the \"S\" value that both sides compute?\n",
    "\n",
    "</div>\n",
    "\n",
    "---\n",
    "\n",
    "Looking at the server's calculation of its shared secret:  $$S_{Server} = (Av^{u})^{b} = 0 $$\n",
    "\n",
    "I.e., we can force the server to use a shared secret of ```0``` by providing a public key of ```A=0```.  Nice.\n",
    "\n",
    "---"
   ]
  },
  {
   "cell_type": "code",
   "execution_count": 10,
   "metadata": {
    "slideshow": {
     "slide_type": "slide"
    }
   },
   "outputs": [
    {
     "name": "stdout",
     "output_type": "stream",
     "text": [
      "OK\n"
     ]
    }
   ],
   "source": [
    "A = 0\n",
    "P = ''\n",
    "\n",
    "[salt, B] = myserver.initialize_session('user4@hellokitty.com', A)\n",
    "S_client = 0\n",
    "K_client = SHA256Hash(str(S_client).encode()).digest()\n",
    "C_Proof = SHA256Hash(K_client + str(salt).encode()).digest()\n",
    "server_response_CT = myserver.validate_session(C_Proof)\n",
    "\n",
    "response = cp.strip_PKCS7_pad(cp.AESDecrypt(server_response_CT, K_client))\n",
    "print(response.decode())"
   ]
  },
  {
   "cell_type": "markdown",
   "metadata": {
    "slideshow": {
     "slide_type": "slide"
    }
   },
   "source": [
    "<div class=\"alert alert-block alert-info\">\n",
    "\n",
    "Now log in without your password by having the client send N, N*2, &c.\n",
    "\n",
    "</div>"
   ]
  },
  {
   "cell_type": "code",
   "execution_count": 11,
   "metadata": {
    "slideshow": {
     "slide_type": "slide"
    }
   },
   "outputs": [
    {
     "name": "stdout",
     "output_type": "stream",
     "text": [
      "OK\n"
     ]
    }
   ],
   "source": [
    "A = N\n",
    "P = ''\n",
    "\n",
    "[salt, B] = myserver.initialize_session('user4@hellokitty.com', A)\n",
    "S_client = 0\n",
    "K_client = SHA256Hash(str(S_client).encode()).digest()\n",
    "C_Proof = SHA256Hash(K_client + str(salt).encode()).digest()\n",
    "server_response_CT = myserver.validate_session(C_Proof)\n",
    "\n",
    "response = cp.strip_PKCS7_pad(cp.AESDecrypt(server_response_CT, K_client))\n",
    "print(response.decode())"
   ]
  },
  {
   "cell_type": "markdown",
   "metadata": {
    "slideshow": {
     "slide_type": "slide"
    }
   },
   "source": [
    "---\n",
    "As expected -- A = N is A = 0 in modulo N arithmetic.  This would work for any multiple of N.\n",
    "\n",
    "---"
   ]
  },
  {
   "cell_type": "markdown",
   "metadata": {
    "slideshow": {
     "slide_type": "slide"
    }
   },
   "source": [
    "[Back to Index](CryptoPalsWalkthroughs_Cobb.ipynb)"
   ]
  }
 ],
 "metadata": {
  "kernelspec": {
   "display_name": "Python 3",
   "language": "python",
   "name": "python3"
  },
  "language_info": {
   "codemirror_mode": {
    "name": "ipython",
    "version": 3
   },
   "file_extension": ".py",
   "mimetype": "text/x-python",
   "name": "python",
   "nbconvert_exporter": "python",
   "pygments_lexer": "ipython3",
   "version": "3.7.4"
  }
 },
 "nbformat": 4,
 "nbformat_minor": 4
}
