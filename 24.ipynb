{
 "cells": [
  {
   "cell_type": "markdown",
   "metadata": {},
   "source": [
    "### Challenge 24: Create the MT19937 stream cipher and break it\n",
    "\n",
    "[Back to Index](CryptoPalsWalkthroughs_Cobb.ipynb)"
   ]
  },
  {
   "cell_type": "markdown",
   "metadata": {},
   "source": [
    "<div class=\"alert alert-block alert-info\">\n",
    "\n",
    "You can create a trivial stream cipher out of any PRNG; use it to generate a sequence of 8 bit outputs and call those outputs a keystream. XOR each byte of plaintext with each successive byte of keystream.\n",
    "\n",
    "Write the function that does this for MT19937 using a 16-bit seed. Verify that you can encrypt and decrypt properly. This code should look similar to your CTR code.\n",
    "\n",
    "Use your function to encrypt a known plaintext (say, 14 consecutive 'A' characters) prefixed by a random number of random characters.\n",
    "\n",
    "From the ciphertext, recover the \"key\" (the 16 bit seed).\n",
    "\n",
    "Use the same idea to generate a random \"password reset token\" using MT19937 seeded from the current time.\n",
    "\n",
    "Write a function to check if any given password token is actually the product of an MT19937 PRNG seeded with the current time.\n",
    "\n",
    "</div>"
   ]
  },
  {
   "cell_type": "code",
   "execution_count": 27,
   "metadata": {},
   "outputs": [],
   "source": [
    "import mt19937 as mt\n",
    "from random import randint\n",
    "import math\n",
    "import cryptopals as cp"
   ]
  },
  {
   "cell_type": "code",
   "execution_count": 33,
   "metadata": {},
   "outputs": [],
   "source": [
    "def mt19937_encrypt(plaintext):\n",
    "\n",
    "    seed = randint(0, 2**16 - 1)\n",
    "    myRNG = mt.mt19937(seed)\n",
    "\n",
    "    if isinstance(plaintext, str):\n",
    "        pt_bytes = plaintext.encode()\n",
    "    elif isinstance(plaintext, int):\n",
    "        pt_bytes = plaintext.to_bytes()\n",
    "    else:\n",
    "        raise ValueError('Not sure what to do with this plaintext data type')\n",
    "\n",
    "    pt_len = len(pt_bytes)\n",
    "\n",
    "    n_words = math.ceil(pt_len/4)\n",
    "\n",
    "    key_stream = []\n",
    "    for __ in range(n_words):\n",
    "        key_stream += myRNG.extract_number().to_bytes(4, 'little')\n",
    "\n",
    "    ciphertext = cp.bitwise_xor(pt_bytes, key_stream[0:pt_len])\n",
    "    return(ciphertext)"
   ]
  },
  {
   "cell_type": "code",
   "execution_count": 49,
   "metadata": {},
   "outputs": [],
   "source": [
    "def crack_mt19937_encrypt(ciphertext):\n",
    "\n",
    "    ct_len = len(ciphertext)\n",
    "    n_words = math.ceil(ct_len/4)\n",
    "    seed_scores = [0] * (2**16)\n",
    "    best_seed = -1\n",
    "    best_score = -1\n",
    "    for seed in range(2**16 - 1):\n",
    "        if seed % 2**12 == 0:\n",
    "            print('.')\n",
    "        key_stream = []\n",
    "        myRNG = mt.mt19937(seed)\n",
    "        for __ in range(n_words):\n",
    "            key_stream += myRNG.extract_number().to_bytes(4, 'little')\n",
    "        decrypted_data = cp.bitwise_xor(ciphertext, key_stream[0:ct_len])\n",
    "        seed_scores[seed] = cp.score_english(decrypted_data)\n",
    "        if seed_scores[seed] > best_score:\n",
    "            best_seed = seed\n",
    "            plaintext = decrypted_data\n",
    "            best_score = seed_scores[seed]\n",
    "            print(f\"New Best:  {seed}, {best_score}\")\n",
    "\n",
    "    return(plaintext, best_seed)"
   ]
  },
  {
   "cell_type": "code",
   "execution_count": 50,
   "metadata": {},
   "outputs": [
    {
     "name": "stdout",
     "output_type": "stream",
     "text": [
      ".\n",
      "New Best:  2623, 0\n",
      ".\n",
      "New Best:  6064, 2\n",
      "New Best:  6860, 4\n",
      ".\n",
      ".\n",
      ".\n",
      ".\n",
      ".\n",
      ".\n",
      ".\n",
      ".\n",
      ".\n",
      ".\n",
      ".\n",
      ".\n",
      "New Best:  56862, 32\n",
      ".\n",
      ".\n",
      "xxxxxxxxxxxxxxxxxxAAAAAAAAAAAAAA\n"
     ]
    }
   ],
   "source": [
    "seed = randint(0, 2**16 - 1)\n",
    "myRNG = mt.mt19937(seed)\n",
    "\n",
    "# %% Part 1\n",
    "# Just brute force crack it trying all 2**16 possibilities and looking for\n",
    "# one that produces the most character's from alphabet\n",
    "\n",
    "PT = ('x'*randint(0, 20)) + ('A' * 14)\n",
    "plaintext, bestseed = crack_mt19937_encrypt(mt19937_encrypt(PT))\n",
    "\n",
    "print(plaintext.decode())"
   ]
  },
  {
   "cell_type": "code",
   "execution_count": 55,
   "metadata": {},
   "outputs": [],
   "source": [
    "# %% Part 2 - password reset token\n",
    "\n",
    "# Gen a password random password reset token created with an mt19937 RNG\n",
    "# seeded with timestamp"
   ]
  },
  {
   "cell_type": "code",
   "execution_count": 56,
   "metadata": {},
   "outputs": [],
   "source": [
    "def mt19937_encrypt(plaintext):\n",
    "\n",
    "    seed = randint(0, 2**16 - 1)\n",
    "    myRNG = mt.mt19937(seed)\n",
    "\n",
    "    if isinstance(plaintext, str):\n",
    "        pt_bytes = plaintext.encode()\n",
    "    elif isinstance(plaintext, int):\n",
    "        pt_bytes = plaintext.to_bytes()\n",
    "    else:\n",
    "        raise ValueError('Not sure what to do with this plaintext data type')\n",
    "\n",
    "    pt_len = len(pt_bytes)\n",
    "\n",
    "    n_words = math.ceil(pt_len/4)\n",
    "\n",
    "    key_stream = []\n",
    "    for __ in range(n_words):\n",
    "        key_stream += myRNG.extract_number().to_bytes(4, 'little')\n",
    "\n",
    "    ciphertext = bitwise_xor(pt_bytes, key_stream[0:pt_len])\n",
    "    return(ciphertext)"
   ]
  },
  {
   "cell_type": "code",
   "execution_count": 57,
   "metadata": {},
   "outputs": [],
   "source": [
    "def check_for_mt19937(byte_list, max_look_back=1000):\n",
    "\n",
    "    current_time = int(time.time())\n",
    "    start_time = current_time - max_look_back\n",
    "    num_words = math.ceil(len(byte_list)/4)\n",
    "\n",
    "    for seed in range(start_time, current_time):\n",
    "\n",
    "        myMT = mt.mt19937(seed)\n",
    "        mt_out_little = []\n",
    "        mt_out_big = []\n",
    "\n",
    "        for ii in range(num_words):\n",
    "\n",
    "            rand_out = myMT.extract_number()\n",
    "            mt_out_little += rand_out.to_bytes(4, 'little')\n",
    "            mt_out_big += rand_out.to_bytes(4, 'big')\n",
    "\n",
    "        if (byte_list == mt_out_little) or (byte_list == mt_out_big):\n",
    "\n",
    "            print(f\"Found Match - Token is mt19937 with seed = {seed}\")\n",
    "            return(seed)\n",
    "\n",
    "    return(-1)"
   ]
  },
  {
   "cell_type": "code",
   "execution_count": 58,
   "metadata": {},
   "outputs": [
    {
     "name": "stdout",
     "output_type": "stream",
     "text": [
      "Found Match - Token is mt19937 with seed = 1584561550\n"
     ]
    }
   ],
   "source": [
    "token, seed = gen_mt19937_token()\n",
    "time.sleep(1)\n",
    "\n",
    "seed = check_for_mt19937(token, 5000)"
   ]
  },
  {
   "cell_type": "markdown",
   "metadata": {},
   "source": [
    "[Back to Index](CryptoPalsWalkthroughs_Cobb.ipynb)"
   ]
  }
 ],
 "metadata": {
  "kernelspec": {
   "display_name": "Python 3",
   "language": "python",
   "name": "python3"
  },
  "language_info": {
   "codemirror_mode": {
    "name": "ipython",
    "version": 3
   },
   "file_extension": ".py",
   "mimetype": "text/x-python",
   "name": "python",
   "nbconvert_exporter": "python",
   "pygments_lexer": "ipython3",
   "version": "3.7.4"
  }
 },
 "nbformat": 4,
 "nbformat_minor": 4
}
