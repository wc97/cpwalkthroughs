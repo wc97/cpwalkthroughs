{
 "cells": [
  {
   "cell_type": "markdown",
   "metadata": {},
   "source": [
    "#### Challenge 47: Bleichenbacher's PKCS 1.5 Padding Oracle (Complete Case)\n",
    "\n",
    "[Back to Index](CryptoPalsWalkthroughs_Cobb.ipynb)"
   ]
  },
  {
   "cell_type": "code",
   "execution_count": 1,
   "metadata": {},
   "outputs": [],
   "source": [
    "from Crypto.Util import number\n",
    "from Crypto.Random import random\n",
    "from Crypto.Hash.SHA256 import SHA256Hash\n",
    "\n",
    "import math\n",
    "import base64\n",
    "import cryptopals as cp\n",
    "\n",
    "from decimal import *\n",
    "\n",
    "import pdb"
   ]
  },
  {
   "cell_type": "markdown",
   "metadata": {},
   "source": [
    "<div class=\"alert alert-block alert-info\">   \n",
    "    \n",
    "<div class=\"alert alert-block alert-warning\">\n",
    "    \n",
    "#### **Cryptanalytic MVP award**\n",
    "    \n",
    "This is an extraordinarily useful attack. PKCS#1v15 padding, despite being totally insecure, is the default padding used by RSA implementations. The OAEP standard that replaces it is not widely implemented. This attack routinely breaks SSL/TLS.\n",
    "\n",
    "</div>\n",
    "    \n",
    "\n",
    "\n",
    "This is a continuation of challenge #47; it implements the complete BB'98 attack.\n",
    "\n",
    "Set yourself up the way you did in #47, but this time generate a 768 bit modulus.\n",
    "\n",
    "To make the attack work with a realistic RSA keypair, you need to reproduce step 2b from the paper, and your implementation of Step 3 needs to handle multiple ranges.\n",
    "\n",
    "The full Bleichenbacher attack works basically like this:\n",
    "\n",
    "- Starting from the smallest 's' that could possibly produce a plaintext bigger than 2B, iteratively search for an 's' that produces a conformant plaintext.\n",
    "- For our known 's1' and 'n', solve m1=m0s1-rn (again: just a definition of modular multiplication) for 'r', the number of times we've wrapped the modulus.\n",
    "- 'm0' and 'm1' are unknowns, but we know both are conformant PKCS#1v1.5 plaintexts, and so are between [2B,3B].\n",
    "- We substitute the known bounds for both, leaving only 'r' free, and solve for a range of possible 'r' values. This range should be small!\n",
    "- Solve m1=m0s1-rn again but this time for 'm0', plugging in each value of 'r' we generated in the last step. This gives us new intervals to work with. Rule out any interval that is outside 2B,3B.\n",
    "- Repeat the process for successively higher values of 's'. Eventually, this process will get us down to just one interval, whereupon we're back to exercise #47.\n",
    "\n",
    "What happens when we get down to one interval is, we stop blindly incrementing 's'; instead, we start rapidly growing 'r' and backing it out to 's' values by solving m1=m0s1-rn for 's' instead of 'r' or 'm0'. So much algebra! Make your teenage son do it for you! *Note: does not work well in practice* \n",
    "\n",
    "</div>    "
   ]
  },
  {
   "cell_type": "markdown",
   "metadata": {},
   "source": [
    "---"
   ]
  },
  {
   "cell_type": "code",
   "execution_count": 2,
   "metadata": {},
   "outputs": [
    {
     "name": "stdout",
     "output_type": "stream",
     "text": [
      ".\n",
      "Generated working parameters:\n",
      "\n",
      "e=3\n",
      "d=585758850533948885536457508346534472750513653067050136642868546783820471429049718208331675212852480013679012833604726459056120014778862093314162208500229633491996411159684721750835666478384698096370832996103867683515799533669302203\n",
      "n=878638275800923328304686262519801709125770479600575204964302820175730707143574577312497512819278720020518519250407149154177595389648762803058851340258434770497445032461974698636924056390784446653876677296103795046933725866139720159\n"
     ]
    }
   ],
   "source": [
    "valid_params = False\n",
    "\n",
    "while not(valid_params):\n",
    "    \n",
    "    print('.', end='')\n",
    "    p = number.getPrime(768 // 2)\n",
    "    q = number.getPrime(768 // 2)\n",
    "\n",
    "    n = (p * q)\n",
    "\n",
    "    et = (p-1) * (q-1)\n",
    "    e = 3\n",
    "\n",
    "    d = cp.invmod(e, et)\n",
    "\n",
    "    # Check parameters:\n",
    "    PT = random.randint(0, 2**32-1)\n",
    "    valid_params = (pow(pow(PT, e, n), d, n) == PT)\n",
    "\n",
    "print(f\"\\nGenerated working parameters:\\n\")\n",
    "print(f\"e={e}\\nd={d}\\nn={n}\")"
   ]
  },
  {
   "cell_type": "code",
   "execution_count": 3,
   "metadata": {},
   "outputs": [],
   "source": [
    "# Set decimal precision to handle math  for this challenge...\n",
    "getcontext().prec = int(math.log2(n))"
   ]
  },
  {
   "cell_type": "code",
   "execution_count": 4,
   "metadata": {},
   "outputs": [],
   "source": [
    "def remove_pkcs15_padding(byte_data, n):\n",
    "    \n",
    "    k = math.ceil(n.bit_length() / 8)\n",
    "    \n",
    "    if len(byte_data)==(k-1):        \n",
    "        byte_data = b'\\x00' + byte_data\n",
    "    \n",
    "    if not(len(byte_data) == k):\n",
    "        return(False)\n",
    "\n",
    "    if not(byte_data[1] == 0x02):\n",
    "        return(False)\n",
    "    \n",
    "    data_idx = byte_data.find(b'\\x00', 2) + 1   \n",
    "    payload = byte_data[data_idx:]\n",
    "    \n",
    "    return(payload)\n",
    "    \n",
    "def validate_pkcs15_padding(byte_data, n):\n",
    "\n",
    "    k = math.ceil(n.bit_length() / 8)\n",
    "    \n",
    "    if len(byte_data)==(k-1):        \n",
    "        byte_data = b'\\x00' + byte_data\n",
    "    \n",
    "    if not(len(byte_data) == k):\n",
    "        return(False)\n",
    "\n",
    "    if not(byte_data[1] == 0x02):\n",
    "        return(False)\n",
    "    \n",
    "    data_idx = byte_data.find(b'\\x00', 3) + 1\n",
    "    \n",
    "    return not(data_idx == 0)\n",
    "\n",
    "def simple_validate_padding_old(byte_data, n):\n",
    "\n",
    "    k = math.ceil(n.bit_length() / 8)\n",
    "    \n",
    "    if len(byte_data)==(k-1):        \n",
    "        byte_data = b'\\x00' + byte_data\n",
    "    \n",
    "    if not(len(byte_data) == k):\n",
    "        return(False)\n",
    "\n",
    "    if not(byte_data[1] == 0x02):\n",
    "        return(False)\n",
    "\n",
    "    return(True)\n",
    "\n",
    "def simple_validate_padding(byte_data, n):\n",
    "\n",
    "    k = math.ceil(n.bit_length() / 8)\n",
    "    return(len(byte_data)==(k-1) and (byte_data[0] == 0x02))\n",
    "\n",
    "def pkcs15_pad(data, n):\n",
    "    \n",
    "    k = math.ceil(n.bit_length() / 8)\n",
    "    data_len = len(data)\n",
    "    ps_len = k - data_len - 3\n",
    "    \n",
    "    b00 = b'\\x00'\n",
    "    BT = b'\\x02'\n",
    "    PS = []\n",
    "    \n",
    "    for ii in range(ps_len):\n",
    "        PS.append(random.randint(1, 255))\n",
    "    \n",
    "    EB = b00 + BT + bytes(PS) + b00 + data\n",
    "    \n",
    "    return(EB)\n",
    "\n",
    "def bytes_to_bigint(byte_data):\n",
    "    \n",
    "    return(int(byte_data.hex(), 16))\n",
    "\n",
    "def bigint_to_bytes(int_data):\n",
    "    \n",
    "    hex_data = hex(int_data)[2:]\n",
    "    if len(hex_data) % 2:\n",
    "        hex_data = '0' + hex_data\n",
    "    return(bytes.fromhex(hex_data))\n"
   ]
  },
  {
   "cell_type": "code",
   "execution_count": 5,
   "metadata": {},
   "outputs": [],
   "source": [
    "def challenge47_oracle(ciphertext):\n",
    "    \n",
    "    plaintext = int(pow(ciphertext, d, n))\n",
    "    plaintext_hex = hex(plaintext)[2:]\n",
    "    if (len(plaintext_hex) % 2):\n",
    "        plaintext_hex = '0' + plaintext_hex\n",
    "    plaintext_bytes = bytes.fromhex(plaintext_hex)\n",
    "    \n",
    "    return( simple_validate_padding(plaintext_bytes, n) )\n",
    "        "
   ]
  },
  {
   "cell_type": "code",
   "execution_count": 6,
   "metadata": {},
   "outputs": [
    {
     "data": {
      "text/plain": [
       "b\"\\x02\\xbeX%Z\\xa7\\xa3\\x19\\x07HY\\xaa\\xb9^\\x02@l\\xf4\\x9c\\x07\\x0bD\\x1d\\xd5\\xb4i_\\xef.A<\\x9a\\x1f}\\xb6g\\xb1u\\x9a\\xd8\\xff\\xa7\\xdc\\x0b3{\\xf1#H\\x9b\\xa2\\xc5\\x8c&B=6@N\\x0c\\xd5\\xae`\\xd5}\\x9f\\xa4\\x92W\\xff!N?Xz\\xaf\\x86\\xd2\\xb7\\x1b%z%\\x13\\x84\\x04\\x82'\\x0c\\xfc\\x00help\""
      ]
     },
     "execution_count": 6,
     "metadata": {},
     "output_type": "execute_result"
    }
   ],
   "source": [
    "x = pkcs15_pad(b'help', n)\n",
    "x_int = bytes_to_bigint(x)\n",
    "bigint_to_bytes(x_int)"
   ]
  },
  {
   "cell_type": "code",
   "execution_count": 7,
   "metadata": {},
   "outputs": [
    {
     "name": "stdout",
     "output_type": "stream",
     "text": [
      "This is a test message\n"
     ]
    }
   ],
   "source": [
    "# Test everything out to make sure it works....\n",
    "m = bytes_to_bigint(pkcs15_pad(b'This is a test message', n))\n",
    "c = pow(m, e, n)\n",
    "m_r = bigint_to_bytes(pow(c, d, n))\n",
    "assert(validate_pkcs15_padding(m_r, n))\n",
    "m_r = remove_pkcs15_padding(m_r, n)\n",
    "print(m_r.decode())"
   ]
  },
  {
   "cell_type": "code",
   "execution_count": 8,
   "metadata": {},
   "outputs": [],
   "source": [
    "m = bytes_to_bigint(pkcs15_pad(b'kick it, cc', n))\n",
    "c = pow(m, e, n)\n",
    "true_p = pow(c, d, n)"
   ]
  },
  {
   "cell_type": "code",
   "execution_count": 9,
   "metadata": {},
   "outputs": [],
   "source": [
    "# Implement Step #3 - Narrowing set of solutions.\n",
    "\n",
    "def update_intervals_old(M_Last, s):\n",
    "    \n",
    "    M = []\n",
    "    # pdb.set_trace()\n",
    "    for interval in M_Last:\n",
    "\n",
    "        a, b = interval[1], interval[2]\n",
    "        r_min = math.floor((a*s - 3*B + 1) / n)\n",
    "        r_max = math.ceil((b*s - 2*B) / n)\n",
    "        pdb.set_trace()\n",
    "        for r in range(r_min, r_max+1):\n",
    "            new_a = max(a, math.ceil((2*B + r*n) / s))\n",
    "            new_b = min(b, math.floor((3*B - 1 + r*n) / s ))\n",
    "            pdb.set_trace()\n",
    "            if new_b >= new_a:\n",
    "                M.append([r, new_a, new_b])\n",
    "    \n",
    "    if M == []:\n",
    "        return(M_Last)\n",
    "        print('Houston, we have a problem')\n",
    "    else:\n",
    "        return(M)\n",
    "    \n",
    "    \n",
    "def update_intervals(M_Last, s):\n",
    "    \n",
    "    M = []\n",
    "\n",
    "    for interval in M_Last:\n",
    "\n",
    "        last_a, last_b = Decimal(interval[1]), Decimal(interval[2])\n",
    "\n",
    "        r_min = math.ceil((last_a*s - 3*B + 1) / n)\n",
    "        r_max = math.floor((last_b*s - 2*B) / n)\n",
    "        \n",
    "        for r in range(r_min, r_max+1):\n",
    "            \n",
    "            new_a = max(last_a, math.ceil((2*B + r*n) / s))\n",
    "            new_b = min(last_b, math.floor((3*B - 1 + r*n) / s ) )\n",
    "            #pdb.set_trace()\n",
    "            if (new_a > new_b):\n",
    "                #pdb.set_trace()\n",
    "                raise Exception('CRAP')\n",
    "            \n",
    "            if len(M) == 0:                \n",
    "                #pdb.set_trace()    \n",
    "                M.append([r, new_a, new_b])\n",
    "                    \n",
    "            else:\n",
    "                    \n",
    "                M_min = sorted(M, key=lambda x: x[1])[0][1]\n",
    "                M_max = sorted(M, key=lambda x: x[2])[-1][2]\n",
    "                #pdb.set_trace()   \n",
    "                if new_b < M_min or new_a > M_max:  \n",
    "                    #pdb.set_trace()\n",
    "                    M.append([r, new_a, new_b])                        \n",
    "                else:                        \n",
    "                    for this_interval in M:                            \n",
    "                        this_min, this_max = this_interval[1], this_interval[2]\n",
    "                        if (new_a < this_min) and (new_b < this_max):\n",
    "                            this_interval[1] = new_a\n",
    "                        elif (new_a > this_min) and (new_b > this_max):\n",
    "                            this_interval[2] = new_b\n",
    "                    \n",
    "    if M == []:\n",
    "        return(M_Last)\n",
    "        print('Houston, we have a problem')\n",
    "    else:\n",
    "        return(M)"
   ]
  },
  {
   "cell_type": "code",
   "execution_count": 10,
   "metadata": {},
   "outputs": [],
   "source": [
    "# Implement Step 2.a - find an initial s that results in conforming PKCS padding:\n",
    "\n",
    "k = math.ceil(n.bit_length() / 8)\n",
    "B = Decimal(2**(8*(k-2)))\n",
    "s0 = math.ceil(n / (3*B))\n",
    "n_queries = 0\n",
    "\n",
    "while True:\n",
    "    \n",
    "    c_ = c*(pow(s0, e, n)) % n\n",
    "    if(challenge47_oracle(c_)):\n",
    "        break\n",
    "    n_queries += 1\n",
    "    s0 += 1    "
   ]
  },
  {
   "cell_type": "code",
   "execution_count": 11,
   "metadata": {},
   "outputs": [],
   "source": [
    "s = s0\n",
    "\n",
    "M = [[0, 2*B, 3*B - 1]]\n",
    "M = update_intervals(M, s)"
   ]
  },
  {
   "cell_type": "code",
   "execution_count": 12,
   "metadata": {},
   "outputs": [
    {
     "name": "stdout",
     "output_type": "stream",
     "text": [
      "[2b]"
     ]
    }
   ],
   "source": [
    "done = False\n",
    "\n",
    "while not(done):\n",
    "\n",
    "    conforming = False\n",
    "    if len(M) > 1:\n",
    "        \n",
    "        # Step 2.b:  Searching with more than one interval left\n",
    "        print('[2b]', end='')\n",
    "        while not(conforming):\n",
    "            s += 1\n",
    "            c_ = int(c*(pow(s, e, n)) % n)            \n",
    "            conforming = challenge47_oracle(c_)\n",
    "            n_queries += 1\n",
    "            \n",
    "    else: \n",
    "        \n",
    "        # Step 2.c:  Searching with one interval left\n",
    "        a, b = M[0][1], M[0][2]\n",
    "        #a, b = M[0][1], M[0][2]\n",
    "        r = math.ceil(2*((b*s - 2*B) / n))\n",
    "        \n",
    "        while not(conforming):\n",
    "            \n",
    "            s_min = math.ceil((2*B + r*n) / b) \n",
    "            s_max = math.floor((3*B + r*n) / a) \n",
    "            \n",
    "            for s in range(s_min, s_max + 1):\n",
    "                c_ = int(c*(pow(s, e, n)) % n)\n",
    "                conforming = challenge47_oracle(c_)\n",
    "                if conforming:\n",
    "                    break\n",
    "                \n",
    "            r += 1\n",
    "            \n",
    "    M = update_intervals(M, s)\n",
    "    \n",
    "    if (len(M) == 1) and (M[0][1] == M[0][2]): \n",
    "        done = True"
   ]
  },
  {
   "cell_type": "code",
   "execution_count": 13,
   "metadata": {},
   "outputs": [
    {
     "name": "stdout",
     "output_type": "stream",
     "text": [
      "b'kick it, cc'\n"
     ]
    }
   ],
   "source": [
    "recovered_msg = remove_pkcs15_padding(bigint_to_bytes(M[0][1]), n)\n",
    "print(recovered_msg)\n"
   ]
  },
  {
   "cell_type": "markdown",
   "metadata": {
    "slideshow": {
     "slide_type": "slide"
    }
   },
   "source": [
    "[Back to Index](CryptoPalsWalkthroughs_Cobb.ipynb)"
   ]
  }
 ],
 "metadata": {
  "kernelspec": {
   "display_name": "Python 3",
   "language": "python",
   "name": "python3"
  },
  "language_info": {
   "codemirror_mode": {
    "name": "ipython",
    "version": 3
   },
   "file_extension": ".py",
   "mimetype": "text/x-python",
   "name": "python",
   "nbconvert_exporter": "python",
   "pygments_lexer": "ipython3",
   "version": "3.7.6"
  }
 },
 "nbformat": 4,
 "nbformat_minor": 4
}
