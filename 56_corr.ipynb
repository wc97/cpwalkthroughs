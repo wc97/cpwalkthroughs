{
 "cells": [
  {
   "cell_type": "code",
   "execution_count": 1,
   "metadata": {},
   "outputs": [],
   "source": [
    "%matplotlib inline\n",
    "\n",
    "import pickle\n",
    "import time\n",
    "import math\n",
    "import numpy as np\n",
    "import base64\n",
    "import matplotlib.pyplot as plt\n",
    "from Crypto.Cipher import ARC4\n",
    "from Crypto import Random"
   ]
  },
  {
   "cell_type": "code",
   "execution_count": 17,
   "metadata": {},
   "outputs": [],
   "source": [
    "def build_freq_dist(N_positions, N_iterations):\n",
    "\n",
    "    t0 = time.time()\n",
    "    \n",
    "    PT = b'\\x00'*N_positions\n",
    "    #key_prob_count = np.zeros((N_positions, 256), dtype=np.uint32)\n",
    "    w, h = 256, N_positions\n",
    "    key_prob_count = [[0] * w for i in range(h)]\n",
    "    key_prob = np.zeros((N_positions, 256))\n",
    "    \n",
    "    for ii in range(N_iterations):\n",
    "    \n",
    "        if ii % 2**18 == 0:\n",
    "            print(f'{100*(ii/N_iterations)}% Done., Time:  {time.time() - t0}')\n",
    "            print(f'Estimated time to completion:  {(time.time()-t0) * N_iterations/(60*60*(ii+1))} Hours')\n",
    "    \n",
    "        key = Random.get_random_bytes(16)\n",
    "        cipher = ARC4.new(key)\n",
    "        CT = cipher.encrypt(PT)\n",
    "        \n",
    "        for jj in range(N_positions):\n",
    "                \n",
    "            key_prob_count[jj][CT[jj]] += 1\n",
    "\n",
    "    for ii in range(N_positions):\n",
    "        for jj in range(256):\n",
    "            key_prob[ii][jj] = key_prob_count[ii][jj] / N_iterations\n",
    "            \n",
    "    return(key_prob)"
   ]
  },
  {
   "cell_type": "code",
   "execution_count": null,
   "metadata": {},
   "outputs": [
    {
     "name": "stdout",
     "output_type": "stream",
     "text": [
      "0.0% Done., Time:  0.0\n",
      "Estimated time to completion:  0.0 Hours\n",
      "0.01220703125% Done., Time:  38.98031401634216\n",
      "Estimated time to completion:  88.70153174769689 Hours\n"
     ]
    }
   ],
   "source": [
    "kpc = build_freq_dist(128, 2**31)  \n",
    "\n",
    "f = open('new_rc4_dists.pickle', 'wb')\n",
    "pickle.dump(kpc, f)\n",
    "f.close()"
   ]
  }
 ],
 "metadata": {
  "kernelspec": {
   "display_name": "Python 3",
   "language": "python",
   "name": "python3"
  },
  "language_info": {
   "codemirror_mode": {
    "name": "ipython",
    "version": 3
   },
   "file_extension": ".py",
   "mimetype": "text/x-python",
   "name": "python",
   "nbconvert_exporter": "python",
   "pygments_lexer": "ipython3",
   "version": "3.7.4"
  }
 },
 "nbformat": 4,
 "nbformat_minor": 4
}
