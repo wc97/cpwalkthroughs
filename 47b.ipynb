{
 "cells": [
  {
   "cell_type": "markdown",
   "metadata": {},
   "source": [
    "#### Challenge 47: Bleichenbacher's PKCS 1.5 Padding Oracle (Simple Case)\n",
    "\n",
    "[Back to Index](CryptoPalsWalkthroughs_Cobb.ipynb)"
   ]
  },
  {
   "cell_type": "code",
   "execution_count": 1,
   "metadata": {},
   "outputs": [],
   "source": [
    "from Crypto.Util import number\n",
    "from Crypto.Random import random\n",
    "from Crypto.Hash.SHA256 import SHA256Hash\n",
    "\n",
    "import math\n",
    "import base64\n",
    "import cryptopals as cp\n",
    "\n",
    "from decimal import *"
   ]
  },
  {
   "cell_type": "markdown",
   "metadata": {},
   "source": [
    "<div class=\"alert alert-block alert-info\">   \n",
    "    \n",
    "<div class=\"alert alert-block alert-warning\">\n",
    "    \n",
    "#### **Degree of difficulty: Moderate**\n",
    "These next two challenges are the hardest in the entire set.\n",
    "\n",
    "</div>\n",
    "    \n",
    "Let us Google this for you: [Chosen ciphertext attacks against protocols based on the RSA encryption standard](http://lmgtfy.com/?q=%22Chosen+ciphertext+attacks+against+protocols+based+on+the+RSA+encryption+standard%22)\n",
    "\n",
    "This is Bleichenbacher from CRYPTO '98; I get a bunch of .ps versions on the first search page.\n",
    "\n",
    "Read the paper. It describes a padding oracle attack on PKCS#1v1.5. The attack is similar in spirit to the CBC padding oracle you built earlier; it's an \"adaptive chosen ciphertext attack\", which means you start with a valid ciphertext and repeatedly corrupt it, bouncing the adulterated ciphertexts off the target to learn things about the original.\n",
    "\n",
    "This is a common flaw even in modern cryptosystems that use RSA.\n",
    "\n",
    "It's also the most fun you can have building a crypto attack. It involves 9th grade math, but also has you implementing an algorithm that is complex on par with finding a minimum cost spanning tree.\n",
    "\n",
    "The setup:\n",
    "\n",
    "- Build an oracle function, just like you did in the last exercise, but have it check for plaintext[0] == 0 and plaintext[1] == 2.\n",
    "- Generate a 256 bit keypair (that is, p and q will each be 128 bit primes), [n, e, d].\n",
    "- Plug d and n into your oracle function.\n",
    "- PKCS1.5-pad a short message, like \"kick it, CC\", and call it \"m\". Encrypt to to get \"c\".\n",
    "- Decrypt \"c\" using your padding oracle.\n",
    "\n",
    "For this challenge, we've used an untenably small RSA modulus (you could factor this keypair instantly). That's because this exercise targets a specific step in the Bleichenbacher paper --- Step 2c, which implements a fast, nearly O(log n) search for the plaintext.\n",
    "\n",
    "Things you want to keep in mind as you read the paper:\n",
    "\n",
    "- RSA ciphertexts are just numbers.\n",
    "- RSA is \"homomorphic\" with respect to multiplication, which means you can multiply c * RSA(2) to get a c' that will decrypt to plaintext * 2. This is mindbending but easy to see if you play with it in code --- try multiplying ciphertexts with the RSA encryptions of numbers so you know you grok it.\n",
    "- What you need to grok for this challenge is that Bleichenbacher uses multiplication on ciphertexts the way the CBC oracle uses XORs of random blocks.\n",
    "- A PKCS#1v1.5 conformant plaintext, one that starts with 00:02, must be a number between 02:00:00...00 and 02:FF:FF..FF --- in other words, 2B and 3B-1, where B is the bit size of the modulus minus the first 16 bits. When you see 2B and 3B, that's the idea the paper is playing with.\n",
    "\n",
    "To decrypt \"c\", you'll need Step 2a from the paper (the search for the first \"s\" that, when encrypted and multiplied with the ciphertext, produces a conformant plaintext), Step 2c, the fast O(log n) search, and Step 3.\n",
    "\n",
    "Your Step 3 code is probably not going to need to handle multiple ranges.\n",
    "\n",
    "We recommend you just use the raw math from paper (check, check, double check your translation to code) and not spend too much time trying to grok how the math works.\n",
    "\n",
    "</div>    "
   ]
  },
  {
   "cell_type": "markdown",
   "metadata": {},
   "source": [
    "---"
   ]
  },
  {
   "cell_type": "markdown",
   "metadata": {},
   "source": [
    "<div class=\"alert alert-block alert-info\">   \n",
    "\n",
    "- Generate a 256 bit keypair (that is, p and q will each be 128 bit primes), [n, e, d].\n",
    "    \n",
    "</div> "
   ]
  },
  {
   "cell_type": "code",
   "execution_count": 2,
   "metadata": {},
   "outputs": [
    {
     "name": "stdout",
     "output_type": "stream",
     "text": [
      "...\n",
      "Generated working parameters:\n",
      "\n",
      "e=3\n",
      "d=29101896161579898797904737493153263735320159038484732736618355837704120871851\n",
      "n=43652844242369848196857106239729895603398343547168582480221614873868167538779\n"
     ]
    }
   ],
   "source": [
    "valid_params = False\n",
    "\n",
    "while not(valid_params):\n",
    "    \n",
    "    print('.', end='')\n",
    "    p = number.getPrime(256 // 2)\n",
    "    q = number.getPrime(256 // 2)\n",
    "\n",
    "    n = (p * q)\n",
    "\n",
    "    et = (p-1) * (q-1)\n",
    "    e = 3\n",
    "\n",
    "    d = cp.invmod(e, et)\n",
    "\n",
    "    # Check parameters:\n",
    "    PT = random.randint(0, 2**32-1)\n",
    "    valid_params = (pow(pow(PT, e, n), d, n) == PT)\n",
    "\n",
    "print(f\"\\nGenerated working parameters:\\n\")\n",
    "print(f\"e={e}\\nd={d}\\nn={n}\")"
   ]
  },
  {
   "cell_type": "code",
   "execution_count": 3,
   "metadata": {},
   "outputs": [],
   "source": [
    "# Set decimal precision to handle math  for this challenge...\n",
    "getcontext().prec = int(math.log2(n))"
   ]
  },
  {
   "cell_type": "code",
   "execution_count": 4,
   "metadata": {},
   "outputs": [],
   "source": [
    "# e, d, n = cp.genRSA_keypair(1024)"
   ]
  },
  {
   "cell_type": "markdown",
   "metadata": {},
   "source": [
    "<div class=\"alert alert-block alert-info\">   \n",
    "    \n",
    "- Build an oracle function, just like you did in the last exercise, but have it check for plaintext[0] == 0 and plaintext[1] == 2.\n",
    "- Plug d and n into your oracle function.\n",
    "- PKCS1.5-pad a short message, like \"kick it, CC\", and call it \"m\". Encrypt to to get \"c\".\n",
    "\n",
    "</div> \n",
    "\n",
    "Here is [RFC2313](https://tools.ietf.org/html/rfc2313) that describes PKCS1.5 padding for RSA.  For encryption, we assume block type 02.  \n",
    "\n",
    "The encryption block `EB` is constructed as:\n",
    "\n",
    "`EB = 00 || BT || PS || 00 || D`\n",
    "\n",
    "where:\n",
    "\n",
    "- `BT = 02`\n",
    "- `PS` is the padding string, which is pseudorandomly generated w/ no `00`'s\n",
    "- `D` is the data\n",
    "\n",
    "The length of the encryption block `EB` is equal to `k`, where `k` is the length of the modulus in octets (bytes).  "
   ]
  },
  {
   "cell_type": "code",
   "execution_count": 5,
   "metadata": {},
   "outputs": [],
   "source": [
    "def remove_pkcs15_padding(byte_data, n):\n",
    "    \n",
    "    k = math.ceil(math.log2(n)) // 8\n",
    "    \n",
    "    if len(byte_data)==(k-1):        \n",
    "        byte_data = b'\\x00' + byte_data\n",
    "    \n",
    "    if not(len(byte_data) == k):\n",
    "        return(False)\n",
    "\n",
    "    if not(byte_data[1] == 0x02):\n",
    "        return(False)\n",
    "    \n",
    "    data_idx = byte_data.find(b'\\x00', 2) + 1   \n",
    "    payload = byte_data[data_idx:]\n",
    "    \n",
    "    return(payload)\n",
    "    \n",
    "def validate_pkcs15_padding(byte_data, n):\n",
    "\n",
    "    k = math.ceil(math.log2(n)) // 8\n",
    "    \n",
    "    if len(byte_data)==(k-1):        \n",
    "        byte_data = b'\\x00' + byte_data\n",
    "    \n",
    "    if not(len(byte_data) == k):\n",
    "        return(False)\n",
    "\n",
    "    if not(byte_data[1] == 0x02):\n",
    "        return(False)\n",
    "    \n",
    "    data_idx = byte_data.find(b'\\x00', 3) + 1\n",
    "    \n",
    "    return not(data_idx == 0)\n",
    "\n",
    "def simple_validate_padding(byte_data, n):\n",
    "\n",
    "    k = math.ceil(math.log2(n)) // 8\n",
    "    \n",
    "    if len(byte_data)==(k-1):        \n",
    "        byte_data = b'\\x00' + byte_data\n",
    "    \n",
    "    if not(len(byte_data) == k):\n",
    "        return(False)\n",
    "\n",
    "    if not(byte_data[1] == 0x02):\n",
    "        return(False)\n",
    "\n",
    "    return(True)\n",
    "\n",
    "def pkcs15_pad(data, n):\n",
    "    \n",
    "    k = math.ceil(math.log2(n)) // 8\n",
    "    data_len = len(data)\n",
    "    ps_len = k - data_len - 3\n",
    "    \n",
    "    b00 = b'\\x00'\n",
    "    BT = b'\\x02'\n",
    "    PS = []\n",
    "    \n",
    "    for ii in range(ps_len):\n",
    "        PS.append(random.randint(1, 255))\n",
    "    \n",
    "    EB = b00 + BT + bytes(PS) + b00 + data\n",
    "    \n",
    "    return(EB)\n",
    "\n",
    "def bytes_to_bigint(byte_data):\n",
    "    \n",
    "    return(int(byte_data.hex(), 16))\n",
    "\n",
    "def bigint_to_bytes(int_data):\n",
    "    \n",
    "    hex_data = hex(int_data)[2:]\n",
    "    if len(hex_data) % 2:\n",
    "        hex_data = '0' + hex_data\n",
    "    return(bytes.fromhex(hex_data))\n"
   ]
  },
  {
   "cell_type": "code",
   "execution_count": 6,
   "metadata": {},
   "outputs": [],
   "source": [
    "def challenge47_oracle(ciphertext):\n",
    "    \n",
    "    plaintext = pow(ciphertext, d, n)\n",
    "    plaintext_hex = hex(plaintext)[2:]\n",
    "    if (len(plaintext_hex) % 2):\n",
    "        plaintext_hex = '0' + plaintext_hex\n",
    "    plaintext_bytes = bytes.fromhex(plaintext_hex)\n",
    "    \n",
    "    return( simple_validate_padding(plaintext_bytes, n) )\n",
    "        "
   ]
  },
  {
   "cell_type": "code",
   "execution_count": 7,
   "metadata": {},
   "outputs": [
    {
     "data": {
      "text/plain": [
       "b'\\x02\\xe4h.{\\xa8?\\xb2%\\xd7k\\xe4\\xc2\\xf8\\x1f@X\\x8a{\\xf1mA\\x1d\\x8a\\xe1\\x00help'"
      ]
     },
     "execution_count": 7,
     "metadata": {},
     "output_type": "execute_result"
    }
   ],
   "source": [
    "x = pkcs15_pad(b'help', n)\n",
    "x_int = bytes_to_bigint(x)\n",
    "bigint_to_bytes(x_int)"
   ]
  },
  {
   "cell_type": "code",
   "execution_count": 8,
   "metadata": {},
   "outputs": [
    {
     "name": "stdout",
     "output_type": "stream",
     "text": [
      "This is a test message\n"
     ]
    }
   ],
   "source": [
    "# Test everything out to make sure it works....\n",
    "m = bytes_to_bigint(pkcs15_pad(b'This is a test message', n))\n",
    "c = pow(m, e, n)\n",
    "m_r = bigint_to_bytes(pow(c, d, n))\n",
    "assert(validate_pkcs15_padding(m_r, n))\n",
    "m_r = remove_pkcs15_padding(m_r, n)\n",
    "print(m_r.decode())"
   ]
  },
  {
   "cell_type": "code",
   "execution_count": 9,
   "metadata": {},
   "outputs": [],
   "source": [
    "m = bytes_to_bigint(pkcs15_pad(b'kick it, cc', n))\n",
    "c = pow(m, e, n)"
   ]
  },
  {
   "cell_type": "markdown",
   "metadata": {},
   "source": [
    "<div class=\"alert alert-block alert-info\">   \n",
    "\n",
    "- Decrypt \"c\" using your padding oracle.\n",
    "    \n",
    "</div>"
   ]
  },
  {
   "cell_type": "code",
   "execution_count": 10,
   "metadata": {},
   "outputs": [],
   "source": [
    "# Implement Step #3 - Narrowing set of solutions.\n",
    "\n",
    "def update_intervals(M_Last, s):\n",
    "    \n",
    "    M = []\n",
    "\n",
    "    for interval in M_Last:\n",
    "\n",
    "        a, b = interval[1], interval[2]\n",
    "        r_min = math.floor((a*s - 3*B + 1) / n) \n",
    "        r_max = math.ceil((b*s - 2*B) / n) \n",
    "        \n",
    "        for r in range(r_min, r_max+1):\n",
    "            new_a = max(a, math.ceil((2*B+r*n)/s)) \n",
    "            new_b = min(b, math.floor((3*B - 1 + r*n) / s)) \n",
    "            if new_b >= new_a:\n",
    "                M.append([r, new_a, new_b])\n",
    "    \n",
    "    if M == []:\n",
    "        return(M_Last)\n",
    "        print('Houston, we have a problem')\n",
    "    else:\n",
    "        return(M)"
   ]
  },
  {
   "cell_type": "code",
   "execution_count": 11,
   "metadata": {},
   "outputs": [],
   "source": [
    "# Implement Step 2.a - find an initial s that results in conforming PKCS padding:\n",
    "\n",
    "k = math.ceil(math.log2(n)) // 8\n",
    "B = Decimal(2**(8*(k-2)))\n",
    "s0 = math.ceil(n / (3*B))\n",
    "\n",
    "conforming = False\n",
    "while not(conforming):\n",
    "    \n",
    "    c_ = c*(pow(s0, e, n)) % n\n",
    "    conforming = challenge47_oracle(c_)\n",
    "    if not(conforming):\n",
    "        s0 += 1    "
   ]
  },
  {
   "cell_type": "code",
   "execution_count": null,
   "metadata": {},
   "outputs": [
    {
     "name": "stdout",
     "output_type": "stream",
     "text": [
      "[[1, 20603935705704694264213746342859903428595752444881131250038809892128640, 20603938963295247371954082684102865876204508355963374591078197489099668]]\n",
      ".[[5, 20603936328534173878085053550047232807128735159224373678059894185687772, 20603936980052469007704273973881582702777708560225680648984756144779964]]\n",
      ".[[10, 20603936649511896737521430934221213732439679848152691656534387902786256, 20603936975271059678008717313752509321083410051838425886022479068602971]]\n",
      ".[[20, 20603936810000769529737406597481825800985261259313843797296562253107512, 20603936972880354843900740975924948476382553315034042449971555510360497]]\n",
      ".[[40, 20603936890245208766470075805141743768060202229318240256074879707337614, 20603936971685002384531699809882226803517413885434285821631214299586894]]\n",
      ".[[80, 20603936930367429094992610082136227155485038605855858779047791040714638, 20603936971087326144268415540680068837816346604164186198252929823126940]]\n",
      ".[[24707, 20603936942177147279426577035704590346954865376833215841045440720944611, 20603936942308996220157690290368156121985949677313016186503205341012667]]\n",
      ".[[49417, 20603936942177147279426577035704590346954865376833215841045440720944611, 20603936942231021906835090281551791761289260371317030898055754307494208]]\n",
      ".[[98834, 20603936942197577890686623055132538737376285344467030926412938981982111, 20603936942230538124803203533810995172560814214494326988161171387416467]]\n",
      ".[[197668, 20603936942213816116728928836298819383331867044251209362780589197785214, 20603936942230296233787258427165126235691074676188502820372779623227267]]\n",
      ".[[395336, 20603936942221935229750110807333400982901514180493143536712000020957987, 20603936942230175288279285440648324103009466753564280910315647244656629]]\n",
      ".[[790675, 20603936942221935229750110807333400982901514180493143536712000020957987, 20603936942225302211251779146567038941118322674735953950349289457331915]]\n",
      ".[[1605926, 20603936942221935229750110807333400982901514180493143536712000020957987, 20603936942223013549050090823079114765130245524549627217499665436475040]]\n",
      ".[[3211852, 20603936942221984421340583798740687987172757798138433346415905457256918, 20603936942222998662276558456194972896018836088342540249694618646368807]]\n",
      ".[[6423707, 20603936942221984421340583798740687987172757798138433346415905457256918, 20603936942222398853062213985507143602020700128006893119410585653749390]]\n",
      ".[[12847414, 20603936942222141571254993005896318740100646381233948912402878473842834, 20603936942222395131370568976350407390094885484658421040668313690798177]]\n",
      ".[[25694832, 20603936942222195195090865896696077612890686406638675105060289002440967, 20603936942222321975128917610341952554377794803256233059010866337045704]]\n",
      ".[[51414230, 20603936942222195195090865896696077612890686406638675105060289002440967, 20603936942222246415247328694026651878469428791570028591569285261207012]]\n",
      ".[[102828460, 20603936942222214270392761813715993932655010694077403063904684885352837, 20603936942222245950258226028803241709905643497362426112909729296738088]]\n",
      ".[[205656924, 20603936942222220970167981407080087760840548027828899859783717324741609, 20603936942222236810100405430054381004422463631247328066887761898251154]]\n",
      ".[[411313852, 20603936942222224320055493471465319893530874744699788029562955399432503, 20603936942222232240021628461812380930387201555783309086104820949372325]]\n",
      ".[[822627708, 20603936942222225994999225070584563899547602227561331020903281558481493, 20603936942222229954982273310473353906273324745005622602496807220776120]]\n",
      ".[[1645279957, 20603936942222225994999225070584563899547602227561331020903281558481493, 20603936942222227165622297266816455391764630724392260759188179610244649]]\n",
      ".[[3290559914, 20603936942222226161110609765511110827527240686960502764901259296350340, 20603936942222227151091605046192730079572625461781367165561992943744636]]\n",
      ".[[6581119828, 20603936942222226648835761295540020733729510433966154988833553417327511, 20603936942222227143826258935880865860273439474606623185502564393808618]]\n",
      ".[[13162239659, 20603936942222226648835761295540020733729510433966154988833553417327511, 20603936942222226851095201447528553770674241595375273760791640290529369]]\n",
      ".[[26324479318, 20603936942222226725531240538484498716188821803904460035219554519798165, 20603936942222226849278864920364570288340808880085264868250993441063980]]\n",
      ".[[52648958636, 20603936942222226786496884465842542181977405185699374943949038817907464, 20603936942222226848370696656782578522749042793638868932930768562345401]]\n",
      ".[[105297941798, 20603936942222226786496884465842542181977405185699374943949038817907464, 20603936942222226800760904085033019935190367347110008639070830618113487]]\n",
      ".[[210595883596, 20603936942222226786496884465842542181977405185699374943949038817907464, 20603936942222226800533862072020167195719768255164520442217976803567624]]\n",
      ".[[421191767192, 20603936942222226792686116343102527648549600713839583334911882055139042, 20603936942222226800420341065513740825602827484963089033582150044027984]]\n",
      ".[[842383534384, 20603936942222226796496468201054921049755554557968352640091951612783959, 20603936942222226800363580562260527640448946793805201501337671757928363]]\n",
      ".[[1684767068771, 20603936942222226796496468201054921049755554557968352640091951612783959, 20603936942222226798076619708927558108402982878449248592096010743344833]]\n",
      ".[[3369534137542, 20603936942222226797095651492814599936227265060603937809504805082428541, 20603936942222226798062429583114280079593733080760904942090995378028312]]\n",
      ".[[3369534137542, 20603936942222226797095651492814599936227265060603937809504805082428541, 20603936942222226798062429583114280079593733080760904942090995378028312]]\n",
      ".[[3369534137542, 20603936942222226797095651492814599936227265060603937809504805082428541, 20603936942222226798062429583114280079593733080760904942090995378028312]]\n",
      ".[[3369534137542, 20603936942222226797095651492814599936227265060603937809504805082428541, 20603936942222226798062429583114280079593733080760904942090995378028312]]\n",
      ".[[3369534137542, 20603936942222226797095651492814599936227265060603937809504805082428541, 20603936942222226798062429583114280079593733080760904942090995378028312]]\n",
      "."
     ]
    }
   ],
   "source": [
    "s = s0\n",
    "\n",
    "M = [[0, 2*B, 3*B - 1]]\n",
    "M = update_intervals(M, s)\n",
    "\n",
    "a = Decimal(0)\n",
    "b = Decimal(0)\n",
    "r = Decimal(0)\n",
    "\n",
    "done = False\n",
    "count = 0\n",
    "while not(done):\n",
    "\n",
    "    conforming = False\n",
    "    print(M)\n",
    "    if len(M) > 1:\n",
    "        \n",
    "        # Step 2.b:  Searching with more than one interval left\n",
    "        uh_oh = s-1\n",
    "        while not(conforming):\n",
    "            if s == uh_oh:\n",
    "                print('CRAP!')\n",
    "            count += 1\n",
    "            if count % 10000 == 0:\n",
    "                print('x', end='')\n",
    "            s = (s + 1) % n\n",
    "            c_ = c*(pow(s, e, n)) % n\n",
    "            conforming = challenge47_oracle(c_)\n",
    "            \n",
    "    else: \n",
    "        \n",
    "        # Step 2.c:  Searching with one interval left\n",
    "        \n",
    "        a, b = M[0][1], M[0][2]        \n",
    "        r = math.floor(2*((b*s - 2*B) / n)) \n",
    "        print('.', end='')\n",
    "        while not(conforming):\n",
    "            \n",
    "            s_min = math.floor((2*B + r*n) / b) \n",
    "            s_max = math.ceil((3*B + r*n) / a) \n",
    "            s = s_min\n",
    "\n",
    "            while not(conforming) and (s != (s_max + 1)):\n",
    "                \n",
    "                c_ = c*(pow(s, e, n)) % n\n",
    "                conforming = challenge47_oracle(c_)\n",
    "                if not(conforming):\n",
    "                    s += 1\n",
    "                \n",
    "            r = (r + 1) % n\n",
    "                \n",
    "    M = update_intervals(M, s)\n",
    "    if (len(M) == 1) and (M[0][1] == M[0][2]): \n",
    "        done = True"
   ]
  },
  {
   "cell_type": "code",
   "execution_count": null,
   "metadata": {},
   "outputs": [],
   "source": [
    "recovered_msg = remove_pkcs15_padding(bigint_to_bytes(M[0][1]), n)\n",
    "print(recovered_msg)"
   ]
  },
  {
   "cell_type": "code",
   "execution_count": null,
   "metadata": {},
   "outputs": [],
   "source": [
    "s = s0"
   ]
  },
  {
   "cell_type": "markdown",
   "metadata": {
    "slideshow": {
     "slide_type": "slide"
    }
   },
   "source": [
    "[Back to Index](CryptoPalsWalkthroughs_Cobb.ipynb)"
   ]
  }
 ],
 "metadata": {
  "kernelspec": {
   "display_name": "Python 3",
   "language": "python",
   "name": "python3"
  },
  "language_info": {
   "codemirror_mode": {
    "name": "ipython",
    "version": 3
   },
   "file_extension": ".py",
   "mimetype": "text/x-python",
   "name": "python",
   "nbconvert_exporter": "python",
   "pygments_lexer": "ipython3",
   "version": "3.7.6"
  }
 },
 "nbformat": 4,
 "nbformat_minor": 4
}
