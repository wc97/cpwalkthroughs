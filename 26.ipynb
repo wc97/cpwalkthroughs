{
 "cells": [
  {
   "cell_type": "markdown",
   "metadata": {},
   "source": [
    "### Challenge 25: CTR bitflipping\n",
    "\n",
    "[Back to Index](CryptoPalsWalkthroughs_Cobb.ipynb)"
   ]
  },
  {
   "cell_type": "markdown",
   "metadata": {},
   "source": [
    "<div class=\"alert alert-block alert-info\">\n",
    "\n",
    "There are people in the world that believe that CTR resists bit flipping attacks of the kind to which CBC mode is susceptible.\n",
    "\n",
    "Re-implement the CBC bitflipping exercise from earlier to use CTR mode instead of CBC mode. Inject an \"admin=true\" token.\n",
    "\n",
    "</div>"
   ]
  },
  {
   "cell_type": "markdown",
   "metadata": {},
   "source": [
    "The CBC bit-flipping attack was [Challenge 16](16.ipynb).  "
   ]
  },
  {
   "cell_type": "code",
   "execution_count": 1,
   "metadata": {},
   "outputs": [],
   "source": [
    "import cryptopals as cp\n",
    "from Crypto import Random"
   ]
  },
  {
   "cell_type": "markdown",
   "metadata": {},
   "source": [
    "<div class=\"alert alert-block alert-info\">\n",
    "Generate a random AES key.\n",
    "</div>\n",
    "\n",
    "I just discovered the Crypto random library -- which has get_random_bytes and getrandbits.  Will use those from here out."
   ]
  },
  {
   "cell_type": "code",
   "execution_count": 2,
   "metadata": {},
   "outputs": [],
   "source": [
    "# ---------UNKNOWN PARAMETERS ------------\n",
    "unknown_key = Random.get_random_bytes(16)\n",
    "unknown_nonce = Random.get_random_bytes(8)\n",
    "# ---------END UNKNOWN PARAMETERS---------"
   ]
  },
  {
   "cell_type": "markdown",
   "metadata": {},
   "source": [
    "Modified description from Exercise 16 to use CTR mode in place of CBC:\n",
    "\n",
    "<div class=\"alert alert-block alert-info\">\n",
    "    \n",
    "Combine your padding code and ~~CBC~~ **CTR** code to write two functions.\n",
    "\n",
    "The first function should take an arbitrary input string, prepend the string:\n",
    "\n",
    "```\"comment1=cooking%20MCs;userdata=\"```\n",
    "\n",
    ".. and append the string:\n",
    "\n",
    "```\";comment2=%20like%20a%20pound%20of%20bacon\"```\n",
    "\n",
    "The function should quote out the \";\" and \"=\" characters.\n",
    "\n",
    "The function should then pad out the input to the 16-byte AES block length and encrypt it under the random AES key.\n",
    "</div>"
   ]
  },
  {
   "cell_type": "code",
   "execution_count": 3,
   "metadata": {},
   "outputs": [],
   "source": [
    "def Challenge26Part1(data, key, nonce):\n",
    "\n",
    "    prepend_str = b'comment1=cooking%20MCs;userdata='\n",
    "    append_str = b';comment2=%20like%20a%20pound%20of%20bacon'\n",
    "\n",
    "    data = data.replace(b';', b'\\\";\\\"')\n",
    "    data = data.replace(b'=', b'\\\"=\\\"')\n",
    "\n",
    "    plaintext = prepend_str + data + append_str\n",
    "    plaintext = cp.PKCS7_pad(plaintext)\n",
    "\n",
    "    ciphertext = cp.AESEncrypt(plaintext, key, 'CTR', nonce)\n",
    "\n",
    "    return(ciphertext)"
   ]
  },
  {
   "cell_type": "markdown",
   "metadata": {},
   "source": [
    "<div class=\"alert alert-block alert-info\">\n",
    "    \n",
    "The second function should decrypt the string and look for the characters \";admin=true;\" (or, equivalently, decrypt, split the string on \";\", convert each resulting string into 2-tuples, and look for the \"admin\" tuple).\n",
    "\n",
    "Return true or false based on whether the string exists.\n",
    "</div>"
   ]
  },
  {
   "cell_type": "code",
   "execution_count": 4,
   "metadata": {},
   "outputs": [],
   "source": [
    "def Challenge26Part2(ciphertext, key, nonce):\n",
    "\n",
    "    plaintext = cp.AESDecrypt(ciphertext, key, 'CTR', nonce)\n",
    "    plaintext = cp.strip_PKCS7_pad(plaintext)\n",
    "\n",
    "    if plaintext.find(b';admin=true;') >= 0:\n",
    "        return(True)\n",
    "    else:\n",
    "        return(False)"
   ]
  },
  {
   "cell_type": "markdown",
   "metadata": {},
   "source": [
    "<div class=\"alert alert-block alert-info\">\n",
    "If you've written the first function properly, it should not be possible to provide user input to it that will generate the string the second function is looking for. We'll have to break the crypto to do that.\n",
    "</div>\n",
    "\n",
    "Let's try the trivial solution again -- just to confirm our functions work properly and reject it."
   ]
  },
  {
   "cell_type": "code",
   "execution_count": 5,
   "metadata": {},
   "outputs": [
    {
     "name": "stdout",
     "output_type": "stream",
     "text": [
      "*** Try again loser!!!\n"
     ]
    }
   ],
   "source": [
    "# Try the trivial solution:\n",
    "\n",
    "payload = b';admin=true'\n",
    "ct = Challenge26Part1(payload, unknown_key, unknown_nonce)\n",
    "\n",
    "# Check to see if we were successful...\n",
    "\n",
    "if Challenge26Part2(ct, unknown_key, unknown_nonce) is True:\n",
    "    print('*** Success')\n",
    "else:\n",
    "    print('*** Try again loser!!!')"
   ]
  },
  {
   "cell_type": "markdown",
   "metadata": {},
   "source": [
    "---\n",
    "Here was the hint for CBC mode.  How do we use what we learned there for CTR mode?\n",
    "\n",
    "<div class=\"alert alert-block alert-info\">\n",
    "    \n",
    "Instead, modify the ciphertext (without knowledge of the AES key) to accomplish this.\n",
    "\n",
    "You're relying on the fact that in CBC mode, a 1-bit error in a ciphertext block:\n",
    "- Completely scrambles the block the error occurs in\n",
    "- Produces the identical 1-bit error(/edit) in the next ciphertext block.\n",
    "\n",
    "    <div class=\"alert alert-block alert-warning\">\n",
    "        \n",
    "    ### Stop and think for a second.\n",
    "    \n",
    "    Before you implement this attack, answer this question: why does CBC mode have this property?\n",
    "        \n",
    "    </div>\n",
    "    \n",
    "</div>\n",
    "\n",
    "We should be able to do the same thing...except without corrupting any data this time because of how CTR mode works.  We just need to construct some carefully chosen user data and do a cut & paste.  \n",
    "\n",
    "First things first -- we need to figure out what we are controlling with our user data..."
   ]
  },
  {
   "cell_type": "code",
   "execution_count": 6,
   "metadata": {},
   "outputs": [],
   "source": [
    "payload = b''\n",
    "ct = Challenge26Part1(payload, unknown_key, unknown_nonce)\n",
    "payload2 = b'x'\n",
    "ct2 = Challenge26Part1(payload2, unknown_key, unknown_nonce)"
   ]
  },
  {
   "cell_type": "markdown",
   "metadata": {},
   "source": [
    "Find the index of the first byte that's different between the two ciphertexts -- this is where we have control."
   ]
  },
  {
   "cell_type": "code",
   "execution_count": 7,
   "metadata": {},
   "outputs": [
    {
     "name": "stdout",
     "output_type": "stream",
     "text": [
      "First difference found at byte 32\n"
     ]
    }
   ],
   "source": [
    "idx = 0\n",
    "while ct[idx] == ct2[idx]:\n",
    "    idx+=1\n",
    "print(f\"First difference found at byte {idx}\")"
   ]
  },
  {
   "cell_type": "markdown",
   "metadata": {},
   "source": [
    "---\n",
    "Now, supply user data to learn the key-stream for 11 bytes starting at that index: "
   ]
  },
  {
   "cell_type": "code",
   "execution_count": 8,
   "metadata": {},
   "outputs": [],
   "source": [
    "payload = b'\\x00'*11\n",
    "ct = Challenge26Part1(payload, unknown_key, unknown_nonce)\n",
    "key_bytes = ct[idx:idx+11]"
   ]
  },
  {
   "cell_type": "markdown",
   "metadata": {},
   "source": [
    "Now edit the ciphertext to what we want."
   ]
  },
  {
   "cell_type": "code",
   "execution_count": 9,
   "metadata": {},
   "outputs": [],
   "source": [
    "payload = b';admin=true'\n",
    "edited_ct = ct[0:idx] + cp.bitwise_xor(payload, key_bytes) + ct[idx+11:]"
   ]
  },
  {
   "cell_type": "markdown",
   "metadata": {},
   "source": [
    "And check to see if it worked..."
   ]
  },
  {
   "cell_type": "code",
   "execution_count": 10,
   "metadata": {},
   "outputs": [
    {
     "name": "stdout",
     "output_type": "stream",
     "text": [
      "*** Success\n"
     ]
    }
   ],
   "source": [
    "if Challenge26Part2(edited_ct, unknown_key, unknown_nonce) is True:\n",
    "    print('*** Success')\n",
    "else:\n",
    "    print('*** Try again loser!!!')"
   ]
  },
  {
   "cell_type": "markdown",
   "metadata": {},
   "source": [
    "[Back to Index](CryptoPalsWalkthroughs_Cobb.ipynb)"
   ]
  }
 ],
 "metadata": {
  "kernelspec": {
   "display_name": "Python 3",
   "language": "python",
   "name": "python3"
  },
  "language_info": {
   "codemirror_mode": {
    "name": "ipython",
    "version": 3
   },
   "file_extension": ".py",
   "mimetype": "text/x-python",
   "name": "python",
   "nbconvert_exporter": "python",
   "pygments_lexer": "ipython3",
   "version": "3.7.4"
  }
 },
 "nbformat": 4,
 "nbformat_minor": 4
}
