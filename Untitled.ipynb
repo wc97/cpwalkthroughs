{
 "cells": [
  {
   "cell_type": "code",
   "execution_count": null,
   "metadata": {},
   "outputs": [],
   "source": [
    "import time, random\n",
    "\n",
    "t = time.time()\n",
    "\n",
    "for ii in range(100000):\n",
    "    x = random.randint(0, 2**24)\n",
    "    x = (x + 2**34) % 2**32\n",
    "    \n",
    "print(time.time() - t)\n",
    "\n",
    "t = time.time()\n",
    "\n",
    "for ii in range(100000):\n",
    "    x = random.randint(0, 2**24)\n",
    "    x = (x + 2**34) % (1 << 32)\n",
    "    \n",
    "print(time.time() - t)"
   ]
  }
 ],
 "metadata": {
  "kernelspec": {
   "display_name": "Python 3",
   "language": "python",
   "name": "python3"
  },
  "language_info": {
   "codemirror_mode": {
    "name": "ipython",
    "version": 3
   },
   "file_extension": ".py",
   "mimetype": "text/x-python",
   "name": "python",
   "nbconvert_exporter": "python",
   "pygments_lexer": "ipython3",
   "version": "3.7.6"
  }
 },
 "nbformat": 4,
 "nbformat_minor": 4
}
