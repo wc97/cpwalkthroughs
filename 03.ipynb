{
 "cells": [
  {
   "cell_type": "markdown",
   "metadata": {},
   "source": [
    "### Set 1 - Challenge #3:  Single-byte XOR cipher\n",
    "\n",
    "<div class=\"alert alert-block alert-info\">\n",
    "    \n",
    "The hex encoded string: \n",
    "\n",
    "```1b37373331363f78151b7f2b783431333d78397828372d363c78373e783a393b3736```\n",
    "    \n",
    "... has been XOR'd against a single character. Find the key, decrypt the message. \n",
    "\n",
    "You can do this by hand. But don't: write code to do it for you. \n",
    "\n",
    "How? Devise some method for \"scoring\" a piece of English plaintext. Character \n",
    "frequency is a good metric. Evaluate each output and choose the one with the best score. \n",
    "    \n",
    "<div class=\"alert alert-block alert-warning\">\n",
    "    \n",
    "### Achievement Unlocked\n",
    "\n",
    "You now have our permission to make \"ETAOIN SHRDLU\" jokes on Twitter. \n",
    "\n",
    "</div>\n",
    "    \n",
    "</div>\n",
    "\n",
    "[Back to Index](CryptoPalsWalkthroughs_Cobb.ipynb)"
   ]
  },
  {
   "cell_type": "markdown",
   "metadata": {},
   "source": [
    "There are a few functions we'll need to define to solve this.\n",
    "\n",
    "- The bitwise_xor from before\n",
    "- A function to score how English-like a given string / bytes variable is\n",
    "- A function to count the # of occurences of a given list of characters occur within a string (used by the english scoring fucntion)\n",
    "- Implement argmax to find the index of the maximum value within a list (replicate functionality of numpy.argmax for a ```list```)"
   ]
  },
  {
   "cell_type": "code",
   "execution_count": 2,
   "metadata": {},
   "outputs": [],
   "source": [
    "def bitwise_xor(a, b): \n",
    "    \n",
    "    \"\"\"Returns the bitwise XOR of two byte vectors: a and b\"\"\"\n",
    "    c = [(a ^ b) for a, b in zip(a,b)]\n",
    "    \n",
    "    return(bytes(c))\n",
    "\n",
    "\n",
    "def count_chars(s, chars):\n",
    "\n",
    "    \"\"\"Counts the number of occurences of a given list of characters within string, s\"\"\"\n",
    "    counts = {c: s.count(c) for c in chars}\n",
    "    total = sum(counts.values())\n",
    "\n",
    "    return(total)\n",
    "\n",
    "\n",
    "def score_english(data):\n",
    "    \n",
    "    \"\"\"\n",
    "    Very simple function that counts the number of occurences of characters \n",
    "    from the Alphabet and common punctuation in a string.  \n",
    "    \"\"\"\n",
    "    \n",
    "    goodChars = b'ABCDEFGHIJKLMNOPQRSTUVWXYZabcdefghijklmnopqrstuvwxyz.,! '\n",
    "    count = count_chars(data, goodChars)\n",
    "\n",
    "    return(count-(len(data)-count))\n",
    "\n",
    "\n",
    "def argmax(some_list):\n",
    "    \n",
    "    \"\"\"Replicates the numpy.argmax for a python list (or other iterable)\"\"\"\n",
    "    return(max(range(len(some_list)), key=lambda x: some_list[x]))\n",
    "    "
   ]
  },
  {
   "cell_type": "markdown",
   "metadata": {},
   "source": [
    "Now, we want a function that will take a string that has been \"encrypted\" using single-character XOR function, and find the plaintext and key used to encrypt it."
   ]
  },
  {
   "cell_type": "code",
   "execution_count": 1,
   "metadata": {},
   "outputs": [],
   "source": [
    "def break_single_char_XOR(encoded_bv):\n",
    "\n",
    "    \"\"\"\n",
    "    Implements the solution to Set 1, Problem 3\n",
    "    \n",
    "    Given a hex-encoded string that was XOR'd against a single character,\n",
    "    will search for the \"key\" and return it along with the decoded \n",
    "    message.\n",
    "    \"\"\"\n",
    "    score_vec = [0]*256\n",
    "\n",
    "    for ii in range(0, 256):\n",
    "        decoded_bv = bitwise_xor(encoded_bv, [ii] * len(encoded_bv))\n",
    "        score_vec[ii] = score_english(decoded_bv)\n",
    "\n",
    "    correct_key = argmax(score_vec)\n",
    "    decoded_bv = bitwise_xor(encoded_bv, [correct_key] * len(encoded_bv))\n",
    "\n",
    "    return (correct_key, decoded_bv)"
   ]
  },
  {
   "cell_type": "markdown",
   "metadata": {},
   "source": [
    "Test our solution against the challenge data:"
   ]
  },
  {
   "cell_type": "code",
   "execution_count": 3,
   "metadata": {},
   "outputs": [
    {
     "name": "stdout",
     "output_type": "stream",
     "text": [
      "Found Key: 88 = X\n",
      "Decoded Message is:\n",
      "Cooking MC's like a pound of bacon\n"
     ]
    }
   ],
   "source": [
    "hex_str = '1b37373331363f78151b7f2b783431333d78397828372d363c78373e783a393b3736'\n",
    "encoded_bv = bytes.fromhex(hex_str)\n",
    "\n",
    "(correct_key, decoded_bv) = break_single_char_XOR(encoded_bv)\n",
    "\n",
    "print(f'Found Key: {correct_key} = {chr(correct_key)}')\n",
    "print('Decoded Message is:')\n",
    "print(bytes(decoded_bv).decode())"
   ]
  },
  {
   "cell_type": "markdown",
   "metadata": {},
   "source": [
    "### cryptopals.py\n",
    "\n",
    "For future exercises, we'll start putting the functions we create into this file and import it..."
   ]
  },
  {
   "cell_type": "markdown",
   "metadata": {},
   "source": [
    "[Back to Index](CryptoPalsWalkthroughs_Cobb.ipynb)"
   ]
  }
 ],
 "metadata": {
  "kernelspec": {
   "display_name": "Python 3",
   "language": "python",
   "name": "python3"
  },
  "language_info": {
   "codemirror_mode": {
    "name": "ipython",
    "version": 3
   },
   "file_extension": ".py",
   "mimetype": "text/x-python",
   "name": "python",
   "nbconvert_exporter": "python",
   "pygments_lexer": "ipython3",
   "version": "3.7.4"
  }
 },
 "nbformat": 4,
 "nbformat_minor": 4
}
