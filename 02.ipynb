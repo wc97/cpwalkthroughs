{
 "cells": [
  {
   "cell_type": "markdown",
   "metadata": {},
   "source": [
    "## Set 1 - Challenge #2:  Fixed XOR:\n",
    "\n",
    "<div class=\"alert alert-block alert-info\">\n",
    "    \n",
    "Write a function that takes two equal-length buffers and produces their XOR combination. \n",
    "\n",
    "If your function works properly, then when you feed it the string: \n",
    "\n",
    "```1c0111001f010100061a024b53535009181c```\n",
    "    \n",
    "... after hex decoding, and when XOR'd against: \n",
    "\n",
    "```686974207468652062756c6c277320657965```\n",
    "    \n",
    "... should produce: \n",
    "\n",
    "```746865206b696420646f6e277420706c6179```\n",
    "\n",
    "</div>\n",
    "    \n",
    "[Back to Index](CryptoPalsWalkthroughs_Cobb.ipynb)"
   ]
  },
  {
   "cell_type": "markdown",
   "metadata": {},
   "source": [
    "---\n",
    "Initialize some variables with data from the challenge to test our XOR function"
   ]
  },
  {
   "cell_type": "code",
   "execution_count": 1,
   "metadata": {},
   "outputs": [],
   "source": [
    "a = bytes.fromhex('1c0111001f010100061a024b53535009181c')\n",
    "b = bytes.fromhex('686974207468652062756c6c277320657965')\n",
    "\n",
    "good_answer = '746865206b696420646f6e277420706c6179'"
   ]
  },
  {
   "cell_type": "markdown",
   "metadata": {},
   "source": [
    "---\n",
    "To implement the bitwise XOR, we'll use list comprehension and \"zip\".  Return the result as ```bytes```"
   ]
  },
  {
   "cell_type": "code",
   "execution_count": 2,
   "metadata": {},
   "outputs": [],
   "source": [
    "def bitwise_xor(a, b): \n",
    "    \n",
    "    c = [(a ^ b) for a, b in zip(a,b)]\n",
    "    return(bytes(c))"
   ]
  },
  {
   "cell_type": "markdown",
   "metadata": {},
   "source": [
    "---\n",
    "Now test our function against the data from the challenge"
   ]
  },
  {
   "cell_type": "code",
   "execution_count": 3,
   "metadata": {},
   "outputs": [
    {
     "name": "stdout",
     "output_type": "stream",
     "text": [
      "a = \u001c",
      "\u0001\u0011\u0000\u001f\u0001\u0001\u0000\u0006\u001a\u0002KSSP\t\u0018\u001c",
      "\n",
      "b = hit the bull's eye\n",
      "c = the kid don't play\n",
      "Test 2 Passed\n"
     ]
    }
   ],
   "source": [
    "my_answer = bitwise_xor(a, b)\n",
    "if my_answer.hex() == good_answer:\n",
    "    print(f'a = {a.decode()}')\n",
    "    print(f'b = {b.decode()}')\n",
    "    print(f'c = {my_answer.decode()}')\n",
    "    print('Test 2 Passed')\n",
    "else:\n",
    "    print('Test 2 Failed')"
   ]
  },
  {
   "cell_type": "markdown",
   "metadata": {},
   "source": [
    "[Back to Index](CryptoPalsWalkthroughs_Cobb.ipynb)"
   ]
  },
  {
   "cell_type": "code",
   "execution_count": null,
   "metadata": {},
   "outputs": [],
   "source": []
  }
 ],
 "metadata": {
  "kernelspec": {
   "display_name": "Python 3",
   "language": "python",
   "name": "python3"
  },
  "language_info": {
   "codemirror_mode": {
    "name": "ipython",
    "version": 3
   },
   "file_extension": ".py",
   "mimetype": "text/x-python",
   "name": "python",
   "nbconvert_exporter": "python",
   "pygments_lexer": "ipython3",
   "version": "3.7.6"
  }
 },
 "nbformat": 4,
 "nbformat_minor": 4
}
