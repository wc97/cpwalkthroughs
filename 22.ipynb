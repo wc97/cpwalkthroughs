{
 "cells": [
  {
   "cell_type": "markdown",
   "metadata": {},
   "source": [
    "## Challenge 22: Crack an MT19937 seed\n",
    "\n",
    "[Back to Index](CryptoPalsWalkthroughs_Cobb.ipynb)"
   ]
  },
  {
   "cell_type": "markdown",
   "metadata": {},
   "source": [
    "<div class=\"alert alert-block alert-info\">\n",
    "\n",
    "Make sure your MT19937 accepts an integer seed value. Test it (verify that you're getting the same sequence of outputs given a seed).\n",
    "\n",
    "Write a routine that performs the following operation:\n",
    "\n",
    "- Wait a random number of seconds between, I don't know, 40 and 1000.\n",
    "- Seeds the RNG with the current Unix timestamp\n",
    "- Waits a random number of seconds again.\n",
    "- Returns the first 32 bit output of the RNG.\n",
    "\n",
    "You get the idea. Go get coffee while it runs. Or just simulate the passage of time, although you're missing some of the fun of this exercise if you do that.\n",
    "\n",
    "From the 32 bit RNG output, discover the seed.\n",
    "\n",
    "</div>"
   ]
  },
  {
   "cell_type": "code",
   "execution_count": 1,
   "metadata": {},
   "outputs": [],
   "source": [
    "import time\n",
    "import mt19937 as mt\n",
    "from random import randint"
   ]
  },
  {
   "cell_type": "code",
   "execution_count": null,
   "metadata": {},
   "outputs": [
    {
     "name": "stdout",
     "output_type": "stream",
     "text": [
      "Randomly Seeding RNG #: 0\n",
      "Waiting for 288 seconds...\n",
      "Randomly Seeding RNG #: 1\n",
      "Waiting for 244 seconds...\n",
      "Randomly Seeding RNG #: 2\n",
      "Waiting for 192 seconds...\n",
      "Randomly Seeding RNG #: 3\n",
      "Waiting for 110 seconds...\n"
     ]
    }
   ],
   "source": [
    "# Get some outputs from the RNGs seeded with current system time \n",
    "N = 5 # Number of random #'s to generate\n",
    "MIN_WAIT_TIME = 20\n",
    "MAX_WAIT_TIME = 300\n",
    "\n",
    "RNG_out = [0]*N\n",
    "True_Seeds = [0]*N\n",
    "\n",
    "for ii in range(N):\n",
    "    \n",
    "    print(f\"Randomly Seeding RNG #: {ii}\")\n",
    "    seed = int(time.time())\n",
    "    True_Seeds[ii] = seed\n",
    "    myMT = mt.mt19937(seed)\n",
    "    RNG_out[ii] = myMT.extract_number()\n",
    "    wait_time = randint(MIN_WAIT_TIME, MAX_WAIT_TIME+1) \n",
    "    print(f\"Waiting for {wait_time} seconds...\")\n",
    "    time.sleep(wait_time)"
   ]
  },
  {
   "cell_type": "markdown",
   "metadata": {},
   "source": [
    "---\n",
    "Now, recover the seeds.  \n",
    "\n",
    "This one seems way too easy!!"
   ]
  },
  {
   "cell_type": "code",
   "execution_count": null,
   "metadata": {},
   "outputs": [],
   "source": [
    "Seed_Guesses = [0]*N\n",
    "for ii in range(N):\n",
    "\n",
    "    current_time = int(time.time())\n",
    "    start_time = current_time - (45*N*2)\n",
    "\n",
    "    for seed in range(start_time, current_time):\n",
    "\n",
    "        myMT = mt.mt19937(seed)\n",
    "        if myMT.extract_number() == RNG_out[ii]:\n",
    "            print(f\"Found Match for RNG #{ii}:  Seed = {seed}\")\n",
    "            Seed_Guesses[ii] = seed\n",
    "            break\n",
    "\n",
    "if True_Seeds == Seed_Guesses:\n",
    "    print(\"All Guesses Correct\")\n",
    "else:\n",
    "    print(\"Uh oh...something went wrong\")"
   ]
  },
  {
   "cell_type": "markdown",
   "metadata": {},
   "source": [
    "[Back to Index](CryptoPalsWalkthroughs_Cobb.ipynb)"
   ]
  }
 ],
 "metadata": {
  "kernelspec": {
   "display_name": "Python 3",
   "language": "python",
   "name": "python3"
  },
  "language_info": {
   "codemirror_mode": {
    "name": "ipython",
    "version": 3
   },
   "file_extension": ".py",
   "mimetype": "text/x-python",
   "name": "python",
   "nbconvert_exporter": "python",
   "pygments_lexer": "ipython3",
   "version": "3.7.4"
  }
 },
 "nbformat": 4,
 "nbformat_minor": 4
}
